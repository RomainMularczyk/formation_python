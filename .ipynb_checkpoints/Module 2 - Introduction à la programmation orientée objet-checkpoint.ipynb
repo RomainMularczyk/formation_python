{
 "cells": [
  {
   "cell_type": "markdown",
   "metadata": {},
   "source": [
    "# Table des matières :\n",
    "\n",
    "* <a href=\"#Introduction\">1. Introduction</a>\n",
    "* <a href=\"#Introduction à la programmation orientée objet\">2. Introduction à la programmation orientée objet</a>\n",
    "    * <a href=\"#Préalable : Qu'est-ce qu'une fonction ?\">2.1. Préalable : Qu'est-ce qu'une fonction ?</a>\n",
    "    * <a href=\"#Un peu de vocabulaire : Classes, propriétés, méthodes\">2.2. Un peu de vocabulaire : Classes, propriétés, méthodes</a>\n",
    "    * <a href=\"#Créer une classe\">2.3. Créer une classe</a>\n",
    "    * <a href=\"#Rembobinage : Quelques méthodes utiles des structures de données\">2.4. Rembobinage : Quelques méthodes utiles des structures de données</a>\n",
    "* <a href=\"#Travailler avec des fichiers et utiliser des librairies Python\">3. Travailler avec des fichiers et utiliser des librairies Python</a>\n",
    "    * <a href=\"#Exemple d'un fichier CSV\">3.1. Exemple d'un fichier CSV</a>\n",
    "        * <a href=\"#Ouvrir un fichier dans Python\">3.1.1 Ouvrir un fichier dans Python</a>\n",
    "        * <a href=\"#Ecrire dans un fichier\">3.1.2. Ecrire dans un fichier</a>\n",
    "    * <a href=\"#Listes : Pratiques avancées\">3.2. Listes : Pratiques avancées</a>\n",
    "    * <a href=\"#Manipuler des données tabulaires avec la bibliothèque pandas\">3.3. Manipuler des données tabulaires avec la bibliothèque <code>pandas</code></a>\n",
    "        * <a href=\"#Travailler avec des bibliothèques dans Python\">3.3.1. Travailler avec des bibliothèques dans Python</a>\n",
    "        * <a href=\"#Les fonctionnalités de base de pandas\">3.3.2. Les fonctionnalités de base de <code>pandas</code></a>\n",
    "* <a href=\"#Gérer les erreurs\">4. Gérer les erreurs</a>\n",
    "* <a href=\"#Les expressions régulières\">5. Les expressions régulières</a>\n",
    "    * <a href=\"#Eléments généraux\">5.1. Eléments généraux</a>\n",
    "    * <a href=\"#La fonction .search()\">5.2. La fonction <code>.search()</code></a>\n",
    "    * <a href=\"#Utiliser des classes de caractères\">5. 3. Utiliser des classes de caractères</a>\n",
    "    * <a href=\"#Contrôler le nombre d'occurrences avec les quantificateurs\">5. 4. Contrôler le nombre d'occurrences avec les quantificateurs</a>\n",
    "    * <a href=\"#Ancres et négation\">5. 5. Ancres et négation</a>\n",
    "    * <a href=\"#Les groupes\">5. 6. Les groupes</a>\n",
    "    * <a href=\"#Récupérer les chaînes capturées\">5. 7. Récupérer les chaînes capturées</a>\n",
    "    * <a href=\"#Un peu de pratique\">5. 8. Un peu de pratique</a>"
   ]
  },
  {
   "cell_type": "markdown",
   "metadata": {},
   "source": [
    "## <div id=\"Introduction\">1. Introduction</div>"
   ]
  },
  {
   "cell_type": "markdown",
   "metadata": {},
   "source": [
    "Dans ce troisième module, nous tenterons d'aller un peu plus loin dans notre connaissance du langage Python, notamment en nous initiant à la **programmation orientée objet**. L'idée n'est pas tant de devenir expert programmeur que de prendre un peu d'assurance avec la logique qui régit le fonctionnement de nombreuses **bibliothèques** que nous utiliserons dans nos projets de **web scraping**.\n",
    "\n",
    "Nous apprendrons également à travailler avec des **fichiers**, essentiellement des fichiers structurés (**documents CSV**, **fichiers JSON** ou **XML**) : nous apprendrons à les ouvrir avec Python, en extraire des données ou, au contraire, y écrire des données."
   ]
  },
  {
   "cell_type": "markdown",
   "metadata": {},
   "source": [
    "## <div id=\"Introduction à la programmation orientée objet\">2. Introduction à la programmation orientée objet</div>"
   ]
  },
  {
   "cell_type": "markdown",
   "metadata": {},
   "source": [
    "Dans le monde de la programmation informatique, il existe plusieurs écoles, plusieurs philosophies et façons de faire. Python est un langage relativement souple qui permet d'écrire des programmes en appliquant les principes de divers **paradigmes**. On parle en effet de **paradigme** en informatique pour désigner ce qui peut se rapporter à une philosophie particulière, des façons de faire et d'appréhender les données que l'on manipule.\n",
    "\n",
    "Dans notre cas, nous allons nous intéresser plus particulièrement au **paradigme orienté objet** qui est particulièrement représenté dans l'univers Python.\n",
    "\n",
    "L'idée est assez simple avec la **programmation orientée objet** : tout est objet !\n",
    "\n",
    "En Python, un **objet** est une **structure de données** (un peu comme les variables) qui peut néanmoins contenir d'autres **variables**, des **fonctions** ou des **classes** (nous y venons dans un instant).\n",
    "\n",
    "L'idée derrière la **programmation orientée objet** est d'établir une distinction entre ce qu'on pourrait voir comme un \"moule\" d'un côté et de l'autre, une statue formée à partir de ce moule. Le moule ne donne qu'une forme à notre statue, libre à nous de choisir de la peindre en rouge ou en bleu, de lui adjoindre ensuite un autre morceau pour construire une statue plus grande, de lui retirer des morceaux ou de la détruire complètement.\n",
    "\n",
    "Si vous êtes familier de la philosophie de Platon, on pourrait voir la **programmation orientée objet** comme une forme de parallèle dans le monde informatique : il existe d'un côté des idées et de l'autre, des objets du monde, qui se rapportent à une idée mais qui n'en sont qu'une expression particulière qui n'en capture pas vraiment l'essence.\n",
    "\n",
    "Tout ceci paraît peut-être bien compliqué et on pourrait se demander en quoi c'est vraiment utile ? Pourquoi ne pas se contenter des boucles et des quelques fonctions déjà vues, cela permet déjà de faire beaucoup de choses.\n",
    "\n",
    "Certes, mais il y a un problème de taille : le code que l'on a écrit jusqu'à présent n'est pas **réutilisable**, à moins de s'amuser à faire des copier-coller à tout bout de champ. La **programmation orienté objet** nous aide en définissant une façon particulière de structurer notre code qui le rend **réutilisable** (ce n'est pas sa seule utilité, mais cela en fait partie).\n",
    "\n",
    "Avant de nous confronter au coeur du sujet en traitant des **classes**, voyons dans un premier temps les **fonctions** qui constituent déjà un premier outil précieux pour rendre notre code **réutilisable**. Selon la taille et la complexité de nos scripts, manipuler des **fonctions** peut se révéler largement suffisant sans que l'on ait besoin de faire appel à des **classes**. Néanmoins, comme nous l'avons mentionné plus tôt, de nombreuses **bibliothèques** Python utilisent des classes et comprendre un peu plus en détail leur fonctionnement permet de mieux appréhender leur fonctionnement et se les approprier ainsi plus facilement."
   ]
  },
  {
   "cell_type": "markdown",
   "metadata": {},
   "source": [
    "### <div id=\"Préalable : Qu'est-ce qu'une fonction ?\">2. 1. Préalable : Qu'est-ce qu'une fonction ?</div>"
   ]
  },
  {
   "cell_type": "markdown",
   "metadata": {},
   "source": [
    "Nous avons précédemment croisé plusieurs **fonctions** bien utiles pour obtenir certaines informations sur les données que nous manipulions. Il n'est peut-être pas inutile d'en faire un bref récapitulatif pour essayer de les mémoriser, au fur et à mesure de notre pratique, on se rendra compte qu'elles sont bien utiles et qu'on est amené à les utiliser quasiment pour chaque script que l'on écrira !\n",
    "\n",
    "|Fonction|Description|\n",
    "|---|---|\n",
    "|`print()`|Affiche à l'écran le contenu d'un objet.|\n",
    "|`len()`|Renvoie la longueur de la donnée contenue dans l'objet.|\n",
    "|`type()`|Renvoie le type de données d'un objet.|\n",
    "|`ìnt()`|Convertit une données en *integer* (nombre entier).|\n",
    "|`str()`|Convertit une données en chaîne de caractères.|\n",
    "\n",
    "\n",
    "En réalité, les **fonctions** sont aussi des **objets** que l'on peut créer comme on crée des **variables**.\n",
    "\n",
    "Tentons de définir ces nouvelles objets : une **fonction** est une série d'opérations encapsulée qui prend un certain nombre de données en entrée et renvoie un certain nombre de données en sortie. Et... C'est tout...\n",
    "\n",
    "<br>\n",
    "\n",
    "<center><img src=\"data:image/png;base64,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\n",
    "\"/></center>\n",
    "\n",
    "Voyons maintenant concrètement dans le code comme tout cela fonctionne, précisément. Reprenons pour cela notre bibliothèque avec laquelle nous avions travaillé dans le module précédent."
   ]
  },
  {
   "cell_type": "code",
   "execution_count": 1,
   "metadata": {},
   "outputs": [],
   "source": [
    "bibliotheque = [{\n",
    "    \"auteur\": \"Georges Sand\",\n",
    "    \"titre\": \"Claudie\",\n",
    "    \"genre\": \"théâtre\",\n",
    "    \"annee\": \"1851\"\n",
    "},\n",
    "{\n",
    "    \"auteur\": \"Georges Sand\",\n",
    "    \"titre\": \"Les dames vertes\",\n",
    "    \"genre\": \"roman\",\n",
    "    \"annee\": \"1857\"\n",
    "},\n",
    "{\n",
    "    \"auteur\": \"Georges Sand\",\n",
    "    \"titre\": \"La petite fadette\",\n",
    "    \"genre\": \"roman\",\n",
    "    \"annee\": \"1849\"\n",
    "},\n",
    "{\n",
    "    \"auteur\": \"Victor Hugo\",\n",
    "    \"titre\": \"Le dernier jour d'un condamné\",\n",
    "    \"genre\": \"roman\",\n",
    "    \"annee\": \"1829\"\n",
    "},\n",
    "{\n",
    "    \"auteur\": \"Victor Hugo\",\n",
    "    \"titre\": \"Les misérables\",\n",
    "    \"genre\": \"roman\",\n",
    "    \"annee\": \"1862\"\n",
    "},\n",
    "{\n",
    "    \"auteur\": \"Georges Sand\",\n",
    "    \"titre\": \"Les maîtres sonneurs\",\n",
    "    \"genre\": \"roman\",\n",
    "    \"annee\": \"1853\"\n",
    "},\n",
    "{\n",
    "    \"auteur\": \"Victor Hugo\",\n",
    "    \"titre\": \"Hernani\",\n",
    "    \"genre\": \"théâtre\",\n",
    "    \"annee\": \"1830\"\n",
    "},\n",
    "{\n",
    "    \"auteur\": \"Georges Sand\",\n",
    "    \"titre\": \"Le mariage de Victorine\",\n",
    "    \"genre\": \"théâtre\",\n",
    "    \"annee\": \"1851\"\n",
    "},\n",
    "{\n",
    "    \"auteur\": \"Georges Sand\",\n",
    "    \"titre\": \"Comme il vous plaira\",\n",
    "    \"genre\": \"théâtre\",\n",
    "    \"annee\": \"1856\"\n",
    "},\n",
    "{\n",
    "    \"auteur\": \"Victor Hugo\",\n",
    "    \"titre\": \"Cromwell\",\n",
    "    \"genre\": \"théâtre\",\n",
    "    \"annee\": \"1827\"\n",
    "}\n",
    "]"
   ]
  },
  {
   "cell_type": "markdown",
   "metadata": {},
   "source": [
    "Nous allons définir une fonction qui renvoie la valeur `True` si l'auteure du livre de notre bibliothèque est Georges Sand."
   ]
  },
  {
   "cell_type": "code",
   "execution_count": 2,
   "metadata": {},
   "outputs": [],
   "source": [
    "def georges_sand(livre):\n",
    "    pas_georges_sand = \"Georges Sand n'a pas écrit ce livre !\"\n",
    "    if livre[\"auteur\"] == \"Georges Sand\":\n",
    "        print(\"Georges Sand a écrit ce livre !\")\n",
    "        return True\n",
    "    else:\n",
    "        print(pas_georges_sand)\n",
    "        return False"
   ]
  },
  {
   "cell_type": "markdown",
   "metadata": {},
   "source": [
    "Premier constat : notre code ne renvoie pas d'erreur, mais il ne se passe rien. C'est tout à fait normal.\n",
    "\n",
    "Une fonction s'utilise en deux étapes :\n",
    "* D'abord, on **définit** la fonction (d'où le mot-clé `def`)\n",
    "* Ensuite, on **appelle** notre fonction (on utilise toujours des parenthèses à la suite d'une fonction lorsqu'on l'appelle, c'est d'ailleurs ce qui permet de distinguer les fonctions des autres objets)\n",
    "\n",
    "Essayons d'appeler notre fonction avant d'expliciter davantage son fonctionnement."
   ]
  },
  {
   "cell_type": "code",
   "execution_count": 3,
   "metadata": {},
   "outputs": [
    {
     "name": "stdout",
     "output_type": "stream",
     "text": [
      "Georges Sand a écrit ce livre !\n",
      "Claudie True\n",
      "Georges Sand a écrit ce livre !\n",
      "Les dames vertes True\n",
      "Georges Sand a écrit ce livre !\n",
      "La petite fadette True\n",
      "Georges Sand n'a pas écrit ce livre !\n",
      "Le dernier jour d'un condamné False\n",
      "Georges Sand n'a pas écrit ce livre !\n",
      "Les misérables False\n",
      "Georges Sand a écrit ce livre !\n",
      "Les maîtres sonneurs True\n",
      "Georges Sand n'a pas écrit ce livre !\n",
      "Hernani False\n",
      "Georges Sand a écrit ce livre !\n",
      "Le mariage de Victorine True\n",
      "Georges Sand a écrit ce livre !\n",
      "Comme il vous plaira True\n",
      "Georges Sand n'a pas écrit ce livre !\n",
      "Cromwell False\n"
     ]
    }
   ],
   "source": [
    "for livre in bibliotheque:\n",
    "    print(livre[\"titre\"], georges_sand(livre))"
   ]
  },
  {
   "cell_type": "markdown",
   "metadata": {},
   "source": [
    "Explicitons un peu les différents morceaux de ce code. En Python, une **fonction** se définit à l'aide du mot-clé `def` auquel on fait suivre le nom de notre fonction. Ensuite, on indique entre parenthèses, les **arguments** (ou **paramètres**) de la fonction. Les **arguments** sont les valeurs que la **fonction** prend en entrée.\n",
    "\n",
    "Au sein de notre **fonction**, on fait référence aux **valeurs d'entrée** à l'aide de la même variable que l'on a défini. Comme vous pouvez le constater, elle n'a pas besoin d'avoir un nom particulier pour désigner les objets qu'elle prendra en entrée (un peu comme lorsqu'on définit une boucle `for`). On aurait aussi bien pu passer un paramètre nommé `x` que cela fonctionnerait tout aussi bien (il aurait fallu alors remplacer la ligne suivante : `if x[\"auteur\"] == \"Georges Sand\":`.\n",
    "\n",
    "Le mot-clé `return` permet de renvoyer une nouvelle valeur en sortie. Si l'interpréteur Python arrive à une ligne `return` au sein d'une **fontion**, alors il sort directement du **bloc de la fonction**. Car, vous aurez remarqué que, pour une **fonction** comme pour une boucle ou un bloc **`ìf`/`else`**, on utilise également l'**indentation** pour indiquer à l'interpréteur Python que ces segments de code sont inclus dans un **bloc** particulier.\n",
    "\n",
    "Avec les **fonctions**, ces blocs se chargent d'une autre propriété : toutes les variables qui sont définies à l'intérieur du **bloc d'une fonction** n'existe qu'en son sein. Voyons cela."
   ]
  },
  {
   "cell_type": "code",
   "execution_count": 4,
   "metadata": {},
   "outputs": [
    {
     "ename": "NameError",
     "evalue": "name 'pas_georges_sand' is not defined",
     "output_type": "error",
     "traceback": [
      "\u001b[1;31m---------------------------------------------------------------------------\u001b[0m",
      "\u001b[1;31mNameError\u001b[0m                                 Traceback (most recent call last)",
      "\u001b[1;32m<ipython-input-4-d66984f3b575>\u001b[0m in \u001b[0;36m<module>\u001b[1;34m\u001b[0m\n\u001b[1;32m----> 1\u001b[1;33m \u001b[0mprint\u001b[0m\u001b[1;33m(\u001b[0m\u001b[0mpas_georges_sand\u001b[0m\u001b[1;33m)\u001b[0m\u001b[1;33m\u001b[0m\u001b[1;33m\u001b[0m\u001b[0m\n\u001b[0m",
      "\u001b[1;31mNameError\u001b[0m: name 'pas_georges_sand' is not defined"
     ]
    }
   ],
   "source": [
    "print(pas_georges_sand)"
   ]
  },
  {
   "cell_type": "markdown",
   "metadata": {},
   "source": [
    "La variable `pas_georges_sand` n'existe pas, nous dit Python. Pourtant, nous l'avons bien définie dans notre **fonction** `georges_sand()`. En fait, cette variable existe bel et bien, mais uniquement dans la **fonction** et n'est accessible que dans le **bloc** correspondant. On parle de la portée d'une **variable** pour désigner cette particularité du comportement des **variables** dans les fonctions.\n",
    "\n",
    "Les autres **variables** que nous avions défini jusqu'alors étaient des **variables globales**, c'est-à-dire qu'elles sont accessibles partout dans notre code, ceci, tant dans le **bloc d'une fonction** qu'en dehors.\n",
    "\n",
    "Comme toute autre valeur dans Python, on peut capturer la **sortie d'une fonction** à l'aide d'une variable. Voyons cela."
   ]
  },
  {
   "cell_type": "code",
   "execution_count": 15,
   "metadata": {},
   "outputs": [
    {
     "name": "stdout",
     "output_type": "stream",
     "text": [
      "Georges Sand a écrit ce livre !\n",
      "True\n",
      "Georges Sand a écrit ce livre !\n",
      "True\n",
      "Georges Sand a écrit ce livre !\n",
      "True\n",
      "Georges Sand n'a pas écrit ce livre !\n",
      "False\n",
      "Georges Sand n'a pas écrit ce livre !\n",
      "False\n",
      "Georges Sand a écrit ce livre !\n",
      "True\n",
      "Georges Sand n'a pas écrit ce livre !\n",
      "False\n",
      "Georges Sand a écrit ce livre !\n",
      "True\n",
      "Georges Sand a écrit ce livre !\n",
      "True\n",
      "Georges Sand n'a pas écrit ce livre !\n",
      "False\n"
     ]
    }
   ],
   "source": [
    "for livre in bibliotheque:\n",
    "    auteur = georges_sand(livre)\n",
    "    print(auteur)"
   ]
  },
  {
   "cell_type": "markdown",
   "metadata": {},
   "source": [
    "Lorsque l'on a parlé précédemment des **types de données**, nous n'avons pas mentionné un type assez spécifique qui découle précisément du retour (ou plus exactement de l'absence de retour) de certaines fonctions. C'est le cas de la fonction `print()`. Si elle permet d'afficher la valeur d'une **variable**, par exemple, elle ne renvoie pas spécifiquement de donnée."
   ]
  },
  {
   "cell_type": "code",
   "execution_count": 17,
   "metadata": {},
   "outputs": [
    {
     "name": "stdout",
     "output_type": "stream",
     "text": [
      "Un cheval blanc.\n",
      "<class 'NoneType'>\n"
     ]
    }
   ],
   "source": [
    "test = print(\"Un cheval blanc.\")\n",
    "print(type(test))"
   ]
  },
  {
   "cell_type": "markdown",
   "metadata": {},
   "source": [
    "Si notre chaîne de caractère a bel et bien été imprimée à l'écran, notre **variable** `test` est de type `NoneType`. Voyons ce qu'elle contient"
   ]
  },
  {
   "cell_type": "code",
   "execution_count": 18,
   "metadata": {},
   "outputs": [
    {
     "name": "stdout",
     "output_type": "stream",
     "text": [
      "None\n"
     ]
    }
   ],
   "source": [
    "print(test)"
   ]
  },
  {
   "cell_type": "markdown",
   "metadata": {},
   "source": [
    "`None` est la réponse que nous fait Python pour nous dire qu'une **variable** ne contient rien. `NoneType` est un type particulier qui s'applique uniquement à la donnée `None`. Il s'agit d'une valeur différente de `False` qui pourra être utile dans certains cas, pour distinguer notamment le fait qu'il n'y a pas de retour de fonction, chose qui peut-être différente d'un retour négatif !"
   ]
  },
  {
   "cell_type": "markdown",
   "metadata": {},
   "source": [
    "### <div id=\"Un peu de vocabulaire : Classes, propriétés, méthodes\">2. 2. Un peu de vocabulaire : Classes, propriétés, méthodes</div>"
   ]
  },
  {
   "cell_type": "markdown",
   "metadata": {},
   "source": [
    "Maintenant que nous savons ce qu'est une **fonction**, essayons de creuser un peu plus loin en posant tout d'abord quelques termes propres au **paradigme orienté objet**.\n",
    "\n",
    "L'idée dans la **programmation orientée objet** est de créer des modèles, dans le même ordre d'idée que les fonctions, que nous pourrons appeler dès que nous en aurons besoin, pour éviter de nous répéter dans le code. Mais au-delà de cet aspect pratique, cela nous permettra également d'organiser notre code de façon structurée en définissant une représentation particulière de nos objets. Ceci nous permettra de **modéliser** nos objets en leur conférant des caractéristiques particulières.\n",
    "\n",
    "Pour cela, nous utiliserons des **classes**. Une classe est un schéma global qui représente un objet particulier. Cet objet peut être doté de deux types d'éléments distincts :\n",
    "* Des **propriétés**\n",
    "* Des **méthodes**\n",
    "\n",
    "Reprenons l'exemple de notre bibliothèque pour illustrer le propos.\n",
    "\n",
    "Les **propriétés** sont des caractéristiques que l'on pourrait qualifier de statique d'une classe. Dans le cas d'un livre particulier de notre bibliothèque, une **propriété** d'un livre pourrait être son titre ou son auteur. Il s'agit d'une caractéristique propre à cet objet qui le distingue des autres.\n",
    "\n",
    "Les **méthodes** sont des actions que l'on peut faire avec cet objet. Dans le cas d'un livre, cela pourrait être, par exemple, \"modifier le titre du livre\", \"le retirer de la bibliothèque\", etc.\n",
    "\n",
    "Dernier point de vocabulaire. Les **classes**, comme les **fonctions**, doivent être définies avant d'être utilisées. Contrairement aux **fonctions**, on ne peut pas vraiement \"appeler\" une **classe** : on parle plutôt d'**instancier** la classe, c'est-à-dire, créer une **instance** particulière, un exemple particulier parmi une myriade d'autres que l'on pourrait imaginer. Dans le cas de nos livres, une \"instance de livre\" serait, par exemple, \"Le dernier jour d'un condamné\" de Victor Hugo. Il dispose d'un titre particulier, d'un auteur particulier mais, comme les autres livres, il a les mêmes particularités : il a un titre, il a un auteur, une date de parution, etc.\n",
    "\n",
    "Par convention et pour rendre le code plus lisible, on utilise un **constructeur** lorsqu'on définit une **classe** : c'est dans ce bloc que l'on détaille chaque **propriété** de notre classe. Pour cela, on utilise la **fonction** `__init__()`. C'est elle qui va permettre d'attributer à chaque **propriété** de la classe sa valeur correspondante au moment où on **instanciera** notre classe (c'est-à-dire lorsqu'on créra un livre particulier)."
   ]
  },
  {
   "cell_type": "markdown",
   "metadata": {},
   "source": [
    "### <div id=\"Créer une classe\">2. 3. Créer une classe</div>"
   ]
  },
  {
   "cell_type": "code",
   "execution_count": 20,
   "metadata": {},
   "outputs": [],
   "source": [
    "class Livre:\n",
    "    \n",
    "    def __init__(self, titre, auteur, genre, annee):\n",
    "        self.titre = titre\n",
    "        self.auteur = auteur\n",
    "        self.genre = genre\n",
    "        self.annee = annee"
   ]
  },
  {
   "cell_type": "code",
   "execution_count": 2,
   "metadata": {},
   "outputs": [
    {
     "name": "stdout",
     "output_type": "stream",
     "text": [
      "Germinal\n"
     ]
    }
   ],
   "source": [
    "germinal = Livre(\"Germinal\", \"Emile Zola\", \"roman\", 1885)\n",
    "print(germinal.titre)"
   ]
  },
  {
   "cell_type": "markdown",
   "metadata": {},
   "source": [
    "On a créé un nouveau livre en instanciant notre **classe** `Livre` que l'on a stocké dans une **variable** `germinal`. Cette **variable** est une **instance** de notre **classe** `Livre`.\n",
    "\n",
    "Nous avons donc là les **propriétés** de notre classe `Livre` auxquelles on peut accéder en appelant directement `.titre` ou `.auteur` sur notre **instance de classe** (c'est-à-dire, un cas particulier que l'on aura créé à partir de notre modèle `Livre`).\n",
    "\n",
    "A présent, voyons comment ajouter une **méthode** à notre classe. Nous allons créer une **méthode** qui permet d'ajouter un livre que nous venons de créer à notre **variable** `bibliotheque`. Pour cela, il sera utile de se rappeler de la règle de **portée des variables** : une **variable globale** (c'est-à-dire, une **variable** définie en dehors du **bloc d'une fonction** est accessible partout dans notre code, même à l'intérieur du **bloc** de n'importe qu'elle **fonction**, en revanche, une **variable locale**, définie dans le **bloc d'une fonction**, ne sera accessible que dans ce même **bloc**).\n",
    "\n",
    "Profitons de ce rappel pour détailler un peu le fonctionnement des **objets** défins dans une **classe**. Chaque **méthode** que l'on y définira prendra comme premier **paramètre** la **variable** `self` : celle-ci se réfère directement à l'**instance de classe** elle-même lorsqu'elle est créée. Ainsi, lorsqu'on définit les **propriétés** de notre **classe** `Livre`, celles-ci sont accessibles partout dans notre **classe** sans que l'on soit obligé de les passer en **paramètre** en entrée d'une nouvelle **méthode** que l'on souhaiterait définir."
   ]
  },
  {
   "cell_type": "code",
   "execution_count": 1,
   "metadata": {},
   "outputs": [],
   "source": [
    "class Livre:\n",
    "    \n",
    "    def __init__(self, titre, auteur, genre, annee):\n",
    "        self.titre = titre\n",
    "        self.auteur = auteur\n",
    "        self.genre = genre\n",
    "        self.annee = annee\n",
    "        \n",
    "    def ajouter_livre(self):\n",
    "        nouveau_livre = {\"auteur\": self.auteur,\n",
    "                         \"titre\": self.titre,\n",
    "                         \"genre\": self.genre,\n",
    "                         \"annee\": self.annee}\n",
    "        bibliotheque.append(nouveau_livre)"
   ]
  },
  {
   "cell_type": "markdown",
   "metadata": {},
   "source": [
    "Grâce à notre nouvelle **méthode** `.ajouter_livre()`, nous pouvons ajouter un livre que l'on aura créé dans un premier temps comme **instance de classe** `Livre` à notre **variable** `bibliotheque`. Cette **variable** est accessible dans le bloc de notre **classe** `Livre` car il s'agit d'une **variable globale**.\n",
    "\n",
    "Maintenant que nous comprenons ce qu'est une **méthode de classe**, nous voyons qu'il en existe en réalité de nombreuses déjà existantes que l'on peut appeler sur divers types d'**objets** Python. Si l'on se remémore les **structures de données** que nous avons traité dans le module précédent, chaque type de structure particulière dispose, par exemple, de **méthodes** propres à sa classe (en Python, une **structure de données** ou un **type de données** comme les **chaînes de caractères** sont définies comme des **classes** qui disposent donc de **méthodes** particulières).\n",
    "\n",
    "Une méthode que nous utiliserons souvent est la **méthode** `.append()` pour les **listes**. Elle permet d'ajouter un nouvel élément à la **liste** en le positionnant en dernier. On pourra accéder à ce dernier élément ajouter en utilisant l'**index** `[-1]` de notre liste."
   ]
  },
  {
   "cell_type": "code",
   "execution_count": 8,
   "metadata": {},
   "outputs": [
    {
     "name": "stdout",
     "output_type": "stream",
     "text": [
      "{'auteur': 'Emile Zola', 'titre': 'Germinal', 'genre': 'roman', 'annee': 1885}\n"
     ]
    }
   ],
   "source": [
    "germinal = Livre(\"Germinal\", \"Emile Zola\", \"roman\", 1885)\n",
    "germinal.ajouter_livre()\n",
    "# Affichons le dernier livre de la liste\n",
    "print(bibliotheque[-1])"
   ]
  },
  {
   "cell_type": "markdown",
   "metadata": {},
   "source": [
    "<div class=\"alert alert-success\" role=\"alert\"><strong>Premier exercice :</strong> Créons à présent notre première classe avec laquelle nous modéliserons une structure de donnée similaire à celle que l'on peut retrouver sur les réseaux sociaux. Pour cela, on créera une classe qui contiendra une série de propriétés représentant :\n",
    "<ul>\n",
    "    <li>L'auteur d'un post</li>\n",
    "    <li>Le contenu d'un post</li>\n",
    "    <li>Sa date de publication</li>\n",
    "    <li>Ses hashtags</li>\n",
    "    <li>Les mentions à d'autres utilisateurs</li>\n",
    "</ul>\n",
    "Ensuite, on ajoutera une méthode qui permettra d'ajouter un post au fil général du réseau social. On pourra stocker tous les posts dans une variable <code>fil</code> qui représentera le fil général.\n",
    "</div>"
   ]
  },
  {
   "cell_type": "markdown",
   "metadata": {},
   "source": [
    "<div class=\"alert alert-danger\" role=\"alert\"><strong>Créer une classe :</strong> Utiliser une classe pour modéliser une structure de données.\n",
    "\n",
    "<pre>\n",
    "    <code>\n",
    "    # Créons d'abord notre variable globale qui contiendra tous les posts du fil d'actualité\n",
    "    fil = []\n",
    "\n",
    "    # Ensuite, créons une classe Post\n",
    "    class Post:\n",
    "\n",
    "        # On crée notre constructeur dans lequel on déclare toutes nos propriétés de classe\n",
    "        def __init__(self, auteur, contenu, date, hashtags, mentions):\n",
    "            self.auteur = auteur\n",
    "            self.contenu = contenu\n",
    "            self.date = date\n",
    "            self.mentions = mentions\n",
    "\n",
    "        # On crée enfin notre méthode pour ajouter un post au fil d'actualité\n",
    "        def ajouter_post(self):\n",
    "            nouveau_post = {\"auteur\": self.auteur,\n",
    "                            \"contenu\": self.contenu,\n",
    "                            \"date\": self.date,\n",
    "                            \"mentions\": self.mentions}\n",
    "            fil.append(nouveau_post)\n",
    "    </code>\n",
    "</pre>\n",
    "</div>"
   ]
  },
  {
   "cell_type": "markdown",
   "metadata": {},
   "source": [
    "### <div id=\"Rembobinage : Quelques méthodes utiles des structures de données\">2. 4. Rembobinage : Quelques méthodes utiles des structures de données</div>"
   ]
  },
  {
   "cell_type": "markdown",
   "metadata": {},
   "source": [
    "Profitons de notre compréhension nouvelle du concept de **classe** pour faire quelques rappels et un retour sur les structures de données. Celles-ci disposent chacune d'une série de **méthodes** spécifiques qui permettent d'effectuer certains types d'opération (ajouter un élément, en supprimer, effectuer des tris, etc.)."
   ]
  },
  {
   "cell_type": "markdown",
   "metadata": {},
   "source": [
    "#### <div id=\"Les méthodes de listes\">2. 4. 1. Les méthodes de listes</div>"
   ]
  },
  {
   "cell_type": "markdown",
   "metadata": {},
   "source": [
    "Commençons par voir les **méthodes** propres aux **listes**, au premier rang desquelles, celle qui permet d'ajouter un nouvel élément. Dans l'exemple précédent, nous avons vu la méthode `.append()` qui est assurément la plus utilisée. Celle-ci permet d'ajouter un élément à l'**index** `[-1]` d'une **liste**. En d'autres termes, elle permet d'ajouter un élément à la fin d'une **liste**.\n",
    "\n",
    "Il n'est pas très utile d'apprendre toutes ces **méthodes** par coeur, notamment car nous serons rarement amené à toutes les utiliser. Ci-dessous, une liste résumant toutes les méthodes de liste existantes dans Python (le paramètre `elem` désigne l'élément qui sera ajouté/supprimé/modifié dans la liste, si nécessaire, est précisé s'il doit être d'un type particulier). Le comportement par défaut indique l'action de la **méthode** si elle est appelée sans passer d'**arguments**.\n",
    "\n",
    "Arrêtons-nous un instant sur l'information de la colonne \"Inplace\". Celle-ci indique si la méthode renvoie une nouvelle liste ou si elle modifie la liste existante. En effet, nous avons vu que les **méthodes** sont en réalité des **fonctions**, cela signie qu'elles peuvent **renvoyer** une valeur, à l'aide du mot-clé `return` qui met directement fin à l'exécution du code d'une **fonction** et renvoie une valeur particulière que l'on peut capturer à l'aide d'une **variable**. Certaines des **méthodes** renvoient ainsi une valeur particulière, d'autres modifient la liste sur laquelle la **méthode** est appelée (cela signifie que si l'on affiche la liste après appel d'une méthode \"Inplace\", la liste en question devrait être modifiée !).\n",
    "\n",
    "|Méthode|Description|Comportement par défaut|Inplace|\n",
    "|---|---|---|---|\n",
    "|`.append(elem)`|Ajoute le nouvel élément à la fin de la liste.|Aucun|Oui|\n",
    "|`.extend(elem)`|Ajoute l'ensemble des données d'un élément itérable à la suite de la liste existante.|Aucun|Oui|\n",
    "|`.insert(i, elem)`|Ajoute un nouvel élément à la liste à l'index `i`.|Aucun|Oui|\n",
    "|`.remove(elem)`|Retire le premier élément de la liste correspondant à la valeur de `elem`.|Aucun|Oui|\n",
    "|`.pop(i)`|Retire l'élément présent à l'index `i` de la liste et le renvoie.|Retire le dernier élément de la liste et le renvoie.|Oui (Renvoie aussi une valeur)|\n",
    "|`.clear()`|Retire tous les éléments de la liste.|Idem|Oui|\n",
    "|`.index(elem)`|Renvoie l'index correspondant au premier élément ayant la même valeur qu'`elem`.|Aucun|Non|\n",
    "|`.count(elem)`|Renvoie le nombre d'éléments `elem` présents dans la liste.|Aucun|Non|\n",
    "|`.sort(key, reverse)`|Trie la liste en fonction du critère `key`. Si `reverse` vaut `True`, renvoie le même tri, mais inversé.|Renvoie la liste triée dans l'ordre alpha-numérique.|Oui|\n",
    "|`.reverse()`|Inverse l'ordre actuel de la liste.|Idem|Oui|\n",
    "|`.copy()`|Renvoie une copie de la liste.|Idem|Oui|"
   ]
  },
  {
   "cell_type": "markdown",
   "metadata": {},
   "source": [
    "Prenons tout de même d'illustrer le fonctionnement de certaines de ces méthodes, en premier lieu, celui de `.extend(elem)` qui ne fonctionne qu'avec une **variable** `elem` qui correspond à un **objet itérable** (c'est-à-dire que l'on peut parcourir à l'aide d'une boucle `for`). Cela comprend notamment les **listes**, les **tuples** et les **dictionnaires** (et d'autres structures moins fréquemment utilisées)."
   ]
  },
  {
   "cell_type": "code",
   "execution_count": 27,
   "metadata": {},
   "outputs": [
    {
     "name": "stdout",
     "output_type": "stream",
     "text": [
      "[1, 2, 3, 'a', 'b', 'c']\n",
      "[4, 5, 6, 'd', 'e', 'f']\n",
      "[4, 5, 6, 'd', 'e', 'f', 'a', 'b', 'c']\n",
      "[4, 5, 6, 'd', 'e', 'f', 'a', 'b', 'c', 'France', 'Espagne', 'Irlande']\n"
     ]
    }
   ],
   "source": [
    "# Avec l'opérateur d'addition\n",
    "list1 = [1, 2, 3]\n",
    "lista = [\"a\", \"b\", \"c\"]\n",
    "\n",
    "list1a = list1 + lista\n",
    "print(list1a)\n",
    "\n",
    "# Avec la méthode .extend()\n",
    "list2 = [4, 5, 6]\n",
    "listb = [\"d\", \"e\", \"f\"]\n",
    "list2.extend(listb)\n",
    "print(list2)\n",
    "\n",
    "# Avec un dictionnaire (noter que ce sont les clés qui sont ajoutées)\n",
    "dict1 = {\"a\": \"Abricot\", \"b\": \"Banane\", \"c\": \"Citron\"}\n",
    "list2.extend(dict1)\n",
    "print(list2)\n",
    "\n",
    "# Avec un tuple\n",
    "tuple1 = (\"France\", \"Espagne\", \"Irlande\")\n",
    "list2.extend(tuple1)\n",
    "print(list2)"
   ]
  },
  {
   "cell_type": "markdown",
   "metadata": {},
   "source": [
    "Voyons maintenant le cas de la méthode `.remove(elem)`, bien utile, mais souffrant de limites néanmoins. En effet, elle ne permet de supprimer que le premier élément rencontré, ce qui pourra se révéler parfois insuffisant !"
   ]
  },
  {
   "cell_type": "code",
   "execution_count": 29,
   "metadata": {},
   "outputs": [
    {
     "name": "stdout",
     "output_type": "stream",
     "text": [
      "[2, 3, 4, 4]\n",
      "[2, 3, 4]\n"
     ]
    }
   ],
   "source": [
    "list1 = [1, 2, 3, 4, 4]\n",
    "list1.remove(1)\n",
    "print(list1)\n",
    "list1.remove(4)\n",
    "print(list1)"
   ]
  },
  {
   "cell_type": "markdown",
   "metadata": {},
   "source": [
    "Une autre façon de faire est d'utiliser ``.pop(i)`."
   ]
  },
  {
   "cell_type": "code",
   "execution_count": 30,
   "metadata": {},
   "outputs": [
    {
     "data": {
      "text/plain": [
       "1"
      ]
     },
     "execution_count": 30,
     "metadata": {},
     "output_type": "execute_result"
    }
   ],
   "source": [
    "list1 = [1, 2, 3, 4, 4]\n",
    "list1.pop(0)"
   ]
  },
  {
   "cell_type": "markdown",
   "metadata": {},
   "source": [
    "Notons d'emblée que, contrairement à la méthode `.remove(elem)`, `.pop(i)` renvoie la valeur qu'elle vient de retirer de notre liste."
   ]
  },
  {
   "cell_type": "markdown",
   "metadata": {},
   "source": [
    "Voyons à présent comment trier une **liste**. Il existe plusieurs façons de faire, mais en utilisant une **méthode**, c'est avec `.sort()` que l'on procède. Cette **méthode** dispose de deux **arguments** :\n",
    "* `key` : il permet d'indiquer quelle logique de tri doit être suivie\n",
    "* `reverse` : il permet d'indiquer si on souhaite obtenir un tri dans l'ordre inverse"
   ]
  },
  {
   "cell_type": "code",
   "execution_count": 42,
   "metadata": {},
   "outputs": [
    {
     "name": "stdout",
     "output_type": "stream",
     "text": [
      "[1, 2, 3, 4, 5]\n"
     ]
    }
   ],
   "source": [
    "list1 = [4, 5, 1, 2, 3]\n",
    "list1.sort()\n",
    "print(list1)"
   ]
  },
  {
   "cell_type": "markdown",
   "metadata": {},
   "source": [
    "Nous ne couvrirons pas ici toutes les méthodes de tri possibles dans Python. Pour cela, on pourra se référer à la ressource suivante : https://docs.python.org/3/howto/sorting.html#sortinghowto."
   ]
  },
  {
   "cell_type": "markdown",
   "metadata": {},
   "source": [
    "#### <div id=\"Les méthodes de dictionnaires\">2. 4. 2. Les méthodes de dictionnaires</div>"
   ]
  },
  {
   "cell_type": "markdown",
   "metadata": {},
   "source": [
    "Quelques précisions pour commencer sur les **dictionnaires**. A la différence des **listes**, il n'existe pas de **méthode** similaire à `.append(elem)`. Pour ajouter un élément à un **dictionnaire**, on utilise son **index** ainsi que l'**opérateur d'affectation** `=`. Un exemple pour rendre cela plus clair."
   ]
  },
  {
   "cell_type": "code",
   "execution_count": 45,
   "metadata": {},
   "outputs": [
    {
     "name": "stdout",
     "output_type": "stream",
     "text": [
      "{'a': 'Abricot', 'b': 'Banane', 'c': 'Citron', 'd': 'Datte'}\n"
     ]
    }
   ],
   "source": [
    "dict1 = {\"a\": \"Abricot\", \"b\": \"Banane\", \"c\": \"Citron\"}\n",
    "dict1[\"d\"] = \"Datte\"\n",
    "print(dict1)"
   ]
  },
  {
   "cell_type": "markdown",
   "metadata": {},
   "source": [
    "Les **dictionnaires** sont des **structures itérables** un peu particulières. Comme les **listes**, on peut les parcourir à l'aide d'une boucle `for`."
   ]
  },
  {
   "cell_type": "code",
   "execution_count": 50,
   "metadata": {},
   "outputs": [
    {
     "name": "stdout",
     "output_type": "stream",
     "text": [
      "a\n",
      "b\n",
      "c\n",
      "d\n"
     ]
    }
   ],
   "source": [
    "for elem in dict1:\n",
    "    print(elem)"
   ]
  },
  {
   "cell_type": "markdown",
   "metadata": {},
   "source": [
    "A la différence des **listes** néanmoins, une boucle `for` ne parcourt que les **clés** d'un **dictionnaire**. Voyons une solution pour parcourir les **clés** ainsi que les **valeurs**. Celle-ci consiste à utiliser la **méthode** `.items()` qui renvoie sous forme de **tuples**, le couple **clé-valeur** de chaque entrée du **dictionnaire**."
   ]
  },
  {
   "cell_type": "code",
   "execution_count": 53,
   "metadata": {},
   "outputs": [
    {
     "name": "stdout",
     "output_type": "stream",
     "text": [
      "a Abricot\n",
      "b Banane\n",
      "c Citron\n",
      "d Datte\n"
     ]
    }
   ],
   "source": [
    "for key, elem in dict1.items():\n",
    "    print(key, elem)"
   ]
  },
  {
   "cell_type": "code",
   "execution_count": 55,
   "metadata": {},
   "outputs": [
    {
     "name": "stdout",
     "output_type": "stream",
     "text": [
      "('a', 'Abricot')\n",
      "('b', 'Banane')\n",
      "('c', 'Citron')\n",
      "('d', 'Datte')\n"
     ]
    }
   ],
   "source": [
    "for key_value in dict1.items():\n",
    "    print(key_value)"
   ]
  },
  {
   "cell_type": "markdown",
   "metadata": {},
   "source": [
    "Ci-dessous, une liste des **méthodes** de **dictionnaire** les plus couramment utilisées :\n",
    "\n",
    "|Méthode|Description|\n",
    "|---|---|\n",
    "|`.get(key)`|Renvoie la valeur correspondante à la clé `key` (équivalent à `dict[key]`).|\n",
    "|`.clear()`|Retire tous les éléments du dictionnaire.|\n",
    "|`.copy()`|Renvoie une copie du dictionnaire.|\n",
    "|`.items()`|Renvoie un tuple contenant en premier index la clé et en second la valeur associée.|\n",
    "|`.keys()`|Renvoie une liste des clés du dictionnaire.|\n",
    "|`.pop(key)`|Supprime le couple clé-valeur correspondant à la clé `key` et renvoie sa valeur.|\n",
    "|`.popitem(key)`|Supprime le couple clé-valeur correspondant à la clé `key` et renvoie le tuple clé-valeur.|\n",
    "|`.values()`|Renvoie une liste des valeurs sans les clés associées.|"
   ]
  },
  {
   "cell_type": "markdown",
   "metadata": {},
   "source": [
    "## <div id=\"Travailler avec des fichiers et utiliser des librairies Python\">3. Travailler avec des fichiers et utiliser des librairies Python</div>"
   ]
  },
  {
   "cell_type": "markdown",
   "metadata": {},
   "source": [
    "### <div id=\"Exemple d'un fichier CSV\">3. 1. Exemple d'un fichier CSV</div>"
   ]
  },
  {
   "cell_type": "markdown",
   "metadata": {},
   "source": [
    "#### <div id=\"Ouvrir un fichier dans Python\">3. 1. 1. Ouvrir un fichier dans Python</div>"
   ]
  },
  {
   "cell_type": "markdown",
   "metadata": {},
   "source": [
    "Nous avons vu jusqu'à présent beaucoup de théorie en restant concentré sur la syntaxe du langage Python. Nous entrons maintenant dans une partie plus pratique où nous allons enfin voir plus concrètement comment manipuler des fichiers avec Python.\n",
    "\n",
    "Il est possible d'ouvrir et de manipuler de nombreux types de fichiers avec Python (image, text, son, etc.). Dans notre cas, nous nous intéresserons essentiellement aux fichiers texte et, en particulier, aux fichiers de **données structurées**.\n",
    "\n",
    "Commençons sans plus tarder à travailler un fichier **CSV**. Pour rappel, l'acronyme **CSV** désigne *\"comma separated values\"*, c'est-à-dire, des \"valeurs séparées par des virgules\". Nous pouvons ouvrir de tels fichiers avec Python et nous appuyer sur la façon particulière dont ils sont construits pour récupérer nos données."
   ]
  },
  {
   "cell_type": "code",
   "execution_count": 68,
   "metadata": {},
   "outputs": [
    {
     "name": "stdout",
     "output_type": "stream",
     "text": [
      ";created_at;hashtags;id;id_str;lang;source;text;truncated;urls;user;user_mentions;favorite_count;retweet_count;retweeted_status\n",
      "0;Mon Aug 31 14:24:24 +0000 2020;[];1300439298186059777;1300439298186059777;fr;\"<a href=\"\"https://mobile.twitter.com\"\" rel=\"\"nofollow\"\">Twitter Web App</a>\";\"⏱️ The gap is reduced to under 2', with 55 km to go.\n",
      "\n",
      "⏱️ L'écart passe sous la barre des deux minutes, à 55 kilomèt… https://t.co/9c8C97sHKE\";True;[{'expanded_url': 'https://twitter.com/i/web/status/1300439298186059777', 'url': 'https://t.co/9c8C97sHKE'}];\"{'created_at': 'Tue Jun 08 13:18:00 +0000 2010', 'description': \"\"La plus grande course cycliste au monde. The world's biggest cycling race. 2019 🏆 : @Eganbernal \\n\\n🗓️ 29/08/2020 - 20/09/2020\\n\\n#TDF2020 #TDFunited\"\", 'favourites_count': 1870, 'followers_count': 3076115, 'following': True, 'friends_count': 929, 'geo_enabled': True, 'id': 153403071, 'id_str': '153403071', 'listed_count': 8926, 'name': 'Tour de France™', 'profile_background_color': 'FAD9\n"
     ]
    }
   ],
   "source": [
    "fichier = open(\"data/module_3-tdf_2020.csv\", \"r\", encoding=\"utf-8\")\n",
    "contenu = fichier.read()\n",
    "# Le fichier est immense, affichons-en uniquement une partie\n",
    "print(contenu[:1000])\n",
    "fichier.close()"
   ]
  },
  {
   "cell_type": "markdown",
   "metadata": {},
   "source": [
    "Lorsqu'on parle de manipulation de fichiers, on se trouve nécessairement confronté au problème de l'**encodage**. Sans nous étendre trop longuement sur ce vaste sujet, l'**encodage** désigne simplement un système de correspondance entre un caractère alpha-numérique et une façon de le représenter en langage de plus bas niveau (par exemple, en binaire, comme une série de 0 et de 1).\n",
    "\n",
    "Aujourd'hui, on ne prend plus trop de risque à parier qu'un fichier est encodé en **UTF-8** : il s'agit du standard **unicode**, de plus en plus utilisé à travers le monde, car capable d'encoder un très grand nombre de caractères (y compris les caractères accentués, les caractères grecs ou arabes, les smileys et autres signes, etc.). Néanmoins, lorsqu'on ouvre un fichier avec Python, il est parfois nécessaire de définir quel encodage Python doit utiliser pour déchiffrer le fichier qu'il doit ouvrir.\n",
    "\n",
    "Sachez néanmoins qu'il existe d'autres encodages fréquents, notamment le **Latin-1** encore relativement utilisé. Si des caractères s'affichent mal ou que Python renvoie une erreur lors de l'ouverture d'un fichier, il y a de bonnes chances pour que ce soit lié à un problème d'encodage."
   ]
  },
  {
   "cell_type": "markdown",
   "metadata": {},
   "source": [
    "Détaillons à présent l'utilisation de la fonction `open()` qui, comme on l'aura compris, permet d'ouvrir des fichiers et de les lire avec Python.\n",
    "\n",
    "Celle-ci comprend plusieurs **arguments** :\n",
    "* Le chemin (absolu ou relatif) du fichier\n",
    "* Le mode d'ouverture\n",
    "* L'encodage\n",
    "\n",
    "Elle renvoie un type assez particulier, `_io.TextIOWrapper`. Celui dispose de plusieurs **méthodes** qu'il ne s'agira pas de détailler ici car il est contenu dans une bibliothèque un peu complexe de Python permettant de gérer l'ouverture et l'écriture dans des fichiers. Pour en savoir plus, on pourra se référer à la page dédiée de la documentation de Python : https://docs.python.org/3/library/io.html#module-io."
   ]
  },
  {
   "cell_type": "code",
   "execution_count": 68,
   "metadata": {},
   "outputs": [
    {
     "name": "stdout",
     "output_type": "stream",
     "text": [
      "<class '_io.TextIOWrapper'>\n"
     ]
    }
   ],
   "source": [
    "print(type(fichier))"
   ]
  },
  {
   "cell_type": "markdown",
   "metadata": {},
   "source": [
    "Détaillons simplement que l'on peut accéder au contenu du fichier ouvert à l'aide de la fonction `.open()` grâce à la méthode `.read()`."
   ]
  },
  {
   "cell_type": "markdown",
   "metadata": {},
   "source": [
    "Il existe plusieurs façons d'ouvrir un fichier que l'on peut définir dans le mode d'ouverture. Résumons à l'aide du tableau ci-dessous :\n",
    "\n",
    "|Mode d'ouverture|Description|\n",
    "|---|---|\n",
    "|`\"r\"`|Ouverture en mode lecture.|\n",
    "|`\"w\"`|Ouverture en mode écriture.|\n",
    "|`\"a\"`|Ouverture en mode ajout.|"
   ]
  },
  {
   "cell_type": "markdown",
   "metadata": {},
   "source": [
    "### <div id=\"Listes : Pratique avancée\">3. 2. Listes : Pratique avancée</div>"
   ]
  },
  {
   "cell_type": "markdown",
   "metadata": {},
   "source": [
    "Maintenant que nous avons ouvert notre fichier **CSV**, on souhaiterait pouvoir récupérer chaque ligne du tableau une à une et les stocker dans une **liste**. Rappelons-nous que la spécificité d'un fichier **CSV** tient dans sa structure :\n",
    "* Les lignes sont séparées par des sauts de ligne (touche Entrée)\n",
    "* Les colonnes sont séparées par des virgules (ou d'autres caractères, parfois des points-virgules, des barres obliques, etc.)\n",
    "\n",
    "En Python, on représente un **saut de ligne** à l'aide du caractère `\\n`. Cela signifie que si l'on découpe le texte que l'on a extrait de notre fichier **CSV** à chaque fois que l'on rencontre le caractère `\\n`, on aura découpé notre tableau ligne par ligne !\n",
    "\n",
    "Cela tombe bien, il existe précisément dans Python une fonction nommée `.split()` qui permet de découper une **chaîne de caractères** et renvoie une liste qui contient autant d'éléments que de caractères passé en **paramètre** de la méthode. Voyons un exemple."
   ]
  },
  {
   "cell_type": "code",
   "execution_count": 69,
   "metadata": {},
   "outputs": [
    {
     "name": "stdout",
     "output_type": "stream",
     "text": [
      "['Bonjour', \" J'apprends à coder en Python\", ' Python est un langage bien utile', \" Il permet d'ouvrir des fichiers\", '']\n"
     ]
    }
   ],
   "source": [
    "exemple = \"Bonjour. J'apprends à coder en Python. Python est un langage bien utile. Il permet d'ouvrir des fichiers.\"\n",
    "decoup = exemple.split(\".\")\n",
    "print(decoup)"
   ]
  },
  {
   "cell_type": "markdown",
   "metadata": {},
   "source": [
    "La chaîne `exemple` a été découpée à chaque fois qu'un point est rencontré. La **méthode** `.split(\".\")` renvoie une **liste** qui contient quatre **chaînes de caractères**, séparant donc chaque phrase.\n",
    "\n",
    "En reprenant notre variable `contenu` dans laquelle on a stocké plus tôt le contenu du fichier importé, on peut procéder de la même façon en utilisant `.split(\"\\n\")` pour découper la **chaîne de caractères** en une liste où chaque élément correspondra à une ligne du tableau."
   ]
  },
  {
   "cell_type": "code",
   "execution_count": 71,
   "metadata": {},
   "outputs": [
    {
     "name": "stdout",
     "output_type": "stream",
     "text": [
      "51\n"
     ]
    }
   ],
   "source": [
    "tab = contenu.split(\"\\n\")\n",
    "print(len(tab))"
   ]
  },
  {
   "cell_type": "markdown",
   "metadata": {},
   "source": [
    "On voit ainsi que notre tableau contient 51 lignes."
   ]
  },
  {
   "cell_type": "markdown",
   "metadata": {},
   "source": [
    "Avant de passer à la pratique, voyons rapidement deux fonctions bien pratiques lorsqu'on jongle avec des **structures de données** :\n",
    "* `zip()` : elle permet d'effectuer des **itérations parallèles**, c'est-à-dire, parcourir en même temps plusieurs **structures de données**\n",
    "* `enumerate()` : elle permet de parcourir une **structure de données** en suivant son index"
   ]
  },
  {
   "cell_type": "code",
   "execution_count": 57,
   "metadata": {},
   "outputs": [
    {
     "name": "stdout",
     "output_type": "stream",
     "text": [
      "(1, 'a')\n",
      "(2, 'b')\n",
      "(3, 'c')\n",
      "1\n",
      "2\n",
      "3\n",
      "1 Abricot\n",
      "2 Banane\n",
      "3 Citron\n"
     ]
    }
   ],
   "source": [
    "# Exemple de l'usage de zip()\n",
    "list_1 = [1, 2, 3]\n",
    "dict_a = {\"a\": \"Abricot\", \"b\": \"Banane\", \"c\": \"Citron\"}\n",
    "\n",
    "for chiffre_lettre in zip(list_1, dict_a):\n",
    "    print(chiffre_lettre)\n",
    "    \n",
    "# Pour rappel, on peut \"sortir\" directement plusieurs valeurs d'une structure de données en les séparant par une virgule\n",
    "for chiffre, lettre in zip(list_1, dict_a):\n",
    "    print(chiffre)\n",
    "    \n",
    "# Petite révision sur les dictionnaires, accédons non pas à la clé mais aux valeurs cette fois\n",
    "for chiffre, fruit in zip(list_1, dict_a):\n",
    "    print(chiffre, dict_a[fruit])"
   ]
  },
  {
   "cell_type": "code",
   "execution_count": 60,
   "metadata": {},
   "outputs": [
    {
     "name": "stdout",
     "output_type": "stream",
     "text": [
      "(0, 'a')\n",
      "(1, 'b')\n",
      "(2, 'c')\n",
      "0 a\n",
      "1 b\n",
      "2 c\n"
     ]
    }
   ],
   "source": [
    "# Exemple de l'usage de enumerate()\n",
    "list_a = [\"a\", \"b\", \"c\"]\n",
    "\n",
    "for index_lettre in enumerate(list_a):\n",
    "    print(index_lettre)\n",
    "    \n",
    "# Même chose que précédemment en \"sortant\" directement la valeur en les séparant par une virgule\n",
    "for index, lettre in enumerate(list_a):\n",
    "    print(index, lettre)"
   ]
  },
  {
   "cell_type": "markdown",
   "metadata": {},
   "source": [
    "Nous avons vu beaucoup de choses sur les **structures de données**. Maintenant, nous comprenons :\n",
    "* Comment fonctionne leur indexation, par **index** (les **listes** et les **tuples**) ou par couple **clé-valeur** (les **dictionnaires**)\n",
    "* Comment on peut les parcourir à l'aide d'une boucle `for`\n",
    "* Comment on peut mobiliser leurs **méthodes** propres pour interagir avec elles\n",
    "* Comment on peut utiliser des **fonctions** spécifiques pour effectuer des **itérations parallèles**\n",
    "\n",
    "Bien comprendre le fonctionnement des **structures de données** est sans doute le point le plus essentiel dans tout langage de programmation. Ce sont avec elles que nous allons jongler la plupart du temps : elles permettent de traiter de très grandes masses d'information rapidement, d'effectuer les traitements que l'on souhaite et permettre d'exporter ces informations pour les mobiliser par ailleurs (visualisations, analyses complémentaires, traitement quantitatifs, etc.)."
   ]
  },
  {
   "cell_type": "markdown",
   "metadata": {},
   "source": [
    "<div class=\"alert alert-info\" role=\"alert\"><strong>Conseil :</strong> Si vous ne vous sentez pas à l'aise avec ces quatre points propres aux <strong>structures de données</strong>, il est préférable de prendre le temps nécessaire de bien les intégrer avant de passer à la suite dans la mesure où nous utiliserons énormément ces différentes méthodes.</div>"
   ]
  },
  {
   "cell_type": "markdown",
   "metadata": {},
   "source": [
    "<div class=\"alert alert-success\" role=\"success\"><strong>Deuxième exercice :</strong> A partir du fichier \"module_3-tdf_2020.csv\" importé dans Python, reconstruire un tableau. Pour ce faire, on pourra construire une liste de listes (une liste globale qui contient, à chaque index, une liste qui contient à son tour un élément par colonne) dans un premier temps. Dans un second temps, on pourra essayer également de créer une liste de dictionnaires (pour chaque index de la liste, on aura un dictionnaire avec une clé correspondante au nom de chaque colonne du tableau).</div>"
   ]
  },
  {
   "cell_type": "markdown",
   "metadata": {},
   "source": [
    "<div class=\"alert alert-danger\" role=\"danger\"><strong>Préparer un fichier pour l'export CSV :</strong> S'il existe des bibliothèques Python permettant de faire automatiquement ce travail, cela constitue néanmoins une pratique utile car ce type de manipulation est très fréquent lorsqu'on travaille avec des données structurées.\n",
    "<br>\n",
    "<br>\n",
    "<strong>Première étape : créer une liste de listes</strong>\n",
    "<pre>\n",
    "<code>#Tout d'abord, on découpe le contenu du tableau par colonne\n",
    "list_contenu = contenu.split(\"\\n\")\n",
    "\n",
    "#On crée une liste vide qui accueillera les listes représentant chaque ligne\n",
    "list_ligne = []\n",
    "\n",
    "#On parcourt la liste des colonnes et on découpe chaque colonne pour former les lignes\n",
    "for ligne in list_contenu:\n",
    "    list_ligne.append(ligne.split(\";\"))\n",
    "\n",
    "#On peut afficher la seconde ligne du tableau (la première contient les en-têtes)\n",
    "print(list_ligne[1])</code></pre>\n",
    "<br>\n",
    "<strong>Deuxième étape : créer une liste de dictionnaires</strong>\n",
    "<pre><code>#Comme la première ligne contient les en-têtes du tableau, on peut les récupérer pour créer les clés de notre dictionnaire\n",
    "list_entete = []\n",
    "for ligne in list_contenu:\n",
    "    #On découpe chaque ligne pour former les cases de notre tableau\n",
    "    list_entete = ligne.split(\";\")\n",
    "    break\n",
    "\n",
    "#On crée un dictionnaire qui représentera le modèle de chaque colonne\n",
    "dict_contenu = {}\n",
    "for entete in list_entete:\n",
    "    #On ajoute les clés à notre dictionnaire et on associe pour l'instant une chaîne vide\n",
    "    dict_contenu[entete] = \"\"\n",
    "    \n",
    "#On crée une liste qui contiendra chaque case du tableau\n",
    "list_ligne = []\n",
    "for ligne in list_contenu:\n",
    "    #On ajoute à notre liste chaque case du tableau\n",
    "    list_ligne.append(ligne.split(\";\"))\n",
    "    \n",
    "#On crée une liste qui contiendra les dictionnaires représentant chaque ligne\n",
    "list_dict = []\n",
    "for ligne in list_ligne:\n",
    "    #On utilise zip pour itérer à la fois sur notre liste de cases et sur notre liste de d'en-têtes\n",
    "    for entete, case in zip(list_entete, ligne):\n",
    "        #On ajoute la valeur associée à la clé de la colonne\n",
    "        dict_contenu[entete] = case\n",
    "        #On ajoute le dictionnaire représentant une ligne à notre liste de lignes (qui est donc une liste de dictionnaires)\n",
    "        list_dict.append(dict_contenu)\n",
    "</code></pre>\n",
    "</div>"
   ]
  },
  {
   "cell_type": "markdown",
   "metadata": {},
   "source": [
    "### <div id=\"Manipuler des données tabulaires avec la bibliothèque pandas\">3. 3. Manipuler des données tabulaires avec la bibliothèque `pandas`</div>"
   ]
  },
  {
   "cell_type": "markdown",
   "metadata": {},
   "source": [
    "Tout ceci est bien pratique, mais tout de même un peu compliqué. En travaillant sur le deuxième exercice, on aura pu sans doute constater qu'il faut se tordre un peu les neurones pour réussir à s'y retrouver dès qu'on imbrique les **structures de données** les unes dans les autres.\n",
    "\n",
    "Vous allez peut-être m'en vouloir, mais tout ce travail n'était pas vraiment nécessaire...\n",
    "\n",
    "Python, comme d'autres langages de programmation, dispose de ce que l'on nomme des **bibliothèques** (ou **modules**). Ceux-ci sont simplement d'autres scripts Python disposant de **fonctions** et de **classes** spécifiques permettant de faciliter la tâche des futurs développeurs et surtout, de ne pas perdre du temps avec ce que nous venons de faire (même si c'était tout de même un bon exercice, n'est-ce pas ?...). Certaines opérations sont tellement courantes que des équipes de développeurs chevronnés ont en fait déjà fait le travail pour nous : tel est le cas pour les opérations avec des **fichiers structurés** comme les fichiers **CSV** ou **XML**.\n",
    "\n",
    "Nous explorerons par la suite d'autres **bibliothèques** bien utiles pour le **web scraping**, mais voyons à ce stade une **bibliothèque** dédiée à la manipulation des tableaux. Attention, il ne s'agira pas ici de traiter dans le détail le fonctionnement de cette bibliothèque, mais simplement de vous en présenter les bases pour faciliter la manipulation et la visualisation des tableaux. Il s'agit de `pandas`.\n",
    "\n",
    "Avant d'explorer les fonctionnalités de base de cette **bibliothèque**, comprenons tout d'abord comment fonctionnent les **bibliothèques** dans Python."
   ]
  },
  {
   "cell_type": "markdown",
   "metadata": {},
   "source": [
    "#### <div id=\"Travailler avec des bibliothèques dans Python\">3. 3. 1. Travailler avec des bibliothèques dans Python</div>"
   ]
  },
  {
   "cell_type": "markdown",
   "metadata": {},
   "source": [
    "Pour utiliser une **bibliothèque** dans Python, il s'agit de l'importer avant tout. Habituellement, on déclare au début de notre script toutes les **bibliothèques** qui seront utilisées dans notre code."
   ]
  },
  {
   "cell_type": "markdown",
   "metadata": {},
   "source": [
    "<div class=\"alert alert-info\" role=\"alert\"><strong>Conseil :</strong> Si vous rencontrez ce type de message d'erreur lorsque vous tentez d'importer une bibliothèque, ceci est simplement lié au fait qu'elle n'est pas installée sur votre machine.\n",
    "<br>\n",
    "<img src=\"data:image/png;base64,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\n",
    "\"/>\n",
    "<br>\n",
    "<br>\n",
    "Pour installer une bibliothèque, le plus simple est d'utiliser le gestionnaire de modules de Python dénommé <code>pip</code>. Dans notre Jupyter Notebook, on pourra utiliser la commande suivante pour installer un module : <code>!pip install mon_module</code>. Si <code>pandas</code> n'est pas installé, vous pouvez ainsi entrer dans une cellule <code>!pip install pandas</code>. Pour vérifier qu'un module est bien installé, vous pouvez essayer de l'importer : <code>import pandas</code>.\n",
    "</div>"
   ]
  },
  {
   "cell_type": "markdown",
   "metadata": {},
   "source": [
    "Avec les **bibliothèques**, notre travail sera grandement simplifié, mais c'est aussi tout un univers qui s'ouvre. Ainsi, il faudra se référer à la documentation propre de la **bibliothèque** pour comprendre plus en détail son fonctionnement. Certaines d'entre elles sont tellement vastes qu'elles donnent lieu à la publication de manuels de références, de tutoriels et de cours spécifiques dédiés à leur apprentissage.\n",
    "\n",
    "Rassurez-vous, dans notre cas, nous utiliserons certaines **bibliothèques** d'usage plus facile qu'un monde comme `pandas`.\n",
    "\n",
    "Néanmoins, apprenons dès maintenant à intégrer cette pratique en consultant la documentation de `pandas` : https://pandas.pydata.org/docs/. Cela sera l'occasion de nous rafraîchir la mémoire sur les **fonctions** et les **classes**. Dans la barre de recherche, tapons \"DataFrame\" (le lien direct : https://pandas.pydata.org/docs/reference/api/pandas.DataFrame.html?highlight=dataframe#pandas.DataFrame).\n",
    "\n",
    "Une documentation de **bibliothèque** bien faite ressemble à cela. Habituellement, on y trouvera :\n",
    "* Un descriptif de l'utilité de la fonction et une description de son usage\n",
    "* Une explication de ce qu'elle renvoie en sortie\n",
    "* Une liste des paramètres qu'elle prend en entrée\n",
    "* Un exemple illustrant la façon dont on utilise la fonction"
   ]
  },
  {
   "cell_type": "markdown",
   "metadata": {},
   "source": [
    "<img src=\"data:image/png;base64,iVBORw0KGgoAAAANSUhEUgAAA6gAAAMhCAYAAADl/pw4AAAAAXNSR0IArs4c6QAAAARnQU1BAACxjwv8YQUAAAAJcEhZcwAAEnQAABJ0Ad5mH3gAAP+lSURBVHhe7L0NYGVFff7/hN0FAQUFrRpeJDG56opa3Uhlg2/ExmbjRvBnbQ1GpcrGdnXvVqP1lTQIlcrW5tbftmbV+rOR6J+2onHvpg0GX+9qbfClIpabmKDI9RUUVFD2Jf/5zsw5Z86559yX5Ca5SZ6PHva8zcx3Xs7JPOc7M7dhQQFCCCGEEEIIIWSVOcH+SwghhBBCCCGErCoUqIQQQgghhBBC6gIKVEIIIYQQQgghdQEFKiGEEEIIIYSQuoCLJK0TjhZebPcIWT42N37a7hFCCCGEEFJ76EElhBBCCCGEEFIXUKASQgghhBBCCKkLKFAJIYQQQgghhNQFFKiEEEIIIYQQQuoCClRCCCGEEEIIIXUBBSohhBBCCCGEkLqAApUQQgghhBBCSF1AgUoIIYQQQgghpC6gQI1lHkNP/GM88iS1XfJ5e44QQgghhBBCyHJCgUoIIYQQQgghpC6gQF1vfHcT/qDpRDymxNb09BPxnD/ZjHd/4gT84AEbbp3xb6+Jz3v8tgXv/q4NSAghhBBCCFk1KFA3IA/8Esh/7QTsf9tmXPCUE7Hz2hPwoyP24nJy5AS8ouVE/MG1DfYEIYQQQgghhARQoK5jLnrnEUx/uXj76LXH8OoLFnDyJnXTMeC/R5RQfdFmfOFuE27Z+NIJOKzSW1HOOo6xmDIIb0exp8XeTwghhBBCCFk1KFDXMQ85cwFnn1W8vfBPjuHa/+8I8l8/ijdvA0SnHsmfgN6XbcK3ltGTetP4Cbjf7q8Ymxbw6JgyiG6nb7H3E0IIIYQQQlYNCtQNzJbTjuNN/3YEmYvN8bG5TfiLf1ie4bdHfnwCPvEle0AIIYQQQgghMSQI1M/j5fITKyftwd/oxWN+h+9+4qP4099/DZoeZn9+5ZRXoPX334W3fGgO9z6oA5Xgd/j+5ycx9KdvwTPOfiUaddyy9aIp9RZcfs0tKCTGEbXlKAq5cbz+wj8PbDnpT3HOY/diZ3ocX73rqA5Vkvu/j39/+9Vof+wr8Ghry6MfcTnaez6Kf//O7+xN5TiKe7/5NexLvwvtZ1+Oc06J2jKJ75Z0F5oyvVzlo/URf2rDqu1hr8QTpUzePokv3VGpLUthAS/9wFH0/Z45+t4/b8KhJC/qAw348ic24bU9W3D+U5xFhlIn4pk9m/F3n29AUdB7T8C1f7oFzRduRvYec+r7I1ucBYpki1+k6AeHT8C7/2ILntl2Is5x7m999ha89h+Wb96st8CSP1f2SANu/ofNeI6T56e+q/jRufc7J+B9V27Bc5S9TS3BvU1P34JLrjwB/5u4INUJeIW+dwuunVGHKr3/+tBmdD7bybeK74mdW/DWjzfAj8bed0lnOD0pnz0fasDP7W2lOPLjBnxgQJWxk7dznrIFnQOb8F8/tjcRQgghhBCyQjQsKOy+g4jC/bgJJ+H/3JDBcz72Zrxx/FcyXTGWE5/cibH/vALPe5Q9ESKPK59wJf7xjtKTDzed2Yb/+62/wh8XxeHZsgk7PjaCPzn4FvzZJ+5JtAUnno03fv46vH3bZnsizIO3/Dte1PUJfP1ee6KIU/CMd78Lrzr8NqQn1GHXbvz8U88zl3wewCd6XoPX/2cZhZRky4Oz+JtnXYn3fadM+Md04tD3r8AF9rAURwsvNjuyiu+OTfi+2n3B3z+Ij11iTpfj3n/ZgicMGkG2/eoH8cnL9G7ANzfhgpduwg/KzCF9ROdRfGnkOB5pjzGzCS96+SbcoXZ/80tVcir8ppPVfaeYy4YFXPHxI0i32kM0YOg5W/BPd9rDBDY94jgyNx3FS8+0JxxEZL7+ZrVz7jFMfeEYnmxOV4QX9nH9R/BfbwKufdEWDOftRcvjX38EuTcFj84Nl5+IPeV+MnfLAvb++xG89Sn22EcE6mZ8Vu0976+O4uQDmzHxC3MljtMuPorD7wWufNFmfLKEiDztacdw46eS8/69f9mMF111An6RVKebFvCS/Ufxjy8M8rm58dN2jxBCCCGEkNpTZojv73DTFW9Eevx+nH5hJ0a+9I+4/Rf/ip//6v/h2196A15z4cP0/MUHvzOJP3nRv2sRUkwKL/qj07DplMfgBW+6Ajd+4wP43q9UHL/7V9z5w2vwvp4zdBzH7p7GX73t6yZILMfw5fRfKnF6L05/ynNw1X/+Hb79k4+reD6O781fg5HXPR6nyW0P/hDve8lH8DUdJsLPPo9XeeJ008PwvMF34cs//Ji2pfCTD+A/P9qJC878Hb7+rivx5ikTJJ6T8UcvasWmE0/H0/r+GB/zykXHk8HomwJbMumD+KEO43EUk1e824jTTWdgx3sDG3S5zlyDj133Iryg5SQ8ZdeLKhKnteD0Fx/Hs+z+N/87pln8/nF0KCF48nnHsfs9R/GFrzyIO+cfxI/V9p0bj6LrMea2X0xuxlVfNPua1mM4OP0gbp0+gj87y5w6+5VH1LGc8zZXnAoL2PH8BSVkF3Bx/1H8238ewe15k9b8LUdwXae6pu469osT8Pb3LN8o9e/PnICPv8aI00c88Tje8kGzqNIXrj+Ka/84/F3nhS9QNikB+tT/cwwfvfEIvnObsffObx3B/+tfMO3hSAPe/65NuEuHiOfzf2vE6bldx4J836bSPHAMT3+Yuee+mzfj6RcacXpa6jj++voj+Ma31H3q3m+ourj8afa+b23Cu643+1F+/qnN6Bo04nTLOSYOnZbaDl9/zNTnsQZ8cvdmvPvbJgwhhBBCCCHLTRkPquFxe96Dr1zXghPtccDv8N9734iuf/qp2j8Jf/iREXy891RzyeX+3+GBU05Ssi6OH+G6bXvwt7eq3UddjE//8M/Rbi5Ywrac1rUbX/vU8wIPncMd730z/uBddygpexL+z40fw8gOe0GjhOGrXoPeT8i421NwyQ0H8KEXn2QuuTw4i3c99W34p3l7HOtBVTyo8qTSObm4UBRHkb3s1XjVv8kQ3Sfg2h9fjdc+wlwBbsUbzx7Cv/wM2HrlP+CL73isPb80lupBlW8Vb962GaMyDPfJx3DLwWOwetLngQeUQI2vRKXmNuH5z9sEGal75suP4jt/c9yc92nAu5+7Bft/YD2Tb41pdi4qrQdUWvHJNeDv/mgLrrtd7Z5xHJ+85Si2mws+tfCgigrepATcea85gs++cyHBFssRbTJOTlhs6dDrT8SfZWVvAX/zTSXWT9enLYEHVXi8Kp/Pq/KJRnXk25twUY+pW+GUZx/F1/7F8VZ7HFF1eZGqS3ks4+pSXf8LVdef/JXKX/MxHPqPY3haUWJBHJtUHDkVx3nqND2ohBBCCCFkOSnvfjr1WbjqmjhxKpyEZ763D5doTfo73PThz+OX+nyERHEqPBYv/xPp+ip+dg8KZi+eTVtx5Ufixalw3hXPwzP13u/wrf+KjA998Mv4yL+aSaGndF2OfXHiVDixBe+68ve1h64kJyaJU2Ezui/bpmSw8AvcFTLlAfxmxZeyrYQFnPZQu6uES1w9JopT4XHHcalVgXf/xPy7JBLFqbCAP+2xAlcJ6pJtZikocXqSEoGfLidOBSXwksSpsOMlx217AO4qZfApx/GONxWLU2HLU1QZN9sDVQaXvy1GnApb1H0ddn++AbfZXY97P75Ji1OJo/eaGHEqqDjeuduU8bHvnIDRmDnChBBCCCGE1JryAvXCp+EPE4WY4sRn4WU7rdj7yq34nNmrirPPfrjd+wlmSnWEL7wAl/ieyBgecSrsKEgcORJZLOmr38XX9Vy7TWh/2UXwUozjxJf+AZ5j9xfN2WfATKe9G98TT5/PVlzYZuTvbdf8Nfo//hPteVv7LKDx0Xb3jgZEpmzWnLMaPQ9sA2ZlYaEkfrAJHXbxn8TtNUmPwQL+JJ0gAqvlsQu2PTRg7nt6J55tx/GHiUJ3AS32Ww7OWEDHk+x+DKefZsvnfiVIzZ7Poc/axZ/OOo5XeOO6Yzj9mcfxOL3XgC9+bnlWdyaEEEIIIcSlrEA9Z+t5Cd7TgAueZXvNx+7Cd5fkaTmmhKXdjeHMJz6upLAsxS+/c5eSisKZeOL58Qso+Zx4Hp54rt1fMtE8nYpXX/867DhTidRj9+DfX/16PP7ct+D1mf/B3C8rWIF4LaCyUWb5p5oS/RZRM05ZwMXb7H4NKWXvmWdrZ2x5HrqA0CjhimnA/87Z3ScswE5XjedJC/CmBt93n90hhBBCCCFkGSkrUE/YUnawKx5+ujcAMklg/g53f01+kuW92Pn7r8ETz3Z+rka2y79p7yvNQ0+Pmd9aIT+801sWtRFbn2p3E9mEzWWzfRT3zv4PRt/+D3jZhX+u8xT6uZhnHvTnChbxqOfhX2b/Fu/rOxdnqHQe/Mk8PvGWd+OCR78SWy98P/4xdzfK/nJPzWnAj7zfJXk0oHRSMQ804Ouf3YS3/rn5KZXzIz//oudt1pC7vyk/22J+RkXSak05Xs+/LO/815x1HGNfNosbJW7XRefLWh65oFpL5dx7xwn42LWb8XL5GR5l7xO3OvbaecHleKjn+Vw2GvA9b5WmmzcH9sVuwbzYn/2YHlRCCCGEELL8VNjLXzwPfPX/Q8+5l+MJz74O137gv/GV796Hn9/zO2w+/TQ88lF2O60in1Hd8OBdX8brn/xqpJ78bvzl330JN3/95/j5zx7A0VNPDfJ0xkml57Ge8ji88kN/h/zP/y9ufO8f4sIWuf8Ifvr1L+LKi3fj8Rd8EJ//mb13JfhuA26xc2PPbCn2zk3/wxY89WlbsOOKTfh//9GA/N3AL9T9p5+pdJzdHlajanzg65tw6QUn4smXbsZ7R0/AV2eAn/8S2HRakNYjvfmy5di0gEeftYCzS21n2HsXyZEfn4A9zz8RW5+/GQMjJ+Bz327Az1X5HDvFsffh8tlj7XK/nrNKCCGEEELI8lJWoP7srvI/9//DH3pL6mzCFlek/M/1eP7F/4bDPzmCTWe24jUfvcb8NMz9H8PMDz+M//W2TDVrrC6Os8/xJq+Wmedajl98Ga99egafmP0djp34KPT4PxMzhnk3T//5h/FeyCinPBrPTu/CZ77zMdzxde+ne47hgW9N4k8u/ii+uUKu1DtuOsH38D33BWGP4nf+bgte/PcN+OkR4BHbjuMfbzQ/SXLXbe5PxTyI9zzbBlgK392EF7xsE76ixPmmRyzg8mH7EyqzD+J/nbRufXeC13OlufcE7OrcjBvuUIJ0ywJe9I6j+MIt5idmZlx7x45V1h5WgMdaQS6rLYudFW0frpPyJoQQQggh65qyAvX+H/40fmVen6P41rd+ZHY3nYUnOQu3TP7dBGZlYaJNT8A13/ob/O2fpvDYhxfP/3zwQb160bLy8MedaVdRvQff935CJpG78L0f2N0IP/zgp3FIrzrzCLwy+w/45/RT8cRHxawIfOQ4qu3Sn/zk5+BvP38A39j/FG3rsfwE3rcSv+px9wl464gdwvmw47g0JDRPwP5/bpAFbbHpmcfwpX87ipf8/gJOj/GWlpo/XCk3jWzC93RiC3j3TUfwnhcv4LH6R0TDHFn5MdCx3HX9JkzYFXH7/uUIPvTa43hCnEf2qAyArweO40mPN3t3zzYULaBECCGEEELIalJ+iO9XvoZPedM34/jFl/GxCfm9T6UpLnoanq/3hHl85b/MeZzbimeZJUxjOIqbblruNV8VL3g62vUYy99h4vqvlpzj+eDUN/FfCWriK4fvsHuPw4XPSV5s6Y7/+DYiP3RTIZvR+NoudOnptsfwnW+UVdNL40gD3v2yzfi8Hd77rIFj4VVknaG/Zz+jxIq2R07A526x+2U4lrhIUAO++g27e9Zx/MGZdj+Gm7647KPTK+Irt3hzMxfwByVWxL3jcyfgh3Z/tXnh8+w81/8+AR+qZGIsIYQQQgghK0T5Xv6x23DdX30z4adQ7sW/Xv4R3PQb2T8JO3e/wFll9/dw1ll299f3J3pqHvjqKN59oxWyy8mJF+EVlxpP5/03juE9tySopAdn8Z69X7Yr/hbTeJbnznsA9yYI9wfv+izellmcPNX87Ef4vi7TTXjy05v0KY9b//7tSJ3yx2g89zr86xLnqD6QPwGXP2cL9ttVXU+7+Cg+9MrIIj2N8ku1hl/fl7xQzvTfbkLWCtkktlg9/8MvnwBP5odZwFneT9X8Otm7J3NUr/kPe7DK+D+to8T1fQkGyxzVd36ofhYZOuuyY+jSv8fUgPf92SZMl/udoyP6/4QQQgghhCw7ZQXqiSduwU8+ei2e9rwP4t+/djfu1a7H3+Hu276Goef9JV4/YVTJpotejmtf7HoUT8ULLj7H7P7sC/jzP57ELT/zhOhR3FvI49/Tb8fTLj6EWSXEln8Bmc3oHn41ni+eyWM/wvufvRuvzPwP/tfa9OAv78b/fn4cf/aUK/H+/Ek4LeE3PJ7ZudUOFb4df7Pzo5iY/Y3vjX3gZz/AlzLX4cInjuCmXyflaR7v/cO34PK3j+M/vvYz3OmXSWDDK/9gDNNy4vQ/wCterC9ZbsU//90M7jmm7v3J13Dt35f2rv727gb88K7wdvvhEzBy7WZc8vwT0fLCzZj4sbn3ERcdw8QHYjykpx/Hs59gdu++YRMu/3gD7vYEjVItP/rmCXjbS0/Eiz+sBFjJSlxAx0VW/N6+CZe9/QT8wMbzwD1BnBd799xzAnb3n4Cv32MOhXt/3IBPDm7BM162CfJTovWw6NAzn3vctocGXPuqTfgPpbw9MSf5+vKHNqP9OZvxWfWY1IO9GlWn1111HPKp5djcJrx42xa89v0n4Mt5p63kT8CnPrwJr+3ZgqY/2rTsv2tLCCGEEEKIUFagPuGte/DOZ56Ee74yif5nvw6P1z8P8wo84enX4f1f+ZWeV3fik1+Eg5/pLhI35735L/CGlHTLj6Ew/kG88OxX2J9heTke3/QO9H9gBvc+vA2Z/+7FM02Q5eVRL8D1N12CJ8kPux67B4fe8m5cZG1qfPTrcNELRzF+hxJA734X/vmPYyY+Kk588Wvxd11Gktz33wfR9+RXo9H+tMw5Z78Jl77la/g+zsYbbn4zLksY1vzAnfP4zN+N4hXP/gs83S+TwIZDd6lSPfFsvHHiDegs9yO0Jfjy1VvQdlF4e+5lmzE4cgK+Kov6qHs2nbyAF/3NEXx99BgeH7sK7wL2XKeu6WpswMTbt+DJ3s+npE7E0y/djI/cApzWeRRTby39EynP3HMML9CeO+B7H9+MC2w8TUogpf/TnD/vz49id7PZ/9HkZuzY5v3kyYl4woVb8Bf/0oD7TjuOvz90bGXaTBm2vPAY3nux2b/vW5vwaiX8vZ/ekXy99BolxFUZ7r7hKHqXuFpwLXnkJUdx+APHca6q82MPNODg+zbjpS902soLN+N1V2/CwW834IESv9tKCCGEEEJILSkrUO/7zaOx98sH8KWPvggveNJpeJgnmDadhEc86Yn4s/378L2vvwrPNJotzIktGLxlPz5x5QV42uNOhq+1JOzjmrDzyrfiG3f8FS578lPwzPBI1mXjxG2X4Us/2Yf3ve6JeILzUzCbTnkonvDCF2Hk6wcw+ZYWtDwuSU2cjj/+lCqP/X+IC5/0UJzsu8W24GGPOgsXvu4KFf/fY/BZT8OFbXE+s3NwxYevwBsubcK5j3LDK048GY+UcnnTG3Qcb98WneN6Pv7sTa36t1M3nXk+Xv/aRRSaEiSPPHMBz3rJMey7/ghmbzuCD718Ad4v2cax5SnH8PkvH8WbuxZwjvPzLptUoHOechxv/sgR/M/IcTyx/TgeZ6/FcuZxfOxzKp7nLeDhToIPU/a0ekvcblnAu/7jCMb+8jieqs75mlnl+eFnKzH9l0cx/V9H8fLUcWw7115bVRbw0g8/iM//zXE8qxWh+pR8PavvKD7/rSN41zOO4w9+316oEx75wqP4mrLtH/tNWbu2S90+snUBL+s/ips+cwzLv842IYQQQgghQMOCwu47fB4vP2k/blJ7j3vTe3HL36yQeiSL5mghNBaYkGVhc+NKLCtNCCGEEEI2KvWxFCohhBBCCCGEkA0PBSohhBBCCCGEkLqAApUQQgghhBBCSF1AgUoIIYQQQgghpC6gQCWEEEIIIYQQUhdQoBJCCCGEEEIIqQsSfmaGrDX4MzNkJeDPzBBCCCGEkOWEHlRCCCGEEEIIIXUBPaiEEEIIIYQQQuoCelAJIYQQQgghhNQF9KCSqrnnnFa7RwghZCU5484Zu0cIIYSsT+hBJYQQQgghhBBSF1CgEkIIIYQQQgipCyhQCSGEEEIIIYTUBRSohBBCCCGEEELqAi6SRKombpEkLtxBCCG1he9aQgghGxF6UAkhhBBCCCGE1AUhD+rRwovtHiHJ3PcHt9m9gNP+a6vdI4QQUgv4rl0/bG78tN0jhBBSDnpQCSGEEEIIIYTUBRSohBBCCCGEEELqAgpUQgghhBBCCCF1AQUqIYQQQgghhJC6gAKVEEIIIWuPW1LY8pZtansK3naXPVcv3HUuUvVqGyGE1DkUqKQmfPfL9+N7v7MHhBBCSnP0GA5PP4gj9pAsll/h/73323jPWfawXjjrB8i/9wfYYQ8JIYRUDgUqqQnv2fcLXJ09Zo8IIYSU4lc3/QIDV92DD8zZE4QQQgjRVChQj+D9V9yFZ11xL/L2zIbh61tx98ufE97edh6O2suV8tt/krBb8Vt7XA0mbGT7p0fZq/VB/sST8aqeTfbI5X68secuvOQj691PYJ+Rq+63x5Vx6KoN+lxZdP577sYhe0wizN2Ll6jn540322NSp1T/N/Jhf3gqnveQY/jkvz5AL2qN+J+DT7FDfmVL4frY896Q21PxtmvV8Ye9v6WPwovV9dTBU/XR9R+Wayl9zg/jD9s1m3dvUrqEEEIWR1Ue1MbtpyBl9+uTR+E+Jd7u+7o9rCGbem/BmR//otq+iy13nIt7FyFSl8bPcapO325//jN7vj44+Zmn4Hmb7YHL3BHcof4573FbzHESuiO+NKGS/8iPi8XOinXwj2D+J+qfO49UITaP4Ht3qn/O2VLT52p1y2ERtJ1cV8Pg6qr87jiKAjah6TxzKIJ+ZT/2xH9g2ggfVszHk/BWrv6r+hu5+WS89Lkn4IGv3I+bqvhjct8f3BbaiMej8K4vnogdf3ILjrxXtl8AtxjxuO2LwEDanP9/TzgR+zIVisjbT8JWHU6GECsBm3kU5p/wAxv/D/B/fnIK/ueWVCj+W55zEl597bn4HxsFIYSQ6qnYg6o730TxM5zSe7/qOJ6L+30hfCp+8zbXw9mG3/zIXDn6mTZ97jfqDxjwSPzGuyckcJPDV4L2sEp8PzoPv/TiCHlYy9j3T1u1sJdr933GiyNsg+vFjaPtWQ+xexEiHewk8l94AIVHb0aLPV4Ms3fKEOPf4kNuZ1qn/xC84GJ7vGycgveNn4WvfvD0KsSmea4alUCtJatbDtVgBXqdUU/ll/++2LAFj2+Wo/vx2ekKPvbUEvuBqXDjfY5gN/VW/x8sl4Jtm22PwFflubbb+xLrf3F/I5/xzJNw8vEH8a3v2hOLgILV435sPQM49P95ns2f4bJtp+Ljt54InHEvXm7nqF72+79S/30YblDitSxOONzyCP0M7Ph97+Pwz/Ce1/wM3/7mw9S+iF7jQd2mRDLueQi+bW4ihBCyCGIFqvvlWH85L/KC2eFM3pdlO6yxKFzkvtDXZxk6q0TVbzzh4ws24wX1xJAvtBLvD0Tg3S9/kkrRIyEeRXC/2px4KmVz28+V5AKO32WG9/z2n54E7PG8m99V3clT8Ns3muG8m3dO6/Onal3neEHfcwc8h2Op8BVzxyPx6384BQ9RcZwuAvqLT/I9yWXj/+Ip2PS+W/AQJSKPjEkcsn8Kjkx7+ROB7dke/1f9XHeBCutt0u3g424HW+Fc89qEtJtX3qhEwU9+jVf2/Bjvt3OyQh6Mst4a22m+9KE478a7/ThMBz+guI1aj5mK/5D2nMm1wIawvaU8vI6nSYdRcdzslIMvdpxn4or7ws/VzXfbdOSayq899sIa2x3bYlntclBE8yHnYsM7At1e98tJx2HS9+x6v2ezvG/8NDwbTfm/8Wbzr3+fUI3tdVZ+bz2sjuXDjQ7/C8jh4WF17apfmnz6Q8qDIaaftXZ47SdkR1zdlMIK88suPYKrnLRCYiw2zhL14dlqz5f0Sia0m7jwXvlH823qKihzfZ9bJrGU+HgUssmmH/obGW9fXJvBYzerv1TH8aMfL5jjGrBxBetv8J63Gs/mk774RCUWV2b13Kc8+kElZH+GW7RX1dvyuMxeJ4QQUj1FAlX+iF41/RBcab8YX/s4b8ii5wWTDsdPcf058mX593DZo+0fcdUpiIb77EfuxvV4KP7FnnuBChvijnNx5GwZOmuGzf76M+ar52laCKntfT/Api8+LvDkeffLeSXIfifnlXC9dwx4yPs88eWREM+PzsOvlQjb8mZ7zRGKi+Uhfz6NUx9rD1S6J8Y7GROpLLzjfVXbL3VZuZyCE/74NtWVVKL4LFPOnoAuG/95P8dJ3vXn/EzH4aPK67fi/fXP/0b/N8rjzrU70j72/hq49PdMO9iuTnmeUek4qmvn7VXtYfihaLRtaseVth3pMI/BG5pNB++qO03bubJNhbXDYE3nMujo6U13ik2H8rzHnY7XXQpc/x6n823TD7XtvQ9BwQoQ7TFT4vhDOFOl/whsxzF87guqAykdUT8vYmPEq+bidlB1p/4Yrv84cK21v3D4fm3PoavUs+M9E287WZ2xz5WUzfBvsV3KRmxQ9nxA2fMvl27S3qv3q3wb24PyiZaD6fSucjmE8iF53ILZLxWHD8SO16k3ePt5x3Po2TV/kbEX07/As758csRGU/6Hhx/AC1S6Um6YfkCJElVW7wna41fHVZkrwVC/7Ujd65Tfa89RcUrbbz4dn5S8q6dQp3vlw/ECeS68IeU334frf6KuffB0PGjteKVTRtd/TJV3XBsT8STno2VhBZ2uB5XvF15+GrarcnfFpK6rmDjfKnkrVR9XBM+AnD/8caeMXULlJvFL3cWEHza2euUfzfeOi6TcjuB7WpDejw/ceEzZK8+RI56dzRWchRt/Gj4v+VU2Rd9hBrOfj/m7V9xmrEf6nM04W/3zwx9W+5m0cqKCdf2K1lPxtoPyIfpn+HT6Z2jCibjtx7/By89XAvKe0/FxK1av1x7PX+Fl236D8/XtJ5vhuHedjJKO7G2/0FMRDn3Tfuy+61y8+OCpeOpjf6fifxTe5X+7fZSyI/r3mRBCSDVEBKoZQtZ46Wn+nLDUxacgpTvchkNX/QKHH63++F55ijqKfEmH6njqTp4JpzWLdBhsZ3SHOhfm53jIThE8RjQd+6G57g8nfeO5qovhYu9/7G+U4afgmBKcR+9SYVyB5RAbjw6rLL9OnV+E9zQWd2it2sxw3iqoKHx4DurDdbm5/BwnPsPuPuO28D1LtU/44pP88HHc8wvzb/4j9+Gw6kS/9nIjNHSnUaM6g6ojKyJUD5Nz2lS0HekOnu1sp6RjKUPtPJ4rnX/T8fM3uU93KE0HMSWdadv51ulLB191dj+k2vb2vWeatn3eZtW5PIb5O2z8qk1fa232MMOO1fnn3o+XyEcZZZOXryJ0fmwHVYurTbjsbZHhvp4NL7fn3efqy7/VwwnfBxEL5hl7nSonnRf1XF1/I3DZsLVd8cK3RcpAbZ8U21a5HHQ+rO2aZvV8fu7XJrwOo0TnOeofEVZWBGic8hO0vVoQBnb5cUrZviLyLrFl6ecrgggNI65OUe8h9U+dtqNDHzNlZfIabvumXQVo4fWTB/Cfyub3f1yeLXlvB3aYd/QWND1a357YxvLnnVZcFuMmf36+Vbm9zhOTfhmZdHWc2l6TVkHVbWJ9zN2Pz/1Eno1T8J9XmJET/vMQQZeb8y7RdQcR4sGzlbIey+8pm5LyjYtP9j8W6PeTV75zW/C6onzbYby2PV427J4v8Q5z94XQ3z3ov6tSFlBCVQS9/zf218ehJDg2b2qQoxVjXQrWW87Cvi+eaxYqsnNFP70NeOqLvo1b1J8tbwjuq2+Xn6UxHs7L/kgJWSUut0mY0YfgSWeYqOKxwvf2II3vyhzUbXkc+ZNf6aHFZpGkc/Hvt54JLpRECCGLJyxQbYfR9WgIpmMk3gzTCfDnHt38gB5ypu+/2HT4rjwnGKaZuvwx6tzv4bI7f6E6RKWGtZ2KYz+wu1/fGgwnFc+nPV01ifFYz+qbf646Fefi3irnewpHpx+pujv3Y0ubEoAi/kQAn/cDnC7xqs0M562QpYYvR43iDxaJile3v7zX/Ks7tP6iN+aDh+nYm07t859r2pbuLOs2pf6JtLtQHLpD6w21ux8f2Bt4NLzNHy7ncwret/chODz8Y3xI2qsOKwQCyOuAesd+m3Zs0XbgAbz1PcYT6nXa4wieEXOMR5+MF+p923GWMtBpBvMYgzKwz9Wd91nPoErLm8tqnzFoEaR31Ln78Mq94TKIH7K40uXg5NWcCPDPRcvDpB0uv+J4PLtC9zk2GoKy1TZrgbsFb/igsnn4obhDD40V0VCv7ci2Az8Ot+27ebJY4TX/MeM9dUWvH4eKUz7+NJ7TkNDGjuA/31NcFsFw3IDU5WeqTv2vVT5EOAZtPSgXL60S9aHLC/jce+4G7EeWpHmdRfn1CdKOPnfF+RZbTtHe5oLKu/aeWkGc/8Ld6m9VJN+l/k7pOo1/h7l2FP3ds+Hu+Phd+KyMAlB51h+ThJ8eg/pLhLPPrnwcz2n/tTW01YJ1IVhFKLrDbF8TLCQoIjV2+K3+rVJ7/q15fPqttyD/IvNh97LXyLkf4Kn6yOLer7a8SkNfj6SdV+E4xJcQQhZPWKA2b4H0s+7Qf2zVH92POEPXrDdD/ujrL+TWI+Z11vI3myGMO14hw55MZ/qQOid/tN/wcneIVQw/ehSOqPu3/MHPjEfUYoRgafRw1jtO0Z7Qo595nErFUDYe8TJq4Wo8sQY7b7WUZ1UJPhkijOd83xk2qzj3N2aosBbG+kyIzWdLWbhpRSgTfsksNv7H/gxbVP0eG3tcyTmxt333uN1T2GGH2tuu/tWdRN0xtSLrZhkOrv71Op+hTr4VJzoOMzxTOrRGhNiFiCKb7uzpOIKOKi4+DZc9+hgKqr0GAsYOuZR4xfOjRWTYe+va0nLOJuAnW/Ba25F//xXl5q0ZjCDxiHba7XMQKgNl9znqucLJ1vsjQw+lYxsM95Rhwv5QSPsxKLzJkEV1bVXLweTDH3aq7H+jJ/r08E6FHooKbL/olGJRbzEedHtgy88jJFocG01cHq7AvV+9h9R+8+l4rT8ktr7bkXm/qvtCbd/Nk4fxEh6eljbiid6wHeYZFPF6cnwbU3FoAR8tDztCRotav+2ad3nhJ04dKLzh62b0hBFwifVhPc7nvdy0VxlqXfxhwGDK7Shm9ZGy1xfNv8VntTfcDNc1H7OS8m1s13Gpcjrse3s9IRnNuynH2Lap6zT+Hea2y6K/e2r/PBUO263nVYYJ27z86jsPqjg3o7VVHy4KCtaH4dUrNN+0KvRP0pxb4sM8IYSQJCJDfM0wLm/ezStFXdzxgNMxMtf1HLCeB/ACPSdK/oirjsLwL8zXaDtn6H3n3YsPqXP6q7TuZNsOdAg7r/KN5wK9t+C0Z8iiQt9XMZrz9/7wfrVfhmd8Hw85z96vOkoipoTEeNzhruJZfM53dbrlODa2zQ8jtvo/8/LYO/BQuyiRvn4d8BA5jrB553eVnbI4kU3bE8EVhl80S47/Nzj1PbJoUjAHNo7/+fL9kLURzbBD8aKLt0DmgVl0R98u8PLlk0PzSj1P0PXiFbzqiOnY6TjuBl4enecVj+5QOp1m3UF8m4S12Dl8pm3bOWwiGLR3IxAfbsdUe4xkvqT2rPwUn9t+Gl6orsp8sqinxf2IExISbvxuPr0ysOy40szfMx6dXwAvPI6rvGdJdWq9ctXz+0qw2uWgP1B5+dj7gDpzBC16jrENbwW35Mnt1Keee7Ky0dzzVpi2ooVRyK5w2bo2hoSrFSsSXkTTVdLmVLx6DqAWicmsbvltwQu3e+9Xr+17uNc8gWvP+UOCFdYO7x1u5j0a0VXUxvaehpaSH1xMOXp50lx8ptNuVdl8MIjzlXoYunnPJ9WHlN+1et6oqZNXHj4Zr32uKq+YhYu84e2m3MwcgkMqfTPv1JwTwanFdIl8C6Z9xQwNTyBsvyXxHea0SxkCXvR3z3jiPdueNQxc+QrVNnEcN33lQeARJ6FdPuzUiJUQrHUjWn3PpfwMjD1XL/je1jq0jRBC6pyGBYXdx9HCi+3eCvD1rVosnfpxs7APWTvEdU7+6NGPxJ+N/B5eGzMXeP1xP954xQN4wdtUB1h1xjcuLIelsdTyEy+oCE1nmKx454aP+EJx7SCeZRn2u0i7y+RbL1IEK2brhR/dh97+XwEvfzTGXh4/xDfuXbtU0blc4rJWYni9srnx03aPEEJIOSIeVEIWx85HHsOt3z5mj9Y3h65SouKDFGUsh6WxtPITQRcsdOThem7XEuLpXrQ4VZTKt3hnr5qu3Hu6Uvz420dw98NOxl/8ceXzT2uB612tpaj0PKveRgghhCyW1fOgkjVLXOfj5NyTsGXzyq5ESQgha5kjRxdKvjfj3rUr4alcDoG5EnbXM/SgEkJI5VCgkqpZrU4TIYRsJOrlXbscglXYSH83KFAJIaRyKFBJ1VCgEkLI8lOv71oK1uqhQCWEkMqhQCVVQ4FKCCHLz1p511KwlocClRBCKocClVQNBSohhCw/a/lduxyidS3/naFAJYSQyqmpQF2ur6iEEEIIIeuBM+6csXuEEELiCAnUpXLPOa12jxBCCCGERKFAJYSQ0vB3UAkhhBBCCCGE1AUUqIQQQgghhBBC6gIKVEIIIYQQQgghdcGyz0HlXAtCCCGE1JrlWveilv0W9osIIaR6KFAJIYQQsuapR8HKfhEhhFQPBSohhBBC1iXLIVqr6dewX0QIIdWzYeag5jM9aEtn9X423Ya2ngzy+mhlWb60s0i3pdV/qyGPTI+yx5bL2sHYHW/2Ysqh/qiknUib7snYO/IZ9FTcrkqVH6k9iyzvquq0ArLpVXvvEbJaiBh0t1ogotPdCCGE1JaVFajSQWpTHe+YbSU7y92ZaUyPp5GyxyvJaqZdTArpcWVPptserz7ZdA88zbU2UIK4Bp1+EZvuM1Bf7cQigomqNsTaa6/lWY95IsRjJQQrRSshhCyNlRWo3RlMT6uOt9rG+hqB9iH/uI40Elk18pidt7trhfwsamHyzFzB7tUxM3NYA1auIGuwvZZlPeaJkGSWQ7AKFKqEELJ46mOIr3hm2pyv9tFj7Xm1wzZDXtjSX/r1MEl778CUPalwh0bKPemMpOd5cu2wV33sDBXVNnnnI7alM06Y4JoeVuyFsZ6n0LBM1RkMwgX3mPMqnoyTV8dz5ear8uG54bS8YDr/el+Gxjrxqs0tI/98YnpRm6UcnDg9L2N0mKF/LOF7MVooYLQ3cr8XR3To7qxTJwlezFAdJNxjsPZnnTjdvMa1O2kTvaMoFEbRq8575RWfZnKdSvkO5oDcoJw3eQy1k6S2F4e9N1RN0TL3mCy2RYi1X+IwRurz3u2xbUNsUOEy9lpsuSQ+W26YcJv0TYzEH7qWFEYRn755LoL7wsehMG5k+r4atNdo3STVlU7PizcoU32/8/4Jmahw7e8ZcZVnXHyLyBMh64zlEqwuFK6EEFKa+hCoqTT62wuYmjCdrvyEUpONwJz925CfnUdj3250S0dppBlj1us6PdaBqd74DpN0zAYReGj7m5J9PzmV3D4dXx/mBwfkQIcZ65vHiNdR7p1Cx5hNd7ofc266JgIbBhjdr66oTvTAVEdga6fE4mI6g3P9XpzTytrBoOMJ1Umc67TXhtCeG/FF0WTzmD0/hr75waJOaRz5zACmOrxw0+gsKrVuZOy16aF2Vf592JdOFZXjWPOIY2MUx+ahJtXJnUSnDTfUNAoplmRkuLHKp6r4PilnPbxVldFkUN9SH4NOZv16k3JATPyqvfS6ddA/h96ShaXsH3Hi9Mo2qd2pdjtuy0qujavyKp1mfJ12Z1RaekCBnM+omgiT3T+Hfi8+KdeBOAFjUTbtU5HlJr00VRkqYdK3r3i4cE61gqgtifZ3Z0KjHmTEQ8m2oUT7XKc5L+Ui9/bO9fv3qiQxqAWQsm/AebakPFUaqvrV8zEI6DKRbQzNI444d+KXMLkRG1dCmOT0S1DyGV6G9lqK7H7nXTGEptGBoCyc909oJEqkLvd12PNCbHzV54mQ9U5UsNZKtHoeVnpaCSGkmLpZJKm7sx2FqQndyZyYakK/6k3N6062HAMdXaqrJEK1oyvoaKe60NE4j9m8dEzDX/hlyGR7Z9Bba21WnesE/DhTLWhS/2txevIFUcl6GKf1Kug0BlXnXtK1NzV2QJmnSbU0AfOzyIttqhPa63kcursjwmMGc4V2OCaaMvBUuSKwvxXNjQUj2JUAyYgQ0qQgyVVCqkv1Tkd7fS9Qt7InHiXGpY9v5z/qoafWayZb72jB2CiizZ5zBatvc2szGhubleUB836BVYrqMGcCYaXL1qG937uWQleHK8oM0l5EyIh3U9sqHkCpG3s9jmicYnNyu7PHDuXSjK3TMnRnHNEq5Wp3k0il+50PGhNQ8s9vny5xtlRTZoltQxNu29HnUTV2tBfm1FOQhDwfEr21o8149oLycuKXMtFxJYepPn1F2Wc4ytLaa0m6M474lPqyu4Lz/nGJttuQPaXiC1E6T4RsRChYCSFkeakbgep3GKVD3dSJbukczk8iW6KDHSBf/j1vQLEHqiZYL5lJQ7Zx+DoxFs+mTkxKZ7mct6YKxBvkiQLRDxUh3j6xu3NSh4v3gnoeqHAZGs+es0nP1plPrD2Hy4U7/LNMZhubi/+oN/YFXmO9WeG9nNQ+TWfYqgwptmeT6cZu68nP7h9Fky+MKqMa+2PbRlXIcyIjEmz+xFPtx9GOITdutZWPfjFhkljEM7zE9lqKYDi1CG97cglUHF8VeSJkI7ISgpWilRCykagfgao61Z3tOYwMTKFJezrEyzCvj2G9ANoLqL2sFhGvhbDH00M8pq6HQnt7Fov1pFQ1JM9Hhs4OxXhrTH5dJ0p2Mle20xodqigjIqtChKUK5HpqPbLpXj0M2O3Qi1fXDJ+sEb63qwKkY9zrDm9Nyqx42QtoijQE4zXeb7xfVRPEWU27W1qacYg4HUGzNwR2rK+sB1UwXtRBDM73YXcVAq0a+6tpG/recGNHznrYs2knf74Ytu+D2A8pSSSHSU7fjEIo7d1PeoYjLKa9Vvg8iJgccYf2V9AIxNtpRqUYtHfcUnF8FeeJEOJRa7HqQcFKCNko1JFANZ3Igur4eyPxdGdZ6UoZ3mtOpDEuc+K8r/l6Xmi8xzSV3qfnEBoPQRsmsZSOlXhSZNKaTVdvdthfEs4QWBkSHPVKCjL3sHkkiFPm85XzRkqZNDrDKkfmi3uWxsMati+0mI02J2KN6oiO5GR0Z69/nx4NLHMPO6aCMldb8hzUClB12K9ExKAX38i8I7hEYHhDqZX9eiht0r2NmPfLrlhYa6S96Grz7lObzpTxSMblwx0e6sdZqt1pz78dEitxJ6ZZCjvkU6cdXQTJLRO1uat9lUTCqVJyhyZXQgn73bany66atiH3No8EcTrDyLs7Zb5yEIfXduX56JgK2mPZBaIUiWFKpa/dzV6YAfglXPYZrkF7Lfk8BOh3Y5yNpVB5lrnfXv0MzDX5cSfHV2GerFe1bNMmhBSxXF5WQghZLzQsKOz+kol7Qdb6CyKphDwy6Ql0OXPHSAQlPtJw5+HJ8GazaFWR0F2TiAiXRariP+DUDSJ09rdg3Cl0+Zgy2ble6oEQspGptF+0HAKT/S9CyFqlrjyopEZkJ4DdFKfJKDE627muBVA2PYhce2d9i1NBPIgIRgTIJkNPKU4JIRsJEZPuVgs8z6q7EULIWoAeVEIIIYSQZaBW/aLlEpfsoxFC6hEKVEIIIYSQZWA5+0XLIVrZZyOE1AMUqIQQQgghy8BK9osoWAkh6wUKVEIIIYSQZWA1+0XLIVgF9usIIcsNBSohhBBCyDJQT/0iClZCyFqBApUQQgghZBmo937RcohW9vsIIUuFApUQQgghZBlYa/0iClZCSD1AgUoIIYQQsgys9X7RcghWgX1DQkgpKFAJIYQQQpaB9dYvomAlhKwEJ9h/CSGEEEIISUSEpLvVChG+7rbWmehvQEN7BrP6aBaZdvd4dQnbRkh9QoFKCCGEEEKqJipYayVaV1SwTvSjoaEdGSo2QuoGClRCCCGEEFIT1rxgrTktSOcWsJBLq70KoGBe27D+agIFKiGEEEIIWRYoWAkh1UKBSgghhBBCVoTlEqzLiZ632eBs/RP2SmUUzfuczaDdic+LTt+344DaO4y9reZau+uK0965IFwlc0lDtifZXS7eBHuTKFde+ro659/np2fn67ph9daPCe9aXFyOvV7cs5n2ILx33c1nXNmVKYeScXvXk+qvyjLc6FCgEkIIIYSQVSEqWGslWmuFiI6rt85AfvRCbzPD2H5gxxIExgT6W/cCw16cM9h6tQgwoGtEHR/apfa2q8smvVzaDAzWomgHcMizQ4Ubxl60xgkti9i+48AuP8zM1qvVsb1oKR9vsr1xVFxe6twOHDL36OHPIkBbsfd8e05tuigg9o+gSweqEBV3623vtPEcwq7DKj8iDD91SejcqxzxX3H5xsTtxZNcf9WVIaFAJYQQQgghdUQ9CVYRHZ5I1LR042XblU75VK3khcxRLSfAJnDd3sPYdci9T4V7pxJDh29ANlahTuBTSoxuH36zH6YlnbOiz2Mx8Za2t/LyUsJzxI1lBrcdVmcvCc51XSLG3op8rB0l2D6MGT/uLuhoYs4dviHri/CKy2GXEtCJ8VRKJXW+saFAJYQQQgghdUs5wbq8IjY67LQVSsssgS68eXg7Du9tVXFVuJjObF7JNHHeuXaoLeoOdbFhzk+VWJqponirtbfC8tp1SUSgtWJrRMhOiMLG+SiVhZqwmPKtikXU+QaHApUQQgghhKwZygnW2mGHnWIYM+7QTyWkloJ4MiWuQ7u8uYqVDffcdcizwd1ycB2Wi6FcvJXbW4PyOrDDF4hmePLKeRqXq3yFxdb5RoUClRBCCCGEkCizWdwgw07fWeFPxFSJnrMoczRxACVHDLekcL7659ZqxrpWEqbKeMvau5Ty0mGDuZtmCw+5TYmxy8FiyneRVFznGxwKVEIIIYQQQqJY4RIadtq/xCG+slKsu2LQzG04rOTKVm8h4tat6ugwbgs5hr0hoq8KDw+VuBIXSbLzI/de53vqzKJJ9kBTQbzl7HVZSnnpsMHqt/7m5K9VjwG+2re1OD+LZTHlm0Bc/VVThkRDgUoIIYQQQjYwxcLI/DxIF0bsKrTeeVl5NrzQUJV0jagYgvhknuOuQ84w0pY0ZG0ebz6kp2tkiKgyJWzn1Vsxo1fAjadrRIbXHsAOe7+srjsTGW9bNt5y9oZYSnmZOajhYbbhlXRb0h9V+QnqKi4/i2Ux5RtLXP1VVYZEaFANYMHuL5m436Fa3rkBhBBCCCH1CftFhFSG/MxL697zi+acJp0n6xt6UAkhhBBCCCGrTHRepvn5l+IVf8l6hwJ1XZBFui2t/rsGyabR1taDTN4eL4pK8p9HpqcN6SoLKZuuNszi0qkl+UzPqqa/FMT2tiUbv5rPwzKlnc+gpy25XUk77VnaQ1Q5NXlmVx4po7aejHpCVxZp017drJYNUWrTXlb/XbdkpC3XQX0QQrwhttsjP/WyA7cOzzi/O0o2CisuUHUHVHW0wlulHTrV+avRH5Nsehk6WNKJXNN/rWtIpWXRncH09DjSKXtMloYq94GpDuzutsdkhenG7r55jFT4cqlYsKTSGJ+eRsbW64p+hIg+y2vkmY2WUXdmGtPjaaym2fVgw1JYlr+bhBBi8X6Kxd1ynKi5IVkdD2r7kOrgqD/U3jbWjJFKvsjnZzFvd5dGHrO1iSjMzBwKdnfDw7JYFfITU0BH15rtAK8HUl0dwNREedGphN9IrhGNGMX+KsXmzNwKPl1r9Fle0TLaECzT301CCCEkQn0M8U2lsa8PGPV6afLF3veuWuEq53pHUSiMoledDw2Z8u6Ncyno4Wj2uvZUyLCkXowWChjtdc+pdDL2XjkXHfoTOQ6l690/mANyg/qcmBIdrugeS/h0xsun9SDH5TtC2fzqvAT3BLfI0MPgfOzwrlD6Qdiw1zvwdofzoDavfGLKImqXn76k6YZLZ5z7nDKQazZsqF5iKFlGszH2KsqXqyKxftyyHYCSiMXEhbV58pOz9+jjpLTKlIPSEkqfWnkaKc+4enDbo5vv8LEJo+usTPqx5WjrOONcc5IKhRmILbxIvH66FbRpsde10z2OlI/Y67Z1z0ZJO7adK0LPhhcg1YUOzKHcMij6Y0LfPoz3tyM34tgYKS+Tr2DosNhjHi+57ow+mdsfY2Pk3abbklNuSXlxyyj6LFv7vHDxdRNQ8v2RrcIW9d+i97Q6G0rf1kFcGUmcQRuJfw6K0ii6FoTxT3skPbMOJW2QTfIUbZcl4grCVvBeLmLCeX6cdqT2ip8rsTX6d9MyGVdWHpHy9MJJHr0wXv50+Tl5jR7rMK6dilA83rVSdSjRBuXWM0LFTQghdclCDbn77JaiLcrtwzsXtu05aI8cbh9e2Lltz4JcObjH/Ks5uGdh287hhduj+4IKs2fYO7p9YXjntoVw1AcX9tg4NbcfXDhoIlLndy74QW3YkF3RtEraYeKN5q3U8cE9Kj03jiKbIrYLifkN7pU0dgaRLBw8KGfj8+tmN+6chC2qLyfv4TyEw8eFCw4de6Te3XJ17AziiJSFX48ezvXEMjL7cfZGbXXLUPJoLkXL0EszWm5y3j02JLZpv91LPF78SWl5/1qKysGNQxEpT3M9bJvkT+fVt0OfXdij4vHrxU+3TPpJZa/jdtJ18h8te92migvPqTeFTldsScqbY2c0rHscKh8T3n92xGZ7X2I7d+7RqOfFWC73uLbF4dofyUu0vDRu2bt5NSQ/i2bfL1Od56AO/fYdV042TNGz7OY7Gi7SJorCOvdrmyO26PJPtCWSF0HZUup5D9/qPdfF1/y0i9II6sZ9Lwjm3RqQ9Iy74ZL2TTpOm3Xag9wXyrOi6Fy0XP3yK86rkFj2Tn4Nbvj4a3FlFRC9RxGtX93ejS2BHXJalY96jryg4fISVNx7gniCMilhVyRtHca1ZRmopF9ECCEkTF0uktSdycCfQtfajEa7W0QqjYw/ESqFlia769ONzvYcBr2vsKludJcY+9jeWdnEvexkDu39zjyiMvEm0egOxdTDl+3Xaf11dxA5dWbW+3oslM2vOivDC0d7/S/G3d0qTxJ3Ywc8x5qE7epoxLwbeX4CU+gLzV2UsDJMLlQu3Z1oLwTeoSAPxp5QnC7dGX/+nPzWVXNSpTp2pkyEyFdTj2XKKKg3Uwa5yawZCmg9RLL1jhZQmIv4vxLrZwZzhXYERRSft8Q2rUcPzKu89WKqY5+Z15eYViXl0CS/dR0QqveorVKd7Sav4vVrzEEVhzRwzCtb+pumMCHpqONce6eyv0z6JcveSVfyb9tQtH21xhRe7POGCtp0JfhxGHub3MIr1861p1RGdFjPjXpeTE6K212UfGZElWm/nccp81adESSacD1VQqln0S9jKfvGZtVKA+S+vIzdtKNTdJsT96N+9kpT7l1Y9v3Rt9uWWdAWy9kSiq+Cd2IxJZ4DS5CGPM8FmEck5t3qUPHfrUqIfQ8G1OK9XFT2Miy9kr8VEeLKKoprq9RvYJ9Cv3vM3zrfDvW/iakm9O/rwLx+KcmxMzpEk0I6E7Q9XU4OcXZF046GIYQQUh/UjUCV4W4Fv+PkDDGSYb36XDzucB3px0TRi1JM7wMG5B7bkaxXGvsw5s7NjVmIpFx+pcMmi6lMd07qe2KHPa4SwVA8GSpmT1ZINfVYtowcGptNi2sfcstdbYGaDqigfpIp36ZDojghrfLlEPmoUTFBRzQ7Oa87gt2dTZhSClWLENvZK5d+NWW/9lEd5HEpj05MSp79YY/l5upJZ7v4owhyk6v6fmrsG7NtzW6ruJhPNbasWJsr+26t/O+WkEqPo39OCV4dZgTNY47AXQ2aWlatvn08oS0fTJs60S3idV49F/oDqiucLe6w6vX/wiGEkA1DfQhU9UdmYFSmY0knRP7Iyx9r2zEZ60v8Ei0dk965fr8TM9RuLxQhHckx9NmvtBXheHmiiJcnNGcsgbgv34lYb0ypxVIqz69CVtpUN/jeMfXnXXvDNKaDHPIWpVrQVChOX75oi5fRR7xpEQ9MJYg4HWn2Op1SF/ZCVZSvx8rLKCgDncdy9ZlYP/J13noeNeKdsbs+Jdp0No3eqQ4lRlW+5gfNvLaybSGpHMRbEu/BMBgPaLg6c75IN4v7DGBk3nYEVWexSY5zUW9efPpVtU+LfpYcg7Q3O0Ls81ZJmxZKPMe1oxuZ6SHHgyVtIOLJdsnuV7Ub/QAh5ZWrePXfWmO8g/urFsjl3oXVvD+8tliNLYtpc+Weg7K471afyv9u+ahnP3gnVrcqcq3eyx5+/it9rpaAec84i4iJ+PSfF1M3IwNTaNIvHflwNq+PixZ/E3HaO4d+W/dSJ+WQv8nGQ2vQ3npCCCF1x+oIVMdzYL42yx8Z7w+0/IFyhje6q6bor6t26JfqycsfukYnrpH5SJfA/brqDqEMpZHgjUul0a+HM9rwI/N+h0O+fA81OUPQ7JBH1x79db17t+qGBvclLQBjkE7/EFSCNk7ZwraVza8itGDIIDCkPYESdz/m/CGjUhZjzpBbQXWyVadq3k1f1JLqjI01jwTnJM4KPCvRstBDt2R4nI4nYSGhJBLrsZjSZdSI+RE3HlsGkseOKac+47wjSfWjzu9zy20SKOonJbRpWeBjcN5+mAniSWcT0qqgHIo6rhG6M2No9sugDYMYwrgXie6cKoHodwSV3UrwFvTwXkWZ9Ctpn1FS6X1amHthJosLL+F5q6RNK0o8x0smtECLfthMOflDoqXIxLvnPsdKyAwqMRDtbCvMMzKAzPftiUTs8HTdPuxw66Ui3kHd5Lz8qM0OZS16rzkkvQt9yrw/gneC0xZL2BIluc2VLqOSz0EC8e9WjxJ/t5KQD0BO/mVLyGYxi3wvh5ga8MMH+S/1XFXwd7MSpH7754I20zuFDsd7rJ8DJVi9j2JSx+a1FMmdvK8aq3y2Vbm57XVgrql27wNCFsFEfwMa2jOY1UezyLSr4/4JfUTWOrY+/fotT7g9bGwaZCKq3V8y95xT/P32jDuX13dBCHERT84kOqdXebjgBkaEzGRn8JulJB5vVEU5Ybg+kZVm96Nl3HlO5YPHZGf89AKyZmG/iJRCBMmOW4cxk0tDfu1TH+MQFka6zA1kjTOB/oYdwKEFVFKl0fawkanLRZIIIYulG5khhIYvkpUki0kMUZySMqSQ7o94iUeaMcaGQwhZj0z0o6GhHZkN5xrswsihXThwNb2i1UKBSsh6o9tdMZmsLN3IsPArQhbc2pjeU4t6Tr25s3pbxUWpCCGELBNdI1igR7RqKFAJIYQQQlaIuGG/ZHXRc/8a7NY/gdlMe9m5obHzBbWn0IlrEfMJt2+NtI/ZDNrdONUWnaaqbfHs9u4rk7aEac/MhsM09KNoBmzJPJUvG72/44DaO4y9rSYOSTeOSm3ScfrX1RYtkEiZhS6XuiaUqUOdtgrk21CinMvaWQG1iGMtQoFKCCGEEEI2JCIAdhzYhUMLC5BlWWa2Xo3WvYft1crRokpPNzTxLCzMYBh70VpGKLp0jSwgl3Z8bSKWWvfi/ENenGqTIaM7YkTegR1ove2d9r5D2HV4L15VZkzt4b2tThhl7/YD2OHYW6s8ic1KemN4xsQTymOEcjZJfV29dcZeV9vMMLarvAe6bQL9qsxUYn4cW6/2RG6pa1XkV6Wn5wrLPQne0fJ2lqcWcaxVKFAJIYQQQlYQelHrhQl86oCSTsNvhreGTUs6B62nqmIC1ylRu+vQiB+Pignpd6qIDt+AbKVqLsQsMlcr43YdCi+w0zWi7Tu89zpfWGnUfcHiSl24RCedLS0ktw9jxg8TtXc58lQBJW2KEfEt3XjZdqUZP5Wk2lQcOTcPLu61avK7C4fKrHpUvZ3F1CKOtQoFKiGEEELICkORWgfM5nGr+uf8VLJHryJsPOLZDA3H1ENbF8sMbjuspNAlxUKoS9SnSjG/VJF4fkpJMIfWrdiOw7hNFppeljxVQCmbNHZYsW9TK8IO7y68eViF2NuqrkUXZipxrZr87rokQfC6lLOzEmoRx9qEApUQQgghZBWgSF1f7HKH4vpbDiVGtCZjBVMy52OpuroSapqnJSOCTYk0DGPGt0WGAdvLFvGCy7VDu7x5r8Ew3lLXhNrktzI7S1OLONYuFKiEEEIIIWTj0ZJSMg+4taQrsgUpuakUFcVTJTbOuOGcE3pc8lYs+fPGrXklgxxmbsNhbIdep6lWZVMtpWyazeIG8Sq/s7JVcfX8V5m3iQOIFmPRtVrWYZV2xlKLONYwFKiEEEIIIasEvairiZ2r6cznNIsm2QNL61aZ+He1PyS0+B5v6OirwsNGZZGjKhYUCmPilAV5QoviqDgl7ZoIl8N70epHPoF+E7H1FlaWp/JloygapluCUjbFiPaJ/siwV7HPLTBX4Ja6Vss6rMTOctQijjUMBSohhBBCyCpCkbp6dI3YlWLtPD9ZNTW6SFJL+qPqnuBnUuSemchYSxk6OjMM/x69Xb0VM0v4DUw9HNWu2uvHueNWvRpumTV6KmPXIb1qsYl7Bw6EFiiqLE+VlI26CbLWkJePkOCOUtKmLozYlWw9e2Q13VB9ySJS6qx3XeaQ7jpkh+iWuqaoXR1WYGdZahHHGmahhtx9dkvRtmRuH17YuXN44XZ7uBIc3LNtYc9Be5CA3LNzuDqrbh/eWXWYZUXKdtuehTJZrZyDexa2rURdrVQ6K8bBhT3bdi7opqHrpHz7K4fbhmXfK6/FtNvVxLV9XVOjek8k8Zm5fWF4pyrjZUt4EdT6vVQKKRfv2Vt3OO+VGiF/w+qqrawBkvpFcedlI/WBEgEL2D68MGOP1yM6j7sO2aP6oB5tIqsDPahrhHymB21tbc6WRtZeWzXyGfSkV92KCFmkezLI26NKCcp3lcs1lcb49DQy3fY4gWy6B5kKM9mdmcb0eBope1wPSHlX0nSW2/Zs2j5Pi2gzAXlkerzncpFxVVjvtSeF9Lgq48UmvKh3gHpGvbKKbiv9PunOYHp6HOl6ejjWPIt7BxdTq3gi1OXfrQB6UgkhhEN81wCm89s71686Uqoj6W1jzZisVKEsFzNzKNjduiE/i3m7Wzl5TEwBfWNSthmsuEaomjxmq89kXTEzVw8tJ4vJXDuG5HlaggjOpnsx1TEWPJv7WjCzyo/mirGod0A3Mv57rA+NsHUg28ordFJrFvUOjqFW8USpk79bZ9xZyWQ8QgjZmKyCQA1/Pe/xRFY27XxJj/cOaS+X8+XTPRZPSDqTQY+NI511vRqeV0zOqbgzTlrlvqTK11bv3iK7Jpy8OJ63kmEsbn5LfSXO7sco+jAW7bil0sjoz/5h741fnmKDijfjeYjUlpTVWcc764eP1FNRWLF/MAfkBiPX57Dft8fNe4l6d/MfOo54pmTzr8WkI3nuHUWhMIpeNw2fOBskjV6MFgoY7XXjt4TapVPHZerP98zJFlfwbhvpGXE6YmJjkE7Ycy7ny9gbg8RRXBYKmwdzrUx9K4ptKXU++VmTsjFNx7k/4ZlxbY8+46G8J4QPhwlsNvkdRE79b1CuWduS8pgcj/lY0NTiyNtUN7rtYSg+395I2ejz4XpPyo9XZ+H4HELt1QlnmXDapVfHOm9+wsntQO7zzuu0Ja2id4Abvjj9apiMsbWUfQZbtlmn/LybxN60eifa94Y+LeXslWPkuoRz689Pq1TdOOFfm5awbluRWyLvJZt+dgnphK65YULvFZO2l4b7Tgq1Uee8hxtuYMqeFOLsk3Mx7+CktD2KbIiLR86psvL+pulzUhbucxA6DrcV//5Im9VpR8tDH8c9p/qG+HpZBEkilV7U1Uev8LqEuaNrAZ3HmkxkrR31aBNZJexQ35pQyXyK6By42w8eVFtkfpQ7B0n27bXo/Bf3ODRXTYcP5t4Ecz+j863i5+hIXN4tB/c4c6EcO3V6zjypIF/ROOXY3BfYEZzT3H5w4WDEBg+dTqk5P8qm4LKTdnROW9wcNHuPXx9+uZtyCuKV4+JyKpqPFJnPFVyPlokTf9Qu5zgoL8Eps8R0FHH51JSwQe8X50+f3xPEFc5PifpT5bjHj8xNxyNiS6i9OnH79eGh0tEH0bwU47Zhtxz9dhoqp6iNMeWRYEuo7AU/XhNncM21ubhMkp6zqO3xNkfLIyjDcJgoTlkrkvNSJh65Tz1HsgXtVREqY4Uc6/ijZSO4tiTlJ2xvUbuLpufWmbXRT9K5N2gr0XqRY2tHUdwm7WiZBXEJt6s24oeIp6hdKfS5OFtL2Odjy9a31QmjyyByv6Tl3Ru6bsL59encl9RWi+OP2Oum5WHzGkrHlkel6QR1EGk3Oi57rPZj30lRm9RD7aepiKtf77ikfW6cSWl7JNkQE0/RPO3oPc6x2Oo+j7qvIf9G8pR8bGx1r6lYE57NZCrpF8XdIxshhGxUVtiDaobU9TsTflLd3RAXRGNHVzDELtWFjsZ5+Y3iqvDjSLWgSf3PdWoU5oIvle2dnjeyFc2NBTiXiujOOEM+W5vRaHeFxr7d/rXuznYUpiaQ18OSrHdLf2EVL000L93obBfPjf366nhcqqY748xbk/zYXU07gqwq2wtzKM6qUx+63HOYzM5ARmAaD5dsxmNXqpx8GjvQ5UXX0gTMz5oycc6rK+jqaFSXlvDpOS4dcxjPomxIIZ0Jhn7qdDRl6s/3busD+ME8orbo9lpMXo87DtqYpCuPSzGOp8D1JiRQGO2FapYY8oe1lq/vJFtkqG7wPCm6O9HutLNKn7VSz5lL8J4w5arrr8wzF3q3lKBcXhLj0fMYZYjqEJqkbG27yItr1XqAtF3iuXHaaSgtl8T8lG53kl7J92hjH3Z7Seq8TWHCu6ZJbgfZyRza+51h0AnvLHkPSnjjOUupNhJbYhUQ9+6q/L0U2Bp5zkPvgBj866Z9hTzjti2UbKuRd0y6X5XHiHkm9TMU24ai72BTZ5Wmk/iedd8rSe8kSQ/SRtPG06seardVRp+JVucPTKXPbNn3YRkbwjjtoiTxfY3gqHJCz2mZd02toSeVELJR4RzUsjidfxlyZM/G0tRi/gCqjuCYN6dKb8WLcOjFX6b3AQMSt/3DHIN0+NxObRzB8CnpsNmTi6YRzfpvojMvzG4rPT0slR5H/5x0+CVvI2geczpEK4U7nEsEhqVc/blD1pxgy4Qzp6+CuZSNfWMY65vHYGio3WrXdxXPWRwVPHPLj6mHofYCpqzyk7J2y7Tiua4J+an0vVEZ4Y94hiW2AyvW92FA12WoidWE1X8vVdVWu3ejT4mv/dks9o82hQRTeZb4TESIfyfZRbKmOzEp1yr4wBVQuX2l34dLsWEVWIZ3DeejEkJImBUWqOJFyWFEf10PSHV1QPXogj9K+QlMFYo7TxV5ymqK/AEWYWT/EOkFPeIRD0OjKDv7NXh/RR0z+cM8hr5S3mLbwRmIlBmyGe1FEXE60ux1giUue30x+OVuPDXRelo0ukxcb40sSlQw3gnfOxJDNu3kbYmdgFI2JKHnQc2h3+uIDLXbCx7x9SedMXdRq+JgLWhyvVf6q3wx0t4Lo/uXKELiEfE/hEHr6Spf30m2aI/ZpHM2O4lcY7N60quh8ucslqqeuWQWl5c8Mhk3YZmT2oiOrpR5ry2m/srmJ77dVfoe1cTmLbkdiOfM8wRWgrSvMfUyWtIoiSIW816q4Dmvimrbqqor8aIODmI+NAIhAb/OFvFMlHivlH0n6Y8rQ6ERA4Kud+eZCBY3q9y+8ml7xNtQksS/H/F9jTiq6lfU6F0TB+ejEkJIwAoLVOlYecPg7JdX+VoqP7HQPxcMheudQkect8yKNe++0IINy4J0iJzhPNEEp4yXQLZB1d0f1wrK5BH+MDTZIp6O0CILsgLoPi2+tCe06OuxxDfteBLtNjKnegt53anWQzb1+QElwapEdXJHvDidcu/OjKFjyk2zeDEI6RA32sUmjNBJQvLQjzl/WJRZ9VR7PlTd9+thi/bayHzQ0enuDLcVtZX1yOihi7aNhG4uYUMS0hlRnZwi2xLqz8MtF9lGlGAJozpiQ01Ou5pDU1zvrjtjPJ1+Wl7+3Xa5eC9ad8Y+iyrSsvWdZIucbx4JwoWGDidhhl2aoZqSTpnnrCwVPHOVsJi85FWncs4Jo9rDXL/9mCLvNW2Wd01tZRuwkJCfMu1Op1fyPTqFAe9aQt6S2oH+oNHkDFf2zofeATc5C/e0oXeqA/uUgcZ7tlRvr6GS95LgDgMu+5xXxSLaqryT1JtDPlrE47xj/DpbzDOR/F5JfCfJokH2nAxXxVD4724qvQ9980G4SZUTQwn7Iu/gsu/DJBsS3+UOiX8/zDNU1NeQK9G/W1X1K5LeNSLYy/0dLA9FKiGEGBpkIqrdXzJxL1EOXSGLQ1ZQ3I+WcafDJB2ZyU7+FAUhNUQ+jE12rsZQ2eVA3hvykaCO8lPqveWP0ggLQ7J+qLZfVEqMsj9FCNkocA4qqVNSSPdHvE8jzcU/t0MIWSTG6zOYq3ThGVI9qowHc8kLYhESgSJ0lZjNoL2hAQ2ytWcwa0+vLrPItNeTPYSsHPSgEkIIIYQsA4vtFyV5UtmnWg5ECLZi7/mH6uw3OK1dGMbMOv9NVkKiLLtAJYQQQgghhkpFJkXqSjGB/oYduHV4Brn0KsnAiX407LgVwzM5rJYJhNQTHOJLCCGEELJGoDOAELLeoUAlhBBCCKkzSnlKKVJrhHguG3bggNo9vLdVz0FtzzgzPt25qXbrn7DXLBP96rw6OZtpD+6LmTcauq42Lx0dfoe2AHtbY65F46qhTYTUKxSohBBCCCF1CIfzLjNdI1hYOIRdanf78IzaXwiG+Yp4bd2L8w8t6PN6O7QLB3ZERKxwYAdab3unvU/Fd3gvXuXcI0JRRYXhGS+uGbzshldBbukaMfEqC/zriUONa2gTIfUMBSohhBBCSJ2SJFLpRV1OZpG5+gCw6xBC6yYpQSta8vDe6xByWqr7ggWWunCJ3HND1nosZ5G94bASwB915pe2IJ2rdr5pLW0ipL6p6SJJhBBCCCGk9nDRpOUibpEkcw6HFsJiUIgsaCTDaXcgvAKwPnerXX1XhuRar2dRXB4JiySF4qmlTfYcIfUKPaiEEEIIIWsUelKXgdk8brW78ZyP1EqrvHq0iZBlggKVEEIIIaTOoad0BWlJKbkHHPhUZPUhxcSnDgDbt6LizwI2rlvzSxxcW0ubCKlzVmyIL7/wEUIIIYTEU6kA5VDfWhP/O6hmYaPD2OUOqdVDaQ+EzlUynDZYJMkbwjuLTPurgI/a44RhwPHx1MYmQuoZelAJIYQQQtYIXDRpZWhJ5/wVcv2fatHzPMMishIkrplh+D8j09DQihte5iya1JLGO3fJwrvmevRnYzxqaRMh9Qw9qIQQQgghq0w1HtBSfSp6Ugkhax16UAkhhBBC1hAUoYSQ9QwFKiGEEELIGoNDfQkh65VVHeLLL4CEEEII2WjUsk+UJEjZxyKErFXoQSWEEEIIWWfQk0oIWatQoBJCCCGErFFKeUopUgkhaxEKVEIIIYSQNQyH8xJC1hMUqIQQQggha5wkkUovKiFkrcFFkgghhKw6Rwsvtnvrl82Nn7Z7ZKOznH2iJEHKPhchZK1ADyohhBBCyDqHnlRCyFqBApUQQgghZJ1ATykhZK1DgboOyKbb0NbWg0zenlhDaNt7MlhN08WGnrVYeHHkM+hpa0M6a48XSzat2lQN4llPSJmsZlstUbfmHZDGkqrLib8enktCyOLhfFRCyFqmbgRqPtOjO8TuVn+iIYv0GhWCmvu+i09cO4CPftMerzp5zM6rf5pakDInVh4lOgZz7ehPJ1lQ+zpfVkE8M4cCGtFckz5IOzq77S4BWpvRWJjCRImqM++xQCjWvq5L1G17J5ZUXX7bsc9lYQ6l/DA6rzX/gnE/3thzF54V2u7GIXu1NBL2x3j/nD1MZClpELJ2oEglhKxV6syD2o6h6WlMyzbUjsJob32J1PwspN+2VjnypQ/gff/2eXz9Lnti1ZnBXEF1uWujphZBHpmRHBr7did37LOTyKEJLTVT0FlM5kSTL48kzxvFv2R7TTwkRKpFlWwBcyVU24xp0DAtusZ1rQVkHFZQLpGg7aSQHpf3cKaE4M1jYkrJ2Vo/u3NHcIf6Z/ves/DVcdl+D5c9+re4qhLhefMDOIwteHyzPU6iKA3ZzsQOc5WQDQFFKiGknqnfIb7dnUquykd86Q0qIdHjeFe9r/Z6SFoP0mnrfdXnK7xXvBx2SJs+doazhb251hsiw/t6R1UHsYDRXud+Nw61ecnpIXLpNNL6vPHAJcZbtYfuHnz1b3tx0QUqngs7kfmWPa048tMcMle8CM+9UNK4EJ1XZPDVe1Sf7J9fgecP5XBc3ZMbVNfE/t/O4pNveSkuvugCde8FuOjSt+DT3z9iIkqgoqF/tqwz2aBsgg8NTv30jGjBH3Tg4+pOPJiqXDMmLonHlG3G3OvZYoekmk3K04QLPDw2btf2/ASmCo3o6LLpu3Go+26S+hpUCkNJ1EF1TqKKpv1hOfY9ZjaNUJuT6/YefTyoYrN1oO7T8cWGL853UXw6jMKxe2BKHfsCKcCkYzavLnR7VHnIhGwweEJr1g8Xn15QnmF7TR049RmtBxveP23D+/HKpi/G3W/Tyjphgohi8xofjz0XyYMJE3d/K5obgflZL84ozoiAmLoW4myLtil9tqg9q9g9ATnjXfPeG5EPPUntJI7YtmPz7pdptCyknHoxqtKUj4hB+cUQ11a0fcr2jLnmVB1wx1H1ht2EpvPssRKcb3jbQ9GIY/jcF7x30xG8/wrH+3nV/ch/5Md41vBv1TURs3fhjTebO3Hz3Y6X1IrcojQMh66SuO41cV9xr7E1JrxOS11/v9wv51X6wX2OkJ67Fy/xw9JDS1YHzkclhKxF6legas+V7XRlJ4B91rM6PYT23KDTqSmo+/rNtUx32Xvnm/ep82Poa1Sio3cKHWPqvrE+NBZGsV/uUx0qpUPRJ+dVHGN98xiUjlV3Rnt1lUXm2ngaKenQmptNeiqe+UGv06jIzaNZxzOOdCqL/apH1z5k4p2e7lRpeZ3O0l6ZKPf921ux51/zaGi5FH/5llfhGafZC4otmzfh5Mf/IXa95R14x2u34fg3RjH4wW/hnBe9CT1N5p7H96hrezrxmE1bsOmMNvzpm96Gd7zjRTjrzptxzTWfxn3mthgqG/pnPD1KyI9IVUxDiq0wNaE7fNm06tiiD2NSBvs61BlvyKLt9DYNqbKR+rF1b73WOdV5lrhUsRsbzAldD6r3rITkvKkXXUfiBepGp+zOz5qOZna/6lC3Y0jXmyE/MYVCYweMPlXpKzHq18++FjzYNa5tVyf1uUy3zb+T9mMkqC8IHaEgnXC3bUh9K2ExbiI0IwWkvQqx4SP57ppw4jPtd0SrFpWOY3d/k4ogMmRaBJAMY9ZpqvQLowO6jWoRqtr9XKeEdb1lXj3ba/J8qKds0j4fItpNeur5UvcMGPXk2Cv2yYecAV1OY1KZuUlVwiJ0gvqX87lBEVByXok5Xc6m7nWZZ1qL7x9Rz6KX1uAkOu15E39cXveXSNfilZeNVz6Y5DMDQTtVW2dwdwlM/WlSxXWdZFtl7dnWl6qHwclOU/byjOmXlkF/6Am1O6edxJHYdlzBGy47UxbKRN0m3HdhDEltxXs/zEk+5Lmy9yvy+gNZxAvavAWiJQt3yjUZnvtTXH/OI6x3Vdl5zhakLn8MrmxTl9vk/Fl438UqLi1aj+Cy4bPw1b0PURdNvCaNY7h+rysej+B7d6rT0w8Ab1P3f/B0ICH87J3HgJ/8GvMX2fPTv8CzvnyySvcR2O4JaRGne38NXPp71s7f4kMf8QQ2ISsLh/oSQtYadSZQjadKf21XHRvppI7L3MDuNLomPO+j8Uq4Xox2d6JcmXuNty6FFhFrnjjRQ/fMfVkZkyedJ/GSqjh6tZsgQZBZEa29CJKe6hhKx8sXm774EYz3RbwpxnPSjW5ldio9XtRJK8eXvvR1HMfJePbr3oHLLr0Mz7bCU3PKI/HIe76EA++9Btd86Kv4pTp1d+GH2PJ7T8eTtZoCHrPtUlz6gifhNBXHI0/+Hm78u/coYTqO76lrx398F35sbouhkqF/qgOoe9yq87ov0nFVHeIRqdZ+e94ZsphNq7pqVJ1gXRBOR9/e44fxrrX3K9Gv/lVxDmjhLx8BvLQN3aJQ9ZxB1clOGsobEXM57wODErjdKSsefCJpe+IiTuCI+FUSIpjbaurbta9U+Gi+jZjuwz4Rqtp7ZeLO7ldtTp3frTMWtVfhlfmQrTOZR6nbqL3XDxuDev7C7dKUY3DetGk9yqGonhR+OVn0R4KgXaT0QziP2bwriAxGpBsPd9++Lkz0mGdRx++l5eXJxwyplfMQr6R6h+g6rzRdHa8zx1MJql77datbKs9i3iEx2Prz4gvXdYJtVbRngxK4uvBN2Wtsuno3oZ3Ekdh23Hao60DMC+pVl4Wtg2SS24r/fohpeFr8JSBC9NBVv8DhRz8U/3LlKerMEcz/xFyTfS0wPZRAfOuNx7B972PwBl+UGnQaEkdoeK+Nq+00fX9yeJuOCv86JYINm3DZK8SegPwXHkBB3XPtc+/HS0RQ/+QheO3lW+xVQlYeilRCyFqifuegymZ7xzIU0TgF7Jd4fTaeau6No1V6UarT5nkLzJYgyHRnX3W0dFrBFu7Ue3jibghNWtA6ntZFcRJOPdXuOnzxqsvxNzf/HI+75O34x2tfYjx8Cfx4dC/So99CwwWvxfs+8pcQB0TN8MW5I8J0pzZYeMd8DBDvkLmnsaPLdIKt8A+EQPFiPf5HiVCcZl6cUgjGI6mHiSsxtt94T6MddeOR8uhGRupvqEl/nDAfEYqFkxB8EEkWOOG5iAHh82UEkpNvY+sUBrRTUtqRtMlIuVkxEbVXnQnijKThhw1R2q4g/mj5ePaGz4fzbLyBghEqgbfbfOhxRJVOV+XaZDrybEXKRuLXwqoR8yNtmNReYfG4e7mLSReOEHPPq0Pz4WgMffODyibP2yr5cusnHi++UL5L2lZJe7bPkb8QklPGTv3Et5M4SrQdt74jde/hllUpEttK6ONdhEdvVnUTkP/IfTisRODznwstDhu3n2Js1nNOgfMeJ8LPCEwRsRo9jPcheIEWkUfwn4dFlIbjjWP7RVZolgnv2RDy+Nq5rWKPEdoP4K3vAa7lHFdS51CkEkLqjfod4utgOnq2Q2PFSxLV3BuH9q4U7HBfTRaZJCVpF01xh9llM0nzsfIqHrlPCSE9PM56WvUcrerE6lOfLL2hX+KmkY/ha1/7GCb/15wXfvWbB9R/T0Pj2Q2Y+fw0fmpOax7zew/X//74lhtxWHWs7vvVr9XRSXjs2Y/C3Z/7ApxoEtHz5UrNOVOYTrJHVMSI50r9o/ItTnJ1QXW+zT1mvrEZaqsu6E6x6Qg7ON4iwVw3cephmZK07xW1XuucDDMs7qjrjxEe+SyyYlf3bj3EVNviepKESNphPLsNOm7f866uaU+cI9b1eZdw+Gi+TXxN6NfDKWXYZdBm/HnaA+LBd+z1KWBKLz1rvVr6+TBlHksk31Ex4g3XzmdG1PNl5vCG7A2Fj+bZDhVW+ZUh757g6s4Y0WaGE1ust7ep33oTMz36w0G4bJz47fOIjjEjZOXZ8sf3x6frYz2XHtms3JxCul8+cXltVt4nJURZSMxF8p1kW8XtOfwc6REHSsiKkHfrp1Q7iaNs2/E97uYwmzZiPSS+SxDXVsLvBxfrnZQhu+YEZG7nK288hsZLz8Qbmo0I9Yf66jmndi6pIw4FIxxVfHrO6N24XryjOt6YNAQb3qNU+MBr63ljrXB15ra2nLMJ+MkWvPaDp+sw77+iktWFCVleOB+VELJWWBMCtXu3mSPaK8NoJ5vNHLUEqrk3FjvXVC9sYocJT6lOlu7bWo+cGf4rHTXxug3pea7m3jYMTk1hQt8cQYYZjtr7ZCiwHfpmOpfOsOAKOOfyv8ZfPOV03P/1YaTf+QWc/uRz/Yp89v95Mc55yI/x2czf4d8e/CO8OBVU8VMvvRSph5yA742/F2+76no8pOulePoZR/Gtsffin779ZFza/lB7ZxK2011yDmqkY+6KFbf8JjvN/E5NN3breYRSPpPojM67czvCEY9OKt3vxzmAfl3fgRhOoatDTpQYxmrnqGb3D2JQ16udbyeVk+qCBPcXlSryJrmev7Ddxi5vyPqgvjvr2aPzKcIhOXw036n0Pj2f0MTXi6mOfojvK4hvAOh3xJ2HnQvpeyclbyJeIiI0RCSfgaCQUQBmLqE8X2akghGPIXtD4R1hpZ4tM//TlImec6ofAlk0R86pTQ+Tt/Mmle37/PtVelMd6O+KpBUSbup59POqwqhiH9rdquePx6br1q8uPnUg8cqw6EH7rA7Kxw2TR/H4m2G5Wb2YUvRDjSsUpayidR1rW6XtWdeXOpgy4QdzMnLDfHRxyyO2nXxJPoK5C0YJyW0nlA9VB6LRvTrQLVm938zwedMO/MWqQuWR1FaiHyxcrPiTOZ3e4kJ2Dugn9fDYU/C6S5Xw09cfwAuceaFoPgXPfzRweFiFueJe4PLT9HxQmWf6Vpzmz1X10vA9rR6RhZNSSeFDQjgsdl1vauryM+3qw5KPn+Jz20/DC9VVQlYbDvUlhKwFGhYUdn9ZiXv58WseWV6k4yxKIGHYtQij3jn0Jw6DJMuPqaP5vjE75FW8fr2Y669uXvayoxf8kaZk24ocy2JFdWVkMjLyQYYWL5u5NSiPo4UX2731y+bGT9s9stFZ7T5RkiBlv4wQUg+sCQ8qIdUjQscsvJToPRUPmjgtXccSWWGM99z3LGqvnx0GW0eI9zQYJq7a1mSzXdBrDZDPYLJ5Oct0jZUHISQRelIJIfUAPaiEEEJWHXpQyUaiHvpEpcQo+2eEkNWEApUQQgghZAWplz5Rkkhl/4wQsppwiC8hhBBCyAYkSYiW8q4SQshyQ4FKCCGEELJBoUglhNQbFKiEEEIIIaQIilRCyGpAgUoIIYQQsoHhnFNCSD1BgUoIIYQQssHhUF9CSL1AgUoIIYQQQihSCSF1AQUqIYQQQggpCUUqIWSloEAlhBBCCCEazkclhKw2FKiEEEIIIcSHQ30JIasJBSohhBBCCAlBkUoIWS0oUMniyGfQ09aGdNYeb1Cy6Ta09WSQt8crAst+A5NFui2t/quoSTtIiE/v2/M1I49MT4K9bNOErCkoUgkhywkFKolBOq1KeEW2nowjw1JpjE9PI9Ntj2NR8ay0eKsR+UxPRZ3l7sw0psfTSNnj8phOul+uiymfisqelEVE0ZIV0Sq28UraQTV5XM12tcS0K31eCSHVUWo+KkUqIWS5oEAlCTSib0yJL9Vp9Lb+uV60VdMLzM9i3u6uNWbmCnavtmTTvZjqGAvKdV8LZtaigl8PzMxhybVc7228FnlcAyzX80oI4aJJhJCVhwKVVEx3ZgjtuREYR6ozNFAhHozA26rOi+emdxSFwih6o95XTdhL613XQ2a9854Ylrh6Msg41+J0cpENJc+LJ7MHmUw6uGYjFRsGc0Bu0LnfDkE096pwNjsSt2t7OuPcV+RZy2NWqZmmFsffmupGtz0M2emHjdipz4fLPsk2ZVBMfDEkhA/nx6SXdM5PR5ehqdtQnes05P6wB7nk946QXcG9SfWcXP4xaUrZmEoOzkXu8+0XO1RcRe1Pzhe18Sry59ZPtN7SKj0bT3IcbjuoNI+liLQrHy9ucy2+nbqEbSn6qDUbV0fhtBPTiGkTUu9Fz2ulbZ8QUhGcj0oIWVEWVoi7z24p2ki9cnBhz7adC8O320OHg3u2LezUF+SePeq/ituHF3Z6+5qDCwfl4OCehW07hxdionHiMdyuAtyu4tnjn7t9YXjntoU9Eo+O3+4LcfEm2HD78M6FbX5AhR/WxB9cc/PspG05uMeJ20lf4vfyIXkK7CqOQyNhVV5kc/PvxqmRYx04aqfglH3IbsG75t6juF2dcZJzScpbOD+GonNJdRbJj4ST8255CQd1Q4kjpg6kjSTWp0kjSDMIn5RmXFzBoVOupdpfJJ8V5y8SzqRh60GuJTx/6mKk7s1+xXksIj6+wJ5IPUTtluNQ/DH1purF2GauxdVRKO3ENGLi1vmMnnfzpCjR9glZLdZqnyjObtkIIaSW0INKlkx+Ygro241g+lg3ukvOJctiMteO/nTgSUypAKlUGhn/XAotTXZX045OL87WZjQW5uB+z02yQYb+tfsBFd2daHfCBtda0dxYwFzCSKbuTCaIW9K3u1EaO7rsfFRj//xsxHfTnbHDe4fQNNoLz3OWF9eq9cRpr4+4hOZnfc9PKA8ueohpAaO9NlzbIHLqzGy+G53tOQx6njnHUxulVN6C/ASEziXVWfdu9GEU+407S9e3ZCHV1QFlrO9V605qKPkJTKkYdjuX5d5y9RlX/hWnqeommAMp7cHuakq3P49K05L6DpdjFzoapd7scWMHuqIFX4KK03U8k/bWEkj7MUPSvXIp107VE4e5glNWiu7OdhScB6u935uznUJXRyNyk2FDEtNIaBPFVN72CSG1gZ5UQkgtoUAlVSBCIzJEtca4HWjpl9YPZtiqtk2Gddqzi6cbGSVUh9oLmJow3fvGPmduqmyVLr7U2IcxN9z0OEQz6gWcpvcBA2J32gx9jGVpeYuvsxTS/e3IjWSQzYxg3vt4YBfDme6c1PeHhgEvF1WkGQxX7sXoYip5NfInVJhuKj3ut5PyCxK1Y0h/SBkIhh8rFt1OE2hsLu7YLjWNyts+IaQaOB+VELISUKCSismmB5FrHyrq2KZamlAY3V9FJ1C8UzmMRDrRInR65/r9TulQu71QAUk2iPcm5KHJTiLX2KwsqAYRcCNo9haNGutL9KCWJo9MxrVQ5qQ2oqMrZT1g1ZShRTxvvqcyDiUUx8fQ53rnQiwtbyXrzHpRB0ebQt5yjXiS1c2uZy1EqgVNheJ8Lak+y6Qp4nSk2RNGUmb2wmIok5au76mJwPMo3sFCE5b87adcuVZNNzJjHZjqNSKvfDs13stwFeViRai0/4mpQtEHr8Q0EtpEMuXaPiFkMXA+KiFkuaFAJQm4w0bNpjvvcW4X1Ske65vHoHOvHj6oh1/aoXqh8YTScfSGuNowPRlAdUwb7YIuso0o8VYxiTao880j/rm2QWCorDfGDj3Ui67IMEHpdDvlMTBl76uSvPqjPufY0taLuX7j7dQesCGE7A+XWRKmLFVAJ14lJkKLycgwzX06He0hDC0as7S8iZhIrjNTjmjvNN5TReChVJvUhbQna2s4uyKM+jDv5ktuWER9xqapcG0Xj6Meiuq3yQFUVBKRNl5x/qS+++eCYay9U+gYc4ZaV0mleVwUytZ9+tlSzwLKt9PuzBiaR4LrgxjCuP+BohHz/rXw8GGfxGchoU1En9ebKm37hJDFQpFKCFlOGmQiqt1fVuJeWhwqQshKk0U6DWSKVMFyIKu5DgD7rAgvQT6TxkSXkj9l7lurrPf8LR3x5E+ic3rxIp2QtcR66BOVEqPs3xFClgI9qIRsIPKZWXSuiDiVtAYwikoW+8liArvXsXhb7/lbIvonYWT6QCfFKSFrCIpQQshyQQ8qIYQQQsgKsp76REmeVPbxCCGLhR5UQgghhBCyKJKEaKkhwIQQUgoKVEIIIYQQUnMoUgkhi4EClRBCCCGELBoO5yWE1BIKVEIIIYQQsiQ41JcQUisoUAkhhBBCyJKhSCWE1AIKVEIIIYQQUhMoUgkhS4UClRBCCCGELDsUqYSQSqBAJdWTz6CnLY2sPVwdski39SCTt4eaPDI9begJn1w5smm0rXq51Bf5TA/a0rUuEVPPtY9XcNqVbudtWJZkypBNr066i8PUx0rZ65bNipWTfraj75uVYDnb+mJY2bpeCaQNrdrfjHUMF00ihCwFClRSAumsq86Rv1nxNTOHQmMzVv87aBNaUnZXk0J6fBr7uuzhStOdwfT0brQuua9jO6W23BM7T1ZAefeFOo2Ra/FxVJiOJtIxdeJfemdVtbOejEqhUkw9T2e67fEykUpjfHoa5ZLJpldDuKw3gndNXYoF/WyPIx163ywP4fa0Qm19RalRXeuPBsH7S7ZK3kXy0Ww9Cex6hkN9CSGLhQKVxKP/+E+iU3XQp71trBkj6i97fnZeacMW1XVaRfKzmE8QyanUalqWUunb3UUhQrAXc/1euY+hY6q3uEMlArF3Dv1e3Qy1IzdiRV702vQQmkb3m48LPhWmk0B+YgroG9Nhl9x3lrq0u2uPPORxIEskO4lc+5BuT+MroQLrlg3QnmpZ1419GNPvL/Oew2D5j0UzcwW7R1YCilRCyGKgQCUxZJEenFf6I4OQ9hCPklUjjc2temiU/nId8n7FeeWsh8z/4h10IvQQUHuv3mxcftxq87+yu17B3lEUdzPky7wXd3KaGh2XOxzXfNXXAs39Mm/tMV/dzT16uJ1ri3NPMBTPLYdwftNZ51pUEWb3YxR92O0XfApdHY2Yn3WNV/HMtGDftFM/rc1oLMzBdAW6wtekQxgV86XS0flP7uhJHnpHCyiM9sbe59bdgNKxPm65emWvxbSqy8IoetV5r67dOOKGN8p1/3RMfbmUiytclyOOWJb6DtpIuK3KeSPyRwsFjPZK2OK0PYrDlj4fYNpKYLZzLHarNDNe/iR9pyxCz417n9riiiFcP0G96rLOeGXk2WifBb0NwK3mUJ6cMomPRyHpDuaA3KAOY2xznx+1xRocJS6M81xrIse67k1eQ3ZH07NlqPMi9qZVefppOc9AQluMbYOReunJ3KTiLG5PobaeVC6V1rHHmqhrOa9sy1hbnfjjaUVzYwFzXzLphvIv6arwH1Z2meQjds3tt7ZG0kkoJ30+qQ2QiqFIJYQksrBC3H12S9FG6pSDexa27RxeuN0eRjm4Z9vCtm3bFvYc1EcLe7btXBjWN7v75j59z+3DCzvV/dtMAHW4c2Gn3CTp2HP6Hpumfz10Phx3KKyP3LNH/VeRlKbP7QvDO4P4/OuOHe49Js827kjYhdsPLhzUQb005LpXPnIYxGni8cI69lrkethOE29xXsP4Ze0iZeSUgUv16YTzVFyehmgcOr/6WIXfE7Sp0H3R9qbKa48fd6QsLUF+I2Vo68KnbFyRdqXbTUz96PNuXal0/PSd8HEkhC0qb6ccgvxFbXaOdbzBtaCs9VHEdieOaHkLMXXg2azjDd0ftUnSssfReOTY3lgcj4NzX3H8JqzX3oKycfeTw0Tb2k717Ppt10tX8huyW9WR3dW41yWMU+dB/E6ZC857IcibOdbpR+tFU9yeKsljUVxiY6mydq/VbV2ba27ZhYjNhym7cJlLPF6ZxqcXxONcL1FO+lpsG6icjdYnisuvbIQQEgc9qKRKzBC09iF3aKeZC5pND2K+b5+dpyX3NaJZPpDqOat9GCs1FlTu0TtZ7B9tQr+KRHsdeqfQsS8NZEaQa+/354DJMGPx4oZwh/2WTVM8hsDUhHz2dtLcP4qm/jRS+st5L6Y6JD9enj2vZAotTeLlsF/gU93oVnbJ0LEmKYj8BKZc72SqBU3au+nFU3oum44jQlFefYz3YaR5rHiorZ43N42x5hHHKxFQXTqVIWXQ3hkY0trcaPdSSGdUuXpHLU12L4ZUGhm/gKSs7W4s3ehsz2HQ82DYuvApF5duMx3oCgxTrbkYM6R5tzOiQKUTLe8EksJGywrdnWj3veCV0g4vCinrcP3NI3C8B/eFve0G/Tx1dPn1g1QXOhqD8KFrKuRcwYlPe67Mnh7+b73h2rMk7qr5Wd8jFY4niWj8UjTtKMyVKpnkMCn1oDfmJvWzmp2cV++TfjRNTWibspM5UweSX4jd9plWFeREVYzTZnRb1nmMb4t6SKn1GMqmRx/4eQnbXJpy5eJcc+rY9XLKa2Ct1XXoGYnipi9/K8bMuzWV7kd7bsTUg34fO894DIGt5h0hI0nKlZO6GNMGSBIc6ksIqQYKVLIIrPAU/PmDRpB2eH+xpVNQMMJVd2ScOau+kOvejb5523GTIcVKiKa0YJjHiDo32SnzikyHI9yZz2Niysbh4ovcEmk6SKdCOkJ5JX7ntYAweZgfUfZMdjpzpKQT5eRZ0Z0R2zoxqew0QymN+NSIHe4cXV84R+JxBbVDeDhvQl41MvTOzCMtNZcrSQxWnk6N0MMpbWdSOrMlcDvVZW61dbEPGJD700ZgOFQTF1k6jXZusr+NBx8mVgVfWGQxOS+iQgnJpilMyHHOE0d2MSL7TJcfThpPUluUD3qhMin1sa7GpNLjfrq1TnbV6zo0B9X98NeN3X3A6P5s8NHRXiGrB0UqIaRSKFBJMdqTM4qB0KSaPLJZORaR5ayeqz2VnsgqwHz4ziOz352ppPoRgSoLhJzfKRxDX6ONU3sbm/QCP6YzpToYtpfnCap8Zn9oHpRHVJTGp+kg+ZwfwYD1noo94hltkoWDbE8u6yWO6IrBQjcyQ97Xfkd8ivfC+ZouHSSl3K1dkbKzux7ae2C9O0I+MxCZK2rRYm8EzWORTqc+786HUnUxYr1EDhWnUyXixctNBhJRe48EsSuyqFMSIih75/ptp3MaJW51kLYk7cj1GlYQl25vIlbssf/BJYz+mFG00FRlJIWVOnDLKnausG6T0Y8JtUe8jHDag/uBqRjxouUQmC5t3+zpeBZZTgHGExkumlwZ736pMHa0xMAI5u1z2N3ZpI9z7Z0qpIt6pqeHFuHJdgm3RV3P3gJmS2Ix5VLM2q/ryjBe1EEMzi/uvVZdOZGlQpFKCHGhQCUxmE5ak14Ex3ieZHGMydkZ5CMd+EAUqk5Zv+qI6cUnBoBO9cfddrbD3stAyAULh8jCIDkM6mGoIvqAQT/dScjgvG79OdzYM4BOdLheXIuk43VsktIMozpfIhG199TQbRK3abdhclLZGfF0uh65tpFmM4xYl4vtvKTS2Ncx5Q89k+G32sMZjSciqDXdGQw1BcPWtLjSXgm7kIiUkQw/1otE2cVU7L26+GQhq6Em57zxsGoRq4ctW/FaSTqLIJXeF3jF1TYJqwi1F0uGP1q7RuZVDVrsBxFti0pXOoaNzpDIkXn/zmJcr6w/JNteU5SPS9qbU14Dc2iKS06V11jfvNMuvUVYpIPt1UNatRVjT6j4ksLKeRl+7Z0fBIZiPFBu248uUlMzpN30z0WGS0YWSfNRz/q+Psz7z4l6SDzhr9uf+/yqbRFtqTszhmYZyWDjGMRQ2RVfS4XRYkM96v4ID9XmmgrOqIzQYjhSEUl5L0FSW5R6dt4HsvkLWBURaU/2rMdiyqWIdVDXlSFlqf4MhYYam8XgzN+pMgsbVVVOpFL4+6iEkEpokImodn9Zifs6xhfVBkY6hDKM1nP/ybGIvdUeDkjIEsln0pjoyoSEMiFkpZEpEPJTafUpKjd6nyjJY8p+ISFEoAeVrA7iNXM8WxSnZH2QxQR2U5wSssrIon3FQ7hJvcD5qISQUtCDSgghhBCygrBPVFqMsn9IyMaGHlRCCCGEELKilBKh9KQSsrGhQCWEEEIIISsOPaWEkDgoUAkhhBBCyKqQJFLpRSVk40KBSgghhBBCVg2KVEKICwUqIYQQQgipSyhSCdl4UKASQgghhJBVhfNRCSEeFKiEEEIIIWTV4VBfQohAgUoIIYQQQuoCilRCCAUqqXPyyPS0IZ21h5Z8pgc9mbw9IoQQQsh6hyKVkI0BBSqJJ59BT1sb2uxWWgwaEdnWk1F79UQW6bqziRBCCCGl4HxUQjY2FKgkBiXseqfQMTaN6WnZxtAxNYAkjZpN92K0aQjT42mk7Lm6ID+LebtLCCGEkLUDh/oSsnGhQCXF5Fuxe3ocaV9tzmCu0ISWGPUpQ20H5/swlum2Z6JY72rUE5tNoy2dca71OAJYCWR7f1vbAKbs2URC3l4bj5zrHUWhMIpedd5LV+z1bAk8vmKjCpdRNoXOE0IIIWS1oEglZGNCgUqKSaWsJ9QTl5PonM6gSIIqETgwWgCsCIwVdtn9mOv3PLFDaBp1PLE5JT33mWtjfcDofploKmkOAkNemH40qSRKkd0/h359r9qGmjA6oOxIpTE+1A40KvGszo+L2laiuHeqQx/re/vn0OtPbi1gdK7TnK83TzAhhBBCQlCkErJ+oUAlJUghPS5irhOTIQ+nIbt/FOgbM6JObWMdU+iNitTuDALnaiuaG+2u0NiBLqsEUy1NwPysCive2nZ0JoWJoTvjiOfWZiTdnp+dD8S0bIM5m6ahPUiUEEIIIXVAqfmo612kTvQ3oKE9g1l7vDrMItNeKztqGdfiqEWZ1ke9rG8oUEkFdKOzvYCpCVd65jE734gOT2EqUl0daCzMKYkZJpu2grCtF+JwrT3OkGAZ1mvPxtHoCGp6SwkhhJD6Z1kXTZroR0NDPybsYZgJ9Dc0oD1DKULISkKBSoqR+aGROaGTubAYFe9qS1NYtOYnplBo7wwNBRZxOtLsicIx9JXxhhqPaQ6T/s/KiEfV7sYi4nQEzd6CTmN9iR5UEdAY3a9CEEIIIWQtwfmoq0UL0rkFLOTSaq8KtPBvR1jbLzIusuGgQCXFdGfMXM5ez/Mpc0LNoknaG2qH8XZnZHXfXntPm5nfGVksqbuzHYVR754KFjySYcX7+jA/6KU9CbTbS7EY765v64CTQncn2r0hvTLXVM9LBQZ1vHaL/sCqxnhk+TurhBBCSP1AkUrIBmFhhbj77JaijRBCCCFko8E+0eKJKztvWxSHdi0AuxYO2cMwhxZ2qa7y9uEZeyy3YwG7Di3MDG9X4dS+bNuHF4I7LDpeez3pngg6bu9+lYY+joYrF+/M8MJ257qKJkTIbrXF5c23w8YdtUOOJVw4rqAM/fDO5qUTjUsTsVm2qN06XCXlHiFky2LLNEJcHKF0ZItmgFQFPaiEEEIIIWRNsKzzUSvlwA603vZOcfKo7RB2Hd6LVzljWWcz7WjYASiJYu+ZwTD2orXEwjqy8M6OA7v8MDNbr1bH9qKlfLwT6G/dCwzP+Ne3Xh3Mr5Xw5nIQ/mU3vCo8DFflbQcOmeslhuIe3tvqlIGyY/sB7LB2dI2oc0qxAdv9tHLphJhkKLAy6vxD5j69qbAHdsTM/S1T7lFqU6blkXSu3uqVudpmhrFd2dofP7GZVAAFKiGEEEIIWTOs+lDfXUrAjXTZgy5corTY4Ruyvki8bu9hdcuIuuLRgvQ79U3IxqqeCXxKCaftw2/2w7Skc9Aaz2cx8cqcT+/+WWRvOKzS+CgCrSjXc86xoASdn7cSbB/GjH9fOTuSmEXmapVxVZ6hJLtGdN4P773OF9eakuUeZbnKtBgR5CEB3tKNl21XevpTVKiLhQKVEEIIIYSsKep2PupsHreqf8QD2NDgbFHXnYsNc34qyV+pqCjeLrx5eLv2bhYtUDSbhdKnpdMQdl3iiLUSnJ9SUs6hdStUyritKgf3DG5TNu26pDjFLlGfKsf5qgSvQ83KtBLsz+f4cbRC6V6yBChQCSGEEELIBiZBCFUichLY5Q5Z9beot7J6ysUrXkI5d2jXYextFbGU9BM6dYAt32TOxyKKvmqWVlciTpUgxTBm/LAy5NleJouCApUQQgghhKw5ajIftZTnb+Y2dWU7tlbjlG1JKVmlJG81rr9KwlQZr54HKnMhcQB6pOli7CrFrfnw0NollFXcUNgJPT53KxbtD1+GMo3FeqZ3vZM/nVNLKFAJIYQQQsiaJCpSqxatLWnIlMMDO6JDYjNol6Geu95ZpdfTG2YbWXxIFgNKXHjHzqd05lyaBX7sgaaCeGXfXZknJBrjwov3L/pbpRVyeC9a/bQm0B8tq4qG/BqbZPGj0IJCKh8muqWIvhqVaTliRPZEP4f4LhUKVEIIIYQQsmYRUepti0G8jTPDsENi7eatLFvJgkERZJhtUXxXb8VMiVVxu0bsSrj2flkVdkbEm0PZeGVxIewIrik1tutQePhvOHwrbniZu2hSFew6pFfFNfHswIHQokkKX/ibtJJWtNVDku2qvYHdt+rVfxdR9CFqUqZl6cKIikBW7fXCyyrI4cWYSLU0LMhg6RUgbtL6Yl8khBBCCCFrFfaJyFpGeyLlp2iWqiAJSYAeVEIIIYQQQgghdQEFKiGEEEIIIYSQuoAClVRPPoOetjSy9nB1yCLd1oNM3h5q8sj0tKEnfHLlyKbRturlUl/kMz1oS9e6REw91yrebLoNXlSy39aTUSmsBiZfxpba5nHJyDO/auVSPcvT7hJwy2bFymkV24d+z0XfvavHitY1IUSjVwjm8F6yjFCgkhKICFSdIH+z4mtmDoXG5sUv/V0zmmTxNIcU0uPT2Lda78zuDKand6N1yR032/m05Z4ouPWHguC+UB9NdyKDa/Giq8J0NK54ksMg7aX3DVU7q6pTb+p5OtNtj2tHd0bFO55WKSSTTS+ic151eVWWR+mcs2++PGjho+usHj86Ld8zUIS0XbeR6ffcONKlHpI1Rn3XNSGEbDwoUEk8WuBMonNadYK8bawZI6qjkp+dV9qwpWQnftnJz2I+QSSnUqtpWUqlb3cXhQjBXsz1e+U+ho6p3mIRIp3G3jn0e3Uz1I7ciCfyVBwj8+gb8+JQW5HoqjCdBPITU1AJ6LBL7iNLXdrd+icPaf7VUtPycpiZK9g9UlvyMFUmz0YGKyAD6xf5IGl31yesa0IIqTcoUEkMWaQHReBE/lin0hi3vevG5lYzHFK+Ooe8X3FeOesh8716gQcq+HJtNxuXH7fafM+e6zHsHY3pNLnDfpPT1Oi43K/lEtZ6t1zvo7XHeKrMPXo4mWuLc08w1Mwth3B+01nnWlQRZvdjFH3Y7Rd8Cl0djZifdY1X8cy0YJ/bmWptRmNhDnoNyPwEpgoFjPaaNGI9o6XS0flP9hJKHnpHCyiM9sbe59bdgOr4+bjl6pW9FtqqLguj6HVsdeOIG74n1/3TMfXlUi4uF8mbX15F8RpRP+qVbVFa4bbvpVW6vGyb0tsAwsUV77GWTc7L9cEckBuUc6Y8dRv07iuZVzddp42E6ii+Deg0nLjdY21zJrA11Nb9503OqbgzTlqxtibYKGWhyj5j6zWuzYTaXSQePynJa1rFY+0LTEio5wrKJkqoPtw6ctpO9FjnQxvj2h3/nBmbS5VnuE16p0N2RdIO6k/ZK3k2jSwIb8s/ZL8Xl1/H0bjC6RSzRuo6MR5CCCE1RX5mZiW4++yWoo3UKQf3LGzbObxwuz2McnDPtoVt27Yt7Dmojxb2bNu5MKxvdvfNffqe24cXdqr7t5kA6nDnwk65SdKx5/Q9Nk3/euh8OO5QWB+5Z4/6ryIpTZ/bF4Z3BvH51x073HtMnm3ckbALtx9cOKiDemnIda985DCI08TjhXXstcj1sJ0m3uK8hvHLWrj9dmu/ELHFUn064XiKy9MQjUPnVx+r8HuCNhW6L9reVHnt8eNOtt+ci5ShrQufquKS2718JcUbaYc+xXG7ZRxfXtEwEndwHNgVE/dBOYicD7VdhbrHCRLCtU24Xd17e0w97HSfJ3stWsfuscTrx6HDxzxj1u4gjrgyjZ5z8qrjDZdH1CZth7k5UnZybOOV/MbWpeDcJ1RYNu5+1KYgDjdvJp2dO722FqQb1L+gQoUatnvd5DGuPIMyN+h2E82LHNuwofqzFOWjojxG4zI2urcGrKG6LhlPdbBPRAghydCDSqrEDHFsH3KHKpq5oNn0IOb79tm5SXJfI5plDK6es9qHsVJjG/1hZFnsH21Cv4pEfyXvnULHvjSQGUGuvd+f9yTDjMWLG8Id9ls2TfEYAlMT8mncSXP/KJr600jpL+i9mOqQ/Hh59jyWKbQ0yRd36y1IdaNb2SXDLZukIMSD6XonUy1o0t5NL57S87d0HBGK8upjPCQjzWNBfaRSznDeeA+sUF06lSFl0N4ZlHlrc6PdSyGdCYYZp1qa7F4MqTQyfgFJWdvdWLrR2Z7DoOflsHXhU1VcLmXiLWIGc4V2OFlHd2c7CnOlftcwGqYVfnG5RNuTorvbOfBIdaED4om27VLdE3OXIovJXLtu7x4piU+eqY4uv450fI3ziGk6JfHjkHYfmSfulkfQTiTfBYSKSj/LHegKjIm043BZJ7c7KWPPyyyb8Zb5aYXSSEa/b6osm6hNqkGgXb8HpG0VzLtH6rapH/s65jEplabr2tgk7UfsNl7DlKrO0obGlWdKXnLiubeuPmk3eoqGHbGgy0Q8pPOzxnOoCOWzDMl5NARxmWfP1J/j5RSP5Vqr6wrjIYQQsngoUMkisMJT8OcPGkHa4f3l1sNMTec0OmdVOhhaHHXvRt+8GTrWJkOKlRBN6c7KPEbUuclOmRNkxFy4UyJzhmwcLs5cqcQ0HUQkSYc5r8TvfN9u1W00eZgfUfZMdur5guO6Ey8dHyfPCr2YznQnJpWdpgNpxKdG7HDn6PrCORKPfz5MWEwm5FUjHT0zj9TYGU9c3oXK06kR7jBV6RSXwB02WOZWWxf7gAG5P23EmUM1cbmUi7f+sAvn2HZZekjlRqIdQ3qedbCV+la2EngfL2RucpN6r4mQnFcKVc9V9sSRXoxoGvswoNvuooaTyrQMyXPnpI7DGyLbaOdD+1uZhcFqSzcyy5Zu/dU1IYSQ6qFAJcXor+CjGLCdGUMe2awci8hyvCLaU+mJLO9rdR6Z/aGJQY5nzhFyfod6DH2NNk7tbWzSi/+YjkVWpSv/BoIqn9kfmqvnERWl8Wk6SD7nRzBgvadij3hGm2ThINuryXqJF60YLKiO1pDnJXPEp8wHdTwS4pX1O51uPI6g9tAd16kJP2w+MxCZK2rRYm8EzWNlOmDqvpH54vAVp1Ml4s3IaVeQQcSxRuyNLOqUhAjK3rl+v4NZ4lYHaUvSjsJercXF5RIfbzHG4+pkHdnJXBmPtHi63DDGA1SEfiZGsd+JuzQiAIZCnqwwJt2R0POtkjFDCvw24X5kctHeb6d9LwvaGzwFPcBBU/oDSmK7s/USzWu1VFo2LtoDGm4QyHnvSnn35NS7Z6rJeAclv/Iu0vo0HGkqPY6xvvhREBUjYte+q4xXdX9NPriUzGOlrIO6JuuA2QzaGxrQIFt7BrP29Ooyi0x7PdmzNCb6109eyPJDgUpiMB3cJr2oi/E8yQIuk7MzZjiWvUsIRKHqyPebIWlyLzrVH3nbUQl78AIhFyx0IUOxchjULgIRfcCgn+4kJlVXqnt3nxmqps4NoFN1aMIeTUHS8QRBUpphVEddJKL2nhq6TeI27TZMTio7I57O0KIgI81mGLEuF9uJSaWxr2PKH0Inw2+1hzMaT0RQa1RHcqgpGH6nxZX2MtjFTqSMZPixXiQqWAhJNl18ocU91KaqYp/npdDX7JDVStJZBKn0vsArrrZJWEWoh8nJkFlr18i8qkGL/SCibVHpSgex0S7KItvIfNy4V4vrlfWHZNtriqrickmM1wzPNOUe9qp2Z8bQLN53G24QQyU928o6pPf1Yd5vb6qxxQpo9UyMufepTdePGQppnjlVrx92634Q0EPSzXBKf9EZjYjuyPMt3lbxtvXPBUM/ZXh9dKE0QUY+6KHE5r7wIjW1Qmzsx5zfvqUOnGHsERLbnULqRVao9q5VusBRiErLxkU9Y2PNI0G6UiW+x9C0o0JTp43DTDko2OG9qgH6C/HI1jvVgX0l21I87mJCpkmo1CQvoXes2ko87+4zFG5HipJ5rJR1UNdkjaOE4Kv24vCuQ7IuCxZyabTYK4SQ1aFBJqLa/WXlnnOK1AHOuDP++z7ZAIhYkmG0Xi9EjkXsVd25IYSURD1baWQ41JGQOoJ9onpiAv0NO3Dr8Axy6VWSphP9aNhxK4ZnclgtEypiCXaKB3XHrcOY4QcAUgH0oJLVQQ9xC76CU5wSshzkkZntpDglhBBCyJqBApWsEjKM2M5HlI3ilJBlIIV0muqUEEJiEY9gww4cULuH97bqOajtGWeWpDs31W79E/aaRc+tVCdnM+3BfTFzLUPX1ealo8Pv0BZgb2vMtWhcNbSpCF0eQbxumFJ2xqHv9+KJGuhRIr1YInkvinZZysbOBY5EVFQ3ZWwLlYdsxcabdNx79NYP/85qy2sNQ4FKCCGEEEI2Hl0jWFg4hF1qd/vwjJ6D6g/zFTHQuhfnH1owc1NlO7QLB3bECLMDO9B62zvtfSq+w3vxKuceEUMqKgzPeHHN4GU3vApyS9eIiVdZ4F9PHGpcQ5uiaMG2AzjkxatsHMZetFoRVI2dIsZ2HNjlxzWz9Wp1bC9ayqVXzAT6TSH692+9OiLelqlsylPaNimPq7d619Q2M4ztyoZAo4o4bcXe8+08aLXpolYt89DCCLrkjqrLa21DgUoIIYQQQoiPEgxXK0W16xBGRB14KEErwuHw3usCYSTIAkv+jV24RO65IWuFwyyyNxxWAvijzrzNFqRz1c7jrKVNUSZw3d7DKogRQwZl4zt1IGSrUkAT+JQyc/vwm/24WtI5K7g8apGelKEXfjnLZjG4tokZETHf0o2XbVc6+VOeVTO47bAy65LA+C4xCrfK+pqKWtbP2oAClRBCCCGEEJ9iweARFg4VMJuF0qc4P1WVGo2hhjZFmc2r0OJYdIaPyhZ1e1aCjatkfheVXhfePLzdDsVu197ngGUsm4ooZZsQHb7bCqU3HVqxNSRYlSQVlY/z5Zfmals/awQKVEIIIYQQQjysIEjGCoeVZAVs2uUOj/W35VtZuNr0xBMr9xza5c2DtcNo66C+Em3T4lQJUgxjxs/jDJSeLebADl98miHSrsd05etnNaFAJYQQQgghxKMlpSRN2KPloT1b27f6v2leFhvXrUt14dXSpii1slGoJK4lpqfnw8o8ThyALo7lLBu0ICWRV0iRbdaDvuudJX5eR98TzO01myNOa1k/awQKVEIIIYQQQnzMkE3xaIUWW53o14v9lBQbRXjDP82iSAbxqjlDQVu3KkFzGLeV/CncWtoUJc5GhSw85C7CU6Gdek6nM+/TLJpkDzQVpuci19yMz9ymLNmOrVp5LmfZSLYl7qt9W4vyU8q2GPE80R8Z4qvvCVZH9je/LBZRXmscClRCCCGEEEIc9JDNQ2YVWF8w7LhVe7lCC/FUgMQ1MwxHgLTihpc5iya1pCHr3XhphUSWQy1tilJso9qu3oqZnCPuKrSza0SGsB7ADhuPrGA7IwLSoaL0XGTBIwRDYGX+5a5DwfDW5S2bj6r8BAKyKD8lbevCiHhU3eG76u7wolFmDmp4CG94ld6qy2uN06AKYcHuLyv3nFPsXD/jzpKfYAghhBBC1h3sExFCPMzPEJ1fNOc06fxGgB5Usnxk02jrySBvD9cr+UwP2tJZe2TJZ9CzAfJOCCGEEEKWip2z6mN+Wga7Ltlw4lSgQCUx5JHpaUNbm7NVIrZElEWF2rIRsbGMfVpEtvUgU2eKMZuuP5sIIYQQQsjKYIbvbg8PT27YgVuHZ5zfa91YUKCSRNqHpjE9bbaxjin0lhOfM3Mo2N3lJpvuxVTHWMi+gSSll02jd7QJQ9PjSKfsubogj9l5u0sIIYQQQjYkeg6tP//UbLn1+PsxFUKBSioi1dIEzM/iw+mot9J4MtPXpNE2mANyg9qjGWjZOez3PZ2utzDiAfUDyHl1X0bFV3TNI4/W3dMYd9TmzFwBTS0x6lO8uoPz6BvLoNueipKVPEXTskN0M8411ww3zMCUPZlIOK89uhDkXC9GCwWM9qrzXplKuva+UHnJcOm0ssfGU1QkhBBCCCGErAMoUElFZCeV+GxqwWsyQ2gvTGHCF077Mdo0hMw7MhjraxS3q/ZoZjw1WJhH8z7r5ewDRveLsjLibK4/8NAOYdAKN0GJtrlOe02llxuJDINNIWW1qBm624bJTidNH5XOwKiKzYrAuCG+ShBONnue2DH0zQ8G4q8wijkVr7421I7ciBGRkuagstizvb+pjN9YlVGQ1yE0jQ4oO1JIj6u8oVGJZ3V+PK1ylUW6dwodcqzv7cdcb1qdteSUErZlWZxXQgghhBBC1j4UqCSR3KDnyWszgkyrom7s9oWmEa7tnSXUUmMHuqyY9LywecxgrtAON1h3ZzsKc8EKhkGcrWhuLMC5FCKVHteCrXPS80w6iHhGH8a02FPbWAemeiMiNZVGxvfEpiAmBjg2tjajsTCnLDfeWjfPrc1KmJeiO+MISsmP3Y2Sn8W8L6ZlG0ROnZn17HXKkhBCCCGEkPUIBSpJxJ2DasSpIZXuN17NbAYj833YHVxaNbTAnZoww2Qt+dl5pem6lOy0pLrQESN2PS+sFuI5e7LGBEOCZVivPRlHoyOo9VZv82YJIYQQQghZPihQySKwXtTBUTT1y9DUaulGZ3sOk848SvHENjYX/y5cPFmkldhzPaY6vCtGFeKxDYnW/ASmIp5bEae9c/2+IBxqtxdKIB7TnGO8eFRLIeJ0xB1GnORBFQGNUVjnNCGEEEIIIRsOClSyKFJdHWh0h8Aq9Dm7SFLRcNsI3ZkxNI94XkUzhNhd9Kg03cjouZy9ReGNN9TO2+zOmNWH7T1ten5neLEk12bZRubLDNdVpNL79FxVL8ykKodSaO+ub+sAgjWVRKh7Q3rFZjMvFc7Qaj8vEbRHtpKf/iGEEEIIIWQN0bAg6xivAPecU+wdO+POhImFpO4RITiAfVWISkIIIYQI7BMRQkgy9KCS6slnMDAKdHDFHkIIIYQQQkgNoQeVEEIIIWQFYZ+IEEKSoQeVEEIIIYQQQkhdQIFKCCGEEEIIIaQuoEAlhBBCCCGEEFIXUKASQgghhBBCCKkLKFAJIYQQQgghhNQFFKiEEEIIIYQQQuoCClRCCCGEEEIIIXUBBSohhBBCCCGEkLqAApUQQgghhBBCSF1AgUoIIYQQQgghpC6gQCWEEEIIIYQQUhdQoBJCCCGEEEIIqQsoUAkhhBBCCCGE1AUUqIQQQgghhBBC6gIKVEIIIYQQQgghdQEFKiGEEEIIIYSQuoACdS2S34+XXHABOt4yifvsqYrIptHW1oaeTN6eWBvkMz3K7jSy9njdY+spLRnW+z3QVeaeJ4QQQgghZB1CgboW+fk9uBfHceyoPV4z5JHpaUNblQprZq4ANDaj1R5vDNrR2a1KbHZe7RcwN2POeucJIYQQQghZj1CgrkW2vwtTX5vG59/XidPsqbXBDIzWrEZq5qE1WlMLUubEuseIUkMqPY7p6WlkfLFKCCGEEELI+oUCdS2Sz6CnzfNEZpFW+xdc9ka85dKLcIHav3Dnlbj5HnPrPV/9W/RedAHa2i5EZ+Zb5qTlyG1j2GPDtF3YiSsO/A9+e4+K73nq+IJe/POd6qZ7PoHXXKDif0kGtx0x4Yqp0DOan4XRmiI1jd3prPlXhq664bNpe65tAFPq2Be1dpir3noyKmUbXu8H16PDmIP4nGu6HHuQySQMnXXTssNs9XBjlVZGxyfDjm0+MqZOvLjd9LRtts4Cu6zdMWXmeozd4c3F5214rz3obQMNhSaEEEIIIesOCtR1wvGZ/8XRrjch/Ufn4tiPDmFw3xeB+/4Nb93zr8g3tODSv3wLXvUMx996XxYD/e/DVxueh/Q73oF3/PE5+N8De3DVrZ3Yd1UnHno8jw/89QF8bGg/voVz8apr09i6xYYtwnhGMT9rRGISM3OQ2zRWrOYGJ9E5PY2xvkZ1MKnFlYivwVw7htT56el+NKlAWtSKYBzMoX1Izg+hvTCK/dluZMb60Cj7IhLt9fF04G8VsejHN9SOwuiAmdOp7SlgdK7T91J6aAE4OI++MRNGWQAxQYtEldZcp9iQQbeXD6Wi96k4xtPQYn1wvg9j6tgEbUEq1YUOlcWCHaubz4wg16jucRN1sR7jouHN6rxKAL2jMLbtnkWPOVD2jKGvMYcRXwQTQgghhBCytqBAXS885oV43a5Lcdkrn4vHqMMHfvMr4EtfwtePAyc/+3V4x2Xq2rObzL3ClyaRe0AJ2x/8B/7+mmtwzdi38AB+jVu/MY8tzxnCVZ0PxfFvHcBw7ndIvS6D3YHei0GJRBF/Sp2Vus0MUW2EdoZasdo+pESeXPTJYv9oAY19u815KwCF7GROAiAD8WwOaoG3W25KpdGvhGBu1Ai1kObLZzCig9l0WpuVBWZOp2dPn47EQYUZUDa0D41DdG4wtNYON/bSFbx89Ju85zMDGC0oMazLwt6vSaFLFKoW4SaPOkyR99MN4w5vtvu5QSVOHdsmplBQ9uzrmlDx9Oq0+x1xTgghhBBCyFqCAnUDcNKpp9o9hy2bdOU/7A+vwWc+8xl/+9CfiYj9FX71G32X4jgKShklju6tGuOJNAQL/vieQi1IG9HRZW7SAkyLWiPQGudH0DZpPJ6BIM5CtKvgeSjDWFEsaEHpHDd2wCYVoO/xbMtjYirsxWzs6LLpekTy0d5pxfUETFATMtXVoVKex2TaeE89cT0uedGbiGh3nm7Mft8QtLN5xAxp1ulhCgMDxoNr4iCEEEIIIWRtQoG6nnnqk9Gs/vnlTSP42Ne+ho9N/q85Lzz/ErzgoUqKTo1g/81fxVdv/hdc+Ya/x38f2YJ7Pv0uXJv7NRp7/wa7Uifg15NXYvCLpSRqZXNQ3eGq4QV/XE+hYFettZ5MI2pTaFHauYAOOyxW5nAaj2OmZxC59iEzFDc3YobvhihgakJOqnvFnWpFqRF3xRjb5jGrghiPqDrUttmhzA6x+dBDnVVaA6MqZQlq5WyqReWkgJwyoW9fgrc5NE/XwT/fjbS4i/XwZnEIy7jhJvRbj22mx/4kDSGEEEIIIWsQCtT1zDmX46//4ik4/f6vYzj9Tnzh9CfjXK/GtzwHQx99Fy4+925M/f01uCbzGfzwEWfh4T//JN6177/wwJmXYvANndj1169SYX6NySvfiZt/a8MWUckc1LAIdcWqF157Cu1czdygErwDQL+4Cy3dGTPvtFcPhx0Ehp6KG2VYK+xczu5OtCsBODpgF0wSxEOp5532qjD2Xnf4rS+KA1LpfhNPbxsG0K89ltq2GPEYzkfKF4+9xng0ut5adKNT5qS29+vhubG4Hl43Pfd8927jRR1MYya9T887HdRl0oupjn50STyEEEIIIYSsQRoWFHZ/WbnnHL+X7nPGnXHDMQlZp8h8094pdIyZ+aOEEEI2JuwTEUJIMvSgErIiZJHuHUWhlPeUEEIIIYSQDQ49qIQQQgghKwj7RIQQkgw9qIQQQgghhBBC6gIKVEIIIYQQQgghdQEFKiGEEEIIIYSQuoAClRBCCCGEEEJIXUCBSgghhBBCCCGkLqBAJYQQQgghhBBSF1CgEkIIIYQQQgipCyhQCSGEEEIIIYTUBRSohBBCCCGEEELqAgpUQgghhBBCCCF1AQUqqSFZpNt6kMnbQ7LMSHmn1X8TyKbRxvoIl0M+g56eDEyRlCk/zUq16Ups2ZjkMz1oSy+xZFbiWVhUGnlketqwuOyZsEsuG0U2reLxn4s1gjzLbYstO0IIIfUMBSqJRTosPaulbKTjUQ+9DtsBalsrnaBouXVnMD09jnTKHi8B3YGVsljlTqwWK0VCTsRdcR1pm+VkDcshkVq3lRLPgJRB1Wlo8WTrsJZ2VoPYsFrtJ9IGlqU9r0Q7C5FCenwa05lue7x4ujMqnvG0irE05vmTsluNjynqOXfrK5XG+PQ0apD92lEvf7sIIWSNQ4FK6o+ZORTs7mqSn5gC+sZUp7POOkFJLFu5ZTGZa8eQKodKOrHLSSrdj3bkMOn2AbOT6gyQC59UNjeib/fKVFzN20qJupyZW2QtN/ZhTOpQtrE+zA9uVO96/bTntUUepplLG8pgxV+J+VnM2926pU7+dhFCyFqHApWURbwN6UzgIQp5HRzPUVvPSKgDEXxt98IYT1cwJC1miJp4WQaV3MgN6nDepVBcMV/v9XUnHvc4FNa/x9piN9cEQcL0jhZQGO1V172OfDiM72GWMlD5y1ivTMjznHAtZJNTnsW2RocAJgwJjCs3m7YxXV1PKzukvHX8jjgp6V2TPA8qAZjDoFyTC5G4/LT88EHc0baTzto618duPZauj4Bu7O5rDInR7GQO7UNDaM9NBvGJaG3sQJeoD7ccKsHNS9k2bc4VtZVQmXr5XEJdWqQ8zaXieP30kgsvINWFjsYC5mbscaK9Kj8Z55oTt++FjIRLatshIs+FbNF8eucHlCgKKG4nJr1oe3aOBb8NxLRnjzI2hfIVarsWt51FnpGwPW4eBhDKntv2bJhS+dPPlzZkcXXlIWl47yYdZ9H7XuLvxWihgNFe75y+O1Qf/rsvkn9tSrRM1Em3TH1zY8pAn+sdRaEwil513qQjabv5qMyWcF1Y9D1Znfeie+LsUYTLSdkhcSQ8t4QQQqpkYYW4++yWoo3ULwf3bFvYOXy7v79t5/CCObp9YXjntoU9B/WVhT3bdi7Y29Sl4YWd3vHBPU4YhRzrQEH424d3+mm4yHlzryF6XBS3IjGM2BSy46Cy2s2DIMdOPixh+yJ5dePQ+Xbjc4i7llQ2FdvqHYtNe9R/DUXl5MYnaTj2B/cWx1FcJ+F7onEJB/dErtt0Q21Hl0XYBpNWZfXho+Ox6Tn7kpYXh9t+9T2uDX4ZR/KlidSza3NSvSnC5abs3xPcF5T1EurSp1QchlDePeJs99MrbW9gh1M2Tt7NfeXLKHRNl6tjt3MtmnfdhvRxXN6j6cbVqaJsvSuqsCmUFw83DbkeaevxeRBbvGOnfDWOnQn5C9r8IurKQezz2owubz9vrr3RsFF7nXsj+deEzpl7457RpHdJaF/jlkXlthTVpaDv8fJpj8vYEy4nQ2zcCbBPRAghydCDSiqisaPLDoVLoaUJmJ/NQw+58rxU+lIL1CVNfnYesF+79Zdn+bI8P4u8Cp/eJ8ML29A71YF9FUzYkiGN7Z3OgLLuTrQX5uA5f0oiniKIHfZLe3c3ulVIGSVpvFCyGc+A702KI5pXlY+ujkZTDpp2uCaGCV9LLJtYW2uIY3/KVKL1giyCUFnIHDZnyF9rMxrtruC3Hd0+mtDihCvoQq+yPrT3zwzzNUNrd+u0uzvbrWfVDO/tcA2slEW16SiqjWeCoaO6rJcNKbtw+5JyMOUawbV9pBlj/jDN0vYGz14rml2vawyVl5Hg2C1txj7T0ee9tdlrTSXaSXcGQ02S7iAwtJThp5XZVNE7KPZ5i9aXlKnd1UNYrYdS5088vfPQr5gK81dNXZUi9n0fpdw7MfKO0PjnTLxN4ZeBLs9S75JEqrAl8d3X2Ad/RoBTvxW92wghhNQUClSybDTaOXn+Fp3vVa6DVxPsQiLTnZiUTp8/NM3OQXO2lZxnGl82SbYuJ93IjDVjRHeI29A714/xRa3y4gyvk6F49mzlVFMfpvOZm8zoOXG+EJVOZW4EmYwzvLfGlG3THu6wQBFp9YA3B3Wo3Z5wqNZeJZjGmkfM/UoozvUHiwNVXEaLonw7iRVTawV3nrDeihddqjp/JeqqPlnqu6TW1Js9hBCy/qFAJYtHvEuFKUx4/SXtATCkujqA0f3GExhC/bHvnULH2DTG+uYxWMFEncAzZtHzC5vRag+F8h5BJcSmh+xX8W50tucwUjQRqQTau+nkVaU0MVUIewAqJLlsPFxbS3gwakIemYE59Hsd4kWpdOnAjaBZL56itrG+yrwePtXXh5RhY24Uo6pWAiEq8RQwOppbvGdjUW06gp4v55SpLwiXoy5N2YUfD5X/ZvfpiCCCpWMKvd4HkER7S6DCDMz1m/vV5jWbisuoBOIxdZ/3YFGo5HYicxkHMaRsGULT6EDxHMMlUsk7qDLEs+nWl/EKa+wIiv0xhbek/CXU1ZKp4TsxYJHvklrb4tfvUt9t1XHPOdW3KEIIWY9QoJIloITUUFMwJE0JnSbvr7f8BMAQzEIk3pa+Rv2xH8R83z79BT+V3oe++UG9OIWLER9moQm90EXIA6A2GeUW9cp070afHh5r7vEXVpGFK7xwzvC47swYOqZkURvvWszCGSHEu9mPOX/4XS+mOsYW19mLLRtVBkm27u5TnX7P1siiKg5F5VYR4o2cD9tStefWCkO/HSRZmExSfehFS+Ls0cN8USRERUios4sb3quptk3HqAltm12ER7aReb9Tu/S6tN5jPczVlJGUXfOITUttImTKecFT6XE7ZDSNbAl7E5Ew8ux6YdSm7ay0jErgvxds+EkEgjmunfz1X8siVU3qcdFPi62/cs9zlVTyDqoI9R6xUxxMXJPiFLbIO0YXXpCOqp8PK3G6pPwl1dWSqeE70afEu0QPu7Xv+KI2VQNbQkPTvfqt7t22uHcwIYSQKA0yEdXuLytxXwbPuHP5B3gSQkqgRHHP7G5H0MhqnQPAvnofBkhWk2y6B7O7nTYiXljdbGo5nJfUAtZVBcjHQZmXvYJlUspbyr4RIWSjQ4FKyIbG+/kIe6hoH1rZ+bhkDaKHBbvz8WRuaPLiPWQVYV2Vp84EqsD+ESFkI0OBSgghhBCygpQTqAL7SISQjQrnoBJCCCGE1BmViFhCCFmPUKASQgghhBBCCKkLKFAJIYQQQuoQelEJIRsRClRCCCGEkFUmac4pRSohZKNBgUoIIYQQUsdQpBJCNhIUqIQQQgghdQBX7iWEEApUQgghhJC6gUN9CSEbHQpUQgghhJA6giKVELKRoUAltSGfQU9bG9JZe7xK5DM9aFttI2LJIt3Wg0zeHtaCbBptVceZR6Zn9eupLCXytpg6rt92QQgh1UGRSghZ71CgkioRodWmxEMbelz1kEpjfHoamW57XGNEYNROX6g89GSUVFvjdGcwPT2OdMoeryfWc94IIaQCSs1HpUglhKxnKFBJdWQnkWsfUuJhGuMrqB5m5gp2rwbkZzFvdwkhhJB6hYsmEUI2IhSoJB49xNJ4Sv2hlnJuMAfkBvX5sEdTPKtp9V+FDPftySCT9sI790oc6iDrX/OGcUaHwAbHcq9JVu63aTgEcbVhYMqeFOyw41A6cq53FIXCKHrVec8L7MYROxQ0Li6FhEtnnGuuZ9YN0zMSI4pluK2KK+OUtZO2HpbqnY/Jt47fS8/ux5a5Lkvv/ADcIorLl0k3yKPKZPhYofOddeL18x3Jk3c+qT1F8iXx6jpx82bPe+FDdRzKW7hNJochhJC1A+ejEkI2GhSopBgRDiPNGJue1p7S6bEOTPUqISHDLofaAetBLTmcVwnAuU4bXoXJjTjCTQncSf9aE0YHnGsxdGfG0NcoyUqYDNxkRUwNwtgjW39T4GnN7p9Dvz3vpyNDkSUPjX06f9oLrMTQZPOYjUOlNT8YEd8JcdlrOSV+9nlhMYr9OqwSTr1T6BizYfZ16HuLKWB0rtOmPYT23IgvEnvn+u15tQ0Bg45giyW2zEUwDgK67GTrR1BEERvVtTlVzzPpcSeP6h4dvHi4bW5wEp3WvqGmUQz4CtbJ03gaqcT2tFvVaw6TXlmrehiZ78O+SELJdRzN2xiaRwKRndQuCCFkrUGRSgjZSFCgkiLys/No7OiCLxNSXehonMdsSXUUpR2dnpJsbUZjYQ7+n1clDnd717o70e5eqxIZ+tvuJyRJKSVr6c44YlZssLtFKNGa8UVRCi1NdtehVFxBWZmw81JQMoy4sQNdfrQtiIlWE9jfiubGAuZUYUTzVVk5xZX5DOYKznmdht3VQ52VmOz1PI2DyKkzup67M1p09qpzGAp/FPBo7Nvtn+/ubEdBDLe4tie3pxTS/UpIW4Wan1BK373PklzHkjfPsy5bL0YL8eXntgtCCFlPUKQSQtYbFKhkHeMM/5RhvfZsHGZYq7lXhhMXU3lcawrrSfY8jXELE2nBvVyI8NZe4yz2jzahP5p4WdoxFLJ/+RbqIoSQ1YTzUQkhGwUKVFJEqqsDmJoIhpPmJzBVaEJLtdqhEmTRpcZmtDrew2oQz5jngROCxZREUI6g2Ru+OtaX6EGNDqeVEcBhKo/LRzymhSlMeIVY5cJM4pF08xWUU7VIuTrDaK3XUSOeTH9IcphgiOwQmkYHQvNP48hO5tDYHG9d6fbUjd196vLACHLtnbGe2uQ67kZnew4jMcYlhyGEkLULh/oSQjYCFKikGJmn2T+nFxEyHkOZpxg/zHNR2AWKdNwyglTmKar/6eGe/nDNEcz7KjCFrg4lOPS18GI9qfQ+PWfUhGnDJDx1KeLFGb7qrpKjh8taG9JZLaAa7cJPso0ECVtKxJVINzIyj9MPM4emakaZdmcw1jzi2xSUU7Woct3Xh3m/XCfF6WhR18Zlcqt3TbY0PiyCfbQJQ9oV6eUjXO5CYbTXDydiNnFV5zLtSQvYQmRIs0NyHUsxjaFjKrDDax/JYYwnPPQTSYQQsoagSCWErHcaFhR2f1mJe3FyuMoGxFswZ1Fii9QLskLuSPPYiv7UECGErBeW2icqJUbZtyKErHXoQSWEEEIIWUOUEqH0pBJC1jr0oBJCCCGErCC16hMliVH2rwghaxl6UAkhhBBC1iBJQpReVELIWoYClRBCCCFkjUKRSghZb1CgEkIIIYSsQyhSCSFrEQpUQgghhJA1DOecEkLWExSohBBCCCFrHA71JYSsFyhQCSGEEELWARSphJD1AAUqIYQQQsg6hyKVELJWoEAlhBBCCFkncD4qIWStQ4FKCCGEELKO4FBfQshahgKVEEIIIWSdQZFKCFmrUKASQgghhGwgKFIJIfUMBSohhBBCyDqk1HxUilRCSL1CgUoIIYQQsk7hokmEkLUGBSohhBBCyDqG81EJIWsJClRCCCGEkHUORSohZK1AgbpRyKbR1taGnkzentgg5DPoUflOZ+3xesfmV9dzKO95ZHra0NaTUXuEEEJIAEUqIaSeoEAla4Z8pkeJ7DSq0pozcyigEc0b6m9vIzq6UjbvwPxsIEkbO7qgrhBCCNmAcD4qIWQtQIFK1gwzc0puNTajGq2Zn51X/21Cy0ZRZVaUarozmJ6exnhaMj8DKT5CCCEbGw71JYTUOxSoa5Lf4n8OXIGuiy7Qw3Yv7LwCma/eo87fg69mrkDnhW3q/AW4qMs7HyEy3Deblvt7oA/1tQtw2V/sMfFc+DLsv+kT2NN5oU1rD/7thzoU0ur4gsveiLdcehEukGs7r8TNOrl7cPOVl+KiCyTeC9F5RQZxZnjo9MsOPc3DaM0W7QHUYdJZa7tsjmfV5k+2gSl17ItaO8zVXktnvWMb1g6JlXhDeOf15qVj8p/OOENqQ4TTMnEWhzH5yISH34bSEztNuMCu5OG6IUGuy8HWa34Wpvj0BROfvRaU4QYcAk4IIRsQilRCSD1DgboGuS/7V9h94Bu4+/c68ZfveAcuv/ixeNRpD1O65tV4/eg30HDBLrzjHa/FtuPfwOie1+Of77QBK+Y4Zn58Gl71lteh/bQ5fORt78MPL3g93tH7NGy+5zDe+75Je5+6c+Z/cbTrTUj/0bk49qNDGNz3RWDyarz10J14yAWvVXZcjosf24gzzrABirDCszCH0gOPXA+gDZMbxGTnNKbH+tCIHCZFv4m4G8yhfUidn55Gf5MKpEWtiLpejKIPY+r8WJ8KMTKBrvEhtKuwI0o0pntHgb4xTGe6dSoaic87Pz2GvsYcBkUoWsGXUwJ4n++l9BABqNJqGrJhRCOrP/pFYWDzoU9gWp1IiahU6TWJ/TpfMjy5G53t6r75WSNIs/sxWmjHkNwvx1GsIC/2HktcYtsgcu1i2zha9rdhMKfiUvZMD7WjMLrfCnBCCCEbEYpUQshqQ4G6Bvnq1FfwAE7GC/ZejcsuvRS73noVerfOY2JKFNzTcPm7d+HSS3dh9w6ljI7ncXB8zgSsgsc895Uq7tei84n6CM995WW49EVPxSPU0fFjR+Sk4TEvxOt2XYrLXvlcdRfwwG9+BZz3eJytWtYvb8ki+40H8LRX7iwx7zGF9LiIyQwcWViMFXda6HliVYksV0sK2f2jKDT2Ybc+b4Ws3p3AVKERffu6MNHTht7RAtr7ReB1Y7dSkIXRUS3awkIziG+fPp9CS5P6R4SiHUpr4giTTSsBqMKMaeMcYV0UxstHP0yySjwqcd2oxLAJGgzX7RaFWpjCRF4J7RG5Z7ey3POEBt5QPQzaEhoSreMqYLTXtS2LyZwUYwYqIrTptCVeQggh651S81EpUgkhqwkF6rrjAdx/v91dLVK7MXbjP2Lvix+Nn9w0inf96Yvxt9+y15aIGaJqaO+0UkqLL/EOGkHqLwSkRakVtVbsTQ0MGG/l9LQVt3kr7BWehzKKHVbsC17/uB2eCQERG7KTUBrQsbs4jJ8PLcLtAkeKrKhHzwPa3alCFjC333hP+7Wi7UZGPJ96G1ci17UvbKvxprZjaEiE7ij2a2+zSW9+pM14orVX17OTEELIeoeLJhFC6hEK1DXIszouxMlKiH52+J24/sYb8Q97Xoq3ZB+Jrheeqyo0j//vPQdw443/gH03KuF1Qgov6mm2IS0PO1WFB37xP4fx7W9P4EuiXWrJPTdj+D0Hcf8TutG97eHqxP24915zKY6K5qD6IlTtW2+qR3Qoa2FO/uDmkRkY1aJUi8PWZhW6gKZ+EXLqaqbHzgG1w35lOK0n3KLkJs2wVz201ghKk2YcxitqbDAeUSVXtd1FYSL58LycJmgaJqg3f7YVzY3KlJwMX07yNpu0jZc5jO9N7d6thxznRlR5p1pUqanzHdZjK8OLo/NvCSGErGs4H5UQUm9QoK5BTuv+W+zf9XQ8/Ef/gb+/5j24YeYRaHnsFjTt/hD+oe/pWPjaAVxzzcdw28lPR98//F/82Tk2oMdzBvDWi8/A0W/9X7zmzw/g/rNF2NaO++bvQOGum/Gha67Bh245gvN2DGHgOfZiEdbTV2YOakiEumJVH1rxhRS6OkR9DaKtbQDolzmcllQa+2Te6aAZEts79Qw0/UevmX8pczlTXTBBncWWFN0ZO+9UhtHaua0i5pJXFDZDho0Nk+gUj6W1uyhMJB/wxKPYONkJE9Tz1tq8+cOXY7CC13hrXbHqelNTSPcbL+pAphUZPe+01wwTHgSGdreW/lBACCFk3UGRSgipJxoWFHZ/WYl7yXFoCSGVYhY3ghXIhBBC1i712CcqJUbZXyOErCT0oBJS98gKxGZxo0TvKSGEELIEKEIJIfUCPaiEEEIIIStIPfeJkjyp7LMRQlYKelAJIYQQQogmSYiWGgJMCCG1hAKVEEIIIYSUhSKVELISUKASQgghhBCfUsN5KVIJIcsNBSohhBBCCAnBOaeEkNWCApUQQgghhBTB+aiEkNWAApUQQgghhMRCkUoIWWkoUAkhhBBCSNVQpBJClgMKVEIIIYQQkgjnoxJCVhIKVEIIIYQQUhIO9SWErBQUqIQQQgghpCwUqYSQlYAClRBCCCGELAmKVEJIraBAJbUln0FPTwZ5e7gSZNNtSGftQQJyT0+mOqvymZ6qw5ByZJFuS6v/xiP11LbC7acuyabR1tYD3fzcZ6qi50vK2IZdVkrX5cYlj0xP+XdSRah2sBHeQYnvcPc5IHVDqfmoFKmEkFpAgUqS0Z0DJRj8jR2FJETM1qRDukTEDlNXa0M4RMutOzON6fE0UvZ4KWixK2WxyoLX1Em0PkTcFXfKtc1ysjuD6elxpGtREEmI2LXPdi3abqlnIJuu/t0RtGVvW4X3j7wDV639qDYyCPT7jcAIX688KhOuNkwlFRx6369sWXfv7sP8SEw5R56DenmmCRdNIoQsLxSoJBbdERhpxti0Egz+1o+5/TXoya5DZuYKdm81yWNiCugbk7rKoNuerWeWr9yymMy1Y0jabY0E72JJpfvRjhwm3UcnO6nOALnwSWVzI/p2r0zN5U1j0c92pgZJJtdlHrPzdrda2oeC989QE0Z7N5DHVtpIe6d9jkVo9mKu35bF9Bg6pnpLf1jQHyB6MYVGe6IEcq8Sw/p5kW2sA1MDKygCU11QKWKiZIL180wTA+ejEkKWCwpUUozqrIxIR6CoE9CNjNeTreBru/aAOD0o91gP6cq4HhzXO+B1QuWcijvjpFXOE+B4hYrtmtBeq3AaipJhLG5+I1/vJS+DSm3kBt14w96OYrvN9eB0+DjkPfJvMl4373w4Sgnfi9FCQXXi1XXPxqR6kvPpjG9jKC4pDxU+Y70VnqfG917I5gcI59Ocjg4xjR4b4spN8u2m57aRULmH8mW2IA+S3qASgDkMyjW5EJffUBxBe6isbSoqaTeabuzuawyJ0exkTmmvIbTnJoP4RJA0dqBLHjpbB4lRRnFt6RmBqwfj6k3KuXe0gMJob2B7bHksvi4NCe1Sx+OlVaE3sLtTCf15zNpb4/LllZvXdmUL2kW4rerN2hN63pLKPdKGwnXu5mdASS2HmHZi0nPC67IPl2teqfr2Tvu+zU9gqtAO71ApOqT725GL8zpqVF4H5tCvxNy+DnuqJF3YF/2oVZhDbX1kUv4qj7Hv8xS6lJ3/f3v3Ax9ZXd/7/5MVFLxWSxWEUWgTk/mVxd77s+SnsFFR4i+aHYngH26NRq+3uFG3ZRYbudY/m5staotp2al36Z0trT8MxluoVVOy0VxDlTYL7S/UX68IMomJBRz+S/XnT3CBze/7+Z7vOfM9M2cmk787yb6ePo45/8/3nJks887ne87Mlx8w+j1I+J2O1NqvEXtfx68xVo+QCmA9EFBRQSsrxVSLVP3Pi/4H36+u6l/bV1DZmDaf4obt9n2yMDigE3Z/o30Lko8+RZgPtvNdrmqgH+jzNT9gjB8IPpTZ9bXi4lUBiiPz0uWWDXVMu2OYDz69U9Jpq4469Mt8xbmYdfzqwnCrzHptyORGxeQPEzh0uX7ICz6Ul6od5ngyWP+9ZOZD2cBUZ+n6dmkLdJ+2EW6fo9KS9z9smQ+sY9qOVFBB1T8uLPU6BS+AXVZRQSuOyHxXsGwsm7YfqAfNWQTHNq9RS96eTyFnPox3BlU4HbrKrlwtldetUvQeMefbJyMSFPDjr8eo2Umqb9Q7h4zk9L1i/mfXCRfEztdcz8nStdH33KD3oXbp92Y975uStPn0nQrDqHl99Q9AXZmMdJn3YZhbNbSmOrtXUBkqa4uXSKq9bunsWHTdgi6Uta/HUqq/lvq+1NfCe19qe9vz0hJduzqqgUYhl48F+MmW8H1njr0wWNree+/ODJVCXPy96t4f7vek1/9965+X3mqN8d5D5q0hI/YNWf672S/NUTE5+X0ya65/6d+n8P0c79Idq0jPzlf+m9zWUqM2qtd9Gb0o0unY+87+NyCq3q6l2v+eL4R/fahQ5Xc6UmW/a/TfKqwMIRXAShFQsWz6l/3YB2ntnpUqVTbqFe0j3SrN5n+t3iekoven9KiKYD6etaSKlX9l92Ry3oeysg9wqb7d0bJMV4cUpyakUJiTBf1wo9Ud+xd2/St9+bkEQWIw/Ot7OiMZ/9NchVmZj1U73PFqNdxnu7uNSG9YiTJBJmP3aT4f2wqVDkFVqtYul3ydwg/7ieLttx+WpwfdsduD6ps5uAYvc/GiikXGtHUtldqfltbmWh9g6xA7X/MBPlfqIZDWnXuWfG/W9b7x2GsfhNGga23wXtT3RVBZDbr3dlZ/QarTtvjnZtscqPa6Vap9PdZUeXvNUbs7U8mvrd/2+f5S1850VnJRmgveGyXee1f/DViiEqi/Jxpqe91x2rUUvDBnQ20Fr932Gtn1yn/f9d8pN1rrfZLJyVCzHlfTaVKYTEnLUp/v17zKaYSBvSIEro1q/56v9j2XtN+1+m8VauN+VABrjYCKCrbasx4ffDaEVmfch8HeEfPRsIbm1uCDS6qv9Bd2O1Q+nMY+vGdmWGRA9+2C47rR6ocer0sm9TyiLoeueuAN6/QZMlFQHfMGPbgJCmM63jVpr3ndVeJVyUhutEXy7nXW4KJV3mXzu15qKFmuOt43JUEIm57M2fuEoyCq3Va12pPzuveuscTXLclqr8d6cPegarW3nN8tt57matW4f167NOs2WsEthcKgkuxdo4rbG1ahjvdJ8h9evD9AJQXtpKrqKtlrqhXHtTz/Otk/FGDToqsvgLVEQEUlEzr6tWJY3s3NfIDNmVm2aqbVRzc7uD8qXmVSpQrDRinrOjjaV7ULnO1OqeUJV62s79lPGhy1K+NSf4GPd91U0fEi9VQEXbc2+8E02Gep6/PS6n2d6mErfVXvdzP0aZtDYZV46Ur36hSi++vs67ySlK5hrNfvDt7hFtRpWe+bQNDNd8Rs5QdRfV2LMjKy0u69hlZMi94DZmzVLrDk6xaqej3W4bW0185/II4+3KsozTXemBoutZt8WKnXIGUrqq69db1841nJR92CSyEx6AVwYBV/dNJr5P++B70drBrvk1L36yFpHhmouHWhrcWrKtvKn38M8zuQn5aO/rULkvaaauX0GIRTpdX+Wu+BlVjLfwOxNEIqgLVCQEUirRjq/WphhcIO5gPsvH6M06qZ3qcVzdd7rBK6qGV22/sGw/UGptz8deM+7Ifd6coPODUQnYt+MAyqbho6h0SirrM6lFVI/cqSPhWzc7isAuKqY3YfQTdgvSevJR9u4x+vRL9awXaPtet4D1bR+6ai45W6/+k+9V690rIlHvhR7+tUDxNARzunSvsyg1ZLYw+qsU3VvZtrqg9wia5pXhYS/1JQed3qo9stBA9LCYdqD7apxn3gj/aRX6hxP1+Sau+boIKfWEm2x5SKIKoh0sxdWfdeKyM5+4Rb1w4T3pvDk6nyulWoej3W4rX0fy/1Gum103sxw33q75R/D3Eye5/rggmp5rU2BzNhv9T9N5/cqLhMlwmC/u+Pe4CS/p7Yl7I0P/4QnqWY8xnWe5XD7Se1s4OT/D75Cw2DI83u9yV8/eLXLR6udD/+vymlaxZUksv+zVLu3xHt1m1eGDuup5W0vg2nup7f1dm9jvZ3PPb75b/H9f5bs9xeL2/c/ZtZ/2UMntDr31awJtby30CsCiEVwHI0LRpufF0l/ePEfQsAls188O6Z2+0Ffv1grA8yqtXFFsc3fY8ckFb/wUEa4Ca7VlaB3xD1vq/NetkJ6fbuIa5tueubQJqV0hPc61Qw+5/oztX3O9nwr8Xa28qfiWqFUT73AagHFVQAm0tmd1klWZ+YTDhFLVoJLquS6r2WDR2ItDLbKfO1vxzUhLsJkd3L6Ja7zPULuTnpWvZ1GpcJ2V337+T4ZNj7AlsBIRTAalFBBQAA2EDHw2eiapVUPvsBWAoVVAAAAKypakG0VhdgAFAEVAAAAGwYQiqAWgioAAAAWHN05wWwEgRUAAAArAu6+gJYLgIqAAAA1g0hFcByEFABAABwTBBSAZQjoAIAAGBdcT8qgHoRULEmxrPtkh13ExuhkJOenpzU/Ar78ay0L7VOuXr2uykVJNfTLu2JL9K4ZNt7JLesk17JNgCA4xldfQHUg4AKHBfSkh2bkZlcxk0DALDxCKkAlkJABQAAwIYhpAKohYCKRIVcj7S3t7shK0HHUNdNNJxfV3dRb9p1n81l3fbalVa74br99YQb6bysWS861lJdSePtivbjTITHM0OpydqupPm++H4r1tHzifZRaqPt7pwLl4XXbonjuWsz7l33aJ2y6xHMT3otgnmx87dtDNoQ64btt70nLwtutoq99n535xrbAACwFgipAAioqGSCyMBIswzNzMiMHbpMutHw0yvz/eG8GRmSwYowuKTiiMx3ue2bR6R3ssvtb0iaRw64MGdMT4kMB+uN9omMHIiWVBo/4LVL9zNQCrTe8WaGOmQ6r4FLz2VQzAm6bUalJV8Zggu5AZnqHHXrzEhXqXXW+IF56XfLZoaaZWSgFOaC5uuynGTqPJ62NS/DwTrmpBcGw3BreNcjl6n2Wohk+zukODURtWP8wIg0D2kbfCYs905J56jbfrjTzTdMGO6d6pRRt9+Z/nnptam2xjYAACwTD00CUA0BFRUKEyYM9e32Qk1GMplZmS92SJeXdDJdJgzNL/c/MKV9tLWkJNXi/6V0QebCZJXqlO50MJpubTaL5qLQVSGTM6HNjUubmN2WpPpkd7gs0yUdxSmZKOi5mMw36KqB7b0yUixK+amku00IG+mNKsWZjHfyRibnBb+2FokdtrNbXPON+o6n16Y/G550t3Smkq9HsL8qr0Vmt/SJnqPOHZfJ6fh6VmFOFvz9pVvFXGGrMLdgg3JvWCkdnA6ufY1tAABYCbr6AkhCQMWWoN1XS+HPzUzULK02ZHV4FeJgqHh+UDorY7qsa9Luu7Ja7HXb7R2Rmoet53hrIi02Vx8Yl0IuLwuxPzTUJ9VXqhrbYSzrhW0AANYOIRVAOQIqKmjFsuh3t7Uy0tUxLZPezPHJ6bIKqNIKZlJ1cP1oOM23hKFqVPr8UqZvfFKmUy2mhcG55OvtnpzJ2e7B8WqxhtO8tIRdXkf7YhXUuGUeTxUmZKoYhulytV+LdLZfOqbzMjAl0lkqu5Zo9dNWkt20VkfdaFA1Ln/tjRrbAACwHgipwPGJgIpKJpCN9i3IYFgdNIP2cs3k9N7J0rxBGZKxsEtqJG3vgyx1Z83LQvXktiZs91btimuPNyAml3mmZMC1t11vA3XVQD2XzqlwGx0q7wktVWXdtrGSp4bEooz0uuWaBmuo53gi06Vrbu/3LL93tKT2axG0rSh+t2BfRnJ6z2zU9nlpDl8jrRoPSey1D7o4V98meKiSd78sAADLwP2oAHxNi4YbX1dJfwXjHyTA0Sfk9upDl6qHUgDA1sBnomTVKqZcG+D4QgUVAAAAxxz3owJQVFABAAA2EJ+JqqsVRrlGwPGBCioAAAAaQq0QSiUVOD4QUAEAANAwqJQCxzcCKgAAABpKtZBKFRXY+gioAAAAaDiEVOD4REAFAADApkJIBbYuAioAAAAaEvejAscfAioAAAAaFl1918dEf5M0deRkzk7NSa7Dn15PG3ksbEYEVAAAADS0DQmpE/3S1NQvE24ybkL6m5qkI0ekAtYbARUAAACbFpXUtdAq2elFWZzOmrE1ZEN/h8Rz/TodC1sGARUAAAANr9b9qIRUYOsgoAIAAGBTaKSHJtl7OPsnZC7XIU1NZlyHpPsqbRXRLa+2Trla28zlpMPMi3U3duub5rjJYHmsbVW7Lwfi96QG4ttXdnG223jL9XqE7LKdB83YYdnTFiwPt086Vnhe/v683Vl2u3quOTY1AioAAAA2jYZ6aNLBndJ21ydkcXHRDIdk1+E98l4vxNkgtVPkkF2uw6zslz3SViNULblNa1au379DDu95r+s6OyH9GgR3HZJ8t04HDu9p89pm9rHjoOxcRpjTdrTtEdk/W2rHpTeGxwzC4lXbZ90yM8zulx3meoShsjtv5h3aZcZ2RPuYzlbp1KsB2xzs5YfcvnQw2x7cmXDf7xLXHJsfARUAAACbSsOEVBMKF6NU2C0Xmzx2+MZxFwIn5LN7DptV8mZJqFWyn7AryXhipqpvm9bsJ2SXVibfm5Nc/045aKYO+elU7dgvs9G8pY5bbk7GbzxsdnG9lDKl3js6HU1rAI0FztaMXLrD5Mev1qrTJpmT3FWVAdscQDTfHt7z2Xjlt+Y1x1ZAQAUAAADW2lxB7jQ/tAoYdUfVwXZ7raLubbolH6Q32WOznR9onZen4w8hatsuO0yovaueXtJz42LyqdlFlYqn5b4uJmpnm5hsvQKzcpfZbtfFFWcg3Zo+zRUpkD6PKwRUAAAAbDrrcz9qlTDkgmPtwJZsl99tNRpKlcgky93mzg1PcBpOTSCV/TIbtU+7EbvFy+GubXUvlxVcdmxiBFQAAABsSuUhdVWhtVaFcfYus2SHbF9OD+LWtIlWywyPdW8T3He6Y/+s6wZbujc0cmch3u11OeewVDtchXXXJ9bgq2LcsZK6Bk989aDIju3CM5qPLwTULWA82y7t7T2SK7gZm8q4ZNvbpedYN76Qkx7Tjuy4m14P41nzOq3zMQAAOM5oKA2HVWnNit6meXBn2fd26tNl7UOIPlGz6lmpWz4Se5iRow8Eqvqwovq2mdD7Tnfsl+tNg7rzh6L7UWP7PLxH2qLH4IYPUqr3HJLaoVVTd20SQuVEf0IX37q6FQfH0ocfxZ7aa845aDLfl3q8IaBuQff/XU72Xv0NedBNN7TCnCyYH83mHzo7meuR9mOR4GbnpSgpaan1JzoXYlcXMjukKxOM6R8WkoK5/YNDT05iS2y43ax/hAAAYHPQB//M7pfoa1HsED5dtvwhRHVozU5X7u+q7TI7XT10LbmNDW47ZP/14T5K96PGnma765DMbr/K7SMItKWHJi2tsh1tcuOl4UOTzDHdU3vDNu6UQ7aaGxOF/mCd8q+NCemxwqf2hvtr2nmnffrvCi47NrmmRe00vgGSnqq26r90wdJAMzidkr7RMcmmC5Lr6ZUR6ZPRsawEsa+BafAaXIi1fapzVMayG9tyDca9I80yNJMTlx/LuOvaPCQzueQ1lhI/hlaOB8VMSHx37jhFE2W9ZXbbqc7N8ZoCAGriMxHWm34FjAbGlYRq4Fijgrop/Vhu/6NeefUr26X9/C7J/YubLVOy94L32nAjxRHp1Urf2C3yX15j1nvlLvnrn+o6T8mtH3udtLe/UT51hwmFZp1XvuvDcuXbL5Dzzfj5XZfL//jXp3RFeequUbn8klfLK7VqaI7z/oP/S560S6qot8rnVSJ78rZ+Kq1pDWxBMCuO9NoK4l/YrstZE+UCtrpq9v9f/6v5qRVG12U2dkxv3/62iaLt22VgykynWoJ7HCr2UQqNMj1Yqm7G1nNVVbfPsMIatDlox+y82YEew243KNNm3vSg2TZWjp0VXa2jr08WBkvtt9tGtD1lxzVs5dVMBF2+dfDO3zvXiuosAAAA0CAIqJvQT//6o3L5TQVpar1ErrjyvfKbz3cLpEPes/tc+WUd/eXz5LKPf1ze9ZsXym+/PSVy9J/lxv9xn0mdk/Llb/5MpOVt8p5zn2W3Ojr7Q3nB73xevvixDnnOjw/Ln3zqa/LTn47LQP+fyO1Nr5Os2c/H33GmfP/g5bLv1iC8JinMadgsynzNPwKbINo7ItI3KjMzMzLcaWbZYJiR3GifpMz/+kZnZGYsK7/d1WEWLujD3ex2B0xC7Bgak//jcZtipXeyy+xjyJx1UUYOmCimwS/a96j0paYlXy0t67qD07ZKqe3obzb7bG6VdOI+xAR9PU5Q1dS2pTXwmfWaddq1u9Q9uDQehdJgMjhGOitjQ3ZvMmSOHavI2i7PZvvurPR3TMugH1512zAsa4XcbDvalzIhNwjR9vKbAD3ZFbZpWiZ1c21rdK7mPMy108sFAAAANBoC6ib093//z3JUTpbXfMAE0EveJa9pdgvkJGn939vkuTr63Da58JJL5JUvFUm/7z3ym+aVnv/mhCxMTsptR7fJb176W3Km3cY4/QJ5x+tapOWtXfIfzOTR/+ew3P73kzL9hBm/9+tyzac+JZ8a/Rd5Qn4md35HU1CydHbMhr1aPWALubyJTR3S77rwxiqD9j5QT6bLhs+piUKwXapPdmdcEDPjo/ZAbdJi8rcqTExJ0cwf7p6QHluNLR2n3PiBEbvubttWt08dq7aPMDjapGlCtgl8KRNibRO8dgchXSvCdirYrwuW4TFUsF4Cu69g+8xuEzKn85IrBNum9ODjB0ybTIgfDrr6plv1xdcQH1ReTQqtuP7jk9PBfNEq6qC7jm4hAADYcvReWrr3YrMioG5az5F/9+/c6FKe/xb5rdefbBLql+V3rr1Njr7wbbL77VHZNdmJz7Jvjl/6Pz8lf/u3fxsN1/3nKA2viA2kHV3uPs9x0ewUBLjycKcyokXU4vyBoHraX7r/MtXZ7caDYKbhLQi7UzIwIDKslcka95PawBfuozAhU0vtww/PLqx2dgctsAHQtTteMS21LT5evl4V6awM94mMmMZo+8IHSfnXqPyadYRPYIoe+uTOdSEv7bbibM6J+1gBAADQoAiom9C/P6fF/P+/yf/M3yD/9E83yOT3g/nW6S+WU/Xnz2fllm/8L/mxnXmiXPg7fdIij8lDDx2Vlrf12kpp5PF/lJv+5hvyN5/4C7nNTJ78+jfL619/sbzheSL/71ReDtxyu9x+yxdk7+9eI//3UycG2ySx9znWcQ/qwpyJiLp6cB9mrdDWpuXR6WmZjiqDrlLoBPsIqpx23WKz9NsApl1ha7elaPsim/UGRmz41ABYbR+xIGjDn+vKbM55MDiJirAZnp8Ve1qxX1mNs8fx9pXO9ktHUY/mdyF2XXddt2cb+N3+Q6X2pkWLrEXpdBVnvdfXuzcVAAAAaCAE1E3ozPf9V/nQb7xAfv7P+yX7iW/LC845q/RCPr9L3nrhr8iJ/3a7/OUffEz+9Fs/D+afuVPe8DLzc9tvyqW/FXXudf5NZv77f5VPf/0B+eVX9Mln/8uFcuKJr5Wh6z8pF571mExd8yn5VO5v5f5TXiK//PTq7kHN2JJo8ACnya7gvs6Qvyy89TLd3WmiWUr6wj6pLojZBymZ9Qan9T7OoMqZzg7be0YH7cOA9GnA/dJtA1n5g4HS0t2pwXfQrDcg0q/3a7olifsoC8+Z3WYd94CjyS6xt5O6sJl0fjaURhVN3YF//HiItseJBdeM5OwBnEzO3Xeq7TMB2AR3ew9rbP/x9mZywX2n2ibdRoZ2S1uN4A4AAAAcK018zcxx4r6DcuklB+WBzqvllj8yAdTO1PAW3JPYqF9fYr9CR7yvdrEP/Am/liaYtSTdRru3lt+cWbfgwUTH4utvAABbD5+JAKA6KqjHhafklv82IvPbzpLf+u0wnDY+/YoW+/2u3hN9yu+5XJoJl5MtrnvrSqUlOzZDOAUAAADWGRVUAACADcRnIgCojgoqAAAAkGCiv0maOnIy56bj5iTXYZb3T7jp1XL7845XfvyNbU9c7WMDa4eACgAAACzTXO69sufwLjnUIN832mjtAVaKgAoAAAAsy4R8do/I/tm8fdp/zES/NDV1SG7ZpcZWyU4vyuJ01owtV432YHNY8ftm6yGgAgAAAMvSLfnFackuP0muk0ZrD7ByBFQAAADAsPdZNrmh2r2cttLlrVd+j+jOg2bssOxpC5Z3eCWx2P51KDvGiu7zrNGeSD3rlFnttbDmctLhLV/q9ti6ro+ZF60XHc/df+tva4d+mQiXLXGtw33P5TpK24fL/fNMunZLXIea+w6XV3vfLPMabgUEVAAAABz3NCTsPLhLDi0uin7Jxez2q8y0W+jYgLFTonUWF2dlv+yRNhc2uvNm3qFdZmyH7J8N1pl2ZU3d/1XbZ912ZpjdLzsO7lxV4FiqPfWuU24troXZi/S32X7H0fLtV2lgTFb39THzdsqhYB3bHVoDaJvsebmbZwb7Eoi2f5ldns2+2+76hNvPIdl12JyPBsOvXhyb917vjw51X9+EfYf7qf6+Wd413CoIqAAAADjOTchXTQDbsf8jUaBpzU67oBPS+zwPy65DfuhplewnzEqHb5TxamnP0RAShlWrNSOX7jC55asrjRv1tGclbV6va6H32FYPjPVfn/IHQc3KXYfN3ItL87ov1sbeKYUlXpMKO/bLbLTvbrG7SZh3+MbxKITXfR12mQBddT/1qn0NtwoCKgAAAI5vcwUTZ0Renq5xE6db5+DOUndLO5SXFqsq74baJibbrFw97VlJm9fsWnTLR/bvkMN72syyeh7+U+f12XVxWUBrk+1lQXZCE7a8XGqdwppY9XtiKcu9hlsDARUAAACo065DQRfM+LDUA4pcN1TZL7PRNrNisseq1dOelbV5aUvtVyuvOu/QrvDeymrdU9fg+hzcGQXEoHvyxlUa1+v6qvqv4dZBQAUAAMDxrTUtLzc/7qzVJ7SedaqZG5cbtRvqJ1byFTJVrFeb12G/9h5LvadUDkpij+bVXB+7benezWCId7lNa2PXw2reE8u05DXcQgiowFZXyElPT04KbnJd6DHa2yU77qaXa1VtLEiuZxXHXonVnq/yz3kjXqNy41lp3+hjrpvgPdC+oW8CAFuLuydwz2ej6lTwoCA3YYXdLd8b72qpT3D1H4jTtt2EiMNy16ybVi7IxLqh9q+yi29d7amzzTFrdC103H/C0exd5qrskO1tbtq3mutjty09/TYavPNrs32Ar4raWnk+K7WS61tF0vtmOddwCyGgIsG4ZM2H7/ayoSdX30fZQq5n2R/cV7LNSoxne6TO0yhxYUSvwbH7/Os+gK/g9dgQ6ayMzcxILuOmjyV9vdb7hWqk810v9n2fNf8aOFV+D/R3Nyno6vyNe4+mJTs2IzN1vCC2vfY8vHMDAKM7r11KD8pOF3D0ibKzJnz4tLvl7H6Jh6GrtsusfZqs05oVfUZOeF9ikC+6Je+eShtup0+ijT94aPnqaU9dbS6zJteiO2/OsHS+el/mrkPVur2u5voE96DGu9nGn6Tbmr3enE8pxCadz0qt5PomSnrfLOsabiHmRdwQj720tWJAo7p58fJzL1rcf4+bdG6+/NzFcy+/2U1Vp+vVsVrMSrZZvnsW919UeV5LuWf/RYsXLXejtXTP/sWLVvF62O0v2m/OvoGtqo36unrvn5svr++6HGv+OR+L10ivU61j2vfd5eZfg3Ay+ffAzje/V+XLjvnvTaKV/RsArDU+EwFrxwTNRRNPFw+56VC1+Wh8VFBRt0xuSDqm81EFcjzrVfRcSUXnDU6LTA96FQqv8tLeXlnBLN/mU7rfWEWm1IVT182OexVef72ax9F99MpIsSgjvf528WpxecVHqy29I0UpjvR6+6yyjR7f7Dfnrks4P3adwuMucU184wdGRPqGJZt2M5zg9RgMqlllx9ahoojojhmbn9TNU+dFbUuqMvnn718T7/Wu2pbKSnDF8Y2k91ac34YBmXJzbduDN5Ndlv2LGuesP82C0rH81yH+Glc2wTvfsnOqXDe+vJ6qYqnKp0NwnPJKZfm0PQ938GrXz99vT37BzV1a8u+Bp3NYhmUg4dxLks7JzDXXxuwv573nqrQ36X3i03MONq22T51f+W9A8jHK9rHEsQEAx1r5fZnB179UPvEXm4ILquuOvxZuJskVVKVVO1sVuWf/4uXRCn4Fq6yaZdx8eakKk1y1Kd+m7PheRcxWDb2qTtSeijbrtHdcK2kdf7qy7SpeCaqxja04lW1ffr733Lx4sxmWbmtIl1W2KeS/HrFj+8f1qnN6LqXqorbdb4cy8y4vtTe+fkCPWZp1z+LNN+va3jnUaEvltfS2SWxj+TYq6f1Smk7aPvGctV2J7Szff9J1KrW9vH0331w6tmX2W9qXbuf25Z2zP17e/lK7vG1dmy66KHzflNqYdP62fd7rEM73pyvY17H0viw/z1Bpfvw6+evbYyWeU3CtS8u8cyxrr53291Gm9L6ssc+yNlY/Rvk+gLXFZyJgbQXVUokNO/bPuqXYbKigYmXSWclFJb20tDa70QSZXE6iO8PaWiTlRqvLyO4+kZEDQSVlfHJaOrpK95al+nZH+8t0dUhxflb0m5gXxFVGbDVkUKbNnLlaZQ/dJtUp3VFlMi3dnSlZqLXRktt0iNfUoO39WbOWk86Ytq+grXXxjq3XuTgv/n32Kp3tL1XBCxMyJf65qLRkc6X2phNeWL3mWu0OKoFpyWRiO3CWbks1s/PFqAKqg63c6WscmZX5on+d26Slxpuq5jmn+mR36c0kHbaduv+woq9DUHWLNcGT7u40b9beqPKXyXhvAJXJefeq1m6r0vP33++ldmWkq6MoUxPmRPQ8mvtluHNBJm1xsHRe1a5fYW5BUp3dNV/b1dH7QPtlfqCy2lj9nAKlZXp9gmut7ZXiiPS687CV8YW5uiuZSfsst9QxYm0GADQsvQ/U5JrYML3lb9TcugioWIZxMXlLmluDj7h+1zj9XFed112yd8REs6VFoWI8J/kFL0TUYsLG6MyMzETDWEW32IZRd1s1lOhn5qSP5fHXoz6l8K9dh5v98Bzyux8nvbAmcGmbtUunrlOrW2e5dHZM+ue1m6juPy8to94fLzwdQ/61McOqnkZUxzlX6JAh//hmqNoE98Ckma5Je15JXXhLXW417LqZKxD+QaYwMSXNJjxpOF4wCVWnxQufa3v9liMjuWGRgeW8KWpI9Y3Gz2OsntdueTbiGAAAoH4EVNRtPDso0x1D9oO6vSdtvj/6UDdkQlQyDacaRNyHv9G+OiqoyoWKwdqBQiuUqZY2ExK6pVNGxBVd62O3mRItSAUKMjFVrB34lrlNW0tKpvNlFaVltjVjL8RAxX1//uuxHEH4H5TBpOCv4bR3XvrDD+vVX1gbNkf7lqg4lxvPSr4lDATJodxWaMuvWYxWxKaDyqEVVDxrqXnOofFJmU61mL3rHwWmJZ8QNGvS4G6uV7zaq6fc7p3zqJhLVpM9/9LJee0ytPI4nZeBqeaggqzvpQWd1nwaXMxq108rpsWpiWi+rR6uBxPYh1uCNoVqnlMVQWX6gLtXdX1sxDEAAMDyEFBRhd8FNRjsh2yXhvSDXcrrRphfCD91B11eg+6R+jCVoFtitC//U2ukfBs3V49R1mVWBQ9qCfY3KEMyZlOOdi8cEom6ZeoQPogl5LdFl7kuidF59spU5+gSgW9522iIG2r2uhDa86veVltpK38gi63QaVnKXz/+eixPUJX1u3tGNPCY8DcYHie/UPYHhfgDf3qnOmV4OWVqE7CavddPh4pimwl6o51T3jUrr0qa6zfcJwvR9ZvUgmfEf2+WtqtyzrHunSJDrnqWyY1K55TfztL7slzsgUS6j7LXxFY9o3P2HuhUjZ6/CXixfUZVveA9XGzuMmNKf3f0t9Xrtlzt+pn5/ntxYL45em0T33erYCvlzd5fDWqeUxX6vre/Jm4bHfTNkvSwr5Wqdoxya3lMAABQU9OidtLeAD8+s/Jv5b9yX5WbugBDq7QDMuwCaCCsRvnzsFxa1Z6Urpnk7rXrR8PtAWkd846rT9Kd7NqALqgJ56zHzrfIKF06N51CLisT3bnG7cIPLIHPRABQHRVUNKZCTgZGSt0WsXaCrsFhBW4jpSXbX1at0oC47uH0WJ4z1t64TMhuwikAAFsUFVQAAIANxGciAKiOCioAAACQYKK/SZo6cjLnpldiLfZhzeWko8nsS4e12N+amJNcRyO1B1sBARUAAABoaCYIvnePHN51KPiez+ms8C2f2KoIqAAAAEBDm5W7Dovs2F7rC7rW2US/NDV1SC5WKm2V7DSBGWuLgAoAAAAAaAgEVAAAAMCw94uG93n2T7i5ZWwl0VtvBfdfxo6jQ7VjKXu8nXLQjB7e02bX7/DLmP69qW4o3509npk5l+sorZfQ7thyM4THsdvvtC2QPW0Jy8r3tYZtwvGHgAoAAIDjngamnQd3ySG9x9MMs9uvMtNuoWPD1E6J1llcnJX9skfalhGs9DhXbZ9125thdr/sOLizIsBFuvNmvUOyy4zu2B9sN511HWo1vLbtkZcfCttjhkO75ODOshCrzDHa7vqEW8/s7/Aeea+3jp6b2ZXsnw33NSuX3vhe26W3Ox/s17QgWh61odwatgnHJwIqAAAAjnMT8lUTRnfs/4h0uzmt2WmxmSwyIZ/dc1h2HcpH69h7MD9hVjp8o4zXmas07MXCXWtGLt1hstpXa1RRE81J7irT6F2HJF9qkA202u7Dez5rWuzRByxFK3bLxbbZ4y5Yz8n4jYfN+V8vpabp/aXT3nQ91rJNOF4RUAEAAHB8myvInebHy9M10phbRyuBftfVoOvrcrivZon20SYm965A8OCkXRf7STDQrUnPtLZQb9KbGxeTT2uff13WsE04bhFQAQAAgDrt8ruuRkO9lUYNpyaQyn6Zjbadlf073OLlcIG5upfLqvPmcjVim7DpEFABAABwfGtNm+gkcmet8l496yzFVSp3fWINvpbFtSepa/CE7a+8Xer+Upq1ODe1lm3CcYuACgAAgOOcu//Ru0cyeGiSm7C65SP7d5h1ggcHRfShQPU+JCkhwE30r7SLb9AefdBQ7AFLpj3a7uWF4KRz02qv972nbdvFrCF3zbrpRGvZJhyvCKgAAAA47nXntavtQdnp7g3VJ+3OlvW91Qcnze6X6KtW7HDVdpmdrjd4dUvePbU33H6nHCp7GFP9tD3hE3Kj9uy80z5pN/aQojpUnlub3Hip99Ck1qzo86DCY1V76vBatgnHp6ZF7fy+AX58ZmVB/1fuq/knGAAAgC2Hz0QAUB0VVAAAAABAQyCgAgAAAAAaAgEVAAAAANAQCKhYP+NZaW/vkVzBTa9YQXI97dLekzNj9RiXbHu79Kz+wNUVctKzDscYz5rzbM+aMwAAAACOPwRUrLNmfaL6mkh1dktduyrMyYL50VzzwEGIbV9VyExJZ3dwjEKuR9qzlbHSznfHCYclj9fRJRk3CgAAABxPCKhYN4U5jYlrYVbmi260HrPzUjThsaXGN0GPZwdlOtUnozMzMpZdQYK2xwgVZGLKHDHhgLPacHecGTdUP15B1uySAQAAAJsQAXVTelL+18H3S/erX2krcud3vV9yt//YzP+x3J57v3Sdr5W6V8qru8P5YSXvjbLrSrfdK18tvX90u9x58FK7jzf+0b/Y9eS+v5TeV7bLK3/7f5i9VeG6tyYUDGOCcNYiElURva6rtvuvqyr6XXeT5tdTEXVt0u168nZtV7l13YPdMm2zdqMdnDaLiiPSG7Upvp6thpZ34/W6LAfhW4+hldheGTGnWhzpLeuG7AJnc2ti5TfozusGu10QxMOg6y+Pt8HfBgAAANg6CKib0E/H/4vsPvgdeey0Lrni4x+X9114hpz6/F8yeeo/ye+MfEeaXrlLPv7xy+Tco9+Rkct/R/7yPrehPCaFf7tArr7pv0nvS49I4aZBGf+N90rHyWbJzaNyy1MmUv3NV6Vw9GR5/bveJr/itqrgqocLc7XikQtnJgTmZVhmRvskJdOS16ClIcskxI4hrSgOSYdZZ6DWfKtWRdSExN4Rkb5RW6Ec7jSzTDBuM23I9ZjwKEEFc7TPtCCfk7bcqJhRSdn1c5Kx3X3Nes1DZtot8w4WBuNSKLWT7hgZydlzS5nDm3aPZb0w6iq/04NlQTMIw4MLQbuGOswsL8Ta45lrMTjdIUOu6jrcOiuFhOtzIEr8AAAAwOZHQN2Ebp+6TZ6Qk+UNe66Sd11yiez66D7p3b5gu5mK/Ad53x/skksu2SW7d5qkdbQgN4/NBxsa/+Et75bfOOOV8uYLTjdTj8k//vPZ8p/f/EKRJw7LN/7+rmAfL3yz9F54YrBBkkzOhqa6usam+mRY10u3mmin/lVy+WkxKUty9kbLNmkxzSzO/32V+bNl3WkrFXJ5E307pN+1x1ZuVWFCpoomOA53y4QJhL0jReno1wAZBMcweEbdfe2Bve7EZV2Fw4qwTkbHUNXa5yq/QaAMBr1mhdyAjBRN+LRh1uvW69YvmZZBVyVNZzIyO+muj2gVNWjzbm5WBQAAwBZCQN1ynpCf/9yN1uk/9L5NWsx2f/fHH5FDxW3ym+//oIm5q+W6q4YPNoq66f6qTnkVyrBb61l2qnJ+W2XlsowNi9GDhcZFc5ytSLrgODUwIDIcBESbQWNBMAiIUTvHJ00sDMJr/Lh+d914192l2lcu1l4bot15+4HY/RFgqFm7IWu3YtfOhby0T3YFgTdWrQUAAAA2PwLqJnRe5/lysgmU39z/CfniV74if3r52+XK8RdJ9xvPMi9oQf7qMwflK1/5Uxn+ikk+29Ly5p4Wt6XI9ycPyje+cTBYZmLpm3TZme+TD3SeLEcfekgeO/n18ltveX6wcjX13IMau2+0ILmBESl6Fb/i1ISZq7vS6qc+DTcIrpXz00Ggc5XLqhbm7Ha2Gmp+2sDX1mL2UJTm/jHR4qreh2u72MYqo0EQtpVa7eprb06t7E4cVD3dhBee7VS19pVVYAMu3Nr2uutiJssDcWF83J5PZrd2Hy7K/GxaWptNO6XTVXq1W7J3Ty8AAACwBRBQN6HnZ/5IDux6hfzyA1+Xaz71Gblx9hRpPeNEad59nfxp3ytk8Z8Oyqc+dYPcdfIrpO9P/5v85zPdhmp+Qv7gkwfl/3n6TLnwk5+V99llJ8qFb+qQZ5uxF765V2r17rVcZbLmPagunC3k9d5LfYhQ2KU1Ldmx4P7JXhNyg1tHNUBWm+9XKzWUVT4cKNPVYZJbsN1kl9mHmy/prAzrfaeDwf2fvVOd0t9twl+s4pmR3XrTqb1PdFK6ghtC7bJ0d6c5g2kZNNsOSH/p3tRY+I4f3w/tyZVVc5794foDIv3B/au621LQHZcDg4N2f+3u3lrNpJlc6fpoF18Z2i1tNV4CAAAAYLNpWjTc+Lr68ZkV9SX5lfu0aoWNoNVDew/mkOvmGvOU3PJfLpQrp86QXV+5UXb5gbbR6IOCtItr5UnUzT7FV4ZWtQ8AAFaKz0QAUB0VVIjc93n571NPyPNee5n8ViOHU+0SO9niuriuXCY3QzgFAAAAGhAVVAAAgA3EZyIAqI4KKgAAAACgIRBQAQAAAAANgYAKAAAAAGgIBFQAAAAAQEMgoAIAAAAAGgIBFQAAAADQEAioAAAAAICGwPegAjhuPV18ixvb2k5Ifc2NAWgEfCYCgOqooAIAAAAAGgIBFQAAAADQEAioaFiFXI+0Z8fd1CZVyElPe7ts9tOoNC7Z9qz5f2xm49mVvjcLkutZzfta3z89kiu4yWNhPCvtx7oNAACgAgEV1dkPcO3e0Igf5swH3Z6c+bi8DC406jmte3BMZ2VsZkZyGTe9xjTEr+Yc7B8B/Nd4uddy1TSoBMfusW+u8unlWt77ofD5B+W8nh+VDY/JIbd8KYf2PSifm3cTNRzaV34MM+z7uVt6jJjfg/xCn+wue29qaD1274cNlMnJzMyYZNNueo2NZwm/AACsBAEVieyH1HyLjJpwNRMN/TJ/oMFqZoU5WXCj9SpMTIn0jdpzWq/guFFm54tubLmCCtiADHuvrxn656V3Iyuj45My3TFkjz2mSaF8erlW8H6Q9lPk9rGXlIb9J8h1PfUEz6fkB/e50TqkLjktfpy9z3VLjg39PWjuz4p/lfUPFoMSXH8dRjunZICUtQIFmVv2GxEAACgCKippZWW6Q4bG4h9eRTKSCxNdrLrqVQp0fnbcq8IEy+x0rBqT3EXQr94MmBwZ8aqe0fF0Xu+IFIsjJlSVKm6xClDZAfQDeO9IUYojvdF+dP1sLtx/GM5KlTwdomqeHtOcRy48hp6Tdy0qq366n3Cfes7mmDnv2oXtq3Ldgm3861Sa1nUHp0WmB3V9dwz/dalV/Ro/ICPSJ8PlITCTk6GOaRm0B6zR3khwnWLnbV+rspCb9PppW4MTsPOznyqbDk4o9jr4h49Xf83xEt8PwfVK2r6qlhfIH14i8sUbXIVz/ify1qjyGQbXp+Rz739YvvjQM/LFPWb++39ir3WsUlpHhVTX//Dnw/27yu0tj5X2EVVz9Xjm2J8Pl2k7fi4fDtdzx7cS21tuXA6MNEtX+R9ouodlpuyvNsX58Mmi/msxIP6vZyj+u2QG/z3ovwd68rE/JCT+zpb9rtnX0/6emHnuNbWrJry37P5i7//y3yPD7d+uU3asaN+GPadx79yj/eq88PdUhdN6rF4ZKRZlpLe8HQAAYCkEVFTQykox1SKVD8F39EOiX10d7ZSpXi+QmIAx2eWWDTXLyEBO2nJD0lGckonwk5oGpOahWAWzvHrT31yqDo4fmJf+8HhunwXtPjvUIZLqs22xFTfzQXOyJaiOzsyMSt/CYOxDaTo7JqN9KbOJrlPq3jdtPm0P221yJobrB828tIy645n9dE71lvZjAtC8O7+hZhOGJrvcekPSPHKgdB0SmQ+t86X1O6bzpQ+4Cdet1gfbTM6cX0qkY0i3ce0eFBmy+zbDcKvMVtnB+KQJgs2tZX+ACGS6zDVdmHPHrtFeKyM58xoUpyaito4fGJHmIW1PSeLrp10s9fVzFdPcx8umM/pB356QO/6otORdIDCv84AJWNG5znSJzFa+Hwo5E6Q6w/fDjHQt8eqE0hecLKmZJ2w4PHTD03JZWPXcc6J88TMaBk+U3/3zU2SHPEvetd/M//MXSNoEw2+eGVZJT5N33fe4fPiWYH+q+JWHXWjUodSN+PBhkT+027xQdmoQ/YcT5AvueF+45CnZFwVdE4bvO7nUjj1PyBvcenvP/Jn8d3ssE1rN/Ndrm+yy58vCnscqz3p8Uhb6dsdeI5VO+++IgkxMFaXDptjy16JfvF/PmNLvknl/yogEnS7Me7N3SjrD36nhTruuVet31vtdiyrqwQHsPP33I+m9Vc+/NxW8Y+n7cDpf+v2bHpyULncM/Z2vXVVOS3bMHF9S0qfnW/GHPgAAUAsBFctWmFuQVGd36UNXuls6UwsyF35mMwEhuq8t02U+KM7LrPkovLtPZMR1EdaAFHzwLdHuqv68thaTvpxMzgs8bS3mo18VJrTmoqpgWlqb3egSYuej3URTndJdOkHp7kyZzBaeYEdUedI2plr8KO9dhypK59gmLamiRAWqxOu2HBnp0upnWNVJZySzBp+Mq7Y3lNkdCyKT06XrE6r79YuZFe3BHFSIdQiqUnr8oJu2H7DMuZYdU6W7TRDSarlLPJmklZawc68GR+fXTqje9pYXyJ+870Q3caK87Ew36sS7+Jb2mdrxXC/AmOC714RdN5X+1XB/gR2vdt2CtR0vPkFagynrh//6lMj8U/JDDbJa1bVB+HE5bEJv/D1pwmZ+QTpLb/BE49leG+6DUKevhf+66nvBjZYp/S4Fv3/296b8dyrdKtGvZs3f2cr3kjmA97tZ7b219L83lbxj6X6837+U917TP+CUqsoAAGCtEVBRQT/U+x/O1ko62x9U4MaTH85Sm1Y1XVDRbpxubhK/66f2GD2eZHJa5RkWGdDz96raZeJV0rha1dVkacn2BxWn8Vw+sTK3nNcvrsOrkgZDzSpYOfeQqpmuSXvsyi7YyQrffkKKUQD0utLu+Vnt95730KV9M27mcvlddPc/6WYuw4ufF1Vgg+H0+IOAChMy1dxf4+FAQXfYfMvoyu4DXoHV/c4mv7dW9+8NAAA4VgioqGQ+1PdH9yF6CjnzYc8s1qqU16XTfuAtNktr0mdZfehN1F3YVTUGRyoezqK0Gjk9WTpm6QFA+gHU63I72le1imXvMZ3vj8KM9vhcNq0Ii9c90JypdnVsTjzBdRJdN68KVTftYqjdf2tUc13Vs6Kr4njWBAQTCpeVAg23v8GRZumvCDX1v35xQUU4nxAq0+aiFJfsTu1x3YnrqnyZgPjRr4i86/e1kqnh9KfSHHaZ3f+86u89E07fc9/zo2C4t90tWA4Np3v8LsUnuQV1anmuvF7C7r7JbBfsqtXE4P5JrZzGw6lWTKel9OsZVLfrphVTv8ut9zCr1f3O1npv1f73ZqX0DzhBr4kqPQoAAMCqEFCRSCtxoy35qKoRVCfmZV4jgVal7NNew/l6b5nXzc49pMYu09vWvHuwbHU2qduekc4O2/vPwuNNmvUCGlTcA0d0mf/0JNsV1h3PBGq7f/eQHR3yC/VFoTgNeP0yHx6v3e/quI6qXLeM/ZStD3XSZf7DaYKux0EX2B7J/U//YTHa5mFbJat8YIzSc5yRYRlw67vB3lscv3+0PkFbpKMrYdsar98S9D5bvf+31EbXfdkEztG+BRmM5ruH2pS9H2IP39FrmvQizjweVT3tYAPi6fK7LbrwufKGdq/L7GeesJsE/GWPyZy9b7W0r+vue5Zbbxk0YL74SdkXtuVLT9UZ5kPBvbGy321vB+8e1EKtamIQTkdM8AweIuaum33vmPfLcJ8sRN2tJ7W4vQx6r3Kz9x6Yl2Z3Yqv7na393qr1781y+NdD75MPwrvrORBdk7yUmu63Kxs8wMusU/43PwAAUKlp0XDj6+rHZ1Y+cudX7uNPz1tO+AClKg8G0WqJfrXJRnUd3DSWuG6NT8PNgMjw+n2v5Hp4uvgWN7a1nZD6mhs7vqzFvzf6R46N7O6M4wOfiQCgOiqo2Dj2yauy5MNZsPno03JHJP7wGuCY4t8bAAA2JSqoAI5bVFABHAt8JgKA6gioAAAAG4jPRABQHV18AQAAAAANgYAKAAAAAGgIx7SLLwAAAOjiCwAhKqgAAAAAgIZAQAUAAAAANAQCKgAAAACgIRBQAQAAAAANYcMekgQAAAAAQC1UUAEAAAAADYGACgAAAABoCARUAAAAAEBD2FT3oHK7LAAA2GhNTU1uDACw3jZFQK3WRAIrAABYa9UCKUEVANZfQwfU8qYlNZWQCgAA1kpSCC2fR1AFgPWzKQKq/rz+n4/K5YdOkB9+2M4CAADYEIvPHJFf+aUTomBKQAWA9dOwD0nyw6n6z189QX52xI4CAABsmKZnPdv+LP9sAgBYe5viKb78hwAAABxLfBYBgI3RkAHV/wtlOAAAABwr5Z9J+GwCAOuD70EFAAAAADQEuvgCAAAsgc8iALAxGj6g8h8EAADQCPhMAgDrr2EDqv5HgP8QAACARsLnEwBYX1u6i+8T/5/IffeLfN0M95lxAACAlSCUAsDGaDL/4Dbcv7jaJH84evSoPGdf8B1kj37U/qjpyKMiH/hrkfF/E3nGzVMn/7LIH75d5F0vcjMAAADq8EvPPiLbtm2Tpqam2AAAWFtb7im+R4oir/1LkbGycKqeMPOyZtmQWadhfCMrb3xdj/z5nJsGAAAAgOPU1gqoT4pc9lcic0fdtNHxOpMBzfB8Ny1m2efMOl8x61bzgz/rMaGxPRre+2cFtwQAAAAAsF62VED94T+KHPqFm3De9Bsi55oh7aYts841Zt1E38jKh/6qKK/8/Rn5xrfMcF2fyF8dkG+6xQAAAACA9bGlAuo373UjoWeJHPiCyGs+LzLjZoXuMuv+mxv3/WB+wfx/Ss56WTAtrVm5/ls5eYOOz+XkvV5l9ZPfsGtY3/xoaf4b35mTH7j5kRrblozLJ711SpXb+Pw3fnTczQcAAACArWNLBdQf/cyNhFIi375M5O9f46Z9Zt0fuVHfy/7PTjldivLXlyWExMtGRP7jaFRZvfczwb2j2iX4s7d3yEd0vhk+8qsj8qGyEPnN/ymy1y3/xu93yD99JltRlf3Bn+Xln87ok2vdentbZk3Q1XA6KP903lB03NNvH6TbMQAAAIAtZ0sF1Jc8z42E7hP5nbvceDmz7kvcaIytmAYhUj34V71BRfQbk/JP4bRWMU1YfdAE2Xt/UJBbbtWnLk3LZ12F87O3m8l/nYtVUd/wwW655Z2uAvqZaTNnQRbKHoz0spZmkQdMuH1dEF5f9saMvMwd95Wvz9h1pLVbXn2GacetE5VVWgAAAADYxLZUQH3DWW4k9CKRD+o8M7y77Ktltpt5v+zGE70xZyuW1/7HlAmN87LwshY5XVLy9utcFdQNf/DGtDT/qlk/rHCGw5eyEvYSFinIn7+zV/5aXHXUhd8K0TEXgrBLV14AAAAAx5EtFVB/7VUiO5/jJtQTIn85JfKfzHCnGY+Yda4w6yaxT/D17iFd+NeiyBkt0tzaanJuUf76ulJo/OafBes1/6oJsbfnS18VM5eTP4/dYzor9z4gcvpru21o/ebfaQU1wTfMdmYfL/vgmHzkPDOtVdg3dskrzeg//Z077tyE/IO3LwAAAADYKpoWDTfeMLRJ/nD06FF5zr5n22WPftT+qMp+D+oN8a+aiTGR/HffLTJoMmWlgnzzGxPy7c+M2G61Ab231D0kKbwf1I4bZ6Tk7f9pTN7/xiDY6tN/Ayk5/bxO2fuHpSqqv/yV/7FP7v2rKXn1dWbbH2TljZ9ZkLdfNyzyyV75axM+A1qtNctbdTx+3NP/46hc/8HYc4kBAMA6+qVnH5Ft27ZJU1NTbAAArK0tF1DVkUdFPvDXJtb9m8gzbp46+ZdF/vDtIu8q6+4LAABQCwEVADbGlgyooSf+P7P+4yIzT4m0nyZy5r9zCwAAAJaBgAoAG2NL3YNa7mQTSM98qcglzYRTAAAAAGh0WzqgAgAAAAA2DwIqAAAAAKAhEFABAAAAAA2BgAoAAAAAaAgEVAAAAABAQyCgAgAAAAAaAgEVAAAAANAQmhYNN94wtEn+cPToUXnOvmcHy66yPwAAADbMkSNHZNu2bdLU1BQbAABriwoqAAAAAKAhEFABAAAAAA2BgAoAAAAAaAgEVAAAAABAQyCgAgAAAAAaAgEVAAAAANAQCKgAAAAAgIZAQAUAAAAANISmRcONNwxtkj8cPXpUnrPv2cGyq+yPdfN08S1ubGs5IfU1NwYAAJbryJEjsm3bNmlqaooNAIC1RQUVAAAAANAQCKhr4eGUvObKc+RPH3bTm9EdN0nTu/cFw7XfczO3uu9Jvznf/jvcJAAAAIBjioBa5ge3nCMnXnluNLzmlpPdkrVyinzQ2/+JDRFsTVC75m45/9IPyOINe2XxQ+e4+QAAAACwcbgHtcw9N3xMfv1fHpfvX1GUl2lldPgMkTfdJX9/4UkmWLbIdW49ecW8PPXOx+XrXzpXLvqOm+dc9t475M/O0SBauX4QUFtE7DrBooDOT8nZb3pCfu/rp5jpJ+WPB74nl5+WvB897qcefFJuf+AkuewVj8t13zlFzrPtfMLkzRY58XrdR2n92vegaiXxyyJX7JX8uW6WnfdtOfvSU+WKG+820y+Sa67+kOxJicyNXSttNz4arLbjbTbQTly7T/7g/hfJbfc+Krt2nC0HDweB93DPacF6Farv31ZzTWC23P6t4rdkx5W3ym12onZ76m6/scudd2z+Wa+V2U+/TlqDKQDAcY57UAFgY1BBreW0x+UdJp/e/tBJZuJx+bOr75CndBh4QM77TspWPt/0TjdtA2WwPAieyevXdpL83kOPm23ukj8+4yS56U6t3lbfz+2nF+X7b3pSrjNB9W/NT9tODdXXi/yt3WZeLvtOi3ywRo9dDZZNJpweNOMHr9Hxa2V/MVgm8qhccf92WbzhA3LNWY/KjTPmwCY8tt14qhzSSusNb5Ndh78sO8aCBt320gtk9tIXycH7zXLz87b7H7Hzq0vYv4bQayS2/6ALrgmcGk41gNplpTBbrT3V2y8mrLr13Zp63PeYcKph1e6fcAoAAABsOAJqTU9I+nTz48GT5Qfmh1Ytbbfc4TPkdru8tlrrX3e9W3Zli3zdzVOX/Xutsj4hl19xR1ANNart57wXPxmMnP6EtAVjIo+cZNY5RS5y+9bK650PVe+m3P2hUlALwpkLfs6uV2naPk32fHqvrYZO/OPdImed6o53jly8wwRTF0TPf+mp9qeYn1F7llC+f3ngEblN7pad9n7YIDh/90caXB+R72oV9GKb/iO12qPK9z/3I7PsrO3yZu8crdSp8hvmhw3pH/uWzAVzAQAAAGwgAmpNJ0vhQfPDBMCXfa9FLvrO40Fl0lZMl7DE+toN2FZFr56XN7l5iZZ53B9oGD3jAfm+3XcwhEF37T0s99zvRtdIECBfK7O2IhoM1bsJl1tNe86RvB7virNF7r1V2mKVZAAAAAAbgYBay/fOkN97IKhq2uDn/ODOUxIqqCfJ3V6P1qXXr89y9/Oylz8u5z1whgwnduvV+zJXVyHsfpUGuLvkZhveHpG77w2rlGujtX27nG8C4mfLn6xrK5yPyhVfjZ/YctvT+pJTzfqPyKwZnxv7tq3Qxpz7Dlm8+rVyvjnW3ea1BwAAALBxCKhJTMD7de0ie/0p7oFHJvhdWJTLXNfZX3/oCTPuOa0oH39Fqduu3vNZc/1lWPZ+TFv+L70vNepCvMZPCTYB7tAOExSvDLrgfvfSD3gPVloDqdfJF/Q+Vns/rA5hJfMcyWtwPPzl+PzltufcC+Sas4IuxG23nyq7znLz9d5Xu18zuHtd1/S8AAAAACyJp/iWebr4Fje2tdR+ii8AAKiFp/gCwMYgoJYhoK4l7VIcPOgo7mw5dMM7pNtNAQDQ6AioALAxCKhlCKgAAKAcARUANgYBFQAAYAkEVADYGDwkCQAAAADQEAioAAAAAICGQEAFAAAAADQEAioAAAAAoCEQUAEAAAAADYGACgAAAABoCARUAAAAAEBDIKACyzIu2fas+f/1Vcj1SE+u4KY2qfGstPfkZJOfBQAAADYQAfVY0Q/v7e3e0CPrkUfGs+uw30JOerJrEdE07AXnvyFhbM3aDQAAAGA9EFCPgfGsCWX5FhmdmZGZaOiX+QNrHZ4KMrfgRtfS7LwU3eiqjE/KdMeQPf+xbNrNXEdr1W4AAAAA64KAutEKOclPd8jQWFbikSwjuVwmGI1VV70KqM7P5iTXU2VZuI3tVlkw6/XKSLEoI71unlYQzc+cBmSznq1alnfDLJu2Ydrfry4fnBaZHrTzwoKkdkmN1ou6wGobTBtzrm3lxynbjx4rmzNtrNhHuF8zlA4YO5eobW69iopswvFsm72Kqj9t2zJeqvDG2u6JnXf5+S2xraXnEa5XrYpeZV/J19yj23nvl/BUY69p+flX7K/K9bfzK19bfx89+eS/jiQfP2F/Se/XhOsVHDN+/nqM4D3gvYbr1EsBAAAAa2ixAR09enTxmWeeWXz66acXn3rqqcVf/OIXi/LxRTtsdvfsv2jx3Iv2L97jpivcfHl8+T37Fy869/LFm3Vcl5170eJ+t9Du63JdcvPi5eE66p6bF2+26+j80vrBvs5dtJuEyo/nT1e0Jdhv6biB8unSdvcs7r/o3Pgyn67nLbv5crOufzy3fXzX5y5epCdUdi5222jFsuvhLNVuf9ruz9tHdFx/30nXzm5f7fWodPPl3hcMxOsAADBWSURBVHre/rQtFcdTVV6DirYonee//kbSOZeup3ccM3azOVDV6+9em1ptsMcqb5M5zuVRg/z9J+wv4f2afL3K2qnbueNqe0vb32PPCQBWQj+L6GcS/Wyin1H0swoAYO1RQW0whbkFSXV2l6qr6W7pTC3IXFj5SXVKt1uYbm0WWZiTgmSkq2NaBsMKUTojmao9ZjukyxVqlzI+OS0d/V6lt8p+Z+eL0uHvNNMlHcV5mXWTsWVLiJ272cN8Md7eTFeHFOejPUfL2lpSkmppCyYs75qtUKpvt7mygfhxA/paSXFEesMKnVZol/l6ZHK56BjmJCTlRkuS97XUNY947xel24VVZB16R4r2vAoTUyLe+epxM5mlrn/8tS1/79r3Z7l0VnJRd+60lK9S+V4pO37i9UpLtr9DpvOuiqvn4tqh7Z0eDKupaXNO3sUAAABAwyGgbrB0d6ekkoLEKmVyeh/rsMiABo94d0esn1TfqHcfsRlc1+36Xw+vC2rvSOI9smv92nYMee3VIexavkH8bsCa6ZenyvXK7JY+GZED4+NyYKRZ+sMQnMnZcxyWAbuN16MZAAAADYiAutHSWenXilj5J+VCTnJmlgZYmZqwlSCrMCFTxWZpravwk5bs2Kj0+RXXpWgVqkpg1qpkWJWqxVapJr3z0YcfpVrEr2euTFA9jO96uqxSunKlCvTSko5rX6uRAzUC41Kvh4atvLSMuqA42pdQQQ3F97XSa263S3hN9VoUK85ledff7sN779oKcxkNp73z/VE4HupwC+pS63q5KurgoCzEKsGBdHZMRvtS5uWu59UGAADAsUJAPQa0Ijbako+qSEE1aF7mNR6YADvWP1/qNto7JZ2jXrfGJLEHx/TKVOewBAUkDRjuIUnVKm9hYA63zy9EH/r1Q/1Qs9eF1XUztVVg103Udp3M5OLnMygJD4FamUxuVFry4fHbZVCGVvzE38p2B1W38PwGptyKTnGkt/Zx9bUaktK100H/8JD4egSVv6Crach/fcxQ3gBV7bVd6TXX7TqnvNfUew37FmLnoqeyrOtv9uG/XwbmmysCt/8a6JBfqB7JKy1xvbSbszliZ9SnOf6Ap96pThk2bbcPaar14CoAAAAcM016I6obbxjaJH84evSoPGffs4NlV9kfwLrSEJNvGV3br78Zz0pWcrLBPWqPH/rU4smuDe+yDOD4cOTIEdm2bZs0NTXFBgDA2qKCCmyIguTmugin62ZcsoPTy3ogFwAAABoPFVQAAIAlUEEFgI1BBRUAAAAA0BAIqAAAAACAhkBABQAAAAA0BAIqAAAAAKAhEFABAAAAAA2BgAoAAAAAaAgEVAAAAABAQ+B7UMs8XXyLG9taTkh9zY0BAIDl4ntQAWBjUEEFAAAAADQEAupaeDglr7nyHPnTh930ZnTHTdL07n3BcO333MyN8j3pN8ftv8NNysOy/2OmHR/7lsy5OTUVvyU73n2t7C+6aQAAAACbEgG1zA9uOUdOvPLcaHjNLSe7JWvlFPmgt/8TGyLYmoB4zd1y/qUfkMUb9srih85x84+V02TPp007Pv06aXVzAAAAAGx93INa5p4bPia//i+Py/evKMrLtDI6fIbIm+6Sv7/wJBMsW+Q6t568Yl6eeufj8vUvnSsXfcfNcy577x3yZ+doEK1cPwioLSJ2nWBRQOen5Ow3PSG/9/VTzPST8scD35PLT0vejx73Uw8+Kbc/cJJc9orH5brvnCLn2XY+YfJmi5x4ve6jtH7te1C1gvllkSv2Sv5cN8vO+7acfempcsWNd5vpF8k1V39I9qRE5saulbYbHw1W2/E2G2gnrt0nf3D/i+S2ex+VXTvOloOHg8B7uOe0YL0Esf0Yu+zxg7Yc1BlnvVZm/ZCqldIrb5Xb7ETQnv/tq/tk52E7IxLsx00AALAGuAcVADYGFdRaTntc3mHy6e0PnWQmHpc/u/oOeUqHgQfkvO+kbOXzTe900zZQBsuD4Jm8fm0nye899LjZ5i754zNOkpvu1Opt9f3cfnpRvv+mJ+U6E1T/1vy07dRQfb3I39pt5uWy77TIB2v02NVg2eQC4cFrdNzvKvuoXHH/dlm84QNyzVmPyo0z5sB33GRC5alySCutN7xNdh3+suwYCxp020svkNlLXyQH7zfLzc/b7n/Ezk9k9yMmZLr9uNki50je7Fv3E2eCq4ZTDcT22EFY7v6QGb/6tXK+Daw6n3AKAAAAbFYE1JqekPTp5seDJ8sPzA+tWtpuucNnyO12eW211r/uerfsyhb5upunLvv3WmV9Qi6/4o6gGmpU2895L34yGDn9CWkLxkQeOcmsc4pc5Patldc7H6reTdkGPBcQtfIYBr/Qrldp2g663Go1dOIf7xY561R3vHPk4h0mmLogev5LT7U/xfyM2lPF3I/MNmdtlzd7x6qp+Ih8V0Poxce6+zEAAACA9UJArelkKTxofpgA+LLvtchF33k8qEzaiukSllhfuwHbqujV8/ImNy/RMo/7Aw2jZzwg37f7DoYw6K69h+We+90oAAAAAKwSAbWW750hv/dAUNW0wc/5wZ2nJFRQT5K7vR6tS69fn+Xu52Uvf1zOe+AMGU7s1qv3dy7j6bgJul91tsi9d8nNthvwI3L3vWGVdXlaX3Kq2c8jMmvG58a+HdxzWkvqVPkN7XL81Wr9lR+Vu81rBQAAAGDzIqAmMQHv17WL7PWnuAcemeB3YVEuc11nf/2hJ8y457SifPwVpW67es9nzfWXYdn7MW35v/S+1KgL8Ro/Jfjcd8ihHSYoXhncu/rdSz+wsns+z71ArjnrbtlpAnPb7afKrrPcfPuVMWaePjzp3lulLfr6mXMkr/eaHv6y+zoc717Z1OvkkzvCe2j9r6sBAAAAsJnwFN8yTxff4sa2ltpP8QUAALXwFF8A2BgE1DIE1LXkfWVMzNly6IZ3SLebAgCg0RFQAWBjEFDLEFABAEA5AioAbAwCKgAAwBIIqACwMXhIEgAAAACgIRBQAQAAAAANgYAKAAAAAGgIBFQAAAAAQEMgoAIAAAAAGgIBFQAAAADQEAioAAAAAICGQEA9Xo1npb0nJ4VwvL1HcnZikyvkpKe9XbLjbhpVFXI90u4u1Hi2vfR+AAAAAI4RAuqGG5esCVDtZcMxDVSZnMzMjEk27aaTaPBbo0baYGTPO2uuhq8guR7vuqwkMKWzMjYzI7mMm0ZdMrkZmRnLSq23wFq+BwAAAIAkBNRjIiV9oyYQmCAVDg0fqGbnpehGV6cgE1Pizj8n/mmPZ3tlqnO0dF2GW2WWkl7jWLP3AAAAAJCMgNowtHrYI7mcdrf1q4fximtP2A9Xu+Vmc6WKY3bcq0wmV2T95T35BTfX0MqYV6203T3derYdeqzBaZHpQW/ffruSugcntVvPsVdGikUZ6XX7DlY2CjJnmtTc6tXw0hnJuMlYm8KTc+3OuWXBMfS4pcqsf87+8WLza1UFbfdnt563X21PNhd0Jw7mJ71+8YqwbV9SF+Sou3V8/VrNirfLu/5l74vyffjXcWDKzTT0ekTvraTXbkXvAQAAAGCZFhvQ0aNHF5955pnFp59+evGpp55a/MUvfrEoH1+0w+Z38+Ll5567eK4/XH6zmX/P4v6LwvGQrnvR4v573KRbx65y8+Vm23BZMP+icMV79i9edNF+M9ej63vz7tl/UWnaX79svcV7bl682UzY9b223Xy5a4d1z+LNulKkRrvtuL/MY88puCbRuRjlx9Zpu1zbbdb1Fhl67MvN/+to2bnotK5cfn1uNufoRuNMWy8vree3Q88/tm9dt/z1M8crTZauSfx8StcjOi/nZtOuRBWvkV4H75xj176k/Drac3DT/rF1fuz6m3boVNL2pcny9wAAbC36WUQ/k+hnE/2Mop9VAABrjwrqMVHWxdfr39vR5XV6LczJQqpTuqOiYlq6O1OyMOdKVdGytLQ2l1Ufi/My60ZVYW7BrN4d3WOY1g0SjE9OS0e/dy+iV8X0Zbo6ZHowrFqmJeOvtFS7q7H3wuo1GZLmkd6oKjc7X4wqdzr0jhTN6YVn1yH+JfPpOUtxRHrDKp9WABfmpJDulk7R+a4imjHnaLcol5ZsrnQtyq+Zfz1DsdfPnE/ppW2TllQwls72S8d0Pqg4FiZkyrRGr1W6u1NEz9uVPTOmXUnKX0uzoXSmFiS6vLFrX6LX0W9fW9igmHGZnO6Qfu+G5LRpR8Luar8HAAAAgBUgoGJlXJgclgEb/mp2R122jOTMvoc6ijI1EaSujiEv0OtQ5027qT7vnlYd7IOATPAc0+kumdTgGutqXMZ1yY0C7jKVutRq12Y305zf7j6TRQ+My/iBEWkO/yDgHvA00zVptyl1uW1Q6/oeAAAAwPGIgNrIbKVvSlxGM/QBQ8V4pbROWv0rTk1EQcxWFxNoVW06XyOwlUlnx2S0r6w6uqJ2FySX8xOO3pOaks7udFCpW0abQkFF8kBQJU2kQXhIOsqqzRENp73z0h+G26EOt6A+Gk7zLWFAHhVzmSJBFXVQBhf6ZHd51tbgZ45VqhLH2fPyXktbhS02y1JvC/vaTpauhq1MV9BK77TklxGOE98DAAAAwAoQUBuaVvr6ZV4fKOSqcPqU2xU98deEnqHmUnfXgflmSergqWHDXy/sZquhKOW62fbk/mfsYT69U50yHPuOmhW0u2DC2Hw+2qduM9/vvvrGtH20c8prU53VRa1IDokMetvZ7rOxBwwNigzp04SDB/7E9mu7zk6Xts8vJF6zajRYF21XZd1+wER2X0bM4lhX3diDoGyzMu5hTq4rckjPq3++dD16p6RzNP5E5CTp7LD0LZS6Sk9KUuDW1y7sYu327yrM9bwHEtsLAAAA1KlJb0R14w1Dm+QPR48elefse3aw7Cr7A1h7Jrhmxb9vdD1pIJ6UrrKv2qlUkFx2Qrq9e2EBABvvyJEjsm3bNmlqaooNAIC1RQUVsEwQnOvasO+jHc8OynRH15JVTxmfENlNOAUAAMDxgQoqAADAEqigAsDGoIIKAAAAAGgIBFQAAAAAQEMgoAIAAAAAGgIBFQAAAADQEAioAAAAAICGQEAFAAAAADQEAioAAAAAoCEQUAEAAAAADYGACgAAAABoCATUDfE96X/3Pum/w00CAAAAACoQUAEAAAAADYGAWkGrndfK/rGbpOnd+8xgxotu0R3hPDNc+z03M6iOVs4XmRu71s3/shx082oqfkt2RPsqHbe0HzN87FsyZ+ZNXGvGvWPZabcMAAAAADYjAmqiR+WK+7fL4g0fkGvOelRunHk4CI/XiBy6Ya+Z/zbZdfjLrsvuOZK388xw9Wvl/MPfDoKlCbNtN4pcc7VbX1etyQTdK2+V23a8LdjXDR+SPSkz2xz3PTc+KruucMf49Ouk1czuftXZIofvkgm77cNyz/0i55+33S4DAAAAgM2IgFrFrledY/7/NNnz6b1yuOc0kQcekdvkbtnpVUS/+yMTXA1bvdT5GjDtHJG5Hz0ictZ2ebOGzHoUH5Hvyovkmov1uJ7UqfIb5sfBa8oqpOduN6H3bvmqhuTiXXLjvWfLJ7WdAAAAALBJEVDrFATO18psWC01gw2ud9wkOw+fHVRWtYLq1l87rkJ7xdki994qbVHX33Pk4h0muP7j92Ru5i65bcd26bbrAwAAAMDmRECtU2v7djnfBMTPlj2J1wZXxwZFN976klNNoHxEZs343Ni3l74H1VZKH5Urvlq6rzTm3He4APyo3P1AMKv7YjN9/yNy8/2PuoovAAAAAGxeBNR6pV4nX7j0RUFXW+8hRq09F9iuttr1t+3+U0v3mp57gVxzlpt/u5l/lptf1TmSt/ewfjm2/9iDk9w9qvlzgy0ktV0ulVvlisNny8XhPAAAAADYpJoWDTfeMLRJ/nD06FF5zr5nB8uusj8AAAA2zJEjR2Tbtm3S1NQUGwAAa4uAuqH0K2mSvnJG72F9B/eQAgDQoAioALAxCKgAAABLIKACwMbgHlQAAAAAQEMgoAIAAAAAGgIBFQAAAADQEAioAAAAAICGwEOSAGAJTxff4sa2vhNSX3NjAHw8JAkANgYVVAAAAABAQyCgAgAAAAAaAgF1qxnPSntPTgpuEo1oXLLtPZJb5YtUyPVIz2p3UlNBcj1Z09q1oOdcY1/6vm1vt0PWW2k8G5+uqZCTnrLtAQAAsLkQUDecfugPPohHA4FykzKhawu/doXcgEx17paMm16djOzuW5B8UqDWYDkoMjQzIzNmyK30gOmsjNW5/Xh2+X8gOLTvR3JeT9nw/p/U9/rP/0Teuu/nbqIGXa/8GD0Pyufm3XIAAIAtjoB6jHQMBR/GdRhqHpFeyj6bT2FOFtzo1lOQiSmRzu60m169dHenyNREZaCbnZdiR9caBeF6FGRuhS9c6pLT5Paxl5SGdz4t7+l5TA655VX98GkputGlnSR7/WOMnS6/2+IWAQAAbHEE1AaQ6eoQWZhzH9y1K2Spulre3TGqunoLtKtnOL8nn/zJu9q2JfHjRl1Hva6X7X63VJ2fzZWqwWaffjvCQ9gumrmg62Uw368ge10+XffMYH6t6pbfztJ6yeenxzLrjHv7ji0rbRM7X++87OpJbdN5vSNSLI5Ir7e9fw1ilXF/Hz35imBrt4tVY4P2VT1+Gbt9dG5l09W291/bikrwrMxLp5TyafL7I3a+5ng1zyPdbfY4b/bs0TYMTotMD5b2YwbvVEqWvA7aRvee0nVNO3Le+yLYp7anV0aKRRnpNfOjtlZ5/y/lwhfK3vYn5brPPxVM3/KYV/l0wVXn7X9SZOZxO//Dt+jMp+Rz7y9VSd8abl+Vrv+gfO7zbv+2cltlH1qFNcs/F1Z8dV2vXf6xYlXheiq8AAAA64yAesyZD8z5aUl1dkvafni2fR1ddXVUWvKlQDTZMhrN71sYDD5wmw/4vVOdMuqqscOddqdx1bb1jGcHZaEvXMfsp3VWChoe8i3RvmdGO2Wq1wuV01Miw6V9DsiwW69PFvKlkBKs5uYPDrhtZmTU6/I5fmBe+sPjDDXLyEB5YApoO0vXZ1haZws2FA3KkJtn9tuS9wKGCSJ5d/zYdTsg8/3hfoakeWSgFHii8wq6iya2TbuTDnWIpPrs9RnLmiRX9lrM9M+7yrgJP71T0jnq5ie8SOlsv3QUp2QibINp30jzUPXju9WWVnbsmX6Zt6+hme91q50ZbhVzKUvKqsOJ7w/zvhrwz7fLxNoa5xFYkDn/OJmcOSdzHTtKr59OVqp2HjUUR2S+y61vdjpt35NpyY4NSYekpE/3NZY1czSc5qUl2veodE71JofkBDtffZIUD//c7NsExn84Qb7gKp9fuOQp2aehz4TYL1zyLJH2U+z8P7nQbHTLT2XhnWGF9BT5ta885nXjfVL2haExFiifkS/ed3KwzZ+/QNK19vHQz2Th1cGyvWf+TN7zD247u95PbXAufP5B2SdBm3T4wpk/rSMoAwAArC8C6jEyPRhWa3ptULIBR6tWxfgyrfTMa8nJBKKcXUelpbU5GCvMLbhwG0iHC3xVti0Zl8npDumP1jFrZUyiKNu3rYClvICRCitswT6bW0vbS7FUKYv2kW6VZvO/+GrBWplcrtTFs63FxAcVVN+CaxGEEa026/UJAmhaMpm0zAYXza3XLr0jxWi/qqNfQ4hKS3dnShb0BEwwKoWmNmkJDhiIziuQ3LZK+lpoKNKKqm2LVga1Mq5hz9+nvQ7l9B5N7QEbXNzxyWnp6AqOWu/xE9mg6aqFtl2DMm1DYka6OqZlMKxEpjNiLmVcc6u7bsnvj7StiOr5uqBo5un/qp2HXv+kt2ddqp6HW56oQ6JD63Xz3pMx5a+P/z5ZlhPld/ea4Oim0r96ohtLYEKrDarWidL8Yjdqxbv4/s37SvvZ8ernujFjiX28wS1rPfNZkjrTb8tT8gMTZOfueyaq6urwnq88I8X7CKgAAODYIqAeI8E9qKPSV5E2OkpVLTeEQcrvTqnZZzlWs+3G0CqWCx/addbO02pXeB1cSNOKm5kelgG7bljl8u/ptUMpfVZV6hasfwhwMxMltS1Zyqsy2sFW6Opj79EcOSDjhZzkF/pkd3QK9R8/kavylto1Jpo1MzkdHxYZ0H27kOmLup1XE74+XTKpbXPdZaufx8rv/bSqnMexdugfnhQxAdA2xX/IkXbrraHUvfZh+eJDbuYyrXYfO/aUgrAd9noBGAAA4BggoB5TQXdDGQyDVlDVSnrSqQbM3vn+6MN52A1SK6ZF78EztopXptq2JVpBrDxuxUNtChMyVYxXQNdGWRfL0b4lq4Tp7JiMmnSvVS5bVfW6FFenD/4p2kqvhtO83+256gHrb1sUzNx0RCumfrfXsu6zkXRW+vX1H7BPJ3LBtr7j28p5UqB0Vc4DFY0K6XtQz7+sGmnbHFYck98fJRnJzQxJR7h+4nko7SGwwvfPkuexCnbf3uvjvU+WdMtjsm/mJNmrwU7D6Z6n5bIw7O05ya1USYPldWeGD1w6Td4Vq37WZ7X70K7Jh79U51OIAQAANggB9ZgzH+7tvZlBt9VMLrj/Lajs6RB0wdTwk/K6seYXXEzJ5IKnALv5A/PNFQGm6raRICg3j3jH1WqY3mep91GG8+w9gF530zWjwdzrvqnBJpHf5bfd3u85HJQCZbRzqtROM/gPufG7TE91jtqKtIbaYnS+AyaeVFOjbZkuE8rctde/MOj1sn9vcOuG8/U11ntHo33MS3NSyjRsu4r+03PrvDaZ3dJnu9sG65VWK/0RJGqTVksL/gOH9LoMl1Ujgz+WTNpAWOX94T9kqV1vaC29NyrPwxiflOkVP623ynm4pcvjX1Pdh+5b72kN91t6n5QrfuVhV7F0w5f0ntMXyk5d2PJcef2LvftHv/RU9LuYvuBkSbnutHqfp71vNdrXY/J3br3lWPU+9N7YHU/Ie8L2urYFvS1Wem0BAABWp2nRcOMNQ5vkD0ePHpXn7Ht2sOwq+wOoQ/DEVr3Ht44evyinAXSyq67u0vXQqvVk1+Z8LZ4uvsWNbX0npL7mxgD4jhw5Itu2bZOmpqbYAABYW1RQASTT6rxMrlElbdzsyX+aLwAAAFCJCioALIEKKgAqqACwMQioAAAASyCgAsDGoIsvAAAAAKAhEFABAAAAAA2BgAoAAAAAaAgEVAAAAABAQyCgAgAAAAAaAgEVAAAAANAQCKgAAAAAgIZAQAUAAAAANAQC6ob4nvS/e5/03+Emqyl+S3a8+1rZX3TTtdxxkzS9+yaZcJMlwbGadPjYt2TOzQUAAACARkdA3XLOkfwNe2X20he5aQAAAADYHAioFbQCea3sH9MKpVYivYqmrVq66uS133MzvYplbL7I3Ni1bv6X5aCbV83EtWa9K2+V2+RRueLKYF9BxbX6/tVXdTudX0+1NLH9AAAAANAYCKiJTEi8f7ss3vABueasR+XGmYeD7rfXiBy6Ya+Z/zbZdfjLLkAGFctFHa5+rZx/+NtBoDVhsO1GkWuuduvrqjV0f8htLy9y2+yV/Lm6pMr+rbvluy/9QLD/e2+V94yZdlZTtf0AAAAA0BgIqFXsetU55v9Pkz2f3iuHe04TeeARuc0Ewp22AhlURL/7oyAQ2uqnzrcV0MDcjx4ROWu7vDnlZqxC0v4DZ8sntW0mxF68Q+S2+80xq6nRfgAAAABoBATUOgWB87UyG1YzzWCD6x03yc7DZweVSVsBXWN17f9hued+N1pF1fYDAAAAQIMgoNaptX27nH/vrfLZsm6xNvg5czN3RRXO1pecKnLvIzJrxufGvr3kPaglj8rdD7hRo9r+Y4p3yY33hlXfZNXaDwAAAACNgoBar9Tr5AuXvkgOXuO627qHJ7X2XCC7XNfZtvtPLd1reu4Fcs1Zbv7tZv5Zbn4t5hif3CHRMfQe0ar7t1yX3StvFbn0A8E9q+5BSG03PmoC8q3SZsZ36L2pVdoPAAAAAI2iadFw4w1Dm+QPR48elefse3aw7Cr7AwAAYMMcOXJEtm3bJk1NTbEBALC2CKgbSr8yJukrZ/Qe03dIt5sCAACNhYAKABuDgAoAALAEAioAbAzuQQUAAAAANAQCKgAAAACgIRBQAQAAAAANgYAKAAAAAGgIBFQAAAAAQEPgKb7Acezp4lvc2NZ3QuprbgwAlo+n+ALAxqCCCgAAAABoCARUAAAAAEBDIKBuNeNZae/JScFNNqZxybZnzf/XUpBcT7tka68khVyP9OSCsx3Pti/73FeyTSU9nx5xzYjR9rW3m2OULdfjLnVuEX1Nq+wfAAAA2EoIqBsuCF5BaHFDwwfKzSGTm5GZsayk3XQ94tuYoLmWr4UJlr1TnTI6Y44xMybZ5TTMl8nVuf1K2v9z+XDPj+S8suGtn3/KLV/C/E/krft+7iZq0PUqjvOgfG7eLQcAAAAMAuox0jGkoSUYhppHpLfuchrWTWFOFtzoWijMLUiqs3tZgXlVVtz+Z8m79r9Ebh8rDZfd97CcV0/w/OHTUnSjSztJ9nrHuH3sdPndFrcIAAAAMAioDSDT1SGyMOcqX9pdtFRd9XOr7Y4aLvMWlLqRtktPPjmixLa1g+tiW8hJTzSv1I3UdkHNecu8ypx/PH9+fJtg/9XanMw/9wGZcnOtKu30lXf39dufHfcr16XuxdE2uv/eESkWR6TXrBPup9q5xtrTk68Ihrpd70hRiiO9pe2rddNd6tx0eXhsN57zrqu9rFXaby5EtN5yugnv3HuK7Jj5aVThPLTPq3yGwfWWx+S8/U+KzDxu53/4Fp35lHzu/aV1l67E6voPyuc+b/al27z/J+Y8q+xDj7fvJ6Vlph2Fzz8YrRccP5DYXgAAADQ8AuoxZ4JTftpV2jREDYpE1dVRacm7UGECyGTLaDS/b2EwCCaxbqQzMtxpdxpn1hmUodK2qZT0jeYko4Gwd0o6R8Pj9ct8bym8TZuEOBxuIyNyIOF4M/3zsepvaRuz/2ptTlR+7v3SHJXmarezmqgto32yMDigE3b70b4FyZcntXRWxoY6RFJ99tzGtD9t1XMta0/CRU9nx8xxUmZ33vmn3MKYFZybCaHzXW590+bpvAmvVdrfnm8ptX+0U6bquG6B58ob2p+Rv/u2CYfzP5Fvnnmaq3qeJu+67/EgDF74QvnCJc8SaT/FLvuTC828W34qC+8MK6SnyK995TGvG++Tsi8MjWYohddn5Iv3nRxs8+cvkHStfcw8IfL7Oj9ox0flhcF6+58nP/yShlvzTjKhdZ8EbdLhC2f+tP4uywAAADimCKjHyPRgWNXqlfl+FyhkVuZNKPOXjRSLMj9rFpkAkotuQkxLa3MwVt6NNB0uqIftElqUkd7weIMybebMuexW2m9wvAWzQI+nAUmrdHabwWmv+utvY1RpczI99w7pyrhJaZOWMNAt0c5qorakW6XZ/K81apg5BXtRa6t6rtqeVKd0R6em+1+hFZ2bd53aWiRVnDdXr1JFF+N0t3Smlr5uFVpeIH/yvhPdxInysjPdaBITWm1QtU6U5he7USvexfdvon2K7Hj1c92YUWsfLz5Z3mi7BQft+LVfLe1DHnpa5syPufueiaq6OrznK89I8T4CKgAAwGZAQD1GgntQk6pqHTIUVrzckHNhxO9uqlmpbpmcjLbk3bYaiL0H7riKW+l4Sz+Mp1QVdEONBxOtuM3lVtDOtbCcc12xY3Rutf1cvjlTCoB+V9p9Zn4tpe61D8sXH3Izl2m1+9ixpxSE7bDXC8AAAABoWATUYyot2bEhkUF3H6FkpKtjurL7qWHvaZzvj0KM9uZUWjEtTk1EFUxb9StXyMmAt20YeG1FLey6W6d0d6fIyIG6uolWa3MyrZhOy2S046CabK2gnWuh6rlqxbQ4JROliy7Jd/7WYR3Pzbbfe29IYUKmivFKcjWH9j0uh9tPsZVMDafvue/5Udjb2+5WSqDB8jq/O3Csglqf1e5j56tPksOuuy8AAAA2FwLqMZeRnL1HMniwTSY3Kp1TlQ/W0bCRmh6M5ucXXOk1kwueAuzmD8w3S0VRVkPQQmlbHYKH6JQCcmlZtnb4tPc66ibeNlVuLK3a5kSmLcPBdQjWn9RisrOCdq5Epks6wi69ek5Vz9W8ZkPNpW65A/PSXOvUalrDc0tqv943G+7X3uuq9x6Xe0a+uCesWAaDDYiu6pi+4GRJeV1mr7vvWXa+8pfpfZ4aDotfedit+5j8nVtvOVa9D703dscT8h7X3rBtQTV/Hd43AAAAWDNNi4YbbxjaJH84evSoPGffs4NlV9kfWIbxbI/M7fa6jeoTX/WZQevRXRWbytPFt7ixre+E1NfcGAAs35EjR2Tbtm3S1NQUGwAAa4sK6nEgs1uf3hpW57SSNi/9hFMAAAAADYYKKnAco4IKAPWhggoAG4OACgAAsAQCKgBsDLr4AgAAAAAaAgEVAAAAANAQCKgAAAAAgIZAQAUAAAAANAQCKgAAAACgIRBQAQAAAAANgYAKAAAAAGgIBFQAAAAAQEMgoG6I70n/u/dJ/x1uclmCbZt0+Ni3ZM7NDTws+z+WND/BHTeZfdwkE25yfa3mfAEAAAAcrwioDe8cyd+wV2YvfZGb9p0mez69VxY//TppdXMAAAAAYLMioFbQ6t+1sn9MK45auTTjRbfIViFdNfPa77mZXoUzNl9kbuxaN//LctDNq6n4LdkR7cs7bqIqlVVto5nef23CMuOrCfNL7TTDkudV/fos+3wBAAAAwENATfSoXHH/dlm84QNyzVmPyo0zDwfh8RqRQzfsNfPfJrsOf9l1YQ0qnIs6XP1aOf/wt4PAZoJi240i11zt1tdVazLB78pb5bYdbwv2dcOHZE/KLUpUo7J6761y40s/EBzXjL9nzLTfulu+Wz7ftvPU2HntsOtXOS8r4fos+3wBAAAAII6AWsWuV51j/j/oQnu45zSRBx6R20zA2+lVCL/7oyD4TYRVSQ2Ydo7I3I8eETlru7y5Zsj0FB+R78qL5JqL9birdbZ8UttsQubFO0Ruu9+0xaqcP/GPd5t2niptdnl8/aTzCpVfn2WfLwAAAACUIaDWKQhgr5XZsKpoBhtc77hJdh4+O6hAaqXRrd8YHpZ77nejMXXMb+jzAgAAALAVEVDr1Nq+Xc6/91b5bNmTaW1wdeZm7ooqja0vOVXk3kdk1ozPjX176XsyU6fKb2jX2a+W7mFdteJdcuO9YbXT483vftXZpp13yc22++4jcrebX+28qln2+QIAAABAGQJqvVKvky9c+iI5eI3r9uoeDtTac4Hscl1/2+4/tXTv5bkXyDVnufm3m/lnuflVnSN5e6/nl2P710qmTrfd+Ki9t7TNjNt7RN0Dlfz5pa91cV2Rr7xV5NIPSP5cNztp/rnvkEM7TDC+Uo/5Zfmum1/1vKpZ9vkCAAAAQFzTouHGG4Y2yR+OHj0qz9n37GDZVfYHqtFAax/m9A7pdrMAAMDqHDlyRLZt2yZNTU2xAQCwtqigbqiyr26Jhptkwq0BAAAAAMcrKqgAAABLoIIKABuDCioAAAAAoCEQUAEAAAAADYGACgAAAABoCARUAAAAAEBDIKACAAAAABoCT/EFtqini29xY1vfCamvuTEAWB88xRcANgYVVAAAAABAQyCgAgAAAAAaAgF1qxnPSntPTgpu8nhRyPVIT86dtV6D9h4JJ5MVJNfTLtlxN7kBtI3t5Qesq60AAADA8YGAuuGCYNTe7g0bECg1HK0ujI1Ltlo7CznpceeykYGvqkxOZmbGJJt2042s7rbWuP5V/Vw+3PMjOa9seOvnn3LLayt8/kH58C1uogZdr/wY573/J+v+ngYAAMDWQ0A9RjqGZkwwCYah5hHpXedkNztfdGMrVJiTBTdarjAxJdI3as8ll3EzsbZqXP/aniXv2v8SuX2sNFx238Ny3r6fu+XVzd33jBurQ/spsWPc/ucvkM3w9wEAAAA0FgJqA8h0dYgszLmK07hkveqqn1vHs6X5fldR23XUze/JV8YY3W5wWmR6UNfJmiPYuZXHsd1NvWO6ymj2L8zP3hEpFk2QNtNRV1pDj907UpTiSK/ZVruqaoXY/MwF+ypVh+PHi3XHzeZKVWVzcP98/PMP+ctL5+PRdofHtfsf965dWXfauVL1N1bJdteicpt4BbzaeYTt9l+zAZPjK1S01bsW4XF1naTrX7WNte3ce4rsmPmpfG4+mD60z6t8uuCq8/bNiBzer/Mfk0M6c/4n8taoSvpgtH1Vuv77fyKfc/u3ldtq+7jlMXNss+773TLTDr8yW6rkxqvC9VR4AQAAsHkQUI85E3jy05Lq7Ja0DT+DIlF1dVRa8qWQMtkSVCl1ft/CYBQqe6c6ZdRVY4c77U5jMjmzfiqs2uYkU+04bTmZGe2ThUENfWYdk6g6R2ck99tZGRsyITrVZ48z5vVHTWfHZNTsPGUrqGFX1aKMzHcF+x7LmvPScJqXFrOv8HidU72l8DltkttwMF/Pa0CGg/W0Lfmybq3mOgyMNJumh/vqMtfALatmelAmu9z6Q80yMlDaZ3BoXWaOLSNywF3T9nxLdE1nRjtlqtcF4fEDMt/v5s8MSfPIQCkYRucRVJI1SA/KkFt3Rvqb66hie/swpy8j2qB0wvWv1cYlPVfe0P6M/N23g8D4zTNPc5XP0+Rd9z1uQ9/OvWb8xSI79uj8F8pOs9WhG56Wy8IK6Z4T5Yuf8brxzjwehcZY8HzoZ7Lw6mCbv3nfiUvs4wmR39dlQTs+Ki8M1tv/PPnhl3S9p0yAfVzEtilYr/lLdQRlAAAAbBoE1GMkqGbq0GsDTxD6ZkV74vrLRopFmZ81i0xIyUXBMC2tzcFYYW7BhdtAOlxQU+3jDPctyKCZN9U5vOL7ODu6vL6+2j011Snd0b7S0t2ZkoU5F02iZcF5Nbd6By3Om9aWBN2Jd5uQHcpIZqluxSbY7Q7XyXRJh7fPjn4N0Cpo0/SkieZl11TS3dKZWhDb3EzO68bcJi0m+Edi5xh0q/avQ1ts5Sq8fdjXMqqsx9Vs43K0vED+xATHwInysjPdaIKde4Ogav3aCRI7m1gX39Pld1vcfDlJ3nChGzVq7uPFJ8sb7XZBO37tV8N2GQ89LXMmoC48FFZ1dXhYvvjQM7LwQ7cOAAAANj0C6jESVDODymZch1cdDIYwEPldW7XL7upUP06oaBPr8SXV0ubGqit129Vg72ZuKj+Xb86UAqDflVa79Vbnda/d8zNZ2amvdh8nyd4oCAfDn3gBGAAAAJsbAfWYSkt2bEhkMLxnMSNdHdOST7iZ0N7rOd8fhUnt8am0ylacmoiqbFpZW1r145S6DHvdiFdLq3syJRPR4QoyMVWMV0rrZM935ECdXVkTjE/KdKpFKmNoqU3p7k4R75pKYUKmis2izdVwmve7WtcoimrFVCuyoVU/qMpTq41LObTvcTncfooNdhpO33Pf86Owt7fdrVRBg+VPpTl84NL+58Wrn3VZ7T60a/KTcl2dTyEGAADA5kNAPeYykrP3fQYPv9H7RfX+zLBSGj78RgNJanowmp9fcB/tM7ngKcBu/sB8c8KHftd91XbpDfaXeJy/yEr74IL0DWu3VxOeh4N22ZBqu8a64yw7tWoQ75f53vBY2n14dGVP/DXnO2q7IIf7Sn6QUkzYbh301lt7X6xKyUI+3I/XJr3ns3++tE2v3our9+7qZehwD4TSZQMmdleXzg7bkB+s2y6T4v6qsBLl179GG+OekS/ucRVLN1yn95zufa5dmr7gZEl5949ed9+z7HztZvvGHc9y3Wn1Ps/gvtVoX595wq23HKvfh94b+/rDD0ftDe93tVXtZX8NDwAAABpN06LhxhuGNskfjh49Ks/Z9+xg2VX2B1Cf8GFCUSg9fjxdfIsb2/pOSH3NjQHA+jhy5Ihs27ZNmpqaYgMAYG1RQQUAAAAANAQCKra2TM591Q0AAACARkcXXwAAgCXQxRcANgYVVAAAAABAQyCgAgAAAAAaAgEVAAAAANAQCKgAAAAAgIZAQAUAAAAANAQCKgAAAACgIRBQAQAAAAANYVMEVL5nDAAAHEt8FgGAjdGwAZUvwAYAAI2GzycAsL4avoLKfwQAAEAj4DMJAKy/TdPF9y8vflqe92w3AwAAYIP84he/IJwCwAZpWjTceMMIm6Q/qw3hcgAAgLUUhlH9WW0IlwMA1lZDBlTlh9DyIZwPAACwHvwQWj6E8wEAa29TBNTwZ/k85Y8DAACshh88/TBaHkz99QAAa6dhA6oqD6R+Uxu42QAAYJPzAyjhFAA2zqYIqKGkphJUAQDAWkkKn+XzCKgAsH4aOqCGqjWRcAoAANZatQBKMAWA9bcpAmqIQAoAADYawRQANs6mCqgAAAAAgK1rm/sJAAAAAMAxRUAFAAAAADQEAioAAAAAoCEQUAEAAAAADYGACgAAAABoCARUAAAAAEBDIKACAAAAABoCARUAAAAA0BAIqAAAAACABiDy/wNaVSU7vWKDEAAAAABJRU5ErkJggg==\n",
    "\"/>"
   ]
  },
  {
   "cell_type": "markdown",
   "metadata": {},
   "source": [
    "Maintenant que l'on sait un peu mieux déchiffrer la documentation d'une **bibliothèque**, voyons comment l'utiliser dans Python.\n",
    "\n",
    "Avant toute chose, il faut importer notre **bibliothèque**, sinon, on rencontrera l'erreur suivante :"
   ]
  },
  {
   "cell_type": "code",
   "execution_count": 3,
   "metadata": {},
   "outputs": [
    {
     "ename": "NameError",
     "evalue": "name 'pd' is not defined",
     "output_type": "error",
     "traceback": [
      "\u001b[1;31m---------------------------------------------------------------------------\u001b[0m",
      "\u001b[1;31mNameError\u001b[0m                                 Traceback (most recent call last)",
      "\u001b[1;32m<ipython-input-3-7894cd23dc16>\u001b[0m in \u001b[0;36m<module>\u001b[1;34m\u001b[0m\n\u001b[1;32m----> 1\u001b[1;33m \u001b[0mdf\u001b[0m \u001b[1;33m=\u001b[0m \u001b[0mpd\u001b[0m\u001b[1;33m.\u001b[0m\u001b[0mread_csv\u001b[0m\u001b[1;33m(\u001b[0m\u001b[1;34m\"data/module_3-tdf_2020.csv\"\u001b[0m\u001b[1;33m,\u001b[0m \u001b[0msep\u001b[0m\u001b[1;33m=\u001b[0m\u001b[1;34m\";\"\u001b[0m\u001b[1;33m,\u001b[0m \u001b[0mencoding\u001b[0m\u001b[1;33m=\u001b[0m\u001b[1;34m\"utf-8\"\u001b[0m\u001b[1;33m)\u001b[0m\u001b[1;33m\u001b[0m\u001b[1;33m\u001b[0m\u001b[0m\n\u001b[0m",
      "\u001b[1;31mNameError\u001b[0m: name 'pd' is not defined"
     ]
    }
   ],
   "source": [
    "df = pd.read_csv(\"data/module_3-tdf_2020.csv\", sep=\";\", encoding=\"utf-8\")"
   ]
  },
  {
   "cell_type": "markdown",
   "metadata": {},
   "source": [
    "Pour importer une **bibliothèque**, on utilise l'instruction `import`. Parfois, on sera amené à croiser une syntaxe différente, du type `from pandas import DataFrame` ou `from pandas import *`. Le caractère `*` désigne \"tout\", ce qui permet d'importer l'intégralité d'une **bibliothèque**. Néanmoins, importer l'intégralité d'une **bibliothèque** n'est pas nécessairement une bonne pratique et nombre de développeurs préfèrent importer uniquement les **fonctions** dont ils ont besoin : cela permet notamment d'optimiser le code.\n",
    "\n",
    "Dans notre cas, ce n'est pas très important : nous pouvons importer l'intégralité des **bibliothèques** que nous utiliserons. Simplement, ne soyez pas surpris si vous croisez des imports qui utilisent la syntaxe `from module import submodule`."
   ]
  },
  {
   "cell_type": "code",
   "execution_count": 4,
   "metadata": {},
   "outputs": [],
   "source": [
    "import pandas as pd"
   ]
  },
  {
   "cell_type": "markdown",
   "metadata": {},
   "source": [
    "Python est un monde bourré de conventions. Certaines **bibliothèques** très populaires, à l'instar de `pandas`, portent leur petit surnom qui permet de gagner beaucoup de temps lorsqu'on écrit notre code. Le mot-clé `as` permet de définir un **alias** que l'on pourra appeler lorsqu'on voudra utiliser cette **bibliothèque**.\n",
    "\n",
    "Maintenant, voyons comment `pandas` nous simplifie le travail pour ouvrir un tableau dans Python."
   ]
  },
  {
   "cell_type": "code",
   "execution_count": 6,
   "metadata": {},
   "outputs": [
    {
     "data": {
      "text/html": [
       "<div>\n",
       "<style scoped>\n",
       "    .dataframe tbody tr th:only-of-type {\n",
       "        vertical-align: middle;\n",
       "    }\n",
       "\n",
       "    .dataframe tbody tr th {\n",
       "        vertical-align: top;\n",
       "    }\n",
       "\n",
       "    .dataframe thead th {\n",
       "        text-align: right;\n",
       "    }\n",
       "</style>\n",
       "<table border=\"1\" class=\"dataframe\">\n",
       "  <thead>\n",
       "    <tr style=\"text-align: right;\">\n",
       "      <th></th>\n",
       "      <th>Unnamed: 0</th>\n",
       "      <th>created_at</th>\n",
       "      <th>hashtags</th>\n",
       "      <th>id</th>\n",
       "      <th>id_str</th>\n",
       "      <th>lang</th>\n",
       "      <th>source</th>\n",
       "      <th>text</th>\n",
       "      <th>truncated</th>\n",
       "      <th>urls</th>\n",
       "      <th>user</th>\n",
       "      <th>user_mentions</th>\n",
       "      <th>favorite_count</th>\n",
       "      <th>retweet_count</th>\n",
       "      <th>retweeted_status</th>\n",
       "    </tr>\n",
       "  </thead>\n",
       "  <tbody>\n",
       "    <tr>\n",
       "      <th>0</th>\n",
       "      <td>0</td>\n",
       "      <td>Mon Aug 31 14:24:24 +0000 2020</td>\n",
       "      <td>[]</td>\n",
       "      <td>1300439298186059777</td>\n",
       "      <td>1300439298186059777</td>\n",
       "      <td>fr</td>\n",
       "      <td>&lt;a href=\"https://mobile.twitter.com\" rel=\"nofo...</td>\n",
       "      <td>⏱️ The gap is reduced to under 2', with 55 km ...</td>\n",
       "      <td>True</td>\n",
       "      <td>[{'expanded_url': 'https://twitter.com/i/web/s...</td>\n",
       "      <td>{'created_at': 'Tue Jun 08 13:18:00 +0000 2010...</td>\n",
       "      <td>[]</td>\n",
       "      <td>NaN</td>\n",
       "      <td>NaN</td>\n",
       "      <td>NaN</td>\n",
       "    </tr>\n",
       "    <tr>\n",
       "      <th>1</th>\n",
       "      <td>1</td>\n",
       "      <td>Mon Aug 31 14:15:56 +0000 2020</td>\n",
       "      <td>[]</td>\n",
       "      <td>1300437166854680576</td>\n",
       "      <td>1300437166854680576</td>\n",
       "      <td>fr</td>\n",
       "      <td>&lt;a href=\"https://studio.twitter.com\" rel=\"nofo...</td>\n",
       "      <td>👀 Take a look at the final km of today' stage....</td>\n",
       "      <td>True</td>\n",
       "      <td>[{'expanded_url': 'https://twitter.com/i/web/s...</td>\n",
       "      <td>{'created_at': 'Tue Jun 08 13:18:00 +0000 2010...</td>\n",
       "      <td>[]</td>\n",
       "      <td>94.0</td>\n",
       "      <td>11.0</td>\n",
       "      <td>NaN</td>\n",
       "    </tr>\n",
       "    <tr>\n",
       "      <th>2</th>\n",
       "      <td>2</td>\n",
       "      <td>Mon Aug 31 14:13:54 +0000 2020</td>\n",
       "      <td>[{'text': 'TDF2020'}]</td>\n",
       "      <td>1300436654801457152</td>\n",
       "      <td>1300436654801457152</td>\n",
       "      <td>fr</td>\n",
       "      <td>&lt;a href=\"https://mobile.twitter.com\" rel=\"nofo...</td>\n",
       "      <td>RT @TeamCOFIDIS: Suite à une chute sur la 3ème...</td>\n",
       "      <td>NaN</td>\n",
       "      <td>[]</td>\n",
       "      <td>{'created_at': 'Tue Jun 08 13:18:00 +0000 2010...</td>\n",
       "      <td>[{'id': 321560085, 'id_str': '321560085', 'nam...</td>\n",
       "      <td>NaN</td>\n",
       "      <td>33.0</td>\n",
       "      <td>{'created_at': 'Mon Aug 31 14:12:49 +0000 2020...</td>\n",
       "    </tr>\n",
       "    <tr>\n",
       "      <th>3</th>\n",
       "      <td>3</td>\n",
       "      <td>Mon Aug 31 14:09:16 +0000 2020</td>\n",
       "      <td>[]</td>\n",
       "      <td>1300435489045049345</td>\n",
       "      <td>1300435489045049345</td>\n",
       "      <td>fr</td>\n",
       "      <td>&lt;a href=\"https://mobile.twitter.com\" rel=\"nofo...</td>\n",
       "      <td>❌ @BenoitCosnefroy and @NansPeters relax: the ...</td>\n",
       "      <td>True</td>\n",
       "      <td>[{'expanded_url': 'https://twitter.com/i/web/s...</td>\n",
       "      <td>{'created_at': 'Tue Jun 08 13:18:00 +0000 2010...</td>\n",
       "      <td>[{'id': 2967671063, 'id_str': '2967671063', 'n...</td>\n",
       "      <td>130.0</td>\n",
       "      <td>37.0</td>\n",
       "      <td>NaN</td>\n",
       "    </tr>\n",
       "    <tr>\n",
       "      <th>4</th>\n",
       "      <td>4</td>\n",
       "      <td>Mon Aug 31 13:56:53 +0000 2020</td>\n",
       "      <td>[]</td>\n",
       "      <td>1300432372366745603</td>\n",
       "      <td>1300432372366745603</td>\n",
       "      <td>fr</td>\n",
       "      <td>&lt;a href=\"https://mobile.twitter.com\" rel=\"nofo...</td>\n",
       "      <td>⏱️ 3'20 after @CousinJerom, @BenoitCosnefroy t...</td>\n",
       "      <td>True</td>\n",
       "      <td>[{'expanded_url': 'https://twitter.com/i/web/s...</td>\n",
       "      <td>{'created_at': 'Tue Jun 08 13:18:00 +0000 2010...</td>\n",
       "      <td>[{'id': 511673084, 'id_str': '511673084', 'nam...</td>\n",
       "      <td>79.0</td>\n",
       "      <td>10.0</td>\n",
       "      <td>NaN</td>\n",
       "    </tr>\n",
       "  </tbody>\n",
       "</table>\n",
       "</div>"
      ],
      "text/plain": [
       "   Unnamed: 0                      created_at               hashtags  \\\n",
       "0           0  Mon Aug 31 14:24:24 +0000 2020                     []   \n",
       "1           1  Mon Aug 31 14:15:56 +0000 2020                     []   \n",
       "2           2  Mon Aug 31 14:13:54 +0000 2020  [{'text': 'TDF2020'}]   \n",
       "3           3  Mon Aug 31 14:09:16 +0000 2020                     []   \n",
       "4           4  Mon Aug 31 13:56:53 +0000 2020                     []   \n",
       "\n",
       "                    id               id_str lang  \\\n",
       "0  1300439298186059777  1300439298186059777   fr   \n",
       "1  1300437166854680576  1300437166854680576   fr   \n",
       "2  1300436654801457152  1300436654801457152   fr   \n",
       "3  1300435489045049345  1300435489045049345   fr   \n",
       "4  1300432372366745603  1300432372366745603   fr   \n",
       "\n",
       "                                              source  \\\n",
       "0  <a href=\"https://mobile.twitter.com\" rel=\"nofo...   \n",
       "1  <a href=\"https://studio.twitter.com\" rel=\"nofo...   \n",
       "2  <a href=\"https://mobile.twitter.com\" rel=\"nofo...   \n",
       "3  <a href=\"https://mobile.twitter.com\" rel=\"nofo...   \n",
       "4  <a href=\"https://mobile.twitter.com\" rel=\"nofo...   \n",
       "\n",
       "                                                text truncated  \\\n",
       "0  ⏱️ The gap is reduced to under 2', with 55 km ...      True   \n",
       "1  👀 Take a look at the final km of today' stage....      True   \n",
       "2  RT @TeamCOFIDIS: Suite à une chute sur la 3ème...       NaN   \n",
       "3  ❌ @BenoitCosnefroy and @NansPeters relax: the ...      True   \n",
       "4  ⏱️ 3'20 after @CousinJerom, @BenoitCosnefroy t...      True   \n",
       "\n",
       "                                                urls  \\\n",
       "0  [{'expanded_url': 'https://twitter.com/i/web/s...   \n",
       "1  [{'expanded_url': 'https://twitter.com/i/web/s...   \n",
       "2                                                 []   \n",
       "3  [{'expanded_url': 'https://twitter.com/i/web/s...   \n",
       "4  [{'expanded_url': 'https://twitter.com/i/web/s...   \n",
       "\n",
       "                                                user  \\\n",
       "0  {'created_at': 'Tue Jun 08 13:18:00 +0000 2010...   \n",
       "1  {'created_at': 'Tue Jun 08 13:18:00 +0000 2010...   \n",
       "2  {'created_at': 'Tue Jun 08 13:18:00 +0000 2010...   \n",
       "3  {'created_at': 'Tue Jun 08 13:18:00 +0000 2010...   \n",
       "4  {'created_at': 'Tue Jun 08 13:18:00 +0000 2010...   \n",
       "\n",
       "                                       user_mentions  favorite_count  \\\n",
       "0                                                 []             NaN   \n",
       "1                                                 []            94.0   \n",
       "2  [{'id': 321560085, 'id_str': '321560085', 'nam...             NaN   \n",
       "3  [{'id': 2967671063, 'id_str': '2967671063', 'n...           130.0   \n",
       "4  [{'id': 511673084, 'id_str': '511673084', 'nam...            79.0   \n",
       "\n",
       "   retweet_count                                   retweeted_status  \n",
       "0            NaN                                                NaN  \n",
       "1           11.0                                                NaN  \n",
       "2           33.0  {'created_at': 'Mon Aug 31 14:12:49 +0000 2020...  \n",
       "3           37.0                                                NaN  \n",
       "4           10.0                                                NaN  "
      ]
     },
     "execution_count": 6,
     "metadata": {},
     "output_type": "execute_result"
    }
   ],
   "source": [
    "tableau = pd.read_csv(\"data/module_3-tdf_2020.csv\", sep=\";\", encoding=\"utf-8\")\n",
    "tableau.head()"
   ]
  },
  {
   "cell_type": "markdown",
   "metadata": {},
   "source": [
    "Hop, premier réflexe maintenant que nous savons lire une documentation : on fonce sur la documentation de `pandas` pour comprendre plus en détail comment marchent les **fonctions** `.read_csv()` et `.head()` de la classe `pandas` (on en profite aussi pour réviser notre **programmation orientée objet** !). Rendez-vous à cette adresse : https://pandas.pydata.org/pandas-docs/stable/reference/api/pandas.read_csv.html.\n",
    "\n",
    "Nous n'allons pas commenter ici toute la fonction `.read_csv()`, mais je vous invite néanmoins à prendre le temps de regarder au moins en diagonale sa documentation. Comme vous l'aurez peut-être compris, il s'agit plutôt de vous montrer les bonnes habitudes à prendre lorsqu'on travaille avec une **bibliothèque** que d'explorer en détail ses profondeurs.\n",
    "\n",
    "Pour notre usage dans le cadre de cette formation, nous n'aurons pas besoin de beaucoup plus que les quelques lignes plus haut : ouvrir un fichier **CSV** en définissant la façon dont les colonnes sont séparées entre elles (habituellement, par des virgules ou par des point-virgules) et définir son encodage pour ne pas avoir de mauvaises suprises avec les accents notamment !"
   ]
  },
  {
   "cell_type": "markdown",
   "metadata": {},
   "source": [
    "#### <div id=\"\">3. 3. 2. Les fonctionnalités de base de <code>pandas</code></div>"
   ]
  },
  {
   "cell_type": "markdown",
   "metadata": {},
   "source": [
    "Maintenant que nous savons ouvrir un fichier avec `pandas`, voyons comment on peut écrire un **CSV** en une ligne de code !"
   ]
  },
  {
   "cell_type": "code",
   "execution_count": 10,
   "metadata": {},
   "outputs": [
    {
     "name": "stdout",
     "output_type": "stream",
     "text": [
      "<class 'pandas.core.frame.DataFrame'>\n"
     ]
    }
   ],
   "source": [
    "# Vérifions si nous avons bien un tableau pandas\n",
    "print(type(tableau))\n",
    "\n",
    "# Choisissons d'exporter notre tableau avec des virgules comme séparateurs de colonnes\n",
    "tableau.to_csv(\"mon_tableau.csv\", sep=\",\", encoding=\"utf-8\")"
   ]
  },
  {
   "cell_type": "markdown",
   "metadata": {},
   "source": [
    "Et voilà, littéralement une seule ligne de code ! Le fichier a été exporté à la racine du dossier dans lequel est ouvert actuellement le Jupyter Notebook."
   ]
  },
  {
   "cell_type": "markdown",
   "metadata": {},
   "source": [
    "Si nous n'allons pas explorer en détail `pandas`, tentons néamoins de comprendre simplement comment construire un tableau. Les tableaux dans `pandas` se nomment les `DataFrame` : il s'agit d'un type de donnée propre à la **bibliothèque**. Il existe de nombreuses **méthodes** grâce auxquelles interagir avec.\n",
    "\n",
    "Un `DataFrame` correspond à une liste contenant des **dictionnaires**. Chaque dictionnaire représente une ligne du tableau et le **clé** du **dictionnaire** l'intitulé d'une colonne. Ainsi, en formatant de la sorte nos fichiers, il sera très facile d'exporter des tableaux sur lesquels on pourra ensuite travailler dans Excel ou dans n'importe quel autre logiciel de notre choix.\n",
    "\n",
    "Illustrons cela avec un exemple simple."
   ]
  },
  {
   "cell_type": "code",
   "execution_count": 12,
   "metadata": {},
   "outputs": [
    {
     "name": "stdout",
     "output_type": "stream",
     "text": [
      "[{'fruit': 'Poires', 'quantite': 10}, {'fruit': 'Pommes', 'quantite': 25}, {'fruit': 'Oranges', 'quantite': 5}]\n"
     ]
    }
   ],
   "source": [
    "fruit_1 = {\"fruit\": \"Poires\", \"quantite\": 10}\n",
    "fruit_2 = {\"fruit\": \"Pommes\", \"quantite\": 25}\n",
    "fruit_3 = {\"fruit\": \"Oranges\", \"quantite\": 5}\n",
    "\n",
    "list_fruits = [fruit_1, fruit_2, fruit_3]\n",
    "print(list_fruits)"
   ]
  },
  {
   "cell_type": "markdown",
   "metadata": {},
   "source": [
    "On a créé ici trois **dictionnaires** de façon explicite (`fruit_1`, `fruit_2`, `fruit_3`). Chacun comporte deux **clés** : `fruit` et `quantite`. On a ensuite créé une **liste** `list_fruits` dans laquelle on a inséré nos trois **dictionnaires** différents. Nous avons donc notre **liste** de **dictionnaires**.\n",
    "\n",
    "Avec une telle **structure de données imbriquée**, on peut appeler la **méthode** `.DataFrame()` de `pandas` qui permet de créer un `DataFrame` (pour rappel, un `DataFrame` n'est rien d'autre qu'un tableau).\n",
    "\n",
    "Sans plus d'effort, on obtient un tableau que l'on peut directement exporter au format **CSV**."
   ]
  },
  {
   "cell_type": "code",
   "execution_count": 14,
   "metadata": {},
   "outputs": [],
   "source": [
    "df = pd.DataFrame(list_fruits)\n",
    "df.to_csv(\"mes_fruits.csv\", sep=\";\", encoding=\"utf-8\")"
   ]
  },
  {
   "cell_type": "markdown",
   "metadata": {},
   "source": [
    "## <div id=\"Gérer les erreurs\">4. Gérer les erreurs</div>"
   ]
  },
  {
   "cell_type": "markdown",
   "metadata": {},
   "source": [
    "Profitons de ce nouveau chapitre pour nous rafraîchir la mémoire. Nous avons parfois croisé des erreurs que Python renvoie lorsque notre code n'est pas bien formaté, par exemple, ou lorsque nous oublions de déclarer une **variable**.\n",
    "\n",
    "En jonglant avec nos données, nous serons amenés à vouloir gérer certaines de ces **erreurs**. En effet, le comportement standard de Python face à une erreur consiste à mettre fin immédiatement à l'exécution du script en cours. Dans certains cas, il peut s'agir d'une chose que l'on veut éviter et on préfera que Python continue l'exécution du script et réagisse d'une certaine façon lorsqu'il rencontre une **erreur**.\n",
    "\n",
    "Voyons la syntaxe et la logique de la gestion des **erreurs** avec Python à travers un exemple."
   ]
  },
  {
   "cell_type": "code",
   "execution_count": 16,
   "metadata": {},
   "outputs": [
    {
     "ename": "NameError",
     "evalue": "name 'add_one' is not defined",
     "output_type": "error",
     "traceback": [
      "\u001b[1;31m---------------------------------------------------------------------------\u001b[0m",
      "\u001b[1;31mNameError\u001b[0m                                 Traceback (most recent call last)",
      "\u001b[1;32m<ipython-input-16-b4ee0d5ad5ca>\u001b[0m in \u001b[0;36m<module>\u001b[1;34m\u001b[0m\n\u001b[0;32m      1\u001b[0m \u001b[0mlist_1\u001b[0m \u001b[1;33m=\u001b[0m \u001b[1;33m[\u001b[0m\u001b[1;36m1\u001b[0m\u001b[1;33m,\u001b[0m \u001b[1;36m2\u001b[0m\u001b[1;33m,\u001b[0m \u001b[1;36m3\u001b[0m\u001b[1;33m]\u001b[0m\u001b[1;33m\u001b[0m\u001b[1;33m\u001b[0m\u001b[0m\n\u001b[1;32m----> 2\u001b[1;33m \u001b[0madd_one\u001b[0m\u001b[1;33m(\u001b[0m\u001b[0mlist_1\u001b[0m\u001b[1;33m)\u001b[0m\u001b[1;33m\u001b[0m\u001b[1;33m\u001b[0m\u001b[0m\n\u001b[0m",
      "\u001b[1;31mNameError\u001b[0m: name 'add_one' is not defined"
     ]
    }
   ],
   "source": [
    "list_1 = [1, 2, 3]\n",
    "add_one(list_1)"
   ]
  },
  {
   "cell_type": "markdown",
   "metadata": {},
   "source": [
    "Rappelons-nous qu'une **fonction**, comme une **variable** ou n'importe quel autre **objet** doit être défini avant d'être appelé. Ici, nous essayons d'appeler la **fonction** `add_one()` avant de l'avoir définie. Notons que Python nous indique quel **type d'erreur** notre script a généré : il s'agit d'une `NameError`.\n",
    "\n",
    "Python dispose d'une **structure de contrôle** un peu spécifique, similaire au **`if`/`else`** qui est spécifiquement dédiée à la gestion des **erreurs**. En soi, on peut gérer nos **erreurs** à l'aide d'un **bloc `if`/`else`**, mais il ne permet pas de le faire aussi facilement que ce **bloc** dédié, **`try`/`except`**."
   ]
  },
  {
   "cell_type": "markdown",
   "metadata": {},
   "source": [
    "Un **bloc `try`/`except`** fonctionne de la façon suivante :\n",
    "* Dans le **bloc** `try`, on définit un code à exécuter\n",
    "* Dans le **bloc** `except`, on définit le code à exécuter si jamais le code compris dans le **bloc `try`** rencontre une **erreur**\n",
    "\n",
    "Voyons un exemple pour éclaircir cela et reprenons pour cela notre fonction `add_one()` que nous n'avons pas défini."
   ]
  },
  {
   "cell_type": "code",
   "execution_count": 17,
   "metadata": {},
   "outputs": [
    {
     "name": "stdout",
     "output_type": "stream",
     "text": [
      "La fonction add_one() n'est pas définie !\n"
     ]
    }
   ],
   "source": [
    "list_1 = [1, 2, 3]\n",
    "\n",
    "# On peut essayer d'utiliser la fonction add_one() sans l'avoir définie au préalable\n",
    "try:\n",
    "    add_one(list_1)\n",
    "# Si la portion de code située dans le bloc try rencontre une erreur, alors, l'interpréteur Python entrera dans le bloc except\n",
    "except:\n",
    "    print(\"La fonction add_one() n'est pas définie !\")"
   ]
  },
  {
   "cell_type": "markdown",
   "metadata": {},
   "source": [
    "Le **bloc `except`** permet d'entrer un peu plus dans le détail en précisant face à quel type d'erreur il doit réagir. Dans le cas de notre fonction non définie, l'**erreur** est de type `NameError`. On peut donc le préciser."
   ]
  },
  {
   "cell_type": "code",
   "execution_count": 5,
   "metadata": {},
   "outputs": [
    {
     "name": "stdout",
     "output_type": "stream",
     "text": [
      "[2, 3, 4]\n"
     ]
    }
   ],
   "source": [
    "list_1 = [1, 2, 3]\n",
    "\n",
    "try:\n",
    "    a = add_one(list_1)\n",
    "    print(a)\n",
    "\n",
    "except NameError:\n",
    "\n",
    "    def add_one(liste):\n",
    "        result = []\n",
    "        for element in liste:\n",
    "            result.append(element + 1)\n",
    "        return result\n",
    "    \n",
    "    print(\"La fonction add_one vient d'être définie. Vous pouvez à présenter l'utiliser !\")"
   ]
  },
  {
   "cell_type": "markdown",
   "metadata": {},
   "source": [
    "## <div id=\"Les expressions régulières\">5. Les expressions régulières</div>"
   ]
  },
  {
   "cell_type": "markdown",
   "metadata": {},
   "source": [
    "### <div id=\"Eléments généraux\">5. 1. Eléments généraux</div>"
   ]
  },
  {
   "cell_type": "markdown",
   "metadata": {},
   "source": [
    "Dernière ligne droite avant d'attaquer la pratique autour du **web scraping**, faisons la rencontre avec notre futur meilleur ami : les **regex**. Les **regex** (ou **expressions régulières**) sont des représentations abstraites de **motifs** de texte. En voilà aussi une définition bien abstraite. Comme souvent, mieux vaut un bon exemple qu'un long discours, donc voyons cela d'emblée."
   ]
  },
  {
   "cell_type": "code",
   "execution_count": 3,
   "metadata": {},
   "outputs": [
    {
     "name": "stdout",
     "output_type": "stream",
     "text": [
      "<re.Match object; span=(0, 1), match='B'>\n"
     ]
    }
   ],
   "source": [
    "import re\n",
    "\n",
    "string1 = \"Bonjour. Plus qu'un chapitre avant le web scraping ? Bonne nouvelle !\"\n",
    "\n",
    "print(re.match(\"B\", string1))"
   ]
  },
  {
   "cell_type": "markdown",
   "metadata": {},
   "source": [
    "Avec Python, il faut importer la **bibliothèque** dédiée aux **expressions régulières** nommée `re`. Inutile de l'installer au préalable, elle est comprise dans la version de Python 3 que vous utilisez a priori.\n",
    "\n",
    "L'usage principal des **expressions régulières** consiste à rechercher dans des **chaînes de caractères** des **motifs** particuliers. Dans l'exemple ci-dessus, on recherche dans notre variable `string1` la lettre `\"B\"`.\n",
    "\n",
    "Pour vérifier qu'un **motif** particulier se trouve dans une **chaîne de caractère**, on peut utiliser la méthode `.match(regex, string)` du module `re`. Celle-ci prend trois arguments, mais arrêtons-nous pour l'instant aux deux premiers qui sont obligatoires :\n",
    "* Un **motif** à recherche (`regex`)\n",
    "* Une **chaîne de caractère** dans laquelle chercher (`string`)"
   ]
  },
  {
   "cell_type": "markdown",
   "metadata": {},
   "source": [
    "### <div id=\"La fonction .search()\">5. 2. La fonction <code>.search()</code></div>"
   ]
  },
  {
   "cell_type": "markdown",
   "metadata": {},
   "source": [
    "Comme nous l'avons mentionné, les **expressions régulières** permettent de repérer des **motifs** dans des **chaînes de caractères**. Rechercher une lettre ou même un mot paraît un peu limité, voyons donc maintenant comment aller plus loin.\n",
    "\n",
    "En plus des caractères \"ordinaires\", les **expressions régulières** définissent des **caractères spéciaux**. Dressons-en tout d'abord la liste avant d'illustrer leur fonctionnement avec des exemples.\n",
    "\n",
    "|Caractère spécial|Description|\n",
    "|---|---|\n",
    "|`.`|Correspond à n'importe quel caractère sauf un retour à la ligne.|\n",
    "|`*`|Correspond à aucune ou plusieurs répétitions de l'expression à laquelle `*` succède jusqu'à un espace ou un saut de ligne.|\n",
    "|`+`|Correspond à une un plusieurs répétitions de l'expression à laquelle `+` succède.|\n",
    "|`?`|Correspond à aucune ou une répétition de l'expression à laquelle `?` succède.|"
   ]
  },
  {
   "cell_type": "code",
   "execution_count": 111,
   "metadata": {},
   "outputs": [
    {
     "name": "stdout",
     "output_type": "stream",
     "text": [
      "<re.Match object; span=(0, 3), match='Bon'>\n",
      "<re.Match object; span=(0, 4), match='Bonn'>\n"
     ]
    }
   ],
   "source": [
    "import re\n",
    "\n",
    "string1 = \"Bonjour, aujourd'hui, nous faisons encore du Python.\"\n",
    "string2 = \"Bonne nouvelle, plus qu'un chapitre avant le web scraping ? Encore une bonne dose de théorie et c'est fini !\"\n",
    "\n",
    "print(re.search(\"Bon\", string1))\n",
    "print(re.search(\"Bon\", string2))"
   ]
  },
  {
   "cell_type": "markdown",
   "metadata": {},
   "source": [
    "Quelques explications sur ce que renvoie la **fonction** `.search()` de la bibliothèque `re`. On a deux informations :\n",
    "* Span : nous indique quelle portion de la **chaîne de caractères** correspond au **motif** défini\n",
    "* Match : nous indique le **motif** repéré dans la **chaîne de caractères** correspondant précisément au **motif** d'**expression régulière** défini\n",
    "\n",
    "Remarquons également la différence entre ces deux exemples et notons un détail au passage : les **expressions régulières** sont **sensibles à la casse**, c'est-à-dire qu'il faut faire la différence entre une lettre minuscule et une lettre majuscule lorsque nous définissons le motif à rechercher (nous voyons cela dans la `string2`)."
   ]
  },
  {
   "cell_type": "code",
   "execution_count": 27,
   "metadata": {},
   "outputs": [
    {
     "name": "stdout",
     "output_type": "stream",
     "text": [
      "<re.Match object; span=(0, 3), match='Bon'>\n"
     ]
    }
   ],
   "source": [
    "string = \"Bon, Bonjour, Bonbon.\"\n",
    "\n",
    "print(re.search(\"Bon\", string))"
   ]
  },
  {
   "cell_type": "markdown",
   "metadata": {},
   "source": [
    "Dans cet exemple, notons une autre spécificité de la **fonction** `.search()` : elle ne renvoie que le premier **motif** rencontré et s'arrête immédiatement."
   ]
  },
  {
   "cell_type": "markdown",
   "metadata": {},
   "source": [
    "### <div id=\"#Utiliser des classes de caractères\">5. 3. Utiliser des classes de caractères</div>"
   ]
  },
  {
   "cell_type": "markdown",
   "metadata": {},
   "source": [
    "Si nous parlons de **motifs** pour caractériser la puissance des **expressions régulières**, ce n'est pas pour se limiter aux exemples assez basiques que nous venons de voir. Une particularité de la recherche à l'aide des **expressions régulières** est l'utilisation des **classes de caractères**. Le principe est très simple : définir entre crochets, tous les éléments qui doivent être recherchés.\n",
    "\n",
    "Voyons un exemple pour clarifier cela.\n",
    "\n",
    "Imaginons que nous travaillons pour une agence immobilière ou un bailleur et que l'on ait à gérer différents appartements. Nous avons une grande liste contenant les numéros de chaque appartement mais nous ne savons pas à quel immeuble ils correspondent. Par chance, il se trouve qu'il y un **motif** particulier qui se dégage dans la façon dont les numéros ont été attribué dans les deux immeubles.\n",
    "\n",
    "En effet, le premier immeuble (on l'appelera `immeuble_A`) a numéroté ses appartements sous la forme : \\<LettreMajuscule>\\<DeuxChiffre>. Exemple : `\"A23\"` ou `\"B34\"`. Le second immeuble (`immeuble_B`) a numéroté ses appartements sous la forme : \\<DeuxChiffres>-\\<LettreMajuscule>. Exemple : `\"52-E\"` ou `\"45-D\"`.\n",
    "\n",
    "Grâce aux **classes de caractères**, on peut définir des ensembles de **caractères** qui doivent être recherchés."
   ]
  },
  {
   "cell_type": "code",
   "execution_count": 32,
   "metadata": {},
   "outputs": [
    {
     "name": "stdout",
     "output_type": "stream",
     "text": [
      "<re.Match object; span=(0, 1), match='A'>\n",
      "<re.Match object; span=(0, 1), match='B'>\n",
      "<re.Match object; span=(0, 1), match='A'>\n",
      "<re.Match object; span=(3, 4), match='C'>\n",
      "<re.Match object; span=(0, 1), match='D'>\n",
      "<re.Match object; span=(3, 4), match='E'>\n",
      "<re.Match object; span=(3, 4), match='A'>\n",
      "<re.Match object; span=(3, 4), match='A'>\n",
      "<re.Match object; span=(3, 4), match='B'>\n",
      "<re.Match object; span=(0, 1), match='B'>\n",
      "<re.Match object; span=(3, 4), match='D'>\n",
      "<re.Match object; span=(3, 4), match='E'>\n",
      "<re.Match object; span=(0, 1), match='B'>\n",
      "<re.Match object; span=(0, 1), match='A'>\n"
     ]
    }
   ],
   "source": [
    "appartements = [\"A23\", \"B34\", \"A26\", \"20-C\", \"D10\", \"58-E\", \"96-A\", \"87-A\", \"12-B\", \"B01\", \"45-D\", \"51-E\", \"B38\", \"A04\"]\n",
    "\n",
    "for appartement in appartements:\n",
    "    print(re.search(\"[A-Z]\", appartement))"
   ]
  },
  {
   "cell_type": "markdown",
   "metadata": {},
   "source": [
    "Pas terrible à ce stade, chaque entrée de notre liste `appartements` est \"matchée\"...\n",
    "\n",
    "Par contre, on peut constater qu'il n'y a pas de numéro d'appartement qui contienne de `\"E\"` dans l'`immeuble_A`. Voyons comment identifier les appartements qui n'ont que les lettres `\"A\"`, `\"B\"`, `\"C\"` et `\"D\"`."
   ]
  },
  {
   "cell_type": "code",
   "execution_count": 33,
   "metadata": {},
   "outputs": [
    {
     "name": "stdout",
     "output_type": "stream",
     "text": [
      "<re.Match object; span=(0, 1), match='A'>\n",
      "<re.Match object; span=(0, 1), match='B'>\n",
      "<re.Match object; span=(0, 1), match='A'>\n",
      "<re.Match object; span=(3, 4), match='C'>\n",
      "<re.Match object; span=(0, 1), match='D'>\n",
      "None\n",
      "<re.Match object; span=(3, 4), match='A'>\n",
      "<re.Match object; span=(3, 4), match='A'>\n",
      "<re.Match object; span=(3, 4), match='B'>\n",
      "<re.Match object; span=(0, 1), match='B'>\n",
      "<re.Match object; span=(3, 4), match='D'>\n",
      "None\n",
      "<re.Match object; span=(0, 1), match='B'>\n",
      "<re.Match object; span=(0, 1), match='A'>\n"
     ]
    }
   ],
   "source": [
    "for appartement in appartements:\n",
    "    print(re.search(\"[ABCD]\", appartement))"
   ]
  },
  {
   "cell_type": "markdown",
   "metadata": {},
   "source": [
    "On voit ainsi qu'indiquer entre crochets une série de **caractères** permet de définir une **classe** particulière qui sera recherchée. On peut la modifier à loisir !"
   ]
  },
  {
   "cell_type": "code",
   "execution_count": 38,
   "metadata": {},
   "outputs": [
    {
     "name": "stdout",
     "output_type": "stream",
     "text": [
      "<re.Match object; span=(0, 3), match='c10'>\n",
      "<re.Match object; span=(0, 3), match='C10'>\n",
      "<re.Match object; span=(0, 3), match='410'>\n",
      "<re.Match object; span=(0, 3), match='e10'>\n",
      "<re.Match object; span=(0, 3), match='t10'>\n",
      "<re.Match object; span=(0, 3), match='110'>\n"
     ]
    }
   ],
   "source": [
    "codes_obscurs = [\"c10\", \"C10\", \"410\", \"e10\", \"t10\", \"110\"]\n",
    "\n",
    "for code in codes_obscurs:\n",
    "    print(re.search(\"[cC4et1]10\", code))"
   ]
  },
  {
   "cell_type": "markdown",
   "metadata": {},
   "source": [
    "Comme on peut le voir dans l'exemple précédent, nous avons défini une **expression régulière** qui comporte les indication suivantes :\n",
    "* La **chaîne de caractère** doit commencer par la lettre `c`, `C`, `e`, ou `t` mais aussi les chiffres `4` et `1`\n",
    "* A cela, doivent succéder les caractères `1` et `0` à la suite (donc `10`)"
   ]
  },
  {
   "cell_type": "markdown",
   "metadata": {},
   "source": [
    "Pour nous simplifier la tâche, il existe des **classes de caractères** prédéfinies qui sont bien utiles pour bon nombre de recherches.\n",
    "\n",
    "|Classe de caractères|Description|\n",
    "|---|---|\n",
    "|`[0-9]`|Correspond à n'importe quel chiffre.|\n",
    "|`[A-Z]`|Correspond à n'importe quelle lettre majuscule.|\n",
    "|`[a-ZA-Z]`|Correspond à n'importe quelle lettre.|\n",
    "|`[0-5a-dA-D]`|Correspond à n'importe quel chiffre entre `0` et `5`, n'importe quelle lettre minuscule entre `a` et `d`, à n'importe quelle lettre majuscule entre `A` et `D`.|\n",
    "|`\\w`|Correspond à n'importe quelle lettre ou n'importe quel chiffre, ainsi que l'underscore (équivalent à `[0-9a-zA-Z_]`).|\n",
    "|`\\W`|Correspond à n'importe quel caractère qui n'est pas un mot (c'est l'opposé de `\\w` en somme).|\n",
    "|`\\d`|Correspond à n'importe quel chiffre.|\n",
    "|`\\D`|Correspond à n'importe quoi, sous un chiffre.|\n",
    "|`\\b`|Correspond à une chaîne vide (`\"\"`).|\n",
    "\n",
    "Il en existe d'autres qui sont moins utilisés mais peuvent être ponctuellement utiles. On peut les retrouver sur la documentation officielle du module `re` : https://docs.python.org/3/library/re.html."
   ]
  },
  {
   "cell_type": "markdown",
   "metadata": {},
   "source": [
    "### <div id=\"Contrôler le nombre d'occurrences avec les quantificateurs\">5. 4. Contrôler le nombre d'occurrences avec les quantificateurs</div>"
   ]
  },
  {
   "cell_type": "markdown",
   "metadata": {},
   "source": [
    "Revenons à notre exemple des numéros d'appartements. Pour identifier les **motifs** précis de nos numéros d'appartements, on peut adjoindre à chaque **caractère** ou chaque **classe de caractères** le nombre d'occurrences que l'on recherche.\n",
    "\n",
    "Voyons un exemple pour clarifier cela."
   ]
  },
  {
   "cell_type": "code",
   "execution_count": 42,
   "metadata": {},
   "outputs": [
    {
     "name": "stdout",
     "output_type": "stream",
     "text": [
      "None\n",
      "None\n",
      "None\n",
      "None\n",
      "None\n",
      "None\n",
      "<re.Match object; span=(0, 3), match='140'>\n",
      "None\n",
      "None\n",
      "<re.Match object; span=(0, 3), match='120'>\n",
      "None\n",
      "None\n",
      "None\n",
      "None\n",
      "None\n",
      "None\n"
     ]
    }
   ],
   "source": [
    "appartements = [\"A23\", \"B34\", \"A26\", \"20-C\", \"D10\", \"58-E\", \"140-A\", \"96-A\", \"87-A\", \"120-B\", \"12-B\", \"B01\", \"45-D\", \"51-E\", \"B38\", \"A04\"]\n",
    "\n",
    "for appartement in appartements:\n",
    "    print(re.search(\"[0-9]{3}\", appartement))"
   ]
  },
  {
   "cell_type": "markdown",
   "metadata": {},
   "source": [
    "Ici, nous recherchons donc des **motifs** dans lesquels trois chiffres se succèdent.\n",
    "\n",
    "De la même façon que pour les **classes de caractères**, on peut définir des intervales dans le nombre d'occurrences que l'on recherche."
   ]
  },
  {
   "cell_type": "code",
   "execution_count": 52,
   "metadata": {},
   "outputs": [
    {
     "name": "stdout",
     "output_type": "stream",
     "text": [
      "None\n",
      "None\n",
      "None\n",
      "None\n",
      "None\n",
      "None\n",
      "<re.Match object; span=(0, 3), match='140'>\n",
      "None\n",
      "None\n",
      "<re.Match object; span=(0, 3), match='120'>\n",
      "None\n",
      "None\n",
      "None\n",
      "None\n",
      "None\n",
      "None\n"
     ]
    }
   ],
   "source": [
    "appartements = [\"A23\", \"B34\", \"A26\", \"20-C\", \"D10\", \"58-E\", \"140-A\", \"96-A\", \"87-A\", \"120-B\", \"12-B\", \"B01\", \"45-D\", \"51-E\", \"B38\", \"A04\"]\n",
    "\n",
    "# Trois chiffres ou plus\n",
    "for appartement in appartements:\n",
    "    print(re.search(\"[0-9]{3,}\", appartement))"
   ]
  },
  {
   "cell_type": "code",
   "execution_count": 53,
   "metadata": {},
   "outputs": [
    {
     "name": "stdout",
     "output_type": "stream",
     "text": [
      "<re.Match object; span=(1, 3), match='23'>\n",
      "<re.Match object; span=(1, 3), match='34'>\n",
      "<re.Match object; span=(1, 3), match='26'>\n",
      "<re.Match object; span=(0, 2), match='20'>\n",
      "<re.Match object; span=(1, 3), match='10'>\n",
      "<re.Match object; span=(0, 2), match='58'>\n",
      "<re.Match object; span=(0, 3), match='140'>\n",
      "<re.Match object; span=(0, 2), match='96'>\n",
      "<re.Match object; span=(0, 2), match='87'>\n",
      "<re.Match object; span=(0, 3), match='120'>\n",
      "<re.Match object; span=(0, 2), match='12'>\n",
      "<re.Match object; span=(1, 3), match='01'>\n",
      "<re.Match object; span=(0, 2), match='45'>\n",
      "<re.Match object; span=(0, 2), match='51'>\n",
      "<re.Match object; span=(1, 3), match='38'>\n",
      "<re.Match object; span=(1, 3), match='04'>\n"
     ]
    }
   ],
   "source": [
    "appartements = [\"A23\", \"B34\", \"A26\", \"20-C\", \"D10\", \"58-E\", \"140-A\", \"96-A\", \"87-A\", \"120-B\", \"12-B\", \"B01\", \"45-D\", \"51-E\", \"B38\", \"A04\"]\n",
    "\n",
    "# Deux ou trois chiffres\n",
    "for appartement in appartements:\n",
    "    print(re.search(\"[0-9]{2,3}\", appartement))"
   ]
  },
  {
   "cell_type": "code",
   "execution_count": 54,
   "metadata": {},
   "outputs": [
    {
     "name": "stdout",
     "output_type": "stream",
     "text": [
      "<re.Match object; span=(1, 3), match='23'>\n",
      "<re.Match object; span=(1, 3), match='34'>\n",
      "<re.Match object; span=(1, 3), match='26'>\n",
      "<re.Match object; span=(0, 2), match='20'>\n",
      "<re.Match object; span=(1, 3), match='10'>\n",
      "<re.Match object; span=(0, 2), match='58'>\n",
      "<re.Match object; span=(0, 3), match='140'>\n",
      "<re.Match object; span=(0, 2), match='96'>\n",
      "<re.Match object; span=(0, 2), match='87'>\n",
      "<re.Match object; span=(0, 3), match='120'>\n",
      "<re.Match object; span=(0, 2), match='12'>\n",
      "<re.Match object; span=(1, 3), match='01'>\n",
      "<re.Match object; span=(0, 2), match='45'>\n",
      "<re.Match object; span=(0, 2), match='51'>\n",
      "<re.Match object; span=(1, 3), match='38'>\n",
      "<re.Match object; span=(1, 3), match='04'>\n"
     ]
    }
   ],
   "source": [
    "appartements = [\"A23\", \"B34\", \"A26\", \"20-C\", \"D10\", \"58-E\", \"140-A\", \"96-A\", \"87-A\", \"120-B\", \"12-B\", \"B01\", \"45-D\", \"51-E\", \"B38\", \"A04\"]\n",
    "\n",
    "# Deux chiffres ou plus\n",
    "for appartement in appartements:\n",
    "    print(re.search(\"[0-9]{2,}\", appartement))"
   ]
  },
  {
   "cell_type": "markdown",
   "metadata": {},
   "source": [
    "<div class=\"alert alert-success\" role=\"alert\"><strong>Troisième exercice :</strong> Définissez deux expressions régulières différentes qui permettent de distinguer les appartements de l'<code>immeuble_A</code> et de l'<code>immeuble_B</code>. On stockera le résultat dans deux variables qui portent ce même nom.</div>"
   ]
  },
  {
   "cell_type": "markdown",
   "metadata": {},
   "source": [
    "<div class=\"alert alert-danger\"><strong>Utiliser des expressions régulières pour isoler des motifs :</strong> Il existe plusieurs façons de procéder, le plus important est de déterminer une méthode générale qui permette de gérer tous les cas possibles.\n",
    "\n",
    "<pre>\n",
    "<code>#Pour l'immeuble_A\n",
    "appartements = [\"A23\", \"B34\", \"A26\", \"20-C\", \"D10\", \"58-E\", \"140-A\", \"96-A\", \"87-A\", \"120-B\", \"12-B\", \"B01\", \"45-D\", \"51-E\", \"B38\", \"A04\"]\n",
    "\n",
    "immeuble_A = []\n",
    "\n",
    "for appartement in appartements:\n",
    "    immeuble_A.append(re.search(\"[A-D]{1}[0-9]{2}\", appartement))\n",
    "    \n",
    "print(immeuble_A)\n",
    "\n",
    "#Pour l'immeuble_B\n",
    "immeuble_B = []\n",
    "\n",
    "for appartement in appartements:\n",
    "    immeuble_B.append(re.search(\"[0-9]{2,3}-[A-Z]{1}\", appartement))\n",
    "    \n",
    "print(immeuble_B)</code>\n",
    "</pre>\n",
    "</div>"
   ]
  },
  {
   "cell_type": "markdown",
   "metadata": {},
   "source": [
    "Il existe de multiples façons de contrôler le nombre d'occurrences d'un **caractère** ou d'une **classe de caractères**. Ci-dessous, un tableau en résumant différents **quantificateurs** existants :\n",
    "\n",
    "|Quantificateur|Description|\n",
    "|---|---|\n",
    "|`*`|Correspond à aucune, une ou plusieurs fois le caractère précédent.|\n",
    "|`+`|Correspond à une ou plusieurs fois le caractère précédent.|\n",
    "|`?`|Correspond à aucune ou une seule fois le caractère précédent.|\n",
    "|`{m}`|Correspond à `m` fois le caractère précédent.|\n",
    "|`{m,}`|Correspond à au moins `m` fois le caractère précédent.|\n",
    "|`{,m}`|Correspond à `m` fois ou moins le caractère précédent.|\n",
    "|`{m, n}`|Correspond à une répétition entre `m` et `n` fois le caractère précédent.|"
   ]
  },
  {
   "cell_type": "markdown",
   "metadata": {},
   "source": [
    "Il nous faut préciser autre chose au sujet des quantificateurs. Prenons d'emblée un exemple plutôt que de développer un long discours."
   ]
  },
  {
   "cell_type": "code",
   "execution_count": 119,
   "metadata": {},
   "outputs": [
    {
     "name": "stdout",
     "output_type": "stream",
     "text": [
      "<re.Match object; span=(0, 74), match=\"<div><a href='www.lien.com/un_lien'>Ceci est un l>\n"
     ]
    }
   ],
   "source": [
    "tag = \"<div><a href='www.lien.com/un_lien'>Ceci est un lien hypertexte.</a></div>\"\n",
    "\n",
    "print(re.search(\"<.+>\", tag))"
   ]
  },
  {
   "cell_type": "markdown",
   "metadata": {},
   "source": [
    "Ici, on voit qu'il est possible que le match s'arrête à différents points de la **chaîne de caractères** `tag` :\n",
    "* A la fin de la balise ouvrante `<div>`\n",
    "* A la fin de la balise ouvrante `<a>`\n",
    "\n",
    "C'est que l'on appelle la propriété **gourmande** (**greedy** en anglais) ou non d'une **expression régulière**. Par défaut, l'**expression régulière** définie est **gourmande** : elle cherche à faire le \"match\" le plus long possible. On peut néanmoins la rendre **non gourmande** afin qu'elle fasse un \"match\" le plus court possible."
   ]
  },
  {
   "cell_type": "code",
   "execution_count": 120,
   "metadata": {},
   "outputs": [
    {
     "name": "stdout",
     "output_type": "stream",
     "text": [
      "<re.Match object; span=(0, 5), match='<div>'>\n"
     ]
    }
   ],
   "source": [
    "tag = \"<div><a href='www.lien.com/un_lien'>Ceci est un lien hypertexte.</a></div>\"\n",
    "\n",
    "print(re.search(\"<.+?>\", tag))"
   ]
  },
  {
   "cell_type": "markdown",
   "metadata": {},
   "source": [
    "### <div id=\"Ancres et négation\">5. 5. Ancres et négation</div>"
   ]
  },
  {
   "cell_type": "markdown",
   "metadata": {},
   "source": [
    "Reprenons notre exemple précédent avec notre liste `appartements`. La tâche devient plus ardue encore car aux appartements se sont aussi mêlées des maisons. Contrairement aux appartements, la seule information dont on dispose sur les maisons sont les adresses postales.\n",
    "\n",
    "Voyons deux usages du **caractère** `^` dans la définition d'une **expression régulière** :\n",
    "* Lorsqu'on fait précéder une **classe de caractères** par le caractère `^`, alors, on recherche toutes les **chaînes de caractères** qui ne correspondent pas (on sélectionne l'opposé, en somme)\n",
    "* Lorsqu'on l'utilise au début d'une **expression régulière**, il permet de \"matcher\" uniquement les **chaînes de caractères** qui commencent par le **motif** indiqué\n",
    "\n",
    "A partir de notre exemple, on peut ainsi tenter d'isoler les appartements de l'`immeuble_A` en définissant une **expression régulière** qui vérifie que les **chaînes de caractères** commencent par un caractère qui n'est pas une lettre entre A et Z majuscule."
   ]
  },
  {
   "cell_type": "code",
   "execution_count": 108,
   "metadata": {},
   "outputs": [
    {
     "name": "stdout",
     "output_type": "stream",
     "text": [
      "<re.Match object; span=(0, 1), match='1'>\n",
      "None\n",
      "None\n",
      "None\n",
      "<re.Match object; span=(0, 1), match='2'>\n",
      "None\n",
      "<re.Match object; span=(0, 1), match='4'>\n",
      "<re.Match object; span=(0, 1), match='5'>\n",
      "<re.Match object; span=(0, 1), match='1'>\n",
      "<re.Match object; span=(0, 1), match='9'>\n",
      "<re.Match object; span=(0, 1), match='8'>\n",
      "<re.Match object; span=(0, 1), match='8'>\n",
      "<re.Match object; span=(0, 1), match='1'>\n",
      "<re.Match object; span=(0, 1), match='1'>\n",
      "None\n",
      "<re.Match object; span=(0, 1), match='4'>\n",
      "<re.Match object; span=(0, 1), match='5'>\n",
      "None\n",
      "None\n"
     ]
    }
   ],
   "source": [
    "immobilier = [\"10 Rue des Lilas 75014 Paris\", \"A23\", \"B34\", \"A26\", \"20-C\", \"D10\", \"4 Avenue Jean-Baptiste Lafrange 34240 Lamalou-les-Bains\", \"58-E\", \"140-A\", \"96-A\", \"87-A\", \"85bis Place des Alouettes 11400 Saint-Papoul\", \"120-B\", \"12-B\", \"B01\", \"45-D\", \"51-E\", \"B38\", \"A04\"]\n",
    "\n",
    "for immo in immobilier:\n",
    "    print(re.search(\"^[^A-Z]\", immo))"
   ]
  },
  {
   "cell_type": "markdown",
   "metadata": {},
   "source": [
    "Pour rechercher uniquement en début de **chaîne de caractère**, on peut également utiliser la **fonction** `.match()` sans avoir besoin de préciser `^` pour indiquer que l'on recherche une **chaîne de caractères** commençant par le **motif** que l'on définit à la suite."
   ]
  },
  {
   "cell_type": "code",
   "execution_count": 109,
   "metadata": {},
   "outputs": [
    {
     "name": "stdout",
     "output_type": "stream",
     "text": [
      "<re.Match object; span=(0, 1), match='1'>\n",
      "None\n",
      "None\n",
      "None\n",
      "<re.Match object; span=(0, 1), match='2'>\n",
      "None\n",
      "<re.Match object; span=(0, 1), match='4'>\n",
      "<re.Match object; span=(0, 1), match='5'>\n",
      "<re.Match object; span=(0, 1), match='1'>\n",
      "<re.Match object; span=(0, 1), match='9'>\n",
      "<re.Match object; span=(0, 1), match='8'>\n",
      "<re.Match object; span=(0, 1), match='8'>\n",
      "<re.Match object; span=(0, 1), match='1'>\n",
      "<re.Match object; span=(0, 1), match='1'>\n",
      "None\n",
      "<re.Match object; span=(0, 1), match='4'>\n",
      "<re.Match object; span=(0, 1), match='5'>\n",
      "None\n",
      "None\n"
     ]
    }
   ],
   "source": [
    "immobilier = [\"10 Rue des Lilas 75014 Paris\", \"A23\", \"B34\", \"A26\", \"20-C\", \"D10\", \"4 Avenue Jean-Baptiste Lafrange 34240 Lamalou-les-Bains\", \"58-E\", \"140-A\", \"96-A\", \"87-A\", \"85bis Place des Alouettes 11400 Saint-Papoul\", \"120-B\", \"12-B\", \"B01\", \"45-D\", \"51-E\", \"B38\", \"A04\"]\n",
    "\n",
    "for immo in immobilier:\n",
    "    print(re.match(\"[^A-Z]\", immo))"
   ]
  },
  {
   "cell_type": "markdown",
   "metadata": {},
   "source": [
    "Utilisé au début d'une **expression régulière**, `^` se comporte comme une **ancre** : dans le jardon des **expressions régulières**, une **ancre** désigne une condition particulière supplémentaire dans le **motif** recherché qui ne correspond pas à proprement parlé à des **caractères**. Les **ancres** donnent des informations positionnelles qui permettent de définir où doit s'effectuer la recherche.\n",
    "\n",
    "|Ancre|Description|\n",
    "|---|---|\n",
    "|`^mot`|Correspond à la chaîne `mot` rencontrée en début de **chaîne de caractères**.|\n",
    "|`$mot`|Correspond à la chaîne `mot` rencontrée en fin de **chaîne de caractères**.|\n",
    "|`\\bmot`|Correspond à la chaîne `mot` précédée d'un caractère qui n'est pas alpha-numérique (underscore inclu).|\n",
    "|`\\Bmot`|Correspond à la chaîne `mot` précédée d'un caractère qui est obligatoiremenet alpha-numérique (underscore inclu).|"
   ]
  },
  {
   "cell_type": "markdown",
   "metadata": {},
   "source": [
    "### <div id=\"Les groupes\">5. 6. Les groupes</div>"
   ]
  },
  {
   "cell_type": "markdown",
   "metadata": {},
   "source": [
    "Au sein d'une **expression régulière**, il est possible de définir des **groupes**. Cela a deux fonctions principales :\n",
    "* Grouper précisément afin de leur appliquer des quantificateurs ou des ancres\n",
    "* Créer une **sous-expression** pour capturer des segments spécifiques dans une **chaîne de caractères**\n",
    "\n",
    "Voyons un exemple tout clarifier cela."
   ]
  },
  {
   "cell_type": "code",
   "execution_count": 122,
   "metadata": {},
   "outputs": [
    {
     "name": "stdout",
     "output_type": "stream",
     "text": [
      "<re.Match object; span=(6, 12), match='coucou'>\n"
     ]
    }
   ],
   "source": [
    "string = \"hello coucou salut\"\n",
    "\n",
    "print(re.search(\"(cou)+\", string))"
   ]
  },
  {
   "cell_type": "markdown",
   "metadata": {},
   "source": [
    "Plutôt que de répéter notre **motif** `cou`, on peut simplement l'encadrer de parenthèses pour en faire un **groupe**. Ainsi, on peut lui appliquer des **quantificateurs** ou des **ancres**.\n",
    "\n",
    "Bien entendu, comme toujours, il est possible d'imbriquer les **groupes** entre eux..."
   ]
  },
  {
   "cell_type": "code",
   "execution_count": 123,
   "metadata": {},
   "outputs": [
    {
     "name": "stdout",
     "output_type": "stream",
     "text": [
      "<re.Match object; span=(6, 16), match='cou23cou34'>\n"
     ]
    }
   ],
   "source": [
    "string = \"hello cou23cou34 salut\"\n",
    "\n",
    "print(re.search(\"((cou)[0-9]{2})+\", string))"
   ]
  },
  {
   "cell_type": "markdown",
   "metadata": {},
   "source": [
    "### <div id=\"Récupérer les chaînes capturées\">5. 7. Récupérer les chaînes capturées </div>"
   ]
  },
  {
   "cell_type": "markdown",
   "metadata": {},
   "source": [
    "Jusqu'à présent, nous avons vu comment rechercher une **expression** spécifique dans une **chaîne de caractères** : la **fonction** `.search()` nous renvoie une information \"match\" qui précise quelle **chaîne de caractères** correspond à notre **motif**. Pour autant, elle ne retourne pas automatiquement cette chaîne \"matchée\".\n",
    "\n",
    "Pour récupérer le chaîne \"matchée\", on utilise la **fonction** `.group()`."
   ]
  },
  {
   "cell_type": "code",
   "execution_count": 130,
   "metadata": {},
   "outputs": [
    {
     "name": "stdout",
     "output_type": "stream",
     "text": [
      "coucou\n"
     ]
    }
   ],
   "source": [
    "string = \"hello coucou salut\"\n",
    "\n",
    "print(re.search(\"(cou)+\", string).group())"
   ]
  },
  {
   "cell_type": "markdown",
   "metadata": {},
   "source": [
    "Si on définit plusieurs groupes, la fonction `.groups()` permet de renvoyer tous les premiers match rencontrés. Rappelons ici du fonctionnement de `.search()` : en effet, on pourrait être surpris de voir qu'il n'y a pas de \"match\" pour `cou34`, mais ceci est lié au comportement de `.search()` qui renvoie un résultat et s'arrête dès qu'un \"match\" est rencontré."
   ]
  },
  {
   "cell_type": "code",
   "execution_count": 142,
   "metadata": {},
   "outputs": [
    {
     "name": "stdout",
     "output_type": "stream",
     "text": [
      "('cou', '23')\n"
     ]
    }
   ],
   "source": [
    "string = \"hello cou23cou34 salut\"\n",
    "\n",
    "print(re.search(\"(cou)([0-9]{2})\", string).groups())"
   ]
  },
  {
   "cell_type": "markdown",
   "metadata": {},
   "source": [
    "La fonction `.group()` permet également de récupérer un groupe spécifique \"matché\". Pour cela, on lui passe un argument qui désigne quel groupe récupérer : il fonctionne un peu comme l'**index** d'une liste, à l'exception du fait que l'on commence à compter à partir de 1 et non à partir de 0."
   ]
  },
  {
   "cell_type": "code",
   "execution_count": 158,
   "metadata": {},
   "outputs": [
    {
     "name": "stdout",
     "output_type": "stream",
     "text": [
      "10\n",
      "23\n"
     ]
    }
   ],
   "source": [
    "string = \"10 23 ab 34 sd 35\"\n",
    "\n",
    "print(re.search(\"([0-9]{2}) ([0-9]{2}) .+\", string).group(1))\n",
    "print(re.search(\"([0-9]{2}) ([0-9]{2}) .+\", string).group(2))"
   ]
  },
  {
   "cell_type": "markdown",
   "metadata": {},
   "source": [
    "### <div id=\"Les look around\">5. 8. Les look around</div>"
   ]
  },
  {
   "cell_type": "markdown",
   "metadata": {},
   "source": [
    "Dernier point avant d'en finir avec les **expressions régulières**. Même si on a déjà beaucoup d'outils pour effectuer tout type de recherche de **motifs** dans des **chaînes de caractères**, il est parfois utile de rechercher une chaîne en fonction de ce qui la précède ou de ce qui la suit. C'est là qu'entrent en jeu les ***look around***. Il existe quatre ***look around*** différents :\n",
    "\n",
    "|Look around|Description|\n",
    "|---|---|\n",
    "|`(?=mot)`|Match `mot` après la position courante.|\n",
    "|`(?!mot)`|Ne match pas `mot` après la position courante.|\n",
    "|`(?<=mot)`|Match `mot` avant la position courante.|\n",
    "|`(?<!mot)`|Ne match pas `mot` avant la position courante.|"
   ]
  },
  {
   "cell_type": "markdown",
   "metadata": {},
   "source": [
    "Voyons cela avec un exemple.\n",
    "\n",
    "Imaginons que nous ayons à trier un registre de numéros de téléphone. Une **expression régulière** peut nous être utile, d'autant plus si l'on est capable de vérifier la succession des chiffres. Nous allons trier notre registre en fonction de l'indicatif régional qui est représenté par les deux premiers chiffres du numéro de téléphone.\n",
    "\n",
    "Maintenant que vous savez utiliser davantage les **regex**, voyons comment compiler une **expression régulière**. Cela permet d'y faire référence à travers l'utilisation d'une **variable**, ce qui permet de rendre le code plus lisible et notre expression réutilisable. Pour cela, on utilise la fonction `.compile()` à laquelle on passe notre **expression régulière**."
   ]
  },
  {
   "cell_type": "code",
   "execution_count": 59,
   "metadata": {},
   "outputs": [],
   "source": [
    "# Le module random permet de générer un nombre aléatoire\n",
    "import random\n",
    "\n",
    "def rn():\n",
    "    # Avec la fonction randint(), on peut générer un nombre entier et spécifier une fourchette\n",
    "    return random.randint(0, 9)\n",
    "\n",
    "list_num = []\n",
    "numeros = []\n",
    "\n",
    "# On crée 100 numéros aléatoires\n",
    "for j in range(0, 50):\n",
    "    list_rn = []\n",
    "    # On définit des variables qui représenteront les deux premiers numéros\n",
    "    n = 0\n",
    "    i = random.randint(1, 5)\n",
    "    \n",
    "    # On ajoute 8 série de chiffres aléatoires\n",
    "    for a in range(0, 8):\n",
    "        a = rn()\n",
    "        list_rn.append(a)\n",
    "\n",
    "    # On ajoute les deux premiers numéros représentant l'indicatif de région\n",
    "    n = str(n) + str(i)\n",
    "    # On parcourt la liste des nombres générés aléatoirement qui composent le reste de nos numéros\n",
    "    for num in list_rn:\n",
    "        # On les ajoute les uns à la suite des autres, derrière l'indicatif régional\n",
    "        n = str(n) + str(num)\n",
    "        \n",
    "    numeros.append(n)"
   ]
  },
  {
   "cell_type": "code",
   "execution_count": 85,
   "metadata": {},
   "outputs": [],
   "source": [
    "num_tri = {\"1\": [],\n",
    "           \"2\": [],\n",
    "           \"3\": [],\n",
    "           \"4\": [],\n",
    "           \"5\": []}\n",
    "\n",
    "for i in range(1, 6):\n",
    "    pattern = f\"(?<=0{i})\\d{{8}}\"\n",
    "    regex = re.compile(pattern)\n",
    "\n",
    "    for num in numeros:\n",
    "        if re.search(regex, num) != None:\n",
    "            num_tri[str(i)].append(num)"
   ]
  },
  {
   "cell_type": "markdown",
   "metadata": {},
   "source": [
    "Quelques explications sur ces lignes de code. Dans notre boucle `for i in range(1, 6)`, on itère tout d'abord sur `i` entre `0` et `6` (`6` exclu) : cela nous permet d'avoir une boucle qui permet de couvrir tous les indicatifs régionaux de nos numéros de téléphone.\n",
    "\n",
    "A l'aide d'une **string formatée**, on fait varier la valeur de `i` dans notre **regex** pour ne pas avoir à la définir cinq fois de suite. Une fois cela fait, on peut la compiler et l'utiliser pour filtrer chaque numéro de la liste non triée. Comme on utilise une **string formatée** pour définir notre **expression régulière**, il nous faut préciser que les crochets `{` et `}` doivent être interprétés comme des **quantifieurs** : on les double donc pour préciser qu'ils doivent être interprétés comme tels lorsque passé à notre fonction `.compile()`.\n",
    "\n",
    "Le **look ahead** que l'on a défini ici dans notre **expression régulière** permet de vérifier que le numéro de téléphone filtré commence bel et bien par `01`, puis `02`, puis `03`, etc. On aurait bien sûr pu procéder autrement en utilisant l'ancre `^`, mais cela n'aurait pas fonctionné dans le cas où nous aurions eu un numéro précédé de l'indicatif régional international (`+33` pour la France). "
   ]
  },
  {
   "cell_type": "markdown",
   "metadata": {},
   "source": [
    "### <div id=\"Un peu de pratique\">5. 9. Un peu de pratique</div>"
   ]
  },
  {
   "cell_type": "markdown",
   "metadata": {},
   "source": [
    "<div class=\"alert alert-success\"><strong>Quatrième exercice :</strong> A l'aide d'une ou plusieurs expressions régulières, séparer les adresses qui ont le même domaine (<code>.fr</code>, <code>.com</code>, etc.). Il s'agira donc :\n",
    "<ul>\n",
    "    <li>Dans un premier temps, de lister tous les domaines différents</li>\n",
    "    <li>Dans un second temps, de définir une expression régulière capable de les capturer pour les filtrer ensuite</li>\n",
    "</ul>\n",
    "    Les données sont disponibles dans le fichier intitulé <code>\"module_3-dns.csv\"</code> qui se situe dans le répertoire <code>data</code>.\n",
    "</div>"
   ]
  },
  {
   "cell_type": "markdown",
   "metadata": {},
   "source": [
    "<div class=\"alert alert-danger\"><strong>Filtrer une liste à l'aide d'expressions régulières :</strong> On l'a vu, les expressions régulières sont des outils particulièrement puissants pour filtrer des jeux de données textuels massifs.\n",
    "    \n",
    "Nous avons utilisé quelques outils bien pratiques pour réaliser plus rapidement certaines opérations qui peuvent être plus fastidieuses autrement :\n",
    "<ul>\n",
    "<li>Comment compter chaque entrée unique d'une liste à l'aide de la fonction `Counter()` de la bibliothèque <code>collections</code> (<a href=\"https://docs.python.org/2/library/collections.html#collections.Counter\">https://docs.python.org/2/library/collections.html#collections.Counter</a>)</li>\n",
    "<li>La fonction <code>.to_list()</code> de <code>pandas</code> pour convertir une colonne de tableau en une liste Python (<a href=\"https://pandas.pydata.org/pandas-docs/stable/reference/api/pandas.Series.tolist.html\">https://pandas.pydata.org/pandas-docs/stable/reference/api/pandas.Series.tolist.html</a>)</li>\n",
    "</ul>\n",
    "<pre><code>import pandas as pd\n",
    "import re\n",
    "from collections import Counter\n",
    "\n",
    "#On commence par ouvrir notre fichier à l'aide de la bibliothèque pandas\n",
    "df = pd.read_csv(\"data/module_3-dns.csv\")\n",
    "#On utilise la fonction .to_list() de pandas sur la colonne qui nous intéresse pour extraire les données sous forme de liste\n",
    "list_dns = df[\"dns\"].to_list()\n",
    "\n",
    "#Liste qui contiendra tous les domaines\n",
    "list_dom = []\n",
    "\n",
    "#Dans un premier temps, nous allons rechercher ce qu'il y après le point dans chaque adresse\n",
    "for dns in list_dns:\n",
    "    #Regex qui permet de matcher un nom de domaine, dans un groupe on capture le domaine\n",
    "    regex = re.compile(\"[a-z0-9]+\\.([a-z]{2,})\")\n",
    "    dom = re.search(regex, dns).group(1)\n",
    "    list_dom.append(dom)\n",
    "\n",
    "#On crée un Counter qui permet de compter le nombre d'occurrences de chaque donnée unique dans une liste\n",
    "list_dom_unique = Counter(list_dom)\n",
    "\n",
    "#On récupère uniquement la clé pour avoir chaque domaine dans notre jeu de données\n",
    "unique_dom = list_dom_unique.keys()\n",
    "\n",
    "#On crée un dictionnaire qui contiendra, pour chaque clé un domaine et une liste de nom de domaines correspond pour les valeurs\n",
    "list_filt_dns = {}\n",
    "for key in unique_dom:\n",
    "    list_filt_dns[key] = []\n",
    "\n",
    "#On parcourt chacun des domaines différents (.com, .edu, .org, etc.)\n",
    "for dom in unique_dom:\n",
    "    regex = f\"[a-z0-9]+\\.{dom}\"\n",
    "    #On crée la regex correspondante pour chaque domaine\n",
    "    regex = re.compile(regex)\n",
    "    \n",
    "    #On parcourt ensuite chaque adresse différente et on vérifie si elle match la regex en cours\n",
    "    for dns in list_dns:\n",
    "        if re.search(regex, dns) != None:\n",
    "            #Si on a un match, on ajoute l'adresse dans la liste correspondante à la clé qui porte le même nom que le domaine associé de l'adresse (.org, .com, etc.)\n",
    "            list_filt_dns[dom].append(dns)\n",
    "</code>\n",
    "</pre>\n",
    "</div>"
   ]
  },
  {
   "cell_type": "markdown",
   "metadata": {},
   "source": [
    "## Sources et références utiles"
   ]
  },
  {
   "cell_type": "markdown",
   "metadata": {},
   "source": [
    "Le présent support a été réalisé à l'aide des références suivantes. Tous ne sont pas utiles aux novices, mais peuvent constituer des compléments utiles pour approfondir des notions et travailler ses compétences acquises.\n",
    "\n",
    "* **Documentation officielle :**\n",
    "    * **Python 3, URL : https://docs.python.org/3/.**\n",
    "    * **Un tutoriel dédié aux structures de données sur la documentation officielle de Python 3, URL : https://docs.python.org/3/tutorial/datastructures.html.** Il détaille les méthodes existantes sur les structures de données, principalement les listes et les dictionnaires. Une ressource utile à garder sous le coude lorsqu'on a besoin d'un rappel sur l'usage des méthodes de structures de données ou besoin d'un exemple d'utilisation.\n",
    "* **Manuels :**\n",
    "    * **Al Sweigart, *Automate the boring stuff with Python. Practical programming for total beginners*, San Francisco, No starch press, 2015. :** Lecture très facile avec des applications et des exemples de scripts. Il permet de partir de zéro et d'arriver rapidement à appliquer ses connaissances pour construire de petits projets bien utiles pour automatiser un certain nombre d'opérations courantes (fichiers Excel, envoi de mails, web scraping, etc.).\n",
    "    * **Luciano Ramalho, *Fluent Python. Clear, concise, and effective programming*, Sebastopol, O'Reilly, 2015.** : Lecture plus difficile, gros pavé de plus de 700 pages. Il permet d'approfondir sa connaissance du langage Python, ses spécificités et sa philosophie (pythonic). C'est une sorte de mini-bible du langage.\n",
    "* **Sites web** :\n",
    "    * **Real Python, URL : https://realpython.com/regex-python/ :** Un guide très complet qui part des bases et explicite le fonctionnement de toutes les fonctions du module `re`."
   ]
  }
 ],
 "metadata": {
  "kernelspec": {
   "display_name": "Python 3",
   "language": "python",
   "name": "python3"
  },
  "language_info": {
   "codemirror_mode": {
    "name": "ipython",
    "version": 3
   },
   "file_extension": ".py",
   "mimetype": "text/x-python",
   "name": "python",
   "nbconvert_exporter": "python",
   "pygments_lexer": "ipython3",
   "version": "3.8.3"
  },
  "toc": {
   "base_numbering": 1,
   "nav_menu": {},
   "number_sections": true,
   "sideBar": true,
   "skip_h1_title": false,
   "title_cell": "Table of Contents",
   "title_sidebar": "Contents",
   "toc_cell": false,
   "toc_position": {},
   "toc_section_display": true,
   "toc_window_display": false
  }
 },
 "nbformat": 4,
 "nbformat_minor": 4
}
