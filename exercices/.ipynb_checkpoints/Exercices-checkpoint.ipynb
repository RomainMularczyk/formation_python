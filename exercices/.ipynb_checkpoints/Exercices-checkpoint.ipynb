{
 "cells": [
  {
   "cell_type": "markdown",
   "metadata": {},
   "source": [
    "# Introduction à Python - Exercices"
   ]
  },
  {
   "cell_type": "markdown",
   "metadata": {},
   "source": [
    "Dans ce document, vous trouverez des exercices pour se familiariser avec la syntaxe du langage Python et appliquer ce que vous avez appris à des problèmes, certes fictifs à ce stade, mais qui pourront pour certains illustrer des problèmes typiques que l'on rencontre lorsqu'on souhaite collecter des données sur le web.\n",
    "\n",
    "Les exercices suivent la progression des modules 2 - [Programmation avec Python (Introduction)](https://github.com/RomainMularczyk/formation_webscraping/blob/master/Module%202%20-%20Programation%20avec%20Python%20(Introduction).ipynb) et 3 - [Python avancé (Programmation orientée objet)](https://github.com/RomainMularczyk/formation_webscraping/blob/master/Module%203%20-%20Python%20avancé%20(Programmation%20orientée%20objet).ipynb).\n",
    "\n",
    "Ils sont ordonnés par **niveaux de difficulté** :\n",
    "<div class=\"alert alert-success\" role=\"alert\"><strong>Niveau 1 :</strong> S'efforcer de travailler sur chacun de ces exercices pour développer une bonne compréhension des éléments fondamentaux de Python.</div>\n",
    "<div class=\"alert alert-info\" role=\"alert\"><strong>Niveau 2 :</strong> Aller plus loin et affûter ses intuitions en se confrontant à des problèmes plus complexes et en utilisant des fonctionnalités spécifiques de Python.</div>\n",
    "<div class=\"alert alert-warning\" role=\"alert\"><strong>Niveau 3 :</strong> A vos risques et périls...</div>"
   ]
  },
  {
   "cell_type": "markdown",
   "metadata": {},
   "source": [
    "Pour consulter la solution, cliquez sur les `...` juste en-dessous de la mention **Afficher la solution...**"
   ]
  },
  {
   "cell_type": "markdown",
   "metadata": {},
   "source": [
    "## Exercices du module 2 - Programmation avec Python (Introduction)"
   ]
  },
  {
   "cell_type": "markdown",
   "metadata": {},
   "source": [
    "### Exercice n°1"
   ]
  },
  {
   "cell_type": "markdown",
   "metadata": {},
   "source": [
    "<div class=\"alert alert-success\" role=\"alert\">Additionner une chaine de caractère et un nombre puis multiplier une chaine de caractère et un nombre.</div>"
   ]
  },
  {
   "cell_type": "markdown",
   "metadata": {},
   "source": [
    "#### Afficher la solution..."
   ]
  },
  {
   "cell_type": "code",
   "execution_count": null,
   "metadata": {},
   "outputs": [],
   "source": [
    "print(\"coucou\" + str(3))\n",
    "print(\"coucou\" * 3)"
   ]
  },
  {
   "cell_type": "code",
   "execution_count": null,
   "metadata": {},
   "outputs": [],
   "source": [
    "\"coucou\" * 3"
   ]
  },
  {
   "cell_type": "markdown",
   "metadata": {},
   "source": [
    "### Exercice n°2"
   ]
  },
  {
   "cell_type": "markdown",
   "metadata": {},
   "source": [
    "<div class=\"alert alert-success\" role=\"alert\">Former une date au format textuel avec jour, mois, année.</div>\n",
    "\n",
    "**Travaillez avec les variables suivantes :**"
   ]
  },
  {
   "cell_type": "markdown",
   "metadata": {},
   "source": [
    "```python\n",
    "jour = 12\n",
    "mois = 10\n",
    "annee = 2020\n",
    "```"
   ]
  },
  {
   "cell_type": "code",
   "execution_count": null,
   "metadata": {},
   "outputs": [],
   "source": [
    "jour = 12\n",
    "mois = 10\n",
    "annee = 2020"
   ]
  },
  {
   "cell_type": "code",
   "execution_count": null,
   "metadata": {},
   "outputs": [],
   "source": [
    "date = str(jour) + \"/\" + str(mois) + \"/\" + str(annee)\n",
    "print(date)"
   ]
  },
  {
   "cell_type": "markdown",
   "metadata": {},
   "source": [
    "#### Afficher la solution..."
   ]
  },
  {
   "cell_type": "code",
   "execution_count": null,
   "metadata": {
    "jupyter": {
     "source_hidden": true
    }
   },
   "outputs": [],
   "source": [
    "jour = 12\n",
    "mois = 10\n",
    "annee = 2020\n",
    "\n",
    "print(str(jour) + \"/\" + str(mois) + \"/\" + str(annee))"
   ]
  },
  {
   "cell_type": "markdown",
   "metadata": {},
   "source": [
    "### Exercice n°3"
   ]
  },
  {
   "cell_type": "markdown",
   "metadata": {},
   "source": [
    "<div class=\"alert alert-success\" role=\"alert\">A partir des variables fournies, donnez le résultat de l'opération <code>(a - b) * c</code>. Vous devez trouver <code>8</code>.</div>\n",
    "\n",
    "**Travaillez avec les variables suivantes :**"
   ]
  },
  {
   "cell_type": "markdown",
   "metadata": {},
   "source": [
    "```python\n",
    "a = \"20\"\n",
    "b = \"18\"\n",
    "c = \"4\"\n",
    "```"
   ]
  },
  {
   "cell_type": "code",
   "execution_count": null,
   "metadata": {},
   "outputs": [],
   "source": [
    "a = \"20\"\n",
    "b = \"18\"\n",
    "c = \"4\""
   ]
  },
  {
   "cell_type": "code",
   "execution_count": null,
   "metadata": {},
   "outputs": [],
   "source": [
    "(int(a) - int(b)) * int(c)"
   ]
  },
  {
   "cell_type": "markdown",
   "metadata": {},
   "source": [
    "#### Afficher la solution..."
   ]
  },
  {
   "cell_type": "code",
   "execution_count": null,
   "metadata": {
    "jupyter": {
     "source_hidden": true
    }
   },
   "outputs": [],
   "source": [
    "a = \"20\"\n",
    "b = \"18\"\n",
    "c = \"4\"\n",
    "\n",
    "res = (int(a)-int(b))*int(c)\n",
    "print(res)\n",
    "print(type(res))"
   ]
  },
  {
   "cell_type": "markdown",
   "metadata": {},
   "source": [
    "### Exercice n°4"
   ]
  },
  {
   "cell_type": "markdown",
   "metadata": {},
   "source": [
    "<div class=\"alert alert-success\" role=\"alert\">A partir de la <code>liste_animaux</code>, récupérez le <code>\"tigre\"</code> et le <code>\"crocodile\"</code> dans une nouvelle liste. Essayez d'y parvenir en une seule étape !</div>\n",
    "\n",
    "**Travaillez avec les variables suivantes :**"
   ]
  },
  {
   "cell_type": "markdown",
   "metadata": {},
   "source": [
    "```python\n",
    "liste_animaux = [\"zèbre\", \"tigre\", \"crocodile\", \"girafe\", \"panda\"]\n",
    "```"
   ]
  },
  {
   "cell_type": "markdown",
   "metadata": {},
   "source": [
    "#### Afficher la solution..."
   ]
  },
  {
   "cell_type": "code",
   "execution_count": null,
   "metadata": {
    "jupyter": {
     "source_hidden": true
    }
   },
   "outputs": [],
   "source": [
    "liste_animaux = [\"zèbre\", \"tigre\", \"crocodile\", \"girafe\", \"panda\"]\n",
    "liste_res = liste_animaux[1:3]\n",
    "print(liste_res)"
   ]
  },
  {
   "cell_type": "markdown",
   "metadata": {},
   "source": [
    "### Exercice n°5"
   ]
  },
  {
   "cell_type": "markdown",
   "metadata": {},
   "source": [
    "<div class=\"alert alert-success\" role=\"alert\">Toujours à partir de la <code>liste_animaux</code>, remplacez le <code>\"tigre\"</code> par <code>\"T-Rex\"</code>.</div>\n",
    "\n",
    "**Travaillez avec les variables suivantes :**"
   ]
  },
  {
   "cell_type": "markdown",
   "metadata": {},
   "source": [
    "```python\n",
    "liste_animaux = [\"zèbre\", \"tigre\", \"crocodile\", \"girafe\", \"panda\"]\n",
    "```"
   ]
  },
  {
   "cell_type": "markdown",
   "metadata": {},
   "source": [
    "#### Afficher la solution..."
   ]
  },
  {
   "cell_type": "code",
   "execution_count": null,
   "metadata": {
    "jupyter": {
     "source_hidden": true
    }
   },
   "outputs": [],
   "source": [
    "liste_animaux[1] = \"T-Rex\"\n",
    "print(liste_animaux)"
   ]
  },
  {
   "cell_type": "markdown",
   "metadata": {},
   "source": [
    "### Exercice n°6"
   ]
  },
  {
   "cell_type": "markdown",
   "metadata": {},
   "source": [
    "<div class=\"alert alert-info\">A partir des variables fournies, affichez autant de fois le nom du joueur de football que son numéro. Bonus : affichez la liste fraîchement créée en sens inverse.</div>\n",
    "\n",
    "**Travaillez avec les variables suivantes :**"
   ]
  },
  {
   "cell_type": "markdown",
   "metadata": {},
   "source": [
    "```python\n",
    "joueurs = [\"Hugo Lloris\", \"Benjamin Pavard\", \"Samuel Umtiti\"]\n",
    "numeros = [\"1\", \"2\", \"5\"]\n",
    "```"
   ]
  },
  {
   "cell_type": "markdown",
   "metadata": {},
   "source": [
    "#### Afficher la solution..."
   ]
  },
  {
   "cell_type": "code",
   "execution_count": null,
   "metadata": {
    "jupyter": {
     "source_hidden": true
    }
   },
   "outputs": [],
   "source": [
    "joueurs = [\"Hugo Lloris\", \"Benjamin Pavard\", \"Samuel Umtiti\"]\n",
    "numeros = [\"1\", \"2\", \"5\"]\n",
    "\n",
    "num_joueurs = [joueurs[0] * int(numeros[0]), joueurs[1] * int(numeros[1]), joueurs[2] * int(numeros[2])]\n",
    "print(num_joueurs)\n",
    "print(num_joueurs[::-1])"
   ]
  },
  {
   "cell_type": "markdown",
   "metadata": {},
   "source": [
    "### Exercice n°7"
   ]
  },
  {
   "cell_type": "markdown",
   "metadata": {},
   "source": [
    "<div class=\"alert alert-success\" role=\"alert\">Utiliser la variable <code>mot</code> et remplacer la première lettre de sa valeur pour écrire le mot <code>\"bigre\"</code>. Vous pouvez stocker les éventuels résultats intermédiaires et finaux dans de nouvelles variables.</div>\n",
    "\n",
    "**Travaillez avec les variables suivantes :**"
   ]
  },
  {
   "cell_type": "markdown",
   "metadata": {},
   "source": [
    "```python\n",
    "mot = \"tigre\"\n",
    "```"
   ]
  },
  {
   "cell_type": "markdown",
   "metadata": {},
   "source": [
    "#### Afficher la solution..."
   ]
  },
  {
   "cell_type": "code",
   "execution_count": null,
   "metadata": {
    "jupyter": {
     "source_hidden": true
    }
   },
   "outputs": [],
   "source": [
    "mot = \"tigre\"\n",
    "mot2 = mot[1:]\n",
    "mot3 = \"b\" + mot2\n",
    "print(mot3)"
   ]
  },
  {
   "cell_type": "markdown",
   "metadata": {},
   "source": [
    "### Exercice n°8"
   ]
  },
  {
   "cell_type": "markdown",
   "metadata": {},
   "source": [
    "<div class=\"alert alert-success\" role=\"alert\">Construire un dictionnaire associant le nom et la date de naissances des joueurs de football précédemment mentionnés.</div>\n",
    "\n",
    "**Travaillez avec les variables suivantes :**"
   ]
  },
  {
   "cell_type": "markdown",
   "metadata": {},
   "source": [
    "```python\n",
    "joueurs = [\"Hugo Lloris\", \"Benjamin Pavard\", \"Samuel Umtiti\"]\n",
    "date_naissance = [\"26/12/1986\", \"28/03/1996\", \"14/11/1993\"]\n",
    "```"
   ]
  },
  {
   "cell_type": "markdown",
   "metadata": {},
   "source": [
    "#### Afficher la solution..."
   ]
  },
  {
   "cell_type": "code",
   "execution_count": null,
   "metadata": {
    "jupyter": {
     "source_hidden": true
    }
   },
   "outputs": [],
   "source": [
    "joueurs = [\"Hugo Lloris\", \"Benjamin Pavard\", \"Samuel Umtiti\"]\n",
    "date_naissance = [\"26/12/1986\", \"28/03/1996\", \"14/11/1993\"]\n",
    "\n",
    "dict_naissance_joueurs = {joueurs[0]: date_naissance[0],\n",
    "                          joueurs[1]: date_naissance[1],\n",
    "                          joueurs[2]: date_naissance[2]}\n",
    "print(dict_naissance_joueurs)"
   ]
  },
  {
   "cell_type": "markdown",
   "metadata": {},
   "source": [
    "### Exercice n°9"
   ]
  },
  {
   "cell_type": "markdown",
   "metadata": {},
   "source": [
    "<div class=\"alert alert-info\" role=\"alert\">Affichez le nombre d'éléments que possède la liste <code>albatros</code>. Affichez ensuite le nombre de caractères dans le premier élément de la liste <code>albatros</code>. Affichez le dernier caractère du dernier élément de la liste <code>albatros</code> : pour cela, on n'utilisera pas de nombres entiers.</div>\n",
    "\n",
    "**Travaillez avec les variables suivantes :**"
   ]
  },
  {
   "cell_type": "markdown",
   "metadata": {},
   "source": [
    "```python\n",
    "albatros = [\"Souvent, pour s'amuser, les hommes d'équipage Prennent des albatros, vastes oiseaux des mers, Qui suivent, indolents compagnons de voyage, Le navire glissant sur les gouffres amers.\",\n",
    "            \"A peine les ont-ils déposés sur les planches, Que ces rois de l’azur, maladroits et honteux, Laissent piteusement leurs grandes ailes blanches Comme des avirons traîner à côté d’eux.\",\n",
    "            \"Ce voyageur ailé, comme il est gauche et veule ! Lui, naguère si beau, qu'il est comique et laid ! L'un agace son bec avec un brûle-gueule, L'autre mime, en boitant, l’infirme qui volait !\"]\n",
    "```"
   ]
  },
  {
   "cell_type": "markdown",
   "metadata": {},
   "source": [
    "#### Afficher la solution..."
   ]
  },
  {
   "cell_type": "code",
   "execution_count": null,
   "metadata": {
    "jupyter": {
     "source_hidden": true
    }
   },
   "outputs": [],
   "source": [
    "albatros = [\"Souvent, pour s'amuser, les hommes d'équipage Prennent des albatros, vastes oiseaux des mers, Qui suivent, indolents compagnons de voyage, Le navire glissant sur les gouffres amers.\",\n",
    "            \"A peine les ont-ils déposés sur les planches, Que ces rois de l’azur, maladroits et honteux, Laissent piteusement leurs grandes ailes blanches Comme des avirons traîner à côté d’eux.\",\n",
    "            \"Ce voyageur ailé, comme il est gauche et veule ! Lui, naguère si beau, qu'il est comique et laid ! L'un agace son bec avec un brûle-gueule, L'autre mime, en boitant, l’infirme qui volait !\"]\n",
    "\n",
    "print(len(albatros[0]))\n",
    "dernier_albatros = albatros[len(albatros) - 1]\n",
    "print(dernier_albatros[len(dernier_albatros) - 1])"
   ]
  },
  {
   "cell_type": "markdown",
   "metadata": {},
   "source": [
    "### Exercice n°10"
   ]
  },
  {
   "cell_type": "markdown",
   "metadata": {},
   "source": [
    "<div class=\"alert alert-info\" role=\"alert\">A partir de la liste <code>liste_a</code>, affecter à une nouvelle liste, nommée <code>liste_b</code>, les valeurs suivantes de la liste <code>liste_a</code> :\n",
    "<ul>\n",
    "    <li><code>abc</code></li>\n",
    "    <li><code>11</code></li>\n",
    "    <li><code>John Doe</code></li>\n",
    "    <li><code>john.doe@mail.com</code></li>\n",
    "</ul>\n",
    "</div>\n",
    "\n",
    "**Travaillez avec les variables suivantes :**"
   ]
  },
  {
   "cell_type": "markdown",
   "metadata": {},
   "source": [
    "```python\n",
    "liste_a = [2, 3, \"abc\", list((10, 11, 12)), {\"nom\": \"John Doe\", \"age\": 34, \"tel\": \"01.02.03.04.05\", \"mail\": \"john.doe@mail.com\"}]\n",
    "```"
   ]
  },
  {
   "cell_type": "markdown",
   "metadata": {},
   "source": [
    "#### Afficher la solution..."
   ]
  },
  {
   "cell_type": "code",
   "execution_count": null,
   "metadata": {
    "jupyter": {
     "source_hidden": true
    }
   },
   "outputs": [],
   "source": [
    "liste_a = [2, 3, \"abc\", list((10, 11, 12)), {\"nom\": \"John Doe\", \"age\": 34, \"tel\": \"01.02.03.04.05\", \"mail\": \"john.doe@mail.com\"}]\n",
    "#print(liste_a)\n",
    "\n",
    "liste_b = [liste_a[2], liste_a[3][1], liste_a[4][\"nom\"], liste_a[4][\"mail\"]]\n",
    "print(liste_b)"
   ]
  },
  {
   "cell_type": "markdown",
   "metadata": {},
   "source": [
    "### Exercice n°11"
   ]
  },
  {
   "cell_type": "markdown",
   "metadata": {},
   "source": [
    "<div class=\"alert alert-info\">Testez si <code>nombre</code> est pair. Ensuite, testez s'il est supérieur à <code>0</code>.</div>\n",
    "\n",
    "**Travaillez avec les variables suivantes :**"
   ]
  },
  {
   "cell_type": "markdown",
   "metadata": {},
   "source": [
    "```python\n",
    "nombre = 8\n",
    "```"
   ]
  },
  {
   "cell_type": "markdown",
   "metadata": {},
   "source": [
    "#### Afficher la solution..."
   ]
  },
  {
   "cell_type": "code",
   "execution_count": null,
   "metadata": {
    "jupyter": {
     "source_hidden": true
    }
   },
   "outputs": [],
   "source": [
    "nombre = 8\n",
    "\n",
    "# Tester si le nombre est pair\n",
    "if nombre % 2 == 0 :\n",
    "    print(\"Mon nombre est pair !\")\n",
    "else :\n",
    "    print(\"Mon nombre est impair !\")\n",
    "    \n",
    "# Tester si le nombre est supérieur à 0\n",
    "if nombre > 0:\n",
    "    print(\"Mon nombre est supérieur à 0.\")\n",
    "else:\n",
    "    print(\"Mon nombre est inférieur ou égal à 0.\")"
   ]
  },
  {
   "cell_type": "markdown",
   "metadata": {},
   "source": [
    "### Exercice n°12"
   ]
  },
  {
   "cell_type": "markdown",
   "metadata": {},
   "source": [
    "<div class=\"alert alert-info\">Testez si <code>nombre_2</code> est divisible par 3 ou divisible par 5.</div>\n",
    "\n",
    "**Travaillez avec les variables suivantes :**"
   ]
  },
  {
   "cell_type": "markdown",
   "metadata": {},
   "source": [
    "```python\n",
    "nombre_2 = 15\n",
    "```"
   ]
  },
  {
   "cell_type": "markdown",
   "metadata": {},
   "source": [
    "#### Afficher la solution..."
   ]
  },
  {
   "cell_type": "code",
   "execution_count": null,
   "metadata": {
    "jupyter": {
     "source_hidden": true
    }
   },
   "outputs": [],
   "source": [
    "#Tester si un nombre est divisible par 3 ou divisible par 5 puis transformer cet exercice en boucle\n",
    "nombre_2 = 15\n",
    "\n",
    "if nombre_2 % 3 == 0 or nombre_2 % 5 == 0:\n",
    "    print(str(nombre_2) + \" est bien divisible par 3 ou 5.\")\n",
    "else :\n",
    "    print(str(nombre_2), \" n'est pas divisible par 3 ou 5.\")"
   ]
  },
  {
   "cell_type": "markdown",
   "metadata": {},
   "source": [
    "### Exercice n°13"
   ]
  },
  {
   "cell_type": "markdown",
   "metadata": {},
   "source": [
    "<div class=\"alert alert-warning\" role=\"alert\">Construisez une structure conditionnelle qui permet de traduire, lorsqu'on entre un chiffre entre 1 et 7, à quel jour de la semaine il correspond (1 pour Lundi, 2 pour Mardi, etc.).</div>"
   ]
  },
  {
   "cell_type": "markdown",
   "metadata": {},
   "source": [
    "#### Afficher la solution..."
   ]
  },
  {
   "cell_type": "code",
   "execution_count": null,
   "metadata": {
    "jupyter": {
     "source_hidden": true
    }
   },
   "outputs": [],
   "source": [
    "n = input(\"Veuillez rentrer un nombre\")\n",
    "n = int(n)\n",
    "\n",
    "if n==1 :\n",
    "    print(\"Lundi\")\n",
    "elif n==2:\n",
    "    print(\"Mardi\")\n",
    "elif n==3:\n",
    "    print(\"Mercredi\")\n",
    "elif n==4:\n",
    "    print(\"Jeudi\")\n",
    "elif n==5:\n",
    "    print(\"Vendredi\")\n",
    "elif n==6:\n",
    "    print(\"Samedi\")\n",
    "elif n==7:\n",
    "    print(\"Dimanche\")\n",
    "else :\n",
    "    print(\"Hum... Vous ne m'avez pas donner un nombre correct\")"
   ]
  },
  {
   "cell_type": "markdown",
   "metadata": {},
   "source": [
    "### Exercice n°14"
   ]
  },
  {
   "cell_type": "markdown",
   "metadata": {},
   "source": [
    "<div class=\"alert alert-info\">Construisez une structure conditionnelle qui permette de vérifier quel est le plus grand nombre parmis trois possibles.</div>\n",
    "\n",
    "**Travaillez avec les variables suivantes :**"
   ]
  },
  {
   "cell_type": "markdown",
   "metadata": {},
   "source": [
    "```python\n",
    "x = 4\n",
    "y = 15\n",
    "z = 8\n",
    "```"
   ]
  },
  {
   "cell_type": "markdown",
   "metadata": {},
   "source": [
    "#### Afficher la solution..."
   ]
  },
  {
   "cell_type": "code",
   "execution_count": null,
   "metadata": {
    "jupyter": {
     "source_hidden": true
    }
   },
   "outputs": [],
   "source": [
    "#Trouver le maximum entre 3 nombres\n",
    "x = 4\n",
    "y = 15\n",
    "z = 3\n",
    "if x >= y and x >= z:\n",
    "    print(str(x) + \" est le plus grand\")\n",
    "elif y >= x and y >= z:\n",
    "    print(str(y) + \" est le plus grand\")\n",
    "else:\n",
    "    print(str(z) + \" est le plus grand\")"
   ]
  },
  {
   "cell_type": "markdown",
   "metadata": {},
   "source": [
    "### Exercice n°15"
   ]
  },
  {
   "cell_type": "markdown",
   "metadata": {},
   "source": [
    "<div class=\"alert alert-info\">Construisez une structure conditionnelle qui permette de vérifier si chaque nombre d'une liste est divisible par <code>3</code> ou <code>5</code>.</div>\n",
    "\n",
    "**Travaillez avec les variables suivantes :**"
   ]
  },
  {
   "cell_type": "markdown",
   "metadata": {},
   "source": [
    "```python\n",
    "trois_cinq = [1, 15, 87, 6, 95, 100, 30, 64]\n",
    "```"
   ]
  },
  {
   "cell_type": "markdown",
   "metadata": {},
   "source": [
    "#### Afficher la solution..."
   ]
  },
  {
   "cell_type": "code",
   "execution_count": null,
   "metadata": {
    "jupyter": {
     "source_hidden": true
    }
   },
   "outputs": [],
   "source": [
    "#Tester si un nombre est divisible par 3 ou divisible par 5 grâce à une boucle\n",
    "trois_cinq = [1, 15, 87, 6, 95, 100, 30, 64]\n",
    "\n",
    "for i in trois_cinq:\n",
    "    if i % 3==0 or i % 5==0:\n",
    "        print(str(i) + \" est bien divisible par 3 ou 5.\")\n",
    "    else :\n",
    "        print(str(i) + \" n'est pas divisible par 3 ou 5.\")"
   ]
  },
  {
   "cell_type": "markdown",
   "metadata": {},
   "source": [
    "### Exercice n°16"
   ]
  },
  {
   "cell_type": "markdown",
   "metadata": {},
   "source": [
    "<div class=\"alert alert-warning\">Construisez un programme qui, à partir de nombre entré par l'utilisateur, le convertit dans un format Heures/Minutes/Secondes.</div>"
   ]
  },
  {
   "cell_type": "markdown",
   "metadata": {},
   "source": [
    "#### Afficher la solution..."
   ]
  },
  {
   "cell_type": "code",
   "execution_count": null,
   "metadata": {
    "jupyter": {
     "source_hidden": true
    }
   },
   "outputs": [],
   "source": [
    "tps = int(input(\"Veuillez rentrer un nombre entier : \"))\n",
    "\n",
    "H = tps // 3600\n",
    "M = (tps % 3600) // 60\n",
    "S = (tps % 3600) - (M * 60)\n",
    "print(str(tps) + \" secondes correspondent à \" + str(H) + \" Heures \" + str(M) + \" Minutes \" + str(S) + \" Secondes\")"
   ]
  },
  {
   "cell_type": "markdown",
   "metadata": {},
   "source": [
    "### Exercice n°17"
   ]
  },
  {
   "cell_type": "markdown",
   "metadata": {},
   "source": [
    "<div class=\"alert alert-info\" role=\"alert\">A partir du fichier <code>module_1-carnet.html</code>, reproduisez sous la forme de structures de données imbriquées le carnet d'adresses fictif. Il y a plusieurs façons de faire !</div>"
   ]
  },
  {
   "cell_type": "markdown",
   "metadata": {},
   "source": [
    "#### Afficher la solution..."
   ]
  },
  {
   "cell_type": "code",
   "execution_count": null,
   "metadata": {
    "jupyter": {
     "source_hidden": true
    }
   },
   "outputs": [],
   "source": [
    "carnet_adresses = [\n",
    "    {\n",
    "        \"id\": 1,\n",
    "        \"prenom\": \"Wayland\",\n",
    "        \"nom\": \"Senter\",\n",
    "        \"email\": {\"personnel\": \"wsenter0@blogspot.com\",\n",
    "                  \"professionnel\": \"wsenter0@cyberchimps.com\"},\n",
    "        \"adresse\": \"714 Moulton Trail\"\n",
    "    },\n",
    "    {\n",
    "        \"id\": 2,\n",
    "        \"prenom\": \"Ariana\",\n",
    "        \"nom\": \"Broddle\",\n",
    "        \"email\": {\"personnel\": \"abroddle1@tripadvisor.com\",\n",
    "                  \"professionnel\": \"abroddle1@wisc.edu\"},\n",
    "        \"adresse\": \"04815 Northfield Center\"\n",
    "    },\n",
    "    {\n",
    "        \"id\": 3,\n",
    "        \"prenom\": \"Arluene\",\n",
    "        \"nom\": \"Boothebie\",\n",
    "        \"email\": {\"personnel\": \"aboothebie2@e-recht24.de\",\n",
    "                  \"professionnel\": \"aboothebie@irs.gov\"},\n",
    "        \"adresse\": \"74 Dixon Circle\"\n",
    "    },\n",
    "    {\n",
    "        \"id\": 4,\n",
    "        \"prenom\": \"Courtnay\",\n",
    "        \"nom\": \"McGing\",\n",
    "        \"email\": {\"personnel\": \"cmcging4@so-net.ne.jp\",\n",
    "                  \"professionnel\": \"cmcging4@people.com.cn\"},\n",
    "        \"adresse\": \"2363 2nd Parkway\"\n",
    "    }\n",
    "]\n",
    "\n",
    "print(carnet_adresses)"
   ]
  },
  {
   "cell_type": "markdown",
   "metadata": {},
   "source": [
    "### Exercice n°18"
   ]
  },
  {
   "cell_type": "markdown",
   "metadata": {},
   "source": [
    "<div class=\"alert alert-warning\">A partir du dictionnaire <code>carnet_adresse</code> créé plus tôt, construisez un script qui affiche l'adresse mail d'une personne si elle commence par la lettre <code>w</code>.</div>"
   ]
  },
  {
   "cell_type": "markdown",
   "metadata": {},
   "source": [
    "#### Afficher la solution..."
   ]
  },
  {
   "cell_type": "code",
   "execution_count": null,
   "metadata": {
    "jupyter": {
     "source_hidden": true
    }
   },
   "outputs": [],
   "source": [
    "for contact in carnet_adresses:\n",
    "    for key in contact[\"email\"].keys():\n",
    "        if contact[\"email\"][key][0] == \"w\":\n",
    "            print(f\"L'adresse {key} de {contact['prenom']} {contact['nom']} est : \" + contact[\"email\"][key])\n",
    "        else:\n",
    "            print(f\"{contact['prenom']} {contact['nom']} n'a pas d'adresse mail commençant par la lettre \\\"w\\\".\")"
   ]
  },
  {
   "cell_type": "markdown",
   "metadata": {},
   "source": [
    "### Exercice n°19"
   ]
  },
  {
   "cell_type": "markdown",
   "metadata": {},
   "source": [
    "<div class=\"alert alert-warning\">A partir du dictionnaire <code>carnet_adresse</code>, construisez un script qui traduit en HTML la structure du dictionnaire.</div>"
   ]
  },
  {
   "cell_type": "markdown",
   "metadata": {},
   "source": [
    "#### Afficher la solution..."
   ]
  },
  {
   "cell_type": "code",
   "execution_count": null,
   "metadata": {
    "jupyter": {
     "source_hidden": true
    }
   },
   "outputs": [],
   "source": [
    "for contact in carnet_adresses:\n",
    "    print(f\"\"\"<div id=\"contact_{contact['id']}\">\n",
    "    <ul>\n",
    "        <li>{contact['prenom']}</li>\n",
    "        <li>{contact['nom']}</li>\n",
    "        <li class=\"{list(contact['email'].keys())[0]}\">{contact['email']['personnel']}</li>\n",
    "        <li class=\"{list(contact['email'].keys())[1]}\">{contact['email']['professionnel']}</li>\n",
    "        <li>{contact['adresse']}</li>\n",
    "    </ul>\n",
    "</div>\"\"\")"
   ]
  },
  {
   "cell_type": "markdown",
   "metadata": {},
   "source": [
    "### Exercice n°20"
   ]
  },
  {
   "cell_type": "markdown",
   "metadata": {},
   "source": [
    "<div class=\"alert alert-warning\">Ecrire un script qui calcule le factoriel d'un nombre <code>n</code> quelconque. Dans l'idéal, on utilisera l'entrée de l'utilisateur.</div>"
   ]
  },
  {
   "cell_type": "markdown",
   "metadata": {},
   "source": [
    "#### Afficher la solution..."
   ]
  },
  {
   "cell_type": "code",
   "execution_count": null,
   "metadata": {
    "jupyter": {
     "source_hidden": true
    }
   },
   "outputs": [],
   "source": [
    "# Boucles pour factoriel : n! = 1*2*3*...n\n",
    "n = int(input(\"Veuillez rentrer un nombre entier\"))\n",
    "i = 1\n",
    "c = 1\n",
    "\n",
    "# Avec une boucle while\n",
    "while i <= n:\n",
    "    c*=i\n",
    "    i+=1\n",
    "\n",
    "print(c)\n",
    "\n",
    "# Avec une boucle for\n",
    "d = 1\n",
    "for j in range(1, n + 1):\n",
    "    d *= j\n",
    "    \n",
    "print(d)"
   ]
  },
  {
   "cell_type": "markdown",
   "metadata": {},
   "source": [
    "### Exercice n°21"
   ]
  },
  {
   "cell_type": "markdown",
   "metadata": {},
   "source": [
    "<div class=\"alert alert-info\">Ecrire un script qui affiche la valeur de <code>n</code> à partir de laquelle la somme <code>1 + 2 + 3 + ... + n</code> dépasse <code>1000</code>.</div>"
   ]
  },
  {
   "cell_type": "markdown",
   "metadata": {},
   "source": [
    "#### Afficher la solution..."
   ]
  },
  {
   "cell_type": "code",
   "execution_count": null,
   "metadata": {
    "jupyter": {
     "source_hidden": true
    }
   },
   "outputs": [],
   "source": [
    "#à partir de quel valeur de n la somme 1 + 2 + 3 + ... + n dépasse un 1000\n",
    "somme = 0\n",
    "c = 0\n",
    "\n",
    "while somme <= 1000:\n",
    "    c += 1\n",
    "    somme += c\n",
    "\n",
    "print(c)"
   ]
  },
  {
   "cell_type": "markdown",
   "metadata": {},
   "source": [
    "### Exercice n°22"
   ]
  },
  {
   "cell_type": "markdown",
   "metadata": {},
   "source": [
    "<div class=\"alert alert-info\">Ecrire un script qui affiche le nombre de voyelles d'un mot.</div>"
   ]
  },
  {
   "cell_type": "markdown",
   "metadata": {},
   "source": [
    "#### Afficher la solution..."
   ]
  },
  {
   "cell_type": "code",
   "execution_count": null,
   "metadata": {
    "jupyter": {
     "source_hidden": true
    }
   },
   "outputs": [],
   "source": [
    "mot = input(\"Veuillez rentrer un mot : \")\n",
    "c = 0\n",
    "\n",
    "for lettre in mot:\n",
    "    if lettre in [\"a\", \"e\", \"i\", \"o\", \"u\", \"y\"]:\n",
    "        c += 1\n",
    "print(f\"Il y a {c} voyelles dans {mot}.\")"
   ]
  },
  {
   "cell_type": "markdown",
   "metadata": {},
   "source": [
    "### Exercice n°23"
   ]
  },
  {
   "cell_type": "markdown",
   "metadata": {},
   "source": [
    "<div class=\"alert alert-warning\">Ecrire un programme qui affiche un triangle isocèle à l'aide du caractère <code>*</code> avec <code>n</code> lignes.</div>"
   ]
  },
  {
   "cell_type": "markdown",
   "metadata": {},
   "source": [
    "#### Afficher la solution..."
   ]
  },
  {
   "cell_type": "code",
   "execution_count": null,
   "metadata": {
    "jupyter": {
     "source_hidden": true
    }
   },
   "outputs": [],
   "source": [
    "#Ecrire un programme qui affiche un triangle isocèle * à n lignes\n",
    "n = int(input(\"Nombre de lignes pour mon triangle :\"))\n",
    "\n",
    "b = n - 1\n",
    "\n",
    "for i in range(1, (n * 2), 2):\n",
    "    print(\" \" * b,\"*\" * i,\" \" * b)\n",
    "    b -= 1"
   ]
  },
  {
   "cell_type": "markdown",
   "metadata": {},
   "source": [
    "\n"
   ]
  },
  {
   "cell_type": "markdown",
   "metadata": {},
   "source": [
    "## Exercices du module 3 - Python avancé (Programmation orientée objet)"
   ]
  },
  {
   "cell_type": "markdown",
   "metadata": {},
   "source": [
    "### Exercice n°24"
   ]
  },
  {
   "cell_type": "markdown",
   "metadata": {},
   "source": [
    "<div class=\"alert alert-success\">Ecrire une fonction qui retourne une phrase contenant chaque mot compris dans une liste. Dans l'idéal, on essaiera d'inclure la ponctuation.</div>\n",
    "\n",
    "**Travaillez avec les variables suivantes :**"
   ]
  },
  {
   "cell_type": "markdown",
   "metadata": {},
   "source": [
    "```python\n",
    "liste_mots = [\"J'apprends\", \"à\", \"coder\", \"avec\", \"Python\"]\n",
    "```"
   ]
  },
  {
   "cell_type": "markdown",
   "metadata": {},
   "source": [
    "#### Afficher la solution..."
   ]
  },
  {
   "cell_type": "code",
   "execution_count": null,
   "metadata": {
    "jupyter": {
     "source_hidden": true
    }
   },
   "outputs": [],
   "source": [
    "def faire_phrase(liste_mots):\n",
    "    phrase = \"\"\n",
    "\n",
    "    for mot in liste_mots:\n",
    "        phrase += mot + \" \"\n",
    "    \n",
    "    # On retire le dernier caractère une fois que l'on a parcouru toute la liste et un ajoute un point\n",
    "    phrase = phrase[:-1] + \".\"\n",
    "        \n",
    "    return phrase\n",
    "\n",
    "faire_phrase(liste_mots)"
   ]
  },
  {
   "cell_type": "markdown",
   "metadata": {},
   "source": [
    "### Exercice n°25"
   ]
  },
  {
   "cell_type": "markdown",
   "metadata": {},
   "source": [
    "<div class=\"alert alert-warning\">Ecrire une fonction qui permet de doubler les proportions lorsqu'on double le nombre de personnes invitées à manger. La fonction doit aussi retourner un résultat si on triple, quadruple (et ainsi de suite) le nombre d'invité.e.s.</div>\n",
    "\n",
    "**Travaillez avec les variables suivantes :**"
   ]
  },
  {
   "cell_type": "markdown",
   "metadata": {},
   "source": [
    "```python\n",
    "ingredients = {\"carottes\": 4,\n",
    "               \"navets\": 4,\n",
    "               \"tomates\": 4,\n",
    "               \"courgettes\": 2,\n",
    "               \"oignons\": 2,\n",
    "               \"gousses d'ail\": 2,\n",
    "               \"huile d'olive\": \"2 cuillères à soupe\",\n",
    "               \"pois chices\": \"200 grammes\",\n",
    "               \"curcuma\": \"1 cuillère à café\",\n",
    "               \"grandes de coriandre\": \"2 cuillères à café\",\n",
    "               \"cumin\": \"2 cuillères à café\"\n",
    "              }\n",
    "\n",
    "invitees_supplementaires = 4\n",
    "```"
   ]
  },
  {
   "cell_type": "code",
   "execution_count": null,
   "metadata": {
    "jupyter": {
     "source_hidden": true
    }
   },
   "outputs": [],
   "source": [
    "ingredients = {\"carottes\": 4,\n",
    "               \"navets\": 4,\n",
    "               \"tomates\": 4,\n",
    "               \"courgettes\": 2,\n",
    "               \"oignons\": 2,\n",
    "               \"gousses d'ail\": 2,\n",
    "               \"huile d'olive\": \"2 cuillères à soupe\",\n",
    "               \"pois chices\": \"200 grammes\",\n",
    "               \"curcuma\": \"1 cuillère à café\",\n",
    "               \"grandes de coriandre\": \"2 cuillères à café\",\n",
    "               \"cumin\": \"2 cuillères à café\"\n",
    "              }\n",
    "\n",
    "invitees_supplementaires = 4\n",
    "\n",
    "\n",
    "def ajuster_proportions(ingreds, invites):\n",
    "    # Vérifions d'abord que l'on a doublé (ou plus) le nombre d'invité.e.s\n",
    "    if invites % 2 == 0:\n",
    "        \n",
    "        for ing in ingreds.keys():\n",
    "            if type(ingreds[ing]) == int:\n",
    "                ingreds[ing] = ingreds[ing] * invites\n",
    "            elif type(ingreds[ing]) == str:\n",
    "                ingreds[ing] = str(int(ingreds[ing][0]) * invites) + ingreds[ing][1:]\n",
    "            else:\n",
    "                print(\"Veuillez vérifier que le dictionnaire ne comprend que des chaînes de caractères ou des chiffres.\")\n",
    "        return ingreds\n",
    "    else:\n",
    "        return \"Le nombre d'invité.e.s supplémentaires renseigné n'est pas correct.\"\n",
    "    \n",
    "ajuster_proportions(ingredients, 10)"
   ]
  },
  {
   "cell_type": "markdown",
   "metadata": {},
   "source": [
    "### Exercice n°26"
   ]
  },
  {
   "cell_type": "markdown",
   "metadata": {},
   "source": [
    "<div class=\"alert alert-info\">Construisez une classe qui permette de décrire les objets suivants. Elle sera aussi dotée d'une méthode qui permet de décrire l'objet en affichant toutes ses propriétés sous forme d'une phrase.</div>\n",
    "\n",
    "**Travaillez avec les variables suivantes :**"
   ]
  },
  {
   "cell_type": "markdown",
   "metadata": {},
   "source": [
    "```python\n",
    "film = [\"Titanic\", \"James Cameron\", \"1997\", \"Film\"]\n",
    "album = [\"Dark side of the moon\", \"Pink Floyd\", \"1973\", \"Album de musique\"]\n",
    "livre = [\"Le sens pratique\", \"Pierre Bourdieu\", \"1980\", \"Livre\"]\n",
    "article = [\"J'accuse... !\", \"Emile Zola\", \"1898\", \"Article de presse\"]\n",
    "```"
   ]
  },
  {
   "cell_type": "code",
   "execution_count": null,
   "metadata": {
    "jupyter": {
     "source_hidden": true
    }
   },
   "outputs": [],
   "source": [
    "film = [\"Titanic\", \"James Cameron\", \"1997\", \"Film\"]\n",
    "album = [\"Dark side of the moon\", \"Pink Floyd\", \"1973\", \"Album de musique\"]\n",
    "livre = [\"Le sens pratique\", \"Pierre Bourdieu\", \"1980\", \"Ouvrage académique\"]\n",
    "article = [\"J'accuse... !\", \"Emile Zola\", \"1898\", \"Article de presse\"]\n",
    "\n",
    "\n",
    "class oeuvre:\n",
    "    \n",
    "    def __init__(self, titre, auteur, date, genre):\n",
    "        self.titre = titre\n",
    "        self.auteur = auteur\n",
    "        self.date = date\n",
    "        self.genre = genre\n",
    "        \n",
    "    def details_oeuvre(self):\n",
    "        return f\"{self.titre} est un {self.genre} réalisée par {self.auteur} et paru en {self.date}.\"\n",
    "    \n",
    "film = oeuvre(*film)\n",
    "print(film.details_oeuvre())\n",
    "album = oeuvre(*album)\n",
    "print(album.details_oeuvre())\n",
    "livre = oeuvre(*livre)\n",
    "print(livre.details_oeuvre())\n",
    "article = oeuvre(*article)\n",
    "print(article.details_oeuvre())"
   ]
  },
  {
   "cell_type": "markdown",
   "metadata": {},
   "source": [
    "### Exercice n°27"
   ]
  },
  {
   "cell_type": "markdown",
   "metadata": {},
   "source": [
    "<div class=\"alert alert-info\">Ecrire une fonction qui permette d'attribuer une appréciation personnalisée à chaque étudiant romain en fonction de sa note. On attribuera une appréciation pour chaque cas : entre 0 et 5, entre 5 et 10, entre 10 et 15, au-delà de 15.</div>\n",
    "\n",
    "**Travaillez avec les variables suivantes :**"
   ]
  },
  {
   "cell_type": "markdown",
   "metadata": {},
   "source": [
    "```python\n",
    "etudiants = [{\"prenom\": \"Jules\",\n",
    "              \"note\": \"04/20\"},\n",
    "             {\"prenom\": \"Auguste\",\n",
    "              \"note\": \"08/20\"},\n",
    "             {\"prenom\": \"Caligula\",\n",
    "              \"note\": \"13/20\"},\n",
    "             {\"prenom\": \"Claude\",\n",
    "              \"note\": \"10/20\"},\n",
    "             {\"prenom\": \"Vespasien\",\n",
    "              \"note\": \"16/20\"},\n",
    "             {\"prenom\": \"Trajan\",\n",
    "              \"note\": \"12/20\"},\n",
    "             {\"prenom\": \"Hadrien\",\n",
    "              \"note\": \"19/20\"},\n",
    "             {\"prenom\": \"Commode\",\n",
    "              \"note\": \"11/20\"},\n",
    "             {\"prenom\": \"Caracalla\",\n",
    "              \"note\": \"06/20\"}]\n",
    "```"
   ]
  },
  {
   "cell_type": "code",
   "execution_count": null,
   "metadata": {
    "jupyter": {
     "source_hidden": true
    }
   },
   "outputs": [],
   "source": [
    "def appreciation(etudiant):\n",
    "    note = int(etudiant[\"note\"][:2])\n",
    "    \n",
    "    if note > 15:\n",
    "        return f\"Bravo, continue comme ça, {etudiant['prenom']} !\"\n",
    "    elif note >= 10 and note <= 15:\n",
    "        return f\"C'est vraiment bien, mais je sais que tu peux mieux faire, {etudiant['prenom']} !\"\n",
    "    elif note >= 5 and note < 10:\n",
    "        return f\"Il y a encore des efforts à faire, mais c'est encourageant, {etudiant['prenom']} !\"\n",
    "    else:\n",
    "        return f\"C'est vraiment pas terrible, il faut reprendre le cours, {etudiant['prenom']} !\"\n",
    "    \n",
    "for etu in etudiants:\n",
    "    print(appreciation(etu))"
   ]
  },
  {
   "cell_type": "markdown",
   "metadata": {},
   "source": [
    "### Exercice n°28"
   ]
  },
  {
   "cell_type": "markdown",
   "metadata": {},
   "source": [
    "<div class=\"alert alert-warning\">Ecrire une classe qui décrive un marathon animal à partir de la variable <code>chevre</code>. Elle contiendra plusieurs méthodes, dont :\n",
    "    <ul>\n",
    "        <li>Une qui permet d'avancer dans le temps de 1 jour</li>\n",
    "        <li>Une qui permet de transformer l'animal en escargot</li>\n",
    "        <li>Une qui permet de faire remonter d'un rang la position actuelle de l'animal dans la course</li>\n",
    "        <li>Une qui permet de faire redescendre d'un rang la position actuelle de l'animal dans la course</li>\n",
    "    </ul>\n",
    "</div>\n",
    "\n",
    "**Travaillez avec les variables suivantes :**"
   ]
  },
  {
   "cell_type": "markdown",
   "metadata": {},
   "source": [
    "```python\n",
    "chevre = {\"date\": \"1/02/2021\",\n",
    "         \"animal\": \"Chèvre\",\n",
    "         \"position\": 3}\n",
    "```"
   ]
  },
  {
   "cell_type": "code",
   "execution_count": null,
   "metadata": {
    "jupyter": {
     "source_hidden": true
    }
   },
   "outputs": [],
   "source": [
    "chevre = {\"date\": \"1/02/2021\",\n",
    "         \"animal\": \"Chèvre\",\n",
    "         \"position\": 3}\n",
    "\n",
    "class marathon_animal:\n",
    "    \n",
    "    def __init__(self, date, animal, position):\n",
    "        self.date = date\n",
    "        self.animal = animal\n",
    "        self.position = position\n",
    "        \n",
    "    def avancer_temps(self):\n",
    "        if self.date[1] != \"/\":\n",
    "            self.date = str(int(self.date[:2]) + 1) + self.date[2:]\n",
    "        else:\n",
    "            self.date = str(int(self.date[0]) + 1) + self.date[1:]\n",
    "        \n",
    "    def transformer_animal(self, animal):\n",
    "        self.animal = animal\n",
    "        \n",
    "    def moins_rang(self):\n",
    "        self.position = self.position + 1\n",
    "        \n",
    "    def plus_rang(self):\n",
    "        self.position = self.position - 1\n",
    "        \n",
    "    def etat_course(self):\n",
    "        return f\"Nous sommes le {self.date} et {self.animal} est actuellement à la {self.position}e place.\"\n",
    "        \n",
    "chevre = marathon_animal(**chevre)\n",
    "\n",
    "for i in range(15):\n",
    "    chevre.avancer_temps()\n",
    "    if chevre.date == \"5/02/2021\":\n",
    "        chevre.transformer_animal(\"Escargot\")\n",
    "        chevre.moins_rang()\n",
    "    if chevre.date == \"8/02/2021\":\n",
    "        chevre.transformer_animal(\"Cheval\")\n",
    "        chevre.plus_rang()\n",
    "    print(chevre.etat_course())"
   ]
  }
 ],
 "metadata": {
  "kernelspec": {
   "display_name": "Python 3",
   "language": "python",
   "name": "python3"
  },
  "language_info": {
   "codemirror_mode": {
    "name": "ipython",
    "version": 3
   },
   "file_extension": ".py",
   "mimetype": "text/x-python",
   "name": "python",
   "nbconvert_exporter": "python",
   "pygments_lexer": "ipython3",
   "version": "3.8.5"
  },
  "toc": {
   "base_numbering": 1,
   "nav_menu": {},
   "number_sections": false,
   "sideBar": true,
   "skip_h1_title": false,
   "title_cell": "Table of Contents",
   "title_sidebar": "Contents",
   "toc_cell": false,
   "toc_position": {},
   "toc_section_display": true,
   "toc_window_display": false
  }
 },
 "nbformat": 4,
 "nbformat_minor": 4
}
