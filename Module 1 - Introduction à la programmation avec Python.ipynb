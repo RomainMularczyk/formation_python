{
 "cells": [
  {
   "cell_type": "markdown",
   "metadata": {},
   "source": [
    "# Table des matières :\n",
    "\n",
    "* <a href=\"#Introduction\">1. Introduction</a>\n",
    "    * <a href=\"#Quels objectifs ?\">1.1. Quels objectifs ?</a>\n",
    "    * <a href=\"#Quelle méthode ?\">1.2. Quelle méthode ?</a>\n",
    "* <a href=\"#Python, c'est quoi ? Pourquoi Python ?\">2. Python, c'est quoi ? Pourquoi Python ?</a>\n",
    "    * <a href=\"#Présentation\">2.1. Présentation</a>\n",
    "    * <a href=\"#Un langage et des outils pour expérimenter et produire des documents structurés\">2.2. Un langage et des outils pour expérimenter et produire des documents structurés</a>\n",
    "        * <a href=\"#Les notebooks Jupyter\">2.2.1. Les notebooks Jupyter</a>\n",
    "        * <a href=\"#Le Markdown\">2.2.2. Le Markdown</a>\n",
    "* <a href=\"#Les bases de Python\">3. Les bases de Python</a>\n",
    "    * <a href=\"#Kit de survie pour dialoguer avec sa machine\">3.1 Kit de survie pour dialoguer avec sa machine</a>\n",
    "        * <a href=\"#Naviguer dans son système de fichier\">3.1.1. Naviguer dans son système de fichier</a>\n",
    "        * <a href=\"#Ouvrir un notebook Jupyter\">3.1.2 Ouvrir un notebook Jupyter</a>\n",
    "    * <a href=\"#Les variables et quelques fonctions essentielles\">3.2. Les variables et quelques fonctions essentielles</a>\n",
    "        * <a href=\"#Manipuler des nombres\">3.2.1 Manipuler des nombres</a>\n",
    "        * <a href=\"#Quelques règles concernant la déclaration des variables\">3.2.2. Quelques règles concernant la déclaration des variables</a>\n",
    "        * <a href=\"#Manipuler du texte\">3.2.3. Manipuler du texte</a>\n",
    "    * <a href=\"#Les types de données\">3.3. Les types de données</a>\n",
    "        * <a href=\"#Les données numériques\">3.3.1. Les données numériques</a>\n",
    "        * <a href=\"#La fonction type()\">3.3.2. La fonction `type()`</a>\n",
    "        * <a href=\"#Les données textuelles\">3.3.3. Les données textuelles</a>\n",
    "        * <a href=\"#Les conversions et les types personnalisés\">3.3.4. Les conversions et les types personnalisés</a>\n",
    "        * <a href=\"#En résumé\">3.3.5. En résumé</a>\n",
    "    * <a href=\"#Les structures de données\">3.4. Les structures de données</a>\n",
    "        * <a href=\"#Les listes\">3.4.1. Les listes</a>\n",
    "        * <a href=\"#Les tuples\">3.4.2. Les tuples</a>\n",
    "        * <a href=\"#Les dictionnaires\">3.4.3. Les dictionnaires</a>\n",
    "        * <a href=\"#List-ception... et la fonction len()\">3.4.4. List-ception... et la fonction `len()`</a>\n",
    "        * <a href=\"#Approfondissement sur les objets mutables\">3.4.5. Approfondissement sur les objets mutables</a>\n",
    "        * <a href=\"#En résumé2\">3.4.6. En résumé</a>\n",
    "    * <a href=\"#Les structures de contrôle\">3.5. Les structures de contrôle</a>\n",
    "        * <a href=\"#Les opérateurs de comparaison\">3.5.1. Les opérateurs de comparaison</a>\n",
    "        * <a href=\"#Les opérateurs booléens\">3.5.2. Les opérateurs booléens</a>\n",
    "        * <a href=\"#Combiner des conditions\">3.5.3. Combiner des conditions</a>\n",
    "        * <a href=\"#If et else\">3.5.3. `if` et `else`</a>\n",
    "    * <a href=\"#Les boucles\">3.6. Les boucles</a>\n",
    "        * <a href=\"#La boucle while\">3.6.1. La boucle `while`</a>\n",
    "        * <a href=\"#La boucle for\">3.6.2. La boucle `for`</a>\n",
    "        * <a href=\"#Imbriquer des boucles\">3.6.3. Imbriquer des boucles</a>\n",
    "* <a href=\"#Sources et références utiles\">Sources et références utiles</a>"
   ]
  },
  {
   "cell_type": "markdown",
   "metadata": {},
   "source": [
    "## <div id=\"Introduction\">1. Introduction</div>\n",
    "\n",
    "Le présent document est le **premier module** d'une formation destiné à une première approche du **langage Python**. Il n'y a **pas de prérequis** particuliers pour entamer ce module.\n",
    "\n",
    "Apprendre la programmation informatique n'est pas nécessairement complexe en soi mais l'évolution des environnements techniques dans lesquels s'inscrivent les différentes technologies, les différents formats, les connaissances théoriques et techniques liées à d'autres univers de l'informatique (matériel, réseaux, calcul, etc.) s'est tellement accéléré depuis le milieu du XXe siècle qu'il est aujourd'hui devenu impossible d'avoir une connaissance englobante et générale de l'informatique.\n",
    "\n",
    "Si l'horizon d'apprentissage est presque infini dans ce domaine, apprendre à réaliser de petites opérations pratiques et savoir réutiliser des programmes pour les adapter à des besoins spécifiques peut s'apprendre assez rapidement. Néanmoins, c'est en intégrant ces opérations au travail quotidien que l'on gagne en assurance et en efficacité : pas de secret donc, il faut pratiquer pour apprendre.\n",
    "\n",
    "### <div id=\"Quels objectifs ?\">1. 1. Quels objectifs ?</div>\n",
    "\n",
    "Cette formation est conçue comme une **introduction à la programmation informatique avec Python**. Elle n'a pas vocation a faire un tour exhaustif des multiples applications possibles de ce langage : que cela touche à l'analyse de données, au développement web ou applicatif, au calcul numérique, les possibilités sont très vastes.\n",
    "\n",
    "Python a l'avantage d'être un langage que l'on qualifie de haut niveau, c'est-à-dire qu'il fait abstraction de toute une série d'éléments sous-jacents pour permettre à l'utilisateur de se concentrer uniquement sur le problème qui l'occupe. Il dispose d'une syntaxe relativement simple, ce qui le rend **facile d'accès**.\n",
    "\n",
    "L'objectif ici est d'acquérir **les bases** du langage mais également **les principes élémentaires d'algorithmie et de manipulation de données** que l'on retrouve dans tous les autres langages informatiques. A côté de ce travail sur le langage à proprement parler, nous évoquerons également nombre d'**éléments pratiques** bien utiles lorsqu'on se lance dans l'apprentissage de la programmation (comment lire une documentation technique, comment débugger son script, où trouver de l'aide, etc.) : de quoi vous permettre ensuite de voler de vos propres ailes.\n",
    "\n",
    "### <div id=\"Quelle méthode ?\">1. 2. Quelle méthode ?</div>\n",
    "\n",
    "Ecrire des programmes et des petits scripts pour effectuer des tâches récurrentes est un processus qu'il faut, pour mieux l'appréhender, **découper en séries de petites opérations simples** s'imbriquant les unes les autres. En abordant la programmation de cette façon, elle n'a rien de particulièrement complexe en soi et se trouve à la portée de n'importe qui capable de manipuler un langage simple et d'imbriquer des éléments logiques entre eux.\n",
    "\n",
    "Dans cette perspective, **Jupyter** constitue un outil précieux et utile pour expérimenter, faire des tests sans avoir à bousculer et réécrire tout son code, procéder au fur et à mesure en écrivant chaque étape de notre code dans une cellule spécifique.\n",
    "\n",
    "Dans l'optique d'inviter à intégrer une pratique régulière du code dans son activité de recherche, cette formation passera essentiellement par de la pratique, à travers des exercices corrigés qui rythmeront toute la durée de la formation."
   ]
  },
  {
   "cell_type": "markdown",
   "metadata": {},
   "source": [
    "## <div id=\"Python, c'est quoi ? Pourquoi Python ?\">2. Python, c'est quoi ? Pourquoi Python ?</div>\n",
    "\n",
    "### <div id=\"Présentation\">2. 1. Présentation</div>\n",
    "\n",
    "On pourrait présenter Python de plein de façons différentes, mais disons pour l'instant qu'il s'agit d'un **langage de programmation interprété** sous **licence libre**. Cela signifie qu'il nécessite un interpréteur capable d'analyser et de traduire les scripts en langage machine : son avantage est de permettre l'exécution automatique d'un script une fois celui-ci écrit, son inconvénient est qu'il est plus lent que d'autres langages.\n",
    "\n",
    "Dans notre cas, cette première caractéristique est particulièrement intéressante car elle permet d'**expérimenter** et de visualiser directement le résultat de nos scripts.\n",
    "\n",
    "Python dispose d'une syntaxe simple et est donc **facile à lire et à écrire**. Il dispose d'une **communauté importante et active**, son usage étant aujourd'hui très répandu, ce qui est un avantage, notamment dès que l'on cherche l'aide de programmeurs plus expérimentés que soi.\n",
    "\n",
    "### <div id=\"Un langage et des outils pour expérimenter et produire des documents structurés\">2. 2. Un langage et des outils pour expérimenter et produire des documents structurés</div>\n",
    "\n",
    "#### <div id=\"Les notebooks Jupyter\">2. 2. 1. Les notebooks Jupyter</div>\n",
    "\n",
    "Parmi ces outils, on compte **Jupyter**. Il s'agit d'une forme d'**éditeur de code** qui permet, à la fois :\n",
    "* D'écrire du code Python fonctionnel et que l'on peut directement exécuter\n",
    "* D'écrire du texte comme on pourrait le faire avec un éditeur de texte classique\n",
    "\n",
    "Jupyter est un outil particulièrement utile lorsqu'on souhaite expérimenter, effectuer des tests ou écrire rapidement un petit script pour remplir une tâche minimale. Il est également possible d'écrire des programmes plus complexes dans un notebook Jupyter bien que, dans ce cas là, on préférera passer par l'utilisation d'un **IDE (Environnement de développement)** plus adapté. Il en existe de très nombreux, bien que ceux utilisés majoritairement pour développement en Python le sont moins (voir <a href=\"https://wiki.python.org/moin/PythonEditors\">ce lien</a> pour une liste des IDE pour Python).\n",
    "\n",
    "Dans notre cas, **Jupyter** sera beaucoup plus utile dans la mesure où il permet également de produire des documents propres (exportables en PDF notamment), intégrant le code Python ainsi que des analyses associées, des commentaires ou une documentation de ce même code.\n",
    "\n",
    "**Jupyter** sous la forme d'une page web disposant d'un menu dédié et fonctionnant à l'aide de **cellules**. Une cellule peut contenir :\n",
    "* Du code Python\n",
    "* Du texte, des images, des liens externes (n'importe quel contenu que l'on peut afficher sur un document HTML)\n",
    "\n",
    "On peut exécuter une cellule indépendamment d'une autre. Cela permet de découper un code complexe en plusieurs étapes élémentaires successives.\n",
    "\n",
    "Si l'on peut utiliser le menu de Jupyter pour exécuter les tâches que l'on souhaite, intégrer les raccourcis au fur et à mesure est bien utile pour gagner du temps. Ainsi, pour **exécuter une cellule**, on peut utiliser la combinaison `shift + entrée`.\n",
    "\n",
    "**Quelques raccourcis utiles :**\n",
    "\n",
    "|Action|Raccourci|\n",
    "|---|---|\n",
    "|Exécuter une cellule|`Shift + Entrée`|\n",
    "|Quitter la cellule sélectionnée|`Esc`|\n",
    "|Entrer dans la cellule active|`Entrée`|\n",
    "|Passer la cellule en mode code|`Esc + Y`|\n",
    "|Passer la cellule en mode texte|`Esc + M`|\n",
    "|Copier la cellule active|`Esc + C`|\n",
    "|Coller le contenu sur la cellule active|`Esc + V`|\n",
    "|Supprimer la cellule sélectionnée|`Esc + D, D`|\n",
    "|Afficher tous les raccourcis|`Esc + H`|\n",
    "\n",
    "#### <div id=\"Le Markdown\">2. 2. 2. Le Markdown</div>\n",
    "\n",
    "Les cellules d'un **notebook Jupyter** en **mode texte** interprètent un langage que l'on nomme **Markdown** : il s'agit d'une version du **langage HTML** simplifié qui permet de **structurer des documents textes**.\n",
    "\n",
    "Pour passer une cellule en **mode texte**, on peut utiliser le raccourci `Esc + M`.\n",
    "\n",
    "Une fois que l'on se situe dans une cellule texte, on peut écrire du texte et le structurer ou ajouter des éléments de mise en forme à l'aide du **Markdown**.\n",
    "\n",
    "Il ne s'agira pas ici de faire une liste exhaustive de ce que l'on peut faire avec le Markdown, mais voyons tout de même rapidement quelques éléments utiles.\n",
    "\n",
    "Pour insérer des **titres**, on peut utiliser simplement un dièse `#` et entrer à la suite d'un espace le nom que l'on choisit pour ce titre. Selon le nombre de dièses que l'on accole à la suite (sans espace) l'un de l'autre, on pourra définir un titre de niveau différent :\n",
    "* `#` : Titre de niveau 1 (le plus grand qui soit)\n",
    "* `##` : Titre de niveau 2\n",
    "* `###` : Titre de niveau 3\n",
    "\n",
    "Pour ajouter des **liens hypertextes**, on peut utiliser une combinaison de crochets et de parenthèses, comme suit :\n",
    "* Entre crochets, on insère le texte que l'on veut rendre cliquable : `[Ceci est un lien]`\n",
    "* Une fois que l'on a refermé le crochet, on insère tout de suite (sans espace), une paire de parenthèses entre lesquelles on ajoute l'**adresse URL** : `(http://www.mon_site_web.com/mon_lien)`\n",
    "\n",
    "Pour insérer ajouter du texte en gras ou en italique, on encadre le segment de texte que l'on souhaite modifier :\n",
    "* Entre deux étoiles pour l'italique : `*Ceci est en italique*`\n",
    "* Entre quatre étoiles pour le gras (deux avant et deux après) : `**Ceci est en gras**`\n",
    "* En gras et en italique, entre trois étoiles (trois avant et trois après) : `***Ceci est en gras et en italique***`\n",
    "\n",
    "Pour ajouter des tableaux, c'est un peu plus compliqué, mais c'est possible et cela rend même très bien ! L'idée est d'encadrer les éléments de chaque ligne entre deux **barres obliques** `|`. A chaque fois que l'on veut ajouter une ligne au tableau, on ajoute une nouvelle barre oblique. Une nouvelle colonne est ajoutée à l'aide d'un simple retour à la ligne. Entre la ligne d'en-tête et les lignes du reste du tableau, on ajoute simplement deux barres obliques contenant trois tirets `|---|`. Un exemple de tableau très simple ci-dessous :\n",
    "\n",
    "```markdown\n",
    "|Première colonne|Deuxième colonne|\n",
    "|---|---|\n",
    "|Valeur 1|Valeur 2|\n",
    "```\n",
    "\n",
    "|Première colonne|Deuxième colonne|\n",
    "|---|---|\n",
    "|Valeur 1|Valeur 2|"
   ]
  },
  {
   "cell_type": "markdown",
   "metadata": {},
   "source": [
    "## <div id=\"Les bases de Python\">3. Les bases de Python</div>\n",
    "\n",
    "### <div id=\"Kit de survie pour dialoguer avec sa machine\">3. 1. Kit de survie pour dialoguer avec sa machine</div>\n",
    "\n",
    "Beaucoup de blabla jusque là, maintenant, place au code !\n",
    "\n",
    "Pour programmer, il est bien utile de comprendre quelques commandes de base pour **naviguer dans notre système de fichiers**. Elles nous seront utiles par la suite lorsque l'on souhaitera écrire le résultat de nos traitements dans des fichiers types Excel ou Word.\n",
    "\n",
    "Pour commencer, ouvrons notre **terminal** :\n",
    "\n",
    "<blockquote>\n",
    "    <h4><em>Comment accéder à la ligne de commande de mon terminal ?</em></h4>\n",
    "    <ul>\n",
    "        <li>Sous <strong>Windows</strong> : Démarrez > Système Windows > Invite de commande (accessible également en tappant <code>cmd</code> dans n'importe quelle barre de navigation de dossiers).\n",
    "            <br>\n",
    "            <br>\n",
    "            <figure>\n",
    "                <img src='data:image/png;base64,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'/>\n",
    "                <figcaption><strong>Fig. 1 : </strong><em>Ouvrir le terminal sous Windows</em></figcaption>\n",
    "            </figure>\n",
    "            <br>\n",
    "        </li>\n",
    "        <li>Sous <strong>Mac OS</strong> : Applications > Terminal (accessible également en tappant <code>terminal</code> dans Spotlight).\n",
    "            <br>\n",
    "            <br>\n",
    "            <figure>\n",
    "                <img src='data:image/jpeg;base64,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'/>\n",
    "                <figcaption><strong>Fig. 2 : </strong><em>Ouvrir le terminal sous Mac OS</em></figcaption>\n",
    "            </figure>\n",
    "            <br>\n",
    "            <br>\n",
    "            <figure>\n",
    "                <img src='data:image/jpeg;base64,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'/>\n",
    "                <figcaption><strong>Fig. 3 : </strong><em>Ouvrir le terminal sous Mac OS via Spotlight</em></figcaption>\n",
    "            </figure>\n",
    "        </li>\n",
    "    </ul>\n",
    "    <h4><em>Comment accéder à la ligne de commande Anaconda ?</em></h4>\n",
    "    <ul>\n",
    "        <li>Sous <strong>Windows :</strong> Taper <code>anaconda prompt</code> dans votre outil de recherche.</li>\n",
    "        <li>Sous <strong>Mac OS :</strong> Préfixer les commandes Anaconda par la commence <code>conda</code> sur votre terminal Mac OS.</li>\n",
    "    </ul>\n",
    "</blockquote>\n",
    "\n",
    "#### <div id=\"Naviguer dans son système de fichier\">3. 1. 1. Naviguer dans son système de fichier</div>\n",
    "\n",
    "Apprenons, avant tout, à naviguer dans notre système de fichier.\n",
    "\n",
    "Dans le terminal, tapez la commande suivante : `cd /`. Sous Windows comme sous Mac OS, `/` représente la **racine du système de fichier**. C'est en dessous ce cette racine que se déploie toute l'arborescence de dossiers que l'on stocke sur notre machine. Pour passer de dossier en dossier, on intercalera un `/` à chaque fois.\n",
    "\n",
    "<div class=\"alert alert-success\" role=\"alert\"><strong>Premier exercice :</strong> Naviguer jusqu'au bureau en partant de la <strong>racine</strong> du système de fichier.</div>\n",
    "\n",
    "<div class=\"alert alert-danger\" role=\"alert\">\n",
    "    <strong>Naviguer jusqu'au bureau à partir de la racine :</strong>\n",
    "    <br>\n",
    "    <br>\n",
    "    Commençons par accéder à la <strong>racine</strong> en tapant la commande suivante : <code>cd /</code>.\n",
    "    <img src=\"data:image/png;base64,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\" alt=\"terminal-racine\"/>\n",
    "    <br>\n",
    "    Utilisons la même commande <code>cd</code> pour accéder au dossier suivant : <code>cd Users</code>.\n",
    "    <br>\n",
    "    <br>\n",
    "    On peut utiliser la commande <code>dir</code> sous <strong>Windows</strong> ou <code>ls</code> sous <strong>Mac OS</strong> pour afficher la liste des différents dossiers accessibles au niveau du dossier auquel on a accédé avec la commande <code>cd</code>.\n",
    "    <br>\n",
    "    <img src=\"data:image/png;base64,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\" alt=\"terminal-ls\"/>\n",
    "    <br>\n",
    "    A noter : A chaque fois que l'on navigue d'un dossier à un autre, cette information est lisible au niveau de ce que l'on appelle le <strong><em>prompt</em></strong>, à gauche de l'invite de saisie.\n",
    "    <br>\n",
    "    <img src=\"data:image/png;base64,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\" alt=\"terminal-naviguer\"/>\n",
    "</div>\n",
    "\n",
    "#### <div id=\"Ouvrir un notebook Jupyter\">3. 1. 2. Ouvrir un notebook Jupyter</div>\n",
    "\n",
    "Avant toutes choses, apprenons à ouvrir un nouveau notebook **Jupyter**.\n",
    "\n",
    "Tout d'abord, il faut naviguer jusqu'au répertoire où l'on souhaite ouvrir son notebook Jupyter. Pour ma part, je vais créer un dossier que je vais nommer `formation_web_scraping` sur mon bureau.\n",
    "\n",
    "En partant de la **racine**, je navigue jusqu'à mon bureau (selon votre arborescence, le chemin sera différent) :\n",
    "<br>\n",
    "`cd /Users/RomainM/Desktop`.\n",
    "\n",
    "Sur mon bureau (donc, au niveau `/Users/<mon_nom_utilisateur>/Desktop`), je peux créer un nouveau dossier : \n",
    "<br>\n",
    "`mkdir formation_web_scraping`.\n",
    "\n",
    "A l'aide de la commande `dir` ou `ls`, je peux afficher tous les dossiers et fichiers accessibles au niveau actuel de l'arborescence.\n",
    "\n",
    "Si je me situe au niveau souhaité, je peux alors lancer **Jupyter** en entrant la commande suivante :\n",
    "<br>\n",
    "`jupyter notebook`\n",
    "\n",
    "Si tout a bien fonctionné, votre navigateur doit s'ouvrir à l'adresse `localhost:8888` et afficher une page qui ressemble à celle ci-dessous.\n",
    "\n",
    "<img src=\"data:image/png;base64,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\"/>\n",
    "\n",
    "On peut alors créer son premier notebook en cliquant sur le bouton `New` et choisir `Python 3`.\n",
    "\n",
    "<img src=\"data:image/png;base64,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\"/>\n",
    "\n",
    "Un nouvel onglet doit normalement s'ouvrir et ressembler à cela.\n",
    "\n",
    "<img src=\"data:image/png;base64,iVBORw0KGgoAAAANSUhEUgAABZQAAAEECAYAAAC/erFhAAAAAXNSR0IArs4c6QAAAARnQU1BAACxjwv8YQUAAAAJcEhZcwAAEnQAABJ0Ad5mH3gAAGUHSURBVHhe7b15kBbVvf9PlVX5I6nKrcqtm6pv3Vt1f99U3XiT+/3WN7lcEhJFFJdo0ERiNIIX5RIXFCXBhR1Rg0oSiZi4BA0oUSMuIAoiRJQQ9yVGVNyQfR022YcZls+vP6f7PE/36dPP08/MMzM9w+tV9WLm6eX06dOnn5l+z+E83QQAAAAAAAAAAAAAIAcEygAAAAAAAAAAAACQCwJlAAAAAAAAAAAAqMrhI0fk0OEjpa8HDx0OXwfa5dD1IVAGAAAAAAAAAAAAL5oR1xoU6/ZHChwub9++Xd566y101HbJA4EyAAAAAAAAAAAAVETz4U8375bXP90qz7+/UZ58Y7U89NdP5IlXV8jCd9bKyx9ukqWrt8n+pkPRHsVFw1NIk7dd2j1Q1r9OvPDCC3LPPffI4sWLo6UAAAAAAAAAAABQNHY1HpTpf10pF9/3ivT7zQty+q0L5XuTnpPTf7VYTr9tiZx663PS56ZnpPe4J+WUCU/KjybNld8vfE/2NjZFJRQPAmU/dQmUNfxVDx8+HC3xcCRYZ3SGsuv3xuS6d999V8aOHSujRo2WMWPGytKlS83yiscAAAAAAAAAAACAdmVP40G5asab8sO73pLv37ZETp/0nHzv1j/LqROfkVN/EXjTXDn5hjly4vVPSq+xT8jxYx6XXoG9r39arpy6SPYdaE7mhQWBQNlP249Q1qC4Bo4cOmiC5eeee07Gj79exo4dZ74uWLDArCdQBgAAAAAAAAAA6HhsBvzs0g0mTL7wnpfkjeVb5fXlW+QnU56XU29eICff+LScNGGOnDh+tvQeN8sEycePelR6jZopJ4yeKcePmyPT/hwOJC1apkyg7KcugXJjY6O8/Morsnz58miJ5six4PfIYTm86m9y8C9TpfH+S2X/7WfKvl+eJPt+/T3Zf/dP5MCT18vhd5+RIzs3RzuIbN3SIL/61a9NoPyrX90mW7ZsjdaAjyL+FQcAAAAAAAAAALouh6M46u5FH0u/e96W6X8pZ4P3PvehmebilBvCQPmEsU+YMPm4UY/KcSNnyneue1iOG/GwfHfko3LxHfOl+VDxBpESKPupS6A8c+ZMGTV6tFxzzTWybdv2xJ8TDv99rjTfd4HsH/VVkfHHysGxx0rzmLIHx3xVDo871qxr+uWJ0jTvFjmyc5PZd9fOnbLs/fdl165d5jVUZs+ePSbcBwAAAAAAAAAAaGsORSHw5GeWyQ/ufEN+/sfXZPf+ZuPQP7wop0x8VvpMeFJ6j5stvcY8Jr1GPxaGydc+HPiQ9Lzmj/Ltax6Ss296QnbuDTOtIg2aJFD2U5dA+YknnggD5WuvlW1bt5hlRz5bLwf/OMQExgfHflX2jPmP0FH/LntGBq+to44Nln9d9o77v7J35L+ZYPnArcdL81uzTTlQnZ07d8pvf/tbueCCC2TRokVm2aFDxf+kTAAAAAAAAAAA6LwcjoYo/2rue9L3N0vk1Inz5YLfLpYBdzwvfcxUF0+aqS50dPJxox+V7458xIxM/vY1D8q3rv6j9LxmhvQYPkN+cMNjsmtv8T6cj0DZT10CZR0V+/obb8inyz8xrw+teUcaf9VHjow9VnaP/KocGP1VkQn/LjL+32WvhsijwwB5z9j/I3tH/7sZtSw3BOvHBduP+DfZF2zTNPpYaVr4G/NXiSOHWx6Omv0z/rJh12Wtt7SkDJ3rWUNdtdK8z1n7+3C3s691qpEf/ehHcu6555q5p3XZwYMHE9v60PW2nvo1z/buNnZ/AAAAAAAAAADo+hzWPOmIyKHgn6aDh83XXzz5jpw55RUzZ/L3frlYTr31eelz0zNy0g3zpPf1T0mvcbPluyNnlgJlDZM1SP721Q/If/38ATlrwqOyc++BoPQjYQ5oPpMtOEiNn81WbwiU/dQlUI5zpGG5HJzUywTITaO/KnvHfN3Mk9z09M1y8OU/yqFli+TQitfl8Np35NDqv8mhT16Sg2/NlqbnficHHvqZ7LullzRFo5o1ZG7685So4OLNo+IjKzz2hbH1Ys2aNdKvXz/58Y9/LC+88EK0NButR1Y9awmH2+p8EjzYV7p16xbYVx6MFmXzoPQ1235FRrwTLWoNTetk/ojvysUzo9cR74z4iqnTV5yDNK2bLyO+e7E4mwenoHVKb1933hkhX8ndVgAAAAAAAAAA+akUAy3fvEteeH+D/PWDTfKXZRuNi99bL88vXSd/eX+9/Oapt02gHE5z8aD0+PkD8l8/u196/Gy6dB82Xfpe/yfZyQjlTkNdAmX9AD71cOMuaZx8msiNX5O9t58pBxf/Xo5sXSlyMH+HOLJ3hxz68AVpfOgqabz+myI3fU0Ovv1UtLK2AFPDUZ1/WdURuy465/C2bdvM1yxsGTqtRFNT+jx03y1btsi+ffsSAevq1avlvffeM27cuDFamgycbdmfffZZ1bmP4/Ww2x44cMC8fvfdd+UHP/iBnHPOOTJ37lzZu3evKVPXucFx/PXWrVvlk08+kY8++khWrVplystCz2337t2m3Obm5mipyLp162TZsmUV27BVdGCgPPPsY8yx+zoH9gfKM+XsY/z1JFAGAAAAAAAAgM6Mzbz0yztrdsijr62Wu577SO5c+IHcuWCZTF30kfzh+Q/kD4s+kPsWLZN7/7xMfr/w/cClcu/Cd2XE/S/Kd677kwmTv331H02YrEHyfw2bJt2vmiZ9x8+UnXs+E9kzT47sekJk1yyRvQtEmj4yx+0oCJT91GeEctSpDjwxRhqv/4YcfP3R4ILvM8tK6HD1wwfDrzraOK5d53B43bty6KHLTZlHdqyPllbHhqaffvqpXHnllcaXX37ZLIuPzp08ebJcfvnlcvPNN6cCZ7uNTidx1VVXme2ef/55syweHN91111y6aWXyrRp08zrv/3tbzJu3DgT8OoUFDpy+L//+7/NsRoaGsw2tmwNoX/xi1/I0KFD5YYbbkgEtRa77bPPPmvO44orrjDHUBYuXGheX3zxxeZ46oUXXmiWXXbZZaZemzaFH3Co2HprwK1zLg8cONCMav7JT35i9h0xYkRphHP8HBUNjMeMGWPKXrp0qVmv5z5gwABzjq+99lq0ZZ3pwEDZBsFuoOzHHptAGQAAAAAAAAC6DjYjatjVKNfPWipn/uav0jfw+7ctkTN+/Rf53i9fMJ42aZGccsuf5eSbF8pJv3hWTrxxnvSe8LT0Gj9Hjhv9uHz76gflW8NnSA8Nk6+aJv955R+k+5X3Bd//Qb4/7lHZuXtjcJDRIo1jRHaOFNk1QmTHNSKfPaK1iGxfCJT91CdQDtDw98C0wXJk+9poSYAJjGu82Lq9DZojmp+/W5qemqjpaq7y7LQN77//vglMdeTu/PnzzTINaG1IqwGqhqka6LqBcryMH/7wh6aMJ5980izT/e3NdOutt0r//v3lN7/5jbz66qulqSc05L366qvlvPPOM/Mbq0OGDDEjehVb/j333GO212PYi2HrZ9FtNczVsgYPHmxGKitz5swxx9OyNRA+66yzTDm6TD377LNLx7Nlfvjhh/LTn/7UlKVBt9b/17/+tQnM9Ry1rEce0RtVm7rc1hoo6zlpe73yyisydepU8709vi5rEwiU80OgDAAAAAAAAAB1xGZD+5oOyrWPvCM/vPNN6furRfL9Xz4np9+yQL5387Ny2i+ekVNvmicn3zBH+lz/pJw0frb0HvuEnDDmMek1aqYcN+JP8p3rHpJvXT1DvjX8ATPNxX9eeZ98c+i90v3Ke833YaC8SWTrjSLbRopsuibw5yIbrxLZPSyowEumHkGNoq/tA4Gyn7oFyoc+fVWOHNgbvjCjkOtwgWOh8pFVb8qRPduiV5Wx4ekHH3xQCpR1NK+iN4JdP3bsWBOsDh8+PHOEsk7nYMt46qlw6o140Hr77beb9ToaWL9qaPzGG2/I9u3bZf/+/WZ+Yw2bbcg7cuRIM7WELUOnxtCydV8d8avYdfarlqH11O0eeOABs0zXabC8du1aMzpYA2UNdh9//HHZsGGDWa7a89Ltd+zYYUJhLWfSpElmqg6LlnXfffeVgmgdhazY4FvPZdiwYaaev/zlL802GsQvWLBA3n77bVN2m1CHQDk+RYXOc3zjGV+XL34uDHmP+fw/S/eLpsp78QH1pWA2qQ2E3Skv7Ouk5TpUCpRtfb70+XB6jW7HfF6+9PUz5Mb56yRrohj3HD73xa/Lj6d9JE0EygAAAAAAAABQR/QD+JSn3l4vZ9/1lpx12/Ny+qQ/y2k3L5BTJz4rp/ziGTn5xrnS54an5cTrn5Te42bJCWOfkONHPybHjZop3x3xJ+l57UPy7Wje5B4/v99Mc6FhsvGK38s3r7xPzhg7Uz7btUlkywSRrVeLbBwmsmGoyPrLRbZfIbLpxqAy2VO1thUtD5TXyIwB3WXAjDXR6wKyZoksaWH16hYol4g6Wl2xZeYs24agGihryKohqQ2UNSi2YbGO+tVpKX7+859njlDWQNmWYQNl3d+GvXfccYcJV3Vk8KBBgxJTTMTRaTV0Oy3nxRdfNMtsGddff70JeXV/nafYYuv59NNPm/00VNYpOBS7TtFRyBooa9i7ZMmSaGkZu60GxrqNjkbWeZYVPW97rlofDddtaKz72X1toKzH0XPV0dd2pHSbUsdA+V9PO1v+jwlhj5HPf+nL8uUvfV6OMdt3k2P+8SKZaxPcZTfLd7785VhgG2wbvP7OzcvMajdQXnbzd4L1X5TPmbI+J18Mtv3yl78j0eaZgXLD7AHyL2be5UANknW/L34ufB3U8V8GzJZwkpQyTW+OkGOdfcIw+hg5tu9p8q9m3zxt9Y6M+EpUjutXRgRr25OwLon2seF4e9al1Ndi5huefvRg2qg+/wOgMuG9XGp+c9yj7Q8lnvsC2pDoPbEw97zeA+1xr3mI3n+z77/4z49gecX70/+/d8zPUd5fAQAAADoNGipfNeNNOev2v5qRyafdskBOu/lZOfmmedLnxqflpAlzTJh8wrhZ0mvM43L8qEfluyMeKc2ZbKa50A/hGzY9nOpi6H3yzSumyv8bco/5qst/cstTsm/vOpHN14psukpkwxUi6y4JXTNYZONPRZpX2RpFX9ueLhsor5khA7oPkJZWr76Bcs7At0XUUHZ7Bsq/+93vTFCs2mk1tCxdr9py9cPv9FhalobLij2Gzs2s5WtQ+9e//tUss3VURo8ebfYdNWqUmWfZHtuey4oVK0zQq6H0c889Z5bpdvF66ofp6VQXWs4zzzxjlsWx2+k0GrqNToehH+pnsYGyPVf9sEFFzy9e17pTCvnyhEmVA2X1mGMvlfnrymN/970yvBTQfvOW5F2UNeWFGyiH+B+aFW+g/Okt8k1z3GPk2EvnS7lKTbJu/gj51j+E63r9LhYpN82VAWZ5N/mHEyfHRlXvk1du/Jb8gzm+mqetssOTsL55ymhrnFCxDQmvqRveRG3U7gF7gWm3QNmBQBnanGIFyvo+3GHX3g2UHcL3y3z3o9nW+x4atndBmhsAAAAAqrBtzwE5/3c6Z/JiOUNHJ9+ywIxM7nPjXDnphqfCkcnjZ0svOzJ55MwwTL72YdEP4DNhsp03OVBD5G9c/nv5f0N+L/81dKr0CLYZ+8BLIo3viey+Wo6su1xk3aUiaweLrBkUuv0ikb3h56MRKNeBQgXKBaG9A2Vdp6OHdaSwLvcFrFqeBsM6+lc/MC/+AXwa3GrYq+v0Q/oUW4ZOW6FzFWsdNOxVbN1sHVauXFkaobxo0SKzzG5jy9FpKWxorR9WqNNuNDY2SlNTk1EDY12mI5w1mNbt7GhoxQbKWobW34bmbU5dA+X/Kzd+Gi2MsfjSfzLrjzl7ZrQkpC0D5bkDvmCWfeG0aalRyMqO4Ly/oOX9r6Fi3y533HNiOKL6f10qi1PzYTTJ7PPCMvO1VaXwpFjBSttTIbirEqwcdRAotyMV+iW0AQV63+vo/l7HQLkiep78wQ4AAACg0Bw+HOY+H2zYKT+Y/IJ875Y/B4Zhsk5zcdKEp8LRyeNnJ0Yn9xo9U44f+Sc5bsTD8t1rH5SeV8+Qbw+/X771s2nSY5h+EN+90n3oVPnPKwKHTZfv/HyafLRut8i2qSKfXRWNSv4fkdUXiqy6IPga2BD42SxTH2nHeZTbNlAOt+nePXKCO+vAEplg12n4u0RD4AnBUkuF/X2BsV32qn4t79eS0PuoDpR1DmUNYfMEyjoq1xco//a3vzUBrM5NvG1bOMezG7Ta402ePNkcT6e2sNva4/z+9783xxkwYICsX7/eLFP0gwB1+fnnny9bt26NlobUEijr+Ws9tS1UPR/71aqv7ZQWesx459BAWafD0DJuvPHGaGk7YB6s84akVQLlY8dKNAtFgmVjjw3XO0/PbRcoL5ZL/0mXfUEGzI0WpZgpZ5sRzMfK2KjSM88O51n+1+FvhgtcFl8q/5RRhzRVwhNvcGjPMdINAqJwYER0vuF6G4o9GB7Pu68vOKtyLLM+qN8I2z/KdS3/ASG0ej4UHit3cGen48g6hi8Migc0WWGNWZ5sc9t3Qt3roUTX0W7TN2j/1HV1tjHbJSqc2Zbhudj97DZOPdz2SJ1YGnNeFbcLr0lpE1+blsi4ft4+7JA4P7XK9oZke+pxk+fj1N0Q7eOcc+W+6rkvEm2tdc3RTt7+Fu5XOnbq/gpw28a3TYJ0P3NONyDHcd1tUtc93/q+DzrbpSrj1Nd772gzxLbx9Y+a26k6qfvDvjc8mLzXTN9I9YloH4t7f/rq52zTd0T4ulSFWL9KtkdUhwr9rrRtujME2GsVvQQAAACAwnEoCpSXfNggp//yeRMmnxoLk08c/6QJk3uNecKEySeMfsx8f+KEOXLC9XPk+PFz5Lgxs+W7ox6XniMflW9f94h869o/yX9d/ZD0CPzG0Hvlhzc8Jq++v1Vk1wsiW3Sai4vFjEjWMHnlgMDzA38isuG8YP1vTX2kPQY4RrRdoByFwaUQ2H0dhsnl/W24bAPlKvtXCpR1GSOU0+QNlO2IYQ2U7T6WvIGyjlDW9TrCWD+Iz0c8NNbjXXjhhaUPxLPrdEoMPYaWpXMmKzqKecKECWb0s4bRLrYO8SkvsgJlHd2s69WLLrpIBg8e7FXP45JLLjEfMuiOUNZ20vrdcsst0dJ2oPSw7oYGPmyAkHyoLoU2WU+t9hjOevvg7O7W6kB5x++kl9k2msvZzLns+iX5fDQVR3j8ZTL2WH99SjRNk9My6pDGH3CViMKA8uro/GLbh+cVO5a3HcuhTWlxVHa5/dzgLMex7DbOuYbXJnb9U8fyUwpJqoVBqXbxHLNCuBLu5297U07s+FntW97NLafc1qll8WOl2iSj77rHi/ar3L7R8VodqoV1Kh3b16YxTFs5x/QtS2DKTL5XpPuZi3t+vjZ36m5IX4fqfTXcp/TaXV+6HlXaKdqufOgc91eqbdL1T+JZnyojx3FTbaCLtJ2ibew5VyrDHid+bFOXeBtE9U3db1XKdsupuZ3y4Ok/pWtdrkupvqll6fpWvD9TbW7bL7tfJa6J4qxPl+k5boSpc6vaCwAAAADaEhsoP/7aKuk75WU5/ZZnTaAcfgCfjkx+0nwA3wk6Mnn0Y9I7WPbfv3lWpjz9gTz12hqZ9+YaeSZw3hurZe7rqwJXRl9DX162Xj7bs0tk55NyeOMVIht1ZPIgkVX/LbKyf+B5Ip/+WGRF4Np+IuuuNfVpT9osUF4yIRYOR8SXedavmTGg4vrEMgLl2rFhap4RyjrlxVVXXWWmfYhjt8kz5YWGtBrC2lHHLrY+t99+uzne//zP/8i+feEEuLYc3WbcuHEmcB4xYoRZtnHjRrO9HvvVV181y2xZit131apVpRHKOoey4gbKzz77rFmv02dkjaSO466LB8p2Duh2Ye6AcOqH+MNqFqVANf6Abx9+Kzy0Rg/d7nr7wO7uZsuLhx7B1tFDeLqetpzS9qVwIJ/h8aMH8tJrH9l1SFMt+EiGGqkAwRBuUzqvVLii+I9j2sQJ5Ww5uY6Veq34lmWVl8Zep3TblzFluaFIdD1L27rhiuJsk65Tsg1SZUYk2q3CcUrtbV5Xuya+dvNft7De5fKS1zEio+61EdapXEXPucZJ9T1/X4hj6u5W0tuHY3jXh8dy2zNZdJ42t+1rzzPZJ7xtbepTpZ2q9j0lWR//NpWo3t65j+ueYwxvG6SO7auL0/55rmOOe7D2dsqBr25RXRLn5F57JbGv/x52z6sl/Sp13s56b5kZ7VntmgMAAABAx3IoypSefHONnPHrv8hpE+fLKTfNK38In4bJ42ZJ7+DrieOfkOnPfSwHm3frB1aJ7JwjsuNRkc8eD3wsdIcaLNvxiMi2h0W2/E5k4zUi23XOZJ3i4iKRlReIrOovsuJckU9/JLL8hyKf/EBkzVnB8ktNfdqTNg2UB8wItooRC3lNeOxdHwuUK+zvDYyrra+BozpQ1vmKNWTVOYF37NhhlsUDXv3+73//uxk5rNNAVJpDWaeq2LRpk1nuhrH6Wkcbjxw50hzvmmuCmyWGre+CBQtMfVUdwWynqRgyZIjs2bPHbBMv235faYSy/fraa6+ZcvU8Pv7448Q5VMJuYwNlPUa7BsrRQ2i3bt8U5zPz0pS2TT6Mhw+/ngdrS/Tw7K43D8VZD8DB8mRgEYURnnDBllPafs0t8k2zbXk6i+qURyifNi01gXJEdh3SZIQNJcKywtXZ25pzs8udUCEkGYpZkoFDfJucx0rUL8Ic3w2JAky/8CzPxLaj1d+epX4VWa6apx3cMMV97dQ9FdhYYmUn29BS4bqW7o/I8sHTbeldFpCoZ7iNe21tHdLLa8E5vq9NEzh1cdqzGvYeDc3ezx9+uW3uaztnm6z6JfpqvB0z2tTbjyr1PbeuZRL3V6yveDb1UmpDbziY57jZ24RUKaN03Ortn+c65rkHW9JO1fAe173Oilnm9KFEv6p8f8bbvNZ+lapjYn3l46aW+/osAAAAABQGGyi/8nGDnDpxvpx80zzpE/sQPg2UTZg8YY7c9+cPRfYGfvYrkeZxIgcCG61jw6/7R4vsGxlsd43InuEiO4aGo5LX/o/IqoGB0RQXOiJZw2QNkpefFXw9U2T19wN/burTnhAo++nygbKGveqf//xnsyweKNvpKnQU8EcffWSW2yDZzqn8xBNPmBC1UqBs5x/WD7RT7AfWqbYuOqWFTl2h2z3wwANmmS3Doh/Op9NR6PGeeeYZM82Fjii+//77zXpbbxc7QlnPRUNp3S5eB6WhocFMtaGBtk69oeg29lxU/d5qsft3WKBcGnX8BTlvdlaQGrLjd72C7YJtjzlb4h+vFz78loOCFOaBNr3eBiTubra85INx+BDtezC25ZS3nysDvqDLjgnKrnxOcewH+f3TpYujJQ5vDpd/zahDmmR4kiIRKETbmrI92jK8wYA/REgGQPFtch4rau9E9e119JodElYkKrNU/1iApJrjVwlfDO429jyjBcn20M2jPus1LNvdJyRZbum13TessLONpy1T9Y0wy5OBVbJuZd1rXhtOnbx9K4lps6g9/G3jkOgv0TmZZdl9Jatcs7xSe7ptnji2qz1+uE/YjmGZ6TbN0U6Ja+n0B9dEpd3rW/0eSvXbUnl5jhs/Xx/Z65PXpXr757mOee7BkNrbqRLhcau9fwQk7sWIRP/1tYMSb4twm1r7VaqOifVueyRNHStRZwAAAAAoGlEkJJ9s2iV9b50vfW6YK310fuToA/h6jwu8fo4MmrJQmg/uEdl6s8j+MSINI0Q2XSuyWb0u/LppuMjGYSIbhoqs1xHJl4qsHSzhfMn/HY5K1rmSNUxefnZw0LNEPv6+yEenB1/PCLY5Ldh3UlihrvChfGZ6CifQNctyTmlRbf/OFCjb8LHuHPEHqVnEA2UNWTXE9Y1Q1tG8GhTr+qlTp5plcVavXi0DBw40Ya2GxvPmzTPLdX97rvqhfLpOvfzyy0sjneMcOHDATK+hx9FAVwNgJd5e9vu7777bbDN06FAzNYYGuDoCWXHb177WsFjPU7333nvNsjj2fO0HCOoH/OmI5VrosEA5uAFv+Wb4IHrMsSPkzaz8telNGR4FFseceI/Er0IpGEg/WYeYB9r0ehMuBMvd3Wx5yQdj+xDtBAEBtpzy9k0y+7wwHD6m1++kIVqawIQFn5Mvfrm7TPh7uKhp9nnh9B9fOE/S2XqTLL70f5kyfXVIkwxYUiQCgirbWpzQIcQfAiUDnfg2OY8VtXdiszYJJpL18QZRbtjjawdPIFQOZdKhjjdUcvDWxW0/b5u4bexpS++ygER56XrXD+f43r7lUArY8tQro59V6UPmulRrc2/b5bkuLuE+8fsidU41972M865KeE5Vr0GM5PtknuNW2yZ7vbkXSsurt3+e65jnHkxTezu5eI/ref8Ilzl9KNf9GZ5na/pVqo6J9VnHzcDXZwEAAACgcOza3yw/+vUC6XPTPPMhfDoyuZfOmTzmMTlxwtMy5en3RXYvFtk/TmTTdYFXh26+JnC4yIZhIuv1A/eGiKzVeZJ/KmZ6Cx2VrB+8t+L8cK7k5Toq+YciH58l8tEZwdfTRT48NfCUYL+TRT6bH1aoxpywNbRZoBytb7MP5UvtH60vhcjh+tLmNVK3QPnwlpXRdwH1vLCHw3D4yO4GObLvM/N9NWyAGh+hHA+UbRCr4a+O2tVQWUcpz5gxQ9avXy8bNmwwo5EvuOACufjii838yLp+7ty5Zj/d35ahIa2Wr6OPNVTW7f/yl7/I1q1bzYf0LV26VMaMGWOOoWHsww8/bPazdbTY1zpns5ajIbaWq/vagDwLDXs1zNby+/fvL4sXLzbTb6xcuTKxr06joR+6p8GzjnzW8127dq0ZGf3ZZ5+ZOmuHmD59emoKED3G1Vdfbc7z1ltvNcvai6a5A+QfzEN6N/nc//6xTH1tvXxmA9V9W+T95yfLj//358x6fZge7qTONtjIDCrMA216vQ2C/3X4m9GSEFte8oHZBgn/Ghw/WhRhy0ls/85YOdZ86N4x8i9nT5X3wim1DftWPiQD/uUYs88x37xFPo2WBzvJ2GPD5f/wrRvlldI+++S9ySeW2ijfw3l2OONbVym8LJ2XNxjwBxbJ8pLb5DpW1N6J6vtCF6VaYGHWZ4V78eP6z8X2h9JxfeVFfcxb375Z26frZI5l28Z3XlGZiVDMbUtnm6CgdFtG5+r2j/Bcbb382/jLqxWnDN+5poiuT9CeqaAthb+O4b1aYV/vdQnLctsz2U+cbXL11WR/894XZnu3nZz6Odvku788mDpXa9ck5ljRgfMc179NGf96t71919bpq3muo3cbbQbPPRWnBe2UwHdcX3/xHSexr3POFqcsb5s6fSZ8Xb7/wveB2P2YWJ9xXO91icqq1J4AAAAAUBiu/MOLcvIvnjGBsn4AnwbKx42cKSeMfVyefmO9yI4/iewdK9JwbaiGyRt/LrLhqmhE8mUiay8WWaOjki+U0gfvrfiJyKfnBPYTM8XFx33DUckfnhZ4ssgHfYKvJwbrgmVNNhxNDrhsS1obKHc3IXDSdMgbmUp3bYisDpAZM9xRy1X2N6OQy+snLNHyyqOSl0zI2C8HdQuUD338V2lacHv0KkCD4CiMbBFRkKwcWvWWND0zSY4c2JOrTBuiajhrA2U7t7ANbm1Q+sILL5S20aBVw1z9XoPTwYMHm1BWg1QNah999FGzTzyUth/Kpx/sN2vWLLO/hs82pNaydMSxLr/rrrtM3ey+PvTDAUeNGlWqh/shey72fGbPnm3qYffTc9F5nXft2mXW2+0+/fRTufLKK816rZd+1XPTgFn31TJ0uf0QQLufDa11u+uvv94saz+a5M1bviv/aALYCh7zLzJgdnq8b/jwG6xPPeBGRA/P7vrSfmak8JflP657ObE8Gb5ED9G6/ee+KF/+8n9ItHn4wJ7aPnh/ffDs8jkd83n5UnCML3/p83KMOWY3OeYfz5YH3dNpCB7K/yHaJ6rXlz4fhc//+I9RqFwteFOyHvptfd0ynLAloHKoYAmP4557MsRwt8lxrGgbt/rhdvGQJdzOPX4Se+087eacU6ptonAmcX2jZanzCUzWN9ZnPIFK1rHKZbjXsFxe6dhR307tkzimvy1T+5bONda+qXON6t3qgMipk7dvpSnds1WPH7VDfLvofJPtlcY9v/A6BZYbKlV2ehtb10p9NSzH7UcV+1WuvhctS9Wl3L7p+y3Yq+J1desWkOqv1Y+brn+AuS5RO9k+GCsjbNt4XcPjxDYJiK5JaWG+a5Qq2zmn2tspD576p9oywCyL95+AeFuVXsfb09PvU20eXaf48Zz7L3Xezvp0mbqJv13M8sSJAQAAAEDROBxlWE+9sUr6/OJZOWn8E3L86Efl+FEz5TvXPRx8P1MW/H2jyI77RfaNCae32Hx1eXqLDZeLrNXpLS4OjMLk0hQX54msiMLk5T8Q+aRvOL3FRzZMPjEMlFedEOxznalHe4bJSssD5TZAp7Rw503uIOoSKJuA9PAh2X/3+dL8x0vl8NZwSocSOmLZBMzB12DbRKCqrzW01PWxENlw8IAcenmG7L3+G3Loo7+Ey+L7ZmBDUP1APQ1X1RdffNEsix/bfq/h6YgRI2TQoEFmiosrrrjCTIGhU0koGhrrSGE7D7PuZ/e18zBfeumlJnTVUdE33HCDCaM10NXRzePHj5eXX47SxQrY0FjnTtYwWkc779271yyrhp7zY489ZqbK0HmY9Vw0+LUf5qfYOu/bt0/mzJljzllHLGs9daS2Bsbjxo2TJ5980oyuVuw+Om3HlClTTDvoyOaOYN/K52XyRd3l//vyF+Vz0QNvGKp+XU64YrK8uM4/H0b48FvhoTV66E6tb3pTbun9z/J5G/r2+p2ZSsOWlwg9AprevEV6/3M5EO71u3CUtw0q3O2VfSvnyI1nfL0UCuuI5c9/6etyxo3zJeN0gp3ek6lBO/yz3edzX5Sv/1hHOdsgIBlw+ImCBbO9Y5XQqLytcxw3VDC4oVhIMlzwbVPlWNF63yUtXe9IX7v7cPczpg7gtpuGN1Fd49vaPuVs4xaX1Zcstu9Y0+ebrM9XRjyYaktfe4Tl2jbNbsvUeYzQ106IFYVHpe1yhGnVQySnTt6+5cETZGUTXbeSQfk5909cl74jwmuQOJ9k2aU2d865cl+tfl/0Dd7Dtb7JQ+fpe55zj9ZY0vdDtfZ3y/S1Y/Xjprdx+pu7PtXfwvXJ843uk8RC5172XsegtCr3YO3tVJ1UX4n6ZbL6usxpG3Ptq9yf7gkozjapfuXcf+E5x87Td3+6x/W+L/iuFQAAAAAUlf1NB+WSu1+QE2+cLyeMflSOG/mIfPe6h+T4UX+SZ9/WEcoPiOwdHU51UZor+TKRdTrFhZ0rWUcmXxCNTD43HJls5kvWkcnRfMk6xcUHJ4ssOzHwhOD1caH7lkY1Ked67UGHBcqpOZLdKS06lvoEylGAe2TzJ9I8/mty6Bc9pOmpm+Twhg90pVlXC0f275KDr8+Uxrt+InLz16Rpzg3Rinydxga+f/3rX02YrCNvNVxWbNhssYGpotNE6BQQ8RDX3d5i97MjlC+77LJSCKvo9+vWrfPOqezDHken29CpNjSktiOi43WshobFeg6bN2/27ueej9ZTj6nTXeQNrwGgqBzlAY0vUGtzfGFlO+ELGqHz4wtouyJ6njn+AAUAAAAAHY/Nl9Zs3S1D710sx41+Qr4zYqb0vO6R4PvHZP7fNoSB8p6R4RQXG3S+5GhU8pr/EVl1YfB6oMiWwIYBIpt/IrLpxyIb+wXb/lBk/ZnBtmeIrDxVZEUfkU97i3xyvMhy9XtB2U+b43cEHTlCec2MAaXpKlo6NUVbUZdA2RB1rua/zZHDY78qcv2xsnfsf8j+u8+VQy/cLYc+XCyHN30kR/ZskyPNjeH2hw+KHNgjh7evlcOr3pTmNx6TA49eJ3t/0VP2j/o3kV98TRr/MEiONO0rhdbV0E5+8GBQbsADDzxgglmdvkJDVsUXEGctszeMfo2/Vuz39oPuNFDW8FiXu9NT6L6+Y1hs2arOT6zl6QfyuaOEq1HpGHG0PPd8LJXqWmk/AGhfwlGCyfA0NXLwKKP6yOe2gEAZ6o/25Woj5Ts34X1D3wUAAADofBw8dFg+XLdDnn1rpTz12nJ56tWPZPO2AyKfzRDZNTyaL/lSMaOSVw8Kvl4ksnFg4I0i+94KfENkb+Ce1yJfDV6/IrL7JZEd84Ny5gVf54bufVmkaUt05I7JojoyUC4y9QuUlWg0ctNLM6Rp3NfkwOivhsHw9f8uB8ceK3sndJd9vzpZ9v2mr+z/7dmyb8pZsu+278neid+VPaP+XWTC1+SQbjci2Gf8sdI09QI5snubKbNWNIwdMmSImQ/4uuuuk+bm5mhNNjZMzROY2m3iI5TjH2TXkvD1vvvuK03R8cwzz5hlteyv2OOqeYjXs9ZjAUDH4v53/KM1TC5NO9Ahox0JlKEt0P9t0N6j7dsPc8/ScQEAAAA6HRVjIx2h/NmV0cjkn4qsvij84D2d4mJt/2D5cJHtwe+A22aIbA223To9cppIw++DdX+KCvLQgtkP6gWBsp+6BsomnDx00HSwg0uflUOTesmRcceasHjPmP+QvSO/Kk1jjjWh8eFA/XoweN04+qulbQ6M/jdpDpY1zbxWpHG3LTj8WgU9/s6dO+Wll16Sn/3sZ/KDH/zAjFBevHixWZ83ZK2FO++804TWGl7nnd4ijtZ5zZo1MmnSJPNBflpfHaVcSygMAAAAAAAAAADQHmhMpx/WZ7Sfh7Zjusj2IeHIZP3gPTNX8vkiK84TWf6jYFng1nNEtvQT2XRWsO2ZIju/L7LxVJHNJ4t8eLrIIc3VNAvTMoOvJkju2MGPBMp+6jtC2eHwZxvk4Kwx0nRj93DEsQbHI/8tUANkDZoDg+/3j/qqyLhjzSjm/befKQeXhqNzDdpLc6JzAOuHzOmcyTpqWL/qtBdtgR3Ne/vtt5spNXSKivgI5WrYbVasWCHnn3++GZWsYbJ+oF9jY6NZl6ccAAAAAAAAAACADsGOHt5+n8i2S8IP3lutYfJPog/e+5HI8h+GH7z3yVnhh+99ckqwfrDI+vFhkLxc50wOtj+0yxR1pIND5DgEyn7qGiivX7/efBCefgBe04EwFFUOb/hQmhbdKfvvOV/2TfhP2Tv667Jn5LGyZ/TXZN+4/yP7f32KND8+Ug6+vzDoPE3RXrWjcydfcsklcu6555pRvm+//Xa0pu148sknZdSoUTJ58mTZvTsaUV0DGoIPGDDA1FnDbxsmAwAAAAAAAAAAFBobKG+7T2Srzpt8gcgqHZn8Y5HlZwf+QOTjvoFniHz0PZFPThX5NFjXvDHc77OnRdacEGzXX+TwnnBZgQZYEij7qVugvGb1GvnDfX+QB+5/QB568CF5+umnpanpQNCvYh9Qpx1i7w45svkT8yF8h9e9K7Iz6EAHnRC5FXOj6NzJe/ZEHTCgPUb5tvYYb775pgnjLYxMBgAAAAAAAACAwmMzvF3PiGwZKLKyv8iKc0SW9yuPSP7weyIfnBJ8PTlY3icMj49EWeDet0U2niSy+mfBi+LlYQTKfuoWKD87/1mZ8cAMEyrfO/VeEyzbkFTnVa4aEmuIGg+f68ChQ/Utr63RIJkwGQAAAAAAAAAAOgU2xzq4TWTdEJGN0TQXJkzuG4bJH54i8kGfwBNFlp0QLD8+2PZmkR1PBdteGOzTW2Tns2E5rRhk2hYQKPupW6C8cMFCEyjfd+99JlDW7zds2GDWpUJSDU71A+d0eZ0D1M4YyOqH7xEkAwAAAAAAAABA5yPKtPa/J7LhCpHNPxRZ9X2RT08T+VCD5JNElp0o8l4vkfePD74/TmTtCcG2Ondy8HrzjHB/Rih3GuoWKG/evFn+OOOPZmSyfl3w7AIzpzEAAAAAAAAAAAB0ZaIw+OBOkV2zRVZfLrL8HJEPTxX5pJfIuhPCuZI1QF7WJ/h6rkjDbSKNn4T7FRQCZT91C5SVrVu2ytJ3lsoHyz6Q5ubmaCkAAAAAAAAAAAB0adzpKg5uD0ct75wvsnWGyLZHRD57Jli2TFeG2xiKNc1FHP2sNg1PMam2Sx5yBcoAAAAAAAAAAABwtKIjlfMGxMG2BZszGeoLgTIAAAAAAAAAAADkw3xemAbGh4LvDwbar4TIRwsEygAAAAAAAAAAAACQCwJlAAAAAAAAAAAAAMgFgTIAAAAAAAAAAAAA5IJAGQAAAAAAAAAAAAByQaAMAAAAAAAAAAAAALkgUAYAAAAAAAAAAACAXBAoAwAAAAAAAAAAAEAuCJQBAAAAAAAAAAAAIBcEygAAAAAAAAAAAACQCwJlAAAAAAAAAAAAAMhFt02bNgkiIiIiIiIiIiIiYjXNCGX95sCBA4iIiIiIiIiIiIiICTU/thAoIyIiIiIiIiIiImKmBMqIiIiIiIiIiIiImEsCZURERERERERERETMJYEyIiIiIiIiIiIiIuaSQBkRERERERHbxW3btslbb72FiFgI9T3J9161c+dOWb58eZdRz8d3nogtlUAZERERERER20UNcAAAioK+J/neqzSEPXz4cJdRz8d3nogtlUAZERERERER20UCZQAoEgTKiC2TQBkRERERERHbRQJlACgSBMrF9rzzzvMux46XQBkRERERERHbRQJlACgSBMrFlkC5uBIoIyIiIiIiYrtIoAwARYJAudgSKBdXAmVERERERERsFwmUAaBIECgXWwLl4kqgjIiIiIiIiO0igTIAFAkC5Tq6d6MsfeFlWb7bs66FEii3kbvXyt9emC3Tp0ySSZMmyT2PvCB/W7vbv22GbR8oL5poOkCWExeF2308faicN3S6fGz2WyQTY+s6s4sm+s/bOnT6x979Qj+W6UOD7SYuil6n20XbrcjtFJ7/UJn+sX+9aq692SY838pt0jU17VS6zkUw6Gul+7EzGN4b+e+tLJ17zLx/TZRFqe0K5MfTZWi8zjHDeytoj8Jcy+K/t5t70dde9meZ5z4N2znsJ8mfZX4zj9FqO9t9m6Fp66yfG+7PxTwevT9bEBGLaPVAeYlM6N5duk9YEr2OsWSCdO8+IdgCCkm9r09WeWZ5dxkwY020AFrNmiWyxDbnmhkyoPsAqVvzxssuIC0NlO+44w4ZNWqU1/fff18aGhrM9/rVt3/catvWUlaWbR4o710lT40fZJ6Z+g++VRY1eLZpgVqeb3nJ6HnYPKulrP1ZftHE+HNIAZ5f3fNrdW7UIG9OHy2D+8fKLNlfBo+eLq9t3OvZL207BcqVA8W0xQ8d8tq64KDKg3OFIKkw2s6f2enDa12cwKtjLFqg3HaBV/21oWnyPmhpv3LeezpzoFwhAO04i//eHg+H48vNPaHtmVpXe8DZVvdXZ7pvK0qgjIjYpc0dKAemMmUC5WLTLoHyGpkxwNM3oOXUO0CO05Zl14nWBMqLFy/2rqvVrhAor3rkaulvnpdC6xUqa1m+5SUr5GLhM1wNz/Op55COfn4Nj19+jolyjpY+4+/dKAsmhqF/RQeNlEc/qB4qEyi3sa17wO8CgbI9h6ybOAq9usK1bo2mnxQo+Os0wVSleyBaV1uI5Lz3mP7ZCQPl6L4qUp8K7QTv7d4+Fb6PTVzkq3+4rJZ+1lb3V6e5b6tZ8fcGAmVExM5u3kB5wowZMmDADEnkUATKxaZdAmWoOwTK3vcqAuWc6sjkG66WyS8ulxcnX5YIlc+79lFZ79unBrUc3/KSFXOxGp8/U88hHfv86h3s1OKMYq98MH1Y8vpU8tK75O29vnLKFiZQTv434eyH9tLJdZKH5toe8G34GjlxuvPgHGsXGxiVti1acBQzqqvvJjTtU7oZfA/9Fa67r295lpljFLl9At062vthUTT6NjR9H4XtVzYdmFS5b7S9gmXTbTlDp8gd8T6Y497tSCvfXx/LokXpACnZZu75Oe89pj91skA5ut8y+3y0fakNnO1M37PvPaX1tl2c/uQ5Rk3tW0g970OmzfRcPOuc95zkz7LQRJvY+60F24S/UJS3K7ej87MjVp/k9egkoarnfbxsdK6+fhs7z2QfS143//trwe9zRMQuZO5AeYnmic60BqmAMRytqqOZjbFhq7qvO23GmhkDystM0BXbN7B0LF8IVjUYc+oSr6fdd0nymJVH2WafW0iF9dXqb76fIDO0Pcz+UV3N8liZgZXrWB5N3l3LnlHl+iTW+WhFeRltbK6pc16Jc/Kcc7IfOO3kW1baNqMcg3Nupp45z60a5ti2vaL93T/GZNXPWV5eFpRXKqD2djdt7CvbUK28+Lqylftiy2mrQNkNge3ruHZ/u05f23VaflZZqjvlhl2eZZsEytE0F/0HXyGXDbosFSoPunWxbPftV4Najm95yRyBsnkOyNgufI6YKDOd54nw2SH/c7D7PJJ87rLPI4uSz23O814ebX1rfnbZPk/Ge6e5yHb4w2v8ZUV2kkA5unixixY+JBf/AdDUM1cniR6SY9uWgoDSeTvtUvHGKZLp6xdfXr7Rkg/91a+70x6l9fFlbpnF1NQ7dp6lN6PSsoz+Ee9bqf5Qrf0CM8LHVNmFtPZrm3X+bpuVXpv1BX+fiV/36Hv3errbuvdc/Frbvpds16gvxd/LU23XgvYtqKn+r+cRvU7+rKr+2m2T0r3tbpPaJ7ks3C/W/qlrmVFO7HX6PaKgmn6TP1Cu3jbJ94rMa1D0ex0RsYtYS6AchkuxsCkRKEehVCllcl5nhM/h6tgxIkzYbLdPBWoBvmUl3LpE5dlQz4ZksZAvcbwUbnlufauce7X62/rE6pu9T1aQF9apHBLawDTr+mhxsTZJ0cry7Dml2ti3zJbptquzPrOdnGXVyonW16+tHGydMsvLc56xa5943dJ2zyi7Wnkp0tvXm/YKlPV7nVvZrrfhcXzbeIis3z/66KOJ9bas+DpVy4rv67PugXIpTJ4of7hruAzQ36/7l0PlwRMXyMYqI1zzqL+3+5aXrPSMk1iXfo5ILUs9h9TyHFz9eSSxX2qbPIb1qW2f0PWPXmuOX5PD/igrPGVZO0WgHD78uQ96LW/I9rQUDHh1O6XbTlHnLXX4ZLtUvHEKpvcaps7Z99Bf6bq7bwi6bqgMjZURtlH1/tfRmn6SCkgqtZfvzTBprvsm4/5MBVGF1DmXambcL8lzde4x0z5uGxZMe17Tw6/63pL1nuC9rk675H+/dfpgS9q3qDrXPXF/VloXaNrPnq+3TaJ2S2yT8d7vtJvb191rlWzr6u8RhdW0cVD3SpbOK0/bhG1htwnX+ds89/sJIiK22JoC5QANm0pBXDwk9k2HkFjmhGgm2LIh15p0eBUPvlIhWIBvmcVXl/jxzb7JQK9ieZXWKdXOvVr9M+vjnkMFPHVIBInV2sSlteVlnlOFds/VD/KUWaWcereVS2Y9aznP6HulSt3ztXtG2TWeq/mfBnmD9RbSmkBZQ15Xd9SxfrVBcFx3vX4fD5x96/WrbqPfx8tS3f1d6xoo+8Jka//L5M7Xt8veOoTJqpbpW14y4zm09DwUe15KPeu6+6byEd8zQr7nYN/ziPts5n0+92rPJXk+tbj41v7R/rVY+VjtFCj7Kpa8KKaxnYfn8IL4G151H+SLaN4Okjx/q3vu8XYJzLxxCmhU1/I1j84tcc7hsnCbfNc90W56jOB789+Yo2X+di2ebl/21tt5czPbBG3qv8lz3jdOOJbYpvDtVlsAFLaXp60SbeDcYxntUyije8v0heC6mmvn+SNBdnvF77use8ZpF2Oyj7WofYuqaVPbhm6d46/T55Novxz3V1a7Je5BU47nmibqmb5vw7K1PxS8D7tmna/ReW/L1TZ5+rjz3oiIiG1mrYFy+NoTbun3btDkhFcmtIsKin9fwpTXPWZGCKb4lkWE4WC8nLImDK+xPH/oFqPauVc7XsaxTXhn6+5L92KYc/bWIax31TZxaHV51c7Z4ltWp36QVU692yqFt06ekDbvecZet7rdnfW1nGu4bYX7oE601whl1YbBceOBcXx/VZfpPvGy7Mhmn5XqU7dAuVKYHDioTiOTrVqmb3nJ+POwq/s7f7StfX5LPYulni2qPwdXfh6x+yafR6zu81suKz4rZWuOZdslt5WfIzvBCOXoYqVOLLLgD395O0jWdskHXKczOzdD0U2co7fu8Zss53U35YT9S/uQ2dcsCzu+HtO9aYto8jpnBB6+e8ksi7VLaZ+c7Wf2rxJmFVb/m3KW4Q8Lpx1K2jZw7rGM9imU0b3kvk+kr1+0PEPbjt6+57aLMepj0XFb1L6FNda3Yu8ndn3pfo29/9h18fYL2yTdf/Jsk7gH3fs8Yfn43vs28z2iwJo6Z/3ekOx3+dom+V4Rb/942e77MCIito21B8pRsKQL4kFrtVC19Fq3D//bfLnM8BilQE2pEIIZfMsiTP3cusSpsbzEefqodu7Vjlfp2AbbPqq/Ht5zNuWG21dtE4dWl1ftnC2JZfXqB5XLqXdbpahQp7DP13ie1eoex3fsCmXnPldzDzjlthHtFSjb0Ne+jq+338f3t/v4AuVq01v4rEug3M5hsqrl+paXjJ6H8z5jln/nd54r1NRzSPXn4HAfT2aQqFfyecTqfX6rqqfeOXz7rp+WrlNuB06WVzxlWTtPoNxJH/LydhD/A6577k5nrvHG6XBjfcEfosRvsrzXvdwm2tZhW9hlvpu/mLpBhrc/VLuXzHpbTs72y3jza9kbW/tbrZ7x9f4+5+r0mYz2KZS+94FEX7DLw3Nzf4i5+t+LfPdSso+1qH0LrL0nfe1RWqbtnLVOX+e4v7LaLdG3TTnVf45Wux/8/aKAVjxf570tV9vEf7Zk9fG8P3MQEbG1tiRQFtFAeEDyQ9p8gVMqiI2C5BkaasWW+wLZeHnVQjKXauFXreVVWqdUO/dqx6tWfgnftYiIH88SX1atTVxaW161c7bEl2mZ9egH1cox39exrVxMnZzrZJbFyq/lPOOvq9XN1x7xZe76POfa2vaokfYIlDUUdkNgO1pZ18e39e0f/z6+X7y8arY6UI7C5PPOu1pumzpSBulzRcy2CJNVLdu3vGStuZh9Rst8jo4/W1R/Ds58HjHl2+XJ5xFr1ec3ry17btn74q9lYHAu8WtWzf7j51X8UMVOEChnNbL/ghTN3B3E205hO5Q7itOZO1ugXLpm4Sdbpq9d8prmve5mu4kTg7axoUy0zVB/UFNEw3MovyF4A48c91J8v1ztZ8qsEmYV2Ur3QLQuea7p9qv03pPVPoUyow3MeSWWh9c+/YMnec7evue2i9EpryXtW2Sjaz8xuBdS71WmzcN1bnsmztd7baJ2S2yT8d5fsZxAp3/muW/917dgZvSlUKff5Wqb5PteeG/427xT9E1ExE5uywLlABMyxUfMuh/W5f/wLjMiUveLL3cDKxN6xUdwhnUo/xf8qOzMkCtaHw/t4seoFrqlqHZu1V5Xqb/v2Ka+TuhZsY7hMdxjpq5PVpukaGV5eds4vqxaP8hbZrVyonMpX4/WtpVD6XgZ90bO+pW7U/wcW9vuTtm5ysv4I0Yb0V6BcjwEtuvsMvs6Hjrr95U+lC++bZ6QubWB8utTBkn/YX+Ql5+5VQb3D34f1+eVyLYKk1Ut37e8ZNbzQKbR7/0Tk89SxtRzSI7n4Izjh88c/ucRa7XnN//6sE6pZ9Sqviu/v7R8zao7SCa/stdTTtlOESjb1/EH9+TFKa75gzknZAg0+ybO22mXmm+cjje8bnpevj7h3mQ5r7vpY8m2Kx0ntm+RNdfaPU+33yTuJedNzOi+seRov0ToUjZ/v+147bVO3gfRuTvnEN5TsfNN3UPOPZbRPoUy830g6iPxey3aNv7Dx73W3r7ntosx3Qdrbt9CG/Uhb32z17nt57aJ7a+pbVL7BKbu3fQvN9nXMs97REGt+HtD+ryqt024j32d5xogImLb2eJAOSCc4zceekbhlAnHAn07ZQRUifmCTZjlC9XK20xYouud4CyBU5f4tlVDNx/Vzq3K+kr1zzq2CfZiZVasnxK2WWnb+AhyQ4U28dKK8vK2sbOsYj/IW2ZA1f7UqrYK17lzDJewdTJlRvs7/aFa/UrrdUHqHFvX7omyDdnlJesZN3YM00/jbRftlzhnt/2zaY9AWV9rOKyvrXa9hsH2ey3Prrdhsq8sVY9vt3XX+WxtoKy/L19+92uyfstuaVhUDpXbMkxW9Ri+5SVbkIv5nreMqeeQ8LkiWXbWc3Cl5+7k80hiv0rPIFnP7y3MKPZ+MF2GOX8MyHLQrYsrjk5WO0mgXF5WPsGChzyRpY6aZaLzRB3Trps43emo6XYpld9pHoSj6+jeuEbfTZbjuntusrDf1fam0pGa6+gGJO41Td1LTn9RU+1apf1Mmdltqvt0ijaM1dfqvllb3XvS9z5TWpbVPkUyOnf/dbLXP/3DrdQGTj/z9j23XYzpH6RqTe1baO395b/+4Xmmf7b52i/RJsG66fq60jZBm5rXTtuWgtDIVB9P3bd53iMKaMXfG/z9rnLbhPvYZeG2E2V6fJ9Un0dExLayeqBcZ0y4lQyfADocDUXjo3SrEfTjCYnUNoYv1IXctDRQ7mzWI1A2vzfr7+ENL8qvL2n7MFnVY/qWl6z4PJxhZl4Ue34yzxv5n4Pd5xHfPu7zm2nTas8hVZ7fa7XhxSlyxYBYeSn7y2WTX5QGz76ubR8oIyIiYg36f+HA+mgD5UL/oQgRsQvb3oGyTnmRObIToD2IT+lgiEbo5hk+awnKqDpCmW7eIgiU85kYABPYHmGyqsfyLW+NR/vzwN6NS2X2L38mFyWC5QFy0c9ukodf2yh7Pfv4JFBGRETsKH1/Ha84QhdbK4EyImLH2m6BsgnZutc2ChSgjSjN5W2tJUwOWDKhwih7AuVWQaCcz91b1sv69daNsqMdwmS1/oEyg3fihtd1i+z2rKsmgTIiImIH6v73KMLktpVAGRGxY23vEcoAAJUgUC629QyUE9N2eNZjbRIoIyIiIiIiYrtIoAwARYJAudjWM1DG+kqgjIiIiIiIiO0igTIAFAkC5WJLoFxcCZQRERERERGxXSRQBoAiQaBcbAmUiyuBMiIiIiIiIraL27ZtMwEOImIR1Pck33vVzp07TQjbVdTz8Z0nYkslUEZERERERERERETEXBIoIyIiIiIiIiIiImIuCZQRERERERERERERMZcEyoiIiIiIiIiIiIiYy1Sg3NDQ4N0QEREREREREREREY9uNT+2mEB5+/btsnv3bu/GiIiIiIiIiIiIiHh0qrmx5scWEygfPHjQLNShy4iIiIiIiIiIiIiIOjJZc2PNjy0mUAYAAAAAAAAAAAAAqAaBMgAAAAAAAAAAAADkgkAZAAAAAAAAAAAAAHJBoAwAAAAAAAAAAAAAuSBQBgAAAAAAAAAAAIBcECgDAAAAAAAAAAAAQC4IlAEAAAAAAAAAAAAgFyZQPnDggKxYsULeeuutDvG9994zx9d6VKIj69kZ6ogtM8+15br6pe0Q28ZK9xb3FGJ9zfs7nkvR7sWWngcAAAAAQK2YQFl/+dyxY4dZ0BEcOXLEHF/rUYmOrGdnqGMW+pBRNIpUpzzXtmjXtSjt1xnbDkKKdA8WpS6d5X1Jl23evFl27dolu3fvRjwqnTVrVl19+eWXK/4s81G0n295f1cFAAAAAGgtJlDuLA/zRahnZ6ijC3XKR6U6Fa2+nak+RbzWUKzrUpS6FLGv+uqky/bu3WtGITY1NSEelWoIvGbNmrqp5dX6HlDE9wylqPUCAAAAgK4DgXKNdIY6ulCnfFSqU9Hq25nqU8RrDcW6LkWpSxH7qq9OukzD5EOHDpkRiYhHowTK2RS1XgAAAADQdSBQrpHOUEcX6pSPSnUqWn07U32KeK2hWNelKHUpYl/11UmX6QhNDdUAjlYIlLMpar0AAAAAoOtAoFwjnaGOLtQpH5XqVLT6dqb6FPFaQ7GuS1HqUsS+6quTLiNQhqMdAuVsilovAAAAAOg6ECjXSGeoowt1ykelOhWtvp2pPkW81lCs61KUuhSxr/rqpMsIlOFoh0A5m6LWCwAAAAC6DgTKNdIZ6ujS8jo1yvJZt8pPzzlFTjmlbN+LZ8jH0RYtJXedmpfJtIv7Jo6f6Tk3yZJd0X4toFKdinZdO1N9ilZXCCnSdSlKXYrYV3110mUEynC0Q6CcTVHrBQAAAABdh9oC5XXz5NZrrpFrKjpepsxfLo3RLrVQrR6t+QW5ednDMj6q463z1kVLa6ct69hWtKxOjbJ0cj/p0b27nDz0Hpk9e3bkjXJe97NkSisT5dx1+niKnBXUoXv3k2XoPbYOjg+NjLbpLsPmRfu1gEp1Ktp1bX19tsurU8eb+2H8H5e26H6NU6+227RkoSzNqMz252839b39+e3REmgN+a/Ldnn+dvd9vrrjH8v/JtHy/twsu9e8Lgum3hoe99apMnvJh7K7OVpdI/Xqq3+fN0dWt7AOLr466TICZTjaIVDOpqj1AgAAAICuQ02B8sdTzpLup10g1wzpJ8dHAV737j3kjIvCAGFIv+OD9WfKmT17SL+Jr0qtsU+1erTmF+SFw3tE9Q08a0qLR9jWt47NsvvDJSYUXfD6mhaHINWovd2iMLn3QBl4Vnc5K5Eez5NhBMotonHpFDk3uDf6XP5Iq8OmVtdnyejYPdxP7lwRLW8h9Wo7fY/p0W+yN6ibNyyqb56LPG9YdG4Ztvg9QPu/ljEs+K7+zBvW+nsrL/mviz3nGq3hZmxJf25ePUeuO7On/9g9z5TrZi2XRv0fDgN7S7+cHbyefbX3sDnSUIf3dF+ddBmBMhztEChnU9R6AQAAAEDXofZAWUOCUsinlgMQu765YY4M6117qFytHq35BbkURqmFCJS3y7zhfcwI4HgIMr7a6MvGHbJxR23jSWtrt3KYPG1Zs2k3X6A8+W8NsnHjxoQNNSTiueuU6GvVLWqg3Lh0svTrUa5n70taFyq3tj7JwLVt/0BQS13Ne0hQJ19QV3ugXP9w1tSvFe8fFWmjOmeR/7oUL1BuXjYlcT/1PMFOfXOC9CzVoYf06dPbfJ98D8um3n21HqGyr066jEAZjnY6W6DcuCP5O1OttsnvWAAAAAAALaRNAmWlFCpPekvyTmtbrR6t+QW5cIHypmnSP6jLhfc3iD4iNK5fLFMGavhxmkx8y/PQ0NwgL029Rq4Y/6DMmvozuXD8wrq1a5lmWTaln/T4zg/llkVrzAPMQ5f5AuWwHcshTuAJPaV7vzsl70DX3HWqFCj3PKF8/FNOkuN6dJfeA6fJshYGOJXqlL8N07hhsrU1oXJr6mMoeKCsukFdEQLlNoVAOR/bg/r0jo7Re6BMeSl8D7U07/5QHrw8+ce6tgyU1cy+GtjaUNlXJ11WLVBeP/taOffcc2NeK7PXRytbyht3BOXcIW9ELwE6kk4VKG+aIQN79JQTSr+z1OhJx0mP3uPl5ai4atR6HgAAAAAAtVKHQLmvTF7mrI9oXnmXnNu9v0zbFC2oQrV6tOYX5KIGyudOXRstUN6RSad1lx7DF0avlUZZv/hOGTp4tMxaronFdnn1tiEy/JHViRClErXWqdROxh4ycIa9gM3SMGeY9O7RW3of74wG1jCshnbNXadKgXKiAh/LlLOCtuvRo8WhcqU65a6vQ1aYbG1pqNzS+pToBIGy2qPflNK1bItA2R4v1ZeDZYkQ0u2Hvjq428TuB3Mc9/6I1dE97/ixE+9dqXMK+/2wKeVj52keJf91KVag/M6k08LyewyWR3z/oSOa5iJel7YOlFVvX41sTajsq5Muyw6U18vsa8+Vc6+dHXxXxgbMd7QmDSZQhgKRFSiffvrpsmTJEu+6Dz74QM455xzvujYNlM3Ph1ZMlVTj/rWeBwAAAABArbQsUF5xp/SLPSwnHpzHx8dPaBCRP6yqVo/cvyBvelgG9fTXz29vSVS7AnWrozTLktEaevSWgZPmy7v6XxpXzApH3l14vwkfGpfPktEXDimPwNv+qtw2ZIhM9U3aWYHcdar4wGLD5H4y8dVXwxArvmFBAuVhs5bK5H4tC5Ur1Sn/dS1TLUy2tiRUrqk+zcvkznN1rtneMmxO1Je8gXKzLLvzXOmpUwUMn1e36Wpqqasb0qk2qGuLQFkx5Zb6bhSexo8R9cFyKBn2tUR/j9ozvlu83GqBsvd1QHjOsXsydZyoLjW8z1ryX5ciBcpLZPTxYfnJP8aVef2mPqm6tEegrKb6asyWhsq+OumyrED5jTvSYbLFhMoZ63JBoAwFIitQ1jDZFyrbMPn+++9PLLe2T6Ac/a4SvD3q+4R5b9L3dfPzofw7s67TbUq/dxMoAwAAAEDBaFmgHOCfC26HJKPODgqUK4WQGebNPupWR8N2eXXKIOkTDx2/c4Hc8/hN0vek82T8rA9LH9TXuHSqXHXVVO8HQFWjtnbzPbDEw2SNGcsPRCVKD0T5qMu1TFQgVqfGloXKlepU23XNHyZbaw2Va6nPijv7xY4VhcpRMBmq92g03UlpWQ9JDJSvQr3azhfSqRrUTb4iep3nZk2cX9pkwBgGprosFeAGmGVu3476pa2K2aZCvVoUKDvHsCTrEwXKedrEIf91KVCgXPpjZvl/xqTQeeYTP5cacn/gad37qmNLQmVfnXSZP1B+Q+6oaRRyNJrZTouR2jEsrzRlxmw3UHb2J2yGdiQrUFbdULlamKy2T6DcLLsbwvek5t0N4bzI+p7VsDtY0yg7ovcr/R1bPy6DQBkAAAAAikqLA+V8ECjnohSANMiO5XPkujN7yrBHlsivrp0hHwePGKsfuUounlTbBxzGqa3dPA8s70yS07SdSnMW63zFx8voJdF6pSCBcmleZ53TOdgmOWK+MpXqVNN1NXMlxuuqIe79ckXpdXc5a/IcmdKvR2yb+tXVxf0AM1OfYRfGXveVK4bFw+TA3kE/qKHD1avtskI6rXNvO29unpvVDWerED9usvhy2Jwk7G/h8qxtypjyawyUwzp57keznV0er0dt5L8uBQqUS+8H+a9tLdS9r7r2OFd+n3ei+QhfnXSZN1BeP1uuzT1XchQGl0Jk93UYJl9bKsyGyzY0drfXw7dyBDRADVQKlFUbKs+fP79qmKy2T6C8QqZdFP6eMn6R/oe6IXKKfrNimlx0ynhZZNb3lVuCXwdevqWvnHRc8HuCvpdm/X6WQa3nAQAAAABQKy0LlJtXy5xbr5Frrsl2/MPLpNkEER0QKMt2WbpgtsyeXfbG82IP9ScPlXti62bPfjn36ND61dHSKOtfnyVTxgftdutUeWjSELlw9Cz5cOObMu/xuXL/6MvkpgenyvAht4kZHNwCctcp44HFjHA978ZYewUuWJoMuDs8UA6u+tIFyTreeF7d6lTTdd21UIaXAiU7zUQylDMBYPOyWKjcQ75/2ztRAdWptZ/VNGK69yXySI1zcNSr7fwhXW8ZOG2ZzDGjhwPzBJU1Bsql0DTVXyqHqfFAuVK1Wh4o+4/b/WgNlHc9IoNN+c4ftOpE3ftq3B59ZHgtf6WJ8NVJl2UHyjlHCfumr4gv86wP52HOXm9D5/wjpAFaTlag/N5775W+11C5V69eiTA5vj5u+wTKu+SD58LfUV5fF7ylffCczA6/kedmvy7rovW6aN3r0e8y+oJAGQAAAAAKRis+lO80ucATJBuH9JPjewyXhSaI6IhAOU34X9kjawgZXepax+3Py/gzw5G0PY47KRyJooHEVUPkwsuGyk/69JXxL+8Ot21cKlOHDJHbWpAq565TxgNL6bpXogCBcoo61qmm6xrQvGyaXNz3HBm/MJqz2AnlSgGgfoDYxX3lnPHP123O4ixyhcotCJOVerVdOqQLAzqtUekezhNU1hgox98fkuFseN0qB7bVtzHn1aJAuVqAcJQFyrJWpp4blt9j8CMt/l8bWdS9r1pbGCYrvjrpslaPUNZA2B1NHNvfO9o4FljbD/nzWR7VDNB2VBuhXKvtGSgnAuMME4EzgTIAAAAAFIxWBMoVfrEtrSdQzmatTOvfQ7r3Hlj+0L3mlXKXhiU2iGlukJemhCOWl5u5kxtl6dSr5KqpS525qiuTu07mul0mDyXmH90oL9/ct13D2wSmTrFrF7cd65T/umaRESi3kJbWp2Ko3MIwWalX2yVDunJAp7RZoGy2DUcYh8eP7xcGtuljhtczXJy1TRlfOJw6llvnjHMw+5X69dEWKIvsCtrleHOMHtJvSrl/xGle/Yhc0qefTKnxkznr3lfVVoTJiq9Ouqxlcyjr+ihwrkegzPQW0IF0zkA5OaVFOI2Y38SUGNV+73ao9TwAAAAAAGqFQLlG6lbH6MOlrpgTCzy2z5Erju8up01ypj5oXC6zRl8oQ6a8ZD7Qafurk+Ti0QtlV7S6GrnrtGuhjO6bfqgpzeFXCQ2/CJQrUIxAWfGGyq0Ik5V6tV05pEsGdErbBMpuGBy9jvebqA/Gr5mpS3wbc7zktBfhuUTvk+76Ur+uHCCH5xx7r432Kx/n6AuUdUqjecN6R8fpIX0GTZJZr68I/wC24nWZNSn2Qac9r5NF0V55qHtfbWWYrPjqpMv8gXLloDccVRyfssIZzRyfxsI3pUVqfc7R0ABtQOcLlNN/sM/tyzdLXwJlAAAAACgQR02gvHZa/9KHjvUc9LBsipbXSt3quOtxuaRHd+l9yVR5/d3XZcHU6+TMnkH9KnwYWuPy+XLbNVfI4MFD5bY/r/aOzPPRmnZTSte9EnUMbxNselgGabtE1y5hO9aptW3ohnIdGSgriVC5lWGyUq+2C0O6dECn1B4oR9t7Dd+XwjKd9ygb9saPY5dZff3K3cZ5jywHkNE6s3382FGYretjxy6dd2Ty9I/GQDlAp4oZ1Cf5QZKuvQfK1KW1/F+OOvfVOoTJiq9OuiwrUBaJPizPCZXtFBXl0cv5PpQv9boUMnuOQ8gM7UinCpSbl8j4PvYzE1pmz4EzZG1UXDVqPQ8AAAAAgFqpKVDeNGNg5Qd4r/3kzpyfal+tHkX4Bbl+dWyW1Y9cJaeWwtKecurFU1r8wXuVaG27dWignEF716m19RV5R277vn2Y7CmXP5l3fLmf1tdHR7pPlfHX3CpzWhkmK/Vqu4+nDPQGdMrC4WH79Ri+MFoCrSH/dVkow7OmSalkWwbKhkZZv3iqXHX2cYmfSz2OO10uGG+nCaqNevXVecPrEyYrvjrpsuxAOeSNOzT8jesLeqNQ2G6TmivDhsjR/rPdUcvO/oTJ0I50qkC5nSlqvQAAAACg61BToKwh6O4Gz3/Fq+SO/E/11epRhF+Q61/HRtmxsUF2tz7Ty6S17bZpWn/p3vOE1FQYCU/oKd373Sk5/3bQ6erU2voamndLQ433RBZ1qU8dqVfbNTc2egM6Q+MO855Sh+aDgFquS+MO5309h7Vcp9b3Z30f3SgNrXwjrVdfbW6u3xu6r066rFqgDNDVIVDOpqj1AgAAAICuQ42BcttSrR5FqGdnqKNLq+tkg9Aq1hLmdLY6Fe26dqb6FK2uEFKk61KUuhSxr/rqpMsIlOFoh0A5m6LWCwAAAAC6DgTKNdIZ6uhCnfJRqU5Fq29nqk8RrzUU67oUpS5F7Ku+OukyAmU42iFQzqao9QIAAACArgOBco10hjq6UKd8VKpT0erbmepTxGsNxbouRalLEfuqr066jEAZjnYIlLMpar0AAAAAoOtAoFwjnaGOLtQpH5XqVLT6dqb6FPFaQ7GuS1HqUsS+6quTLiNQhqMdAuVsilovAAAAAOg6mED5vffe6/AHUz2+1qMSHV3PzlBHH0V8sChanapd26Jd1yK1X2drOwgpUh8qSl06y/uSLjtw4AD3FRzVtEWgXOlnmY8i/nyr9jMZAAAAAKAemEB5xYoVsmPHDrOgI9BffvX4Wo9KdGQ9O0MdsyhaSKIULRCtdm2Ldl2L0n6dse0gpEj3YFHq0lnel3TZ1q1b5dChQ2Y7xKNRDYDr6SuvvFLxZ5mPov1803ap9jMZAAAAAKAemEBZRzrpL5/6MN0R6kgKPb7WoxIdWc/OUEdsmXmuLdfVL22H2DZWure4pxDra97f8VyKdi+29DwAAAAAAGrFBMoAAAAAAAAAAAAAANUgUAYAAAAAAAAAAACAXBAoAwAAAAAAAAAAAEAuCJQBAAAAAAAAAAAAIBcEygAAAAAAAAAAAACQCwJlAAAAAAAAAAAAAMhFt5UrVwoiIiIiIiIiIiIiYjW7rVq1ShARERERERERERERq9ltzZo1goiIiIiIiIiIiIhYzW5r164VRERERERERERERMRqdlu/fr0gIiIiIiIiIiIiIlaz24YNGwQRERERERERERERsZrdNm7cKLXoKwQRERERERERERERO5e+/Lea3TZt2iSuvg0RERERERERERER8ejQlxur3TZv3iyqbyUiIiIiIiIiIiIiHt3aDFktBcqIiIiIiIiIiIiIiJXs1tDQILXqKwgRERERERERERERO4e+3DeP3bZs2SI+fRsjIiIiIiIiIiIiYtfWlxdbu23dulVU30pEREREREREREREPLq1GbKaOUJZ9aXTiIiIiIiIiIiIiNg19eXEcUsjlFXfBnF9B0BERERERERERETEzqkvB44bz49VEyi7G/kKdvVN5IyIiIiIiIiIiIiIxdaX97q6mXEpUI4vjO/gO1AlN23ahIiIiIiIiIiIiIgF05fnVjKeE8fzY7VbfKW7o+/gcTdu3IiIiIiIiIiIiIiInURfzhvXzYjj+bEJlPWf+ML4xr4Crb7KICIiIiIiIiIiImKx9eW91ng+HM+NUyOUfSGy72AbNmxARERERERERERExE6uL/+N58NusGwC5UpBsnuA9evXIyIiIiIiIiIiImIX0c2AqwXLJlCOB8nxneMFr1u3zuvatWsRERERERERERERseD68l01ngPH8+F4sGxD5W42SLZhsi9Adg+8Zs0aREREREREREREROykuplvPA+Oh8s2O7bBcjcbJNsw2Q2R4wdZvXq111WrViEiIiIiIiIiIiJiQfXlumo8/3XDZRsq22DZBMpumOwGybbg+MFXrlyJiIiIiIiIiIiIiJ3UeN7rhsvxYNkNlU2gDAAAAAAAAAAAAACQhQ2Vu2nCDAAAAAAAAAAAAACQhR2p3E2HLQMAAAAAAAAAAAAAZGGnv+imc2EAAAAAAAAAAAAAAGRh51QmUAYAAAAAAAAAAACAipQCZf3UPgAAAAAAAAAAAACALDRH1lCZQBkAAAAAAAAAAAAAKlIKlFevXh0tAgAAAAAAAAAAAABIozmyhsoEygAAAAAAAAAAAABQkVKgvGrVqmgRAAAAAAAAAAAAAEAazZEJlAEAAAAAAAAAAACgKpoj6yhlAmUAAAAAAAAAAAAAqAiBMgAAAAAAAAAAAADkohQor1y5MloEAAAAAAAAAAAAAJBGc2QCZQAAAAAAAAAAAACoCoEyAAAAAAAAAAAAAOSCQBkAAAAAAAAAAAAAckGgDAAAAAAAAAAAAAC5IFAGAAAAAAAAAAAAgFxojrxq1ar6BsqXPncFIiIiIiIiIiIiInaQY166Xu5ZOlUa9m+JUtv60K6BMgAAAAAAAAAAAAC0Pc2Hm+Vvm982oXI9IVAGAAAAAAAAAAAA6KLUO5clUAYAAAAAAAAAAADootQ7lyVQBgAAAAAAAAAAAOii1DuXJVAGAAAAAAAAAAAA6KLUO5clUAYAAAAAAAAAAADootQ7lyVQhg6hsbFRVqxYIX//+98RERERERERERGxBb7//vsmY9OsLYt657IEytAhaEffsmWL6eyIiIiIiIiIiIhYu/v37zcZm2ZtWdQ7lyVQhg5B/4LiuwkQERERERERERGxNjVry6LeuSyBMnQIBMqIiIiIiIiIiIj1kUAZujwEyoiIiIiIiIiIiPWRQBm6PATKiIiIiIiIiIiI9ZFAGbo8BMqIiIiIiIiIiIj1kUAZujwEyoiIiIiIiIiIiPWRQBm6PFmBcrdu3bzLERERERERERER0S+BMnR5CJQRERERERERERHrI4EydHkIlBEREREREREREesjgTJ0eQiUERERERERERER6yOBciflo7sfl2+M/Ch6BZUgUEZERERERERERKyPBMqdkI4Nkz+SK3vfL9+IvHJBtLglLFhQKucbvRfI3GhxvSFQRkRERERERERErI9HdaBsgtlYOJqyNaHtggXS9+4t0Yv60fEjkzVQrnf42xZlliFQRkRERERERERErI+MUNZRsr6ANmt5XtooUO54CJQRERERERERERGPVgmUs4Lj5a9K39JyO83D4/Kb5SJzR8ZGMZ//arA2hpZn16V0Q1NbbmB0rPio6eR0ElvkN+fbcqwZIaynDvULtzswUC6dV23HJ1BGRERERERERESsjwTKiUC5crA5d+Tj0vf8ZDhrwmVfIB2UmzvENeH1q2FgHK9LLKzW46TmK9b9opC7hC5zQ+6AzHrWDIEyIiIiIiIiIiLi0SqBcmo0b6VA2RfKJoPfErUGysGxMz/grmJZwfFLddJRzNn1/+juBcnwuUV0YKDcQgiUERERERERERER6yOBsgbKOQNZHaGcDmTrFChXGD1c9cMDS2GsBrO+9WVz1ykTAmVERERERERERMSjVQLlRKAcJx0ud2SgnK+stg1mQwiUERERERERERERj1YJlDtBoJw1L7IP71zLdYVAGRERERERERER8WiVQLkNA2V3PmYzB7MvOK0WKAeYaS9yHUfDWV+orOfTyae8MOea0YYVIFBGRERERERERESsj0d1oNzSuYlLoWwp4FTTYXOqfCc0rnR8b/CbOF6kd+RyGB6729Zn5DKBMiIiIiIiIiIi4tEqI5ShRjowUG4hBMqIiIiIiIiIiIj1kUAZaiQ5WrtVo54TI64JlBEREREREREREYsugTJ0eQiUERERERERERER6yOBMnR5CJQRERERERERERHrI4EydHkIlBEREREREREREesjgTJ0ebICZURERERERERERKxNAmXo8hAoIyIiIiIiIiIi1kcCZejyECgjIiIiIiIiIiLWRwJl6PIQKCMiIiIiIiIiItZHAmXo8hAoIyIiIiIiIiIi1kcCZejyvP/++7J//37vDYCIiIiIiIiIiIj51IxNs7Ys6p3LEihDh7BixQrZsmWL9yZARERERERERETE6mqYrBmbZm1Z1DuXJVCGDkE7vHZ0HY6PiIiIiIiIiIiItasjkzVj06wti3rnsgTKAAAAAAAAAAAAAF2UeueyBMoAAAAAAAAAAAAAXZR657IEygAAAAAAAAAAAABdlHrnsgTKAAAAAAAAAAAAAF2UeueyBMoAAAAAAAAAAAAAXZDmw80y5qXro1f1gUAZAAAAAAAAAAAAoIuhYfLfNr8t9yydGi2pD+0aKCMiIiIiIiIiIiJi26sjkzVMbti/JUpt6wMjlAEAAAAAAAAAAAAgF20SKAMAAAAAAAAAAABA10Nz5NWrVxMoAwAAAAAAAAAAAEBlCJQBAAAAAAAAAAAAIBcEygAAAAAAAAAAAACQCwJlAAAAAAAAAAAAAMhFKVDWT+YDAAAAAAAAAAAAAMhCc2QCZQAAAAAAAAAAAACoCoEyAAAAAAAAAAAAAOSCQBkAAAAAAAAAAAAAcqE58po1a6SbpsoAAAAAAAAAAAAAAFlojkygDAAAAAAAAAAAAABVKQXK+g8AAAAAAAAAAAAAQBaaI69du5ZAGQAAAAAAAAAAAAAqUwqU9R8AAAAAAAAAAAAAgCw0R163bh2BMgAAAAAAAAAAAABUphQo6z8AAAAAAAAAAAAAAFlojrx+/Xrppv8AAAAAAAAAAAAAAGShOfKGDRukm/4DAAAAAAAAAAAAAJCF5silQFnVhFmHLetcGKp+ap+6evVq46pVq0quXLkSERERERERERERETup8bzXZsA2E7YZsZ3mwmbIGzdulG76jxsq+4LleLjsGj84IiIiIiIiIiIiIhZLX66rxvPfeJDsC5M3bdok3fQffWGDZd0oHizHw2Vr/CCIiIiIiIiIiIiI2Ll0M994HmwzYhsk2zDZBMqbN28uvbChstXu6AbMcd0DIyIiIiIiIiIiImLx9OW7ajwHjufD8SBZc2TVBMrxUNkGy264rMYLRkRERERERERERMTOrZsB22w4nhfbDLmhoUG66T9qpWA5rnsAREREREREREREROx8+vLfeD4cD5LVLVu2SDf9xy6IB8tuuOzqOxgiIiIiIiIiIiIiFltf3muN58Px3Fhz5FKgbI1voMZ39uk7ICIiIiIiIiIiIiIWU1/OG9fNiOP58datW6Wb/mONr3R3rKbv4IiIiIiIiIiIiIjYsfry3ErGc+J4fqx227ZtW2phfIcsfQdCRERERERERERExGLry3td3cxYc2TVBMpWdyNXX8GIiIiIiIiIiIiI2Dn15cBx4/nxtm3b5P8HqymQ44CU5koAAAAASUVORK5CYII=\"/>"
   ]
  },
  {
   "cell_type": "markdown",
   "metadata": {},
   "source": [
    "### <div id=\"Les variables et quelques fonctions essentielles\">3. 2. Les variables et quelques fonctions essentielles</div>\n",
    "\n",
    "Dans Python, les opérations que l'on réalise s'appelle des **expressions**. Une **expression** est la combinaison d'un **opérateur** et de **valeurs**. Ainsi, `2 + 2` est une **expression** dans laquelle les `2` représentent des **valeurs** et `+` un **opérateur** permettant l'addition.\n",
    "\n",
    "Python est capable de réaliser des **calculs** de diverses sortes. On dit qu'ils s'**évaluent**, c'est-à-dire qu'ils se réduisent pour former une nouvelle **valeur**. Dans notre exemple précédent, `2 + 2` s'évalue et donne la **valeur** `4`. Comme toutes les expressions viennent à s'évaluer, à chaque fois que l'on peut entrer une **valeur**, on peut également entrer une **expression**.\n",
    "\n",
    "Voilà une phrase bien compliquée pour traduire quelque chose de simple. En somme, tout cela signifie que `2 + 2` (qui est une expression) peut encore être additionné à une autre **valeur** (ou à une autre **expression**) : là où l'on peut écrire `2 + 2 + 4`, on peut également écrire `2 + 2 + 2 + 2` ou `4 + 4` ou même plus simplement, `8`.\n",
    "\n",
    "Ici, `8` est une **valeur** mais elle est aussi une **expression**. La spécificité de cette **expression** est qu'elle n'a pas besoin de s'**évaluer** ou, du moins, elle s'**évalue** directement (il n'est pas possible d'écrire `8` plus simplement que comme cela, alors qu'il est possible d'écrire `4 + 4` plus simplement).\n",
    "\n",
    "#### <div id=\"Manipuler des nombres\"> 3. 2. 1. Manipuler des nombres</div>\n",
    "\n",
    "Commençons ici par explorer comment manipuler de l'information avec Python."
   ]
  },
  {
   "cell_type": "code",
   "execution_count": 1,
   "metadata": {},
   "outputs": [
    {
     "ename": "NameError",
     "evalue": "name 'bonjour' is not defined",
     "output_type": "error",
     "traceback": [
      "\u001b[1;31m---------------------------------------------------------------------------\u001b[0m",
      "\u001b[1;31mNameError\u001b[0m                                 Traceback (most recent call last)",
      "\u001b[1;32m<ipython-input-1-e7bc546316d2>\u001b[0m in \u001b[0;36m<module>\u001b[1;34m\u001b[0m\n\u001b[1;32m----> 1\u001b[1;33m \u001b[0mbonjour\u001b[0m\u001b[1;33m\u001b[0m\u001b[1;33m\u001b[0m\u001b[0m\n\u001b[0m",
      "\u001b[1;31mNameError\u001b[0m: name 'bonjour' is not defined"
     ]
    }
   ],
   "source": [
    "bonjour"
   ]
  },
  {
   "cell_type": "markdown",
   "metadata": {},
   "source": [
    "Quand on lit `Error`, ce n'est jamais bon signe... Pourtant, générer des erreurs est une étape récurrente lorsque l'on travaille à l'écriture de programmes. Il ne faut, dans tous les cas, pas être inquiété par l'idée de faire des erreurs : la pire des choses qui puisse arriver si on déclenche une erreur de Python est la fin prématurée du programme qu'on lui demande de lancer.\n",
    "\n",
    "**Jupyter** et son fonctionnement par cellule est particulièrement utile pour cela : il ne faut surtout pas hésiter à lancer des programmes quitte à générer des erreurs. Comprendre comment se déclenchent les erreurs dans Python fait partie de l'apprentissage du langage.\n",
    "\n",
    "Lorsque Python renvoie une information de type `Error`, cela signifie que le programme **n'a pas pu finir de s'exécuter correctement**, qu'il contient des informations que Python ne peut pas reconnaître, que celles-ci ont été mal formatées ou mal structurées.\n",
    "\n",
    "Essayons autre chose."
   ]
  },
  {
   "cell_type": "code",
   "execution_count": 2,
   "metadata": {
    "scrolled": true
   },
   "outputs": [
    {
     "data": {
      "text/plain": [
       "2"
      ]
     },
     "execution_count": 2,
     "metadata": {},
     "output_type": "execute_result"
    }
   ],
   "source": [
    "2"
   ]
  },
  {
   "cell_type": "markdown",
   "metadata": {},
   "source": [
    "Cette fois, Python renvoie une information. Lorsqu'on tape `2`, Python nous dit que cela vaut `2`. Jusque là, tout va bien.\n",
    "\n",
    "Essayons autre chose."
   ]
  },
  {
   "cell_type": "code",
   "execution_count": 3,
   "metadata": {},
   "outputs": [
    {
     "data": {
      "text/plain": [
       "4"
      ]
     },
     "execution_count": 3,
     "metadata": {},
     "output_type": "execute_result"
    }
   ],
   "source": [
    "2 + 2"
   ]
  },
  {
   "cell_type": "markdown",
   "metadata": {},
   "source": [
    "Okay. Python est capable d'effectuer les calculs arythmétiques de base.\n",
    "\n",
    "Ici, `+` constitue ce que l'on appelle un **opérateur**. `2` est une **valeur**. Les **valeurs** et les **opérateurs** sont les deux briques de base de la programmation.\n",
    "\n",
    "Les **opérateurs** sont essentiellement utilisés pour effectuer des calculs ou des tests sur des valeurs.\n",
    "\n",
    "Essayons encore autre chose."
   ]
  },
  {
   "cell_type": "code",
   "execution_count": 4,
   "metadata": {},
   "outputs": [
    {
     "data": {
      "text/plain": [
       "True"
      ]
     },
     "execution_count": 4,
     "metadata": {},
     "output_type": "execute_result"
    }
   ],
   "source": [
    "2 < 3"
   ]
  },
  {
   "cell_type": "markdown",
   "metadata": {},
   "source": [
    "Cette fois, on effectue un **test** que l'on demande à Python de vérifier. Si le **test** est vérifié, Python nous renvoie `True`. S'il n'est pas vérifié (c'est-à-dire que la proposition est fausse), il renvoie alors `False`."
   ]
  },
  {
   "cell_type": "code",
   "execution_count": 5,
   "metadata": {},
   "outputs": [
    {
     "data": {
      "text/plain": [
       "False"
      ]
     },
     "execution_count": 5,
     "metadata": {},
     "output_type": "execute_result"
    }
   ],
   "source": [
    "3 < 2"
   ]
  },
  {
   "cell_type": "markdown",
   "metadata": {},
   "source": [
    "A présent, essayons d'aller plus loin.\n",
    "\n",
    "Python peut \"stocker\" des **valeurs** dans ce que l'on appelle des **variables**. On peut se représenter le fait d'affecter une **valeur** à une **variable** comme le fait d'aposer un post-it sur un objet pour lui attacher une information ou inscrire sur un carton le type d'objet qu'il contient (\"ce carton contient de la vaisselle\").\n",
    "\n",
    "On peut ainsi utiliser des **variables** pour stocker une information et la récupérer plus tard dans notre code.\n",
    "\n",
    "Si dans d'autres langages il est nécessaire d'expliciter le fait que l'on souhaite créer une variable, cela n'est pas nécessaire en Python. Il suffit simplement d'affecter une valeur à l'aide de l'**opérateur** `=`."
   ]
  },
  {
   "cell_type": "code",
   "execution_count": 52,
   "metadata": {},
   "outputs": [],
   "source": [
    "deux = 2"
   ]
  },
  {
   "cell_type": "markdown",
   "metadata": {},
   "source": [
    "Petite nouveauté ici : Python ne répond pas. Cela signifie simplement que le code a été exécuté jusqu'au bout et qu'il n'a rencontré aucune erreur. Dans le cas présent, nous avons demandé une seule chose : stocker la valeur `2` dans une **variable** nommée `deux`.\n",
    "\n",
    "Réitérons la même opération, mais demandons maintenant d'afficher ce que contient notre **variable** fraîchement créée."
   ]
  },
  {
   "cell_type": "code",
   "execution_count": 3,
   "metadata": {},
   "outputs": [
    {
     "name": "stdout",
     "output_type": "stream",
     "text": [
      "2\n"
     ]
    }
   ],
   "source": [
    "deux = 2\n",
    "print(deux)"
   ]
  },
  {
   "cell_type": "markdown",
   "metadata": {},
   "source": [
    "Ici, nous voyons le premier exemple d'utilisation de ce que l'on nomme une **fonction**. Les **fonctions** se définissent très simplement : il s'agit d'une série d'instructions qui prennent des **valeurs** en entrée (on parle alors d'**arguments** ou de **paramètres** dans le cas des fonctions) et renvoie des **valeurs** en sortie.\n",
    "\n",
    "Les **valeurs** que l'on passe aux **fonctions** peuvent être des **variables**, des **valeurs** et d'autres objets mais on ne traitera pas de ces cas là pour l'instant.\n",
    "\n",
    "En effet, voyons si on peut demander à Python d'afficher la **valeur** `2` plutôt que la **variable** `deux`."
   ]
  },
  {
   "cell_type": "code",
   "execution_count": 4,
   "metadata": {
    "scrolled": true
   },
   "outputs": [
    {
     "name": "stdout",
     "output_type": "stream",
     "text": [
      "2\n"
     ]
    }
   ],
   "source": [
    "print(2)"
   ]
  },
  {
   "cell_type": "markdown",
   "metadata": {},
   "source": [
    "**Parenthèse utile :** par la suite, nous serons parfois amené à **incrémenter** des **valeurs numériques**. Cela signie que l'on ajoute simplement `1` à la valeur actuelle contenue dans la **variable**.\n",
    "\n",
    "Illustration avec un petit exemple."
   ]
  },
  {
   "cell_type": "code",
   "execution_count": 54,
   "metadata": {},
   "outputs": [
    {
     "name": "stdout",
     "output_type": "stream",
     "text": [
      "3\n"
     ]
    }
   ],
   "source": [
    "deux = 2\n",
    "deux += 1\n",
    "print(deux)"
   ]
  },
  {
   "cell_type": "markdown",
   "metadata": {},
   "source": [
    "Ce que nous avons écrit revient en fait à écrire quelque chose qui paraît étrange lorsqu'on est habitué à l'écriture mathématique."
   ]
  },
  {
   "cell_type": "code",
   "execution_count": 55,
   "metadata": {},
   "outputs": [
    {
     "name": "stdout",
     "output_type": "stream",
     "text": [
      "3\n"
     ]
    }
   ],
   "source": [
    "deux = 2\n",
    "deux = deux + 1\n",
    "print(deux)"
   ]
  },
  {
   "cell_type": "markdown",
   "metadata": {},
   "source": [
    "A travers cet exemple, nous voyons que la **valeur** affectée à une **variable** n'est pas figée, mais peut être redéfinie à chaque fois que l'on utilise l'**opérateur d'affectation**, `=`. Ainsi, on peut très bien réutiliser le même nom de **variable** pour modifier son contenu et y en affecter un nouveau."
   ]
  },
  {
   "cell_type": "markdown",
   "metadata": {},
   "source": [
    "A présent, créons une nouvelle **variable** dans laquelle on stockera la **valeur** `3`. Et testons de réaliser une opération arythmétique à l'aide, non plus des **valeurs** mais des **variables**."
   ]
  },
  {
   "cell_type": "code",
   "execution_count": 5,
   "metadata": {},
   "outputs": [
    {
     "name": "stdout",
     "output_type": "stream",
     "text": [
      "5\n"
     ]
    }
   ],
   "source": [
    "trois = 3\n",
    "cinq = trois + deux\n",
    "print(cinq)"
   ]
  },
  {
   "cell_type": "markdown",
   "metadata": {},
   "source": [
    "Comme les **variables** stockent des **valeurs**, on peut utiliser ces-dernières, au même titre que les **valeurs** pour effectuer des opérations diverses. Si deux **variables** stockent des nombres, alors, on peut additionner, soustraire, multiplier ou diviser ces deux **variables** entre elles."
   ]
  },
  {
   "cell_type": "markdown",
   "metadata": {},
   "source": [
    "#### <div id=\"Quelques règles concernant la déclaration des variables\">3. 2. 2. Quelques règles concernant la déclaration des variables</div>\n",
    "\n",
    "En déclarant une **variable**, il faut s'assurer de suivre certaines règles, sans quoi, Python retournera une **erreur** :\n",
    "* Le nom de la variable ne peut contenir que des caractères alpha-numériques et le caractère `_` (underscore, tiret du bas)\n",
    "* Le nom de la variable ne peut pas commencer par un chiffre\n",
    "* Python est sensible à la casse, c'est-à-dire qu'une variable nommée `ma_variable` n'est pas la même que `MA_VARIABLE`\n",
    "\n",
    "Faisons quelques tests."
   ]
  },
  {
   "cell_type": "code",
   "execution_count": 7,
   "metadata": {
    "scrolled": true
   },
   "outputs": [
    {
     "ename": "SyntaxError",
     "evalue": "invalid syntax (<ipython-input-7-827a8256bedb>, line 1)",
     "output_type": "error",
     "traceback": [
      "\u001b[1;36m  File \u001b[1;32m\"<ipython-input-7-827a8256bedb>\"\u001b[1;36m, line \u001b[1;32m1\u001b[0m\n\u001b[1;33m    9neuf = 9\u001b[0m\n\u001b[1;37m        ^\u001b[0m\n\u001b[1;31mSyntaxError\u001b[0m\u001b[1;31m:\u001b[0m invalid syntax\n"
     ]
    }
   ],
   "source": [
    "9neuf = 9"
   ]
  },
  {
   "cell_type": "code",
   "execution_count": 9,
   "metadata": {},
   "outputs": [
    {
     "ename": "SyntaxError",
     "evalue": "invalid syntax (<ipython-input-9-fc2484211981>, line 1)",
     "output_type": "error",
     "traceback": [
      "\u001b[1;36m  File \u001b[1;32m\"<ipython-input-9-fc2484211981>\"\u001b[1;36m, line \u001b[1;32m1\u001b[0m\n\u001b[1;33m    neuf huit = 98\u001b[0m\n\u001b[1;37m            ^\u001b[0m\n\u001b[1;31mSyntaxError\u001b[0m\u001b[1;31m:\u001b[0m invalid syntax\n"
     ]
    }
   ],
   "source": [
    "neuf huit = 98\n",
    "print(neuf huit)"
   ]
  },
  {
   "cell_type": "code",
   "execution_count": 8,
   "metadata": {},
   "outputs": [
    {
     "name": "stdout",
     "output_type": "stream",
     "text": [
      "9\n",
      "99\n"
     ]
    }
   ],
   "source": [
    "neuf = 9\n",
    "NEUF = 99\n",
    "print(neuf)\n",
    "print(NEUF)"
   ]
  },
  {
   "cell_type": "markdown",
   "metadata": {},
   "source": [
    "A noter également que certains mots-clés sont **réservés**, c'est-à-dire qu'on ne peut pas les utiliser tels quels pour déclarer nos variables. Ils constituent les fonctions ou les opérateurs de base du langage. En voici une petite liste (nous évoquerons notamment les premiers et laisseront de côté une partie de ceux inclus dans la catégorie `autres`) :\n",
    "\n",
    "|Type|Mots-clés|\n",
    "|---|---|\n",
    "|Opérateurs|`and`, `or`, `not`|\n",
    "|Valeurs|`True`, `False`, `none`|\n",
    "|Structures de contrôle|`if`, `elif`, `else`, `try`, `assert`, `except`, `finally`|\n",
    "|Boucles|`for`, `while`|\n",
    "|Autres|`import`, `from`, `as`, `in`, `yield`, `del`, `break`, `continue`, `pass`, `raise`, `class`, `def`, `lambda`, `with`, `global`, `nonlocal`|"
   ]
  },
  {
   "cell_type": "markdown",
   "metadata": {},
   "source": [
    "Voyons de suite ce qu'il se passe si on essaie d'affecter une **valeur** à une variable qui prendrait le même nom qu'une fonction déjà existante dans Python."
   ]
  },
  {
   "cell_type": "code",
   "execution_count": 98,
   "metadata": {},
   "outputs": [
    {
     "ename": "SyntaxError",
     "evalue": "can't assign to keyword (<ipython-input-98-5eea996c1291>, line 1)",
     "output_type": "error",
     "traceback": [
      "\u001b[1;36m  File \u001b[1;32m\"<ipython-input-98-5eea996c1291>\"\u001b[1;36m, line \u001b[1;32m1\u001b[0m\n\u001b[1;33m    True = 2\u001b[0m\n\u001b[1;37m            ^\u001b[0m\n\u001b[1;31mSyntaxError\u001b[0m\u001b[1;31m:\u001b[0m can't assign to keyword\n"
     ]
    }
   ],
   "source": [
    "True = 2\n",
    "True"
   ]
  },
  {
   "cell_type": "code",
   "execution_count": 99,
   "metadata": {
    "scrolled": true
   },
   "outputs": [
    {
     "ename": "SyntaxError",
     "evalue": "invalid syntax (<ipython-input-99-c8ee3642ab3d>, line 1)",
     "output_type": "error",
     "traceback": [
      "\u001b[1;36m  File \u001b[1;32m\"<ipython-input-99-c8ee3642ab3d>\"\u001b[1;36m, line \u001b[1;32m1\u001b[0m\n\u001b[1;33m    for = 3\u001b[0m\n\u001b[1;37m        ^\u001b[0m\n\u001b[1;31mSyntaxError\u001b[0m\u001b[1;31m:\u001b[0m invalid syntax\n"
     ]
    }
   ],
   "source": [
    "for = 3"
   ]
  },
  {
   "cell_type": "markdown",
   "metadata": {},
   "source": [
    "Selon les cas, le message d'erreur sera différent, mais une erreur sera levée par Python à chaque fois."
   ]
  },
  {
   "cell_type": "markdown",
   "metadata": {},
   "source": [
    "#### <div id=\"Manipuler du texte\">3. 2. 3. Manipuler du texte</div>"
   ]
  },
  {
   "cell_type": "markdown",
   "metadata": {},
   "source": [
    "Nous avons vu le cas des nombres. Voyons à présent comment jongler avec du **texte** (ou plus exactement, des **chaînes de caractères** car celles-ci peuvent contenir des nombres) en Python.\n",
    "\n",
    "Nous avons vu plus haut qu'en tapant directement `bonjour` dans une cellule, Python renvoyait une erreur. En effet, lorsque l'on tape directement du texte, il s'agit nécessairement du nom de **fonctions** ou de **variables** (et d'autres objets) dont Python a déjà connaissance.\n",
    "\n",
    "Si on tape `trois` sans indiquer au préalable qu'est-ce que l'on souhaite \"stocker\" dedans, Python ne comprendra pas. Lorsqu'on affecte une **valeur** à une **variable**, Python comprend que l'on souhaite créer une **variable** que l'on appelle `trois` et dans laquelle on souhaite stocker une **valeur** particulière.\n",
    "\n",
    "Pour manipuler du texte avec Python, il faut l'encadrer avec des guillemets simples `'` ou doubles `\"`."
   ]
  },
  {
   "cell_type": "code",
   "execution_count": 9,
   "metadata": {},
   "outputs": [
    {
     "name": "stdout",
     "output_type": "stream",
     "text": [
      "trois\n"
     ]
    }
   ],
   "source": [
    "trois = \"trois\"\n",
    "print(trois)"
   ]
  },
  {
   "cell_type": "markdown",
   "metadata": {},
   "source": [
    "Essayons quelque chose de curieux."
   ]
  },
  {
   "cell_type": "code",
   "execution_count": 1,
   "metadata": {},
   "outputs": [
    {
     "name": "stdout",
     "output_type": "stream",
     "text": [
      "troisquatre\n"
     ]
    }
   ],
   "source": [
    "sept = \"trois\" + \"quatre\"\n",
    "print(sept)"
   ]
  },
  {
   "cell_type": "markdown",
   "metadata": {},
   "source": [
    "S'il n'est pas possible d'additionner du texte, on peut néanmoins **concaténer** plusieurs chaînes de caractères ensemble, c'est-à-dire, coller deux chaînes de caractère l'une à la suite de l'autre (sans espace ni aucun caractère de séparation)."
   ]
  },
  {
   "cell_type": "markdown",
   "metadata": {},
   "source": [
    "### <div id=\"Les types de données\">3. 3. Les types de données</div>\n",
    "\n",
    "Comme nous avons pu le voir, Python est capable de manipuler des **données numériques** et **textuelles**. Sur chaque type de données, il est possible d'effectuer des opérations spécifiques :\n",
    "* Appliquer les opérations arythmétiques sur des nombres\n",
    "* Concaténer des chaînes de caractères\n",
    "\n",
    "Ainsi, il est très important de savoir, avant d'entamer un travail sur des données, de savoir sur quel type de données on travaille. A priori, cela paraît simple, mais au fur et à mesure des transformations et de l'avancement du code que l'on écrit, il peut être facile de se perdre rapidement !\n",
    "\n",
    "#### <div id=\"Les données numériques\">3. 3. 1. Les données numériques</div>\n",
    "\n",
    "Même si ce n'est pas décisif pour notre formation, il est important de savoir que Python distingue parmi les données numériques :\n",
    "* Les nombres entiers (que l'on nomme `int` en Python)\n",
    "* Les nombres à virgules (que l'on nomme `float` en Python)\n",
    "\n",
    "Les deux types de données numériques sont distingués car, comme mentionné en introduction de cette partie, cela permet à Python de savoir quels types d'opérations sont réalisables sur ces données.\n",
    "\n",
    "Par défaut, il n'est pas nécessaire d'indiquer à Python de quel type la **variable** que l'on crée doit être (c'est ce que l'on appelle la caractéristique de **typage dynamique** d'un langage comme Python). Si cela se révèle très pratique, cela peut aussi nous jouer des tours."
   ]
  },
  {
   "cell_type": "markdown",
   "metadata": {},
   "source": [
    "#### <div id=\"La fonction type()\">3. 3. 2. La fonction <code>type()</code></div>\n",
    "\n",
    "Pour nous mettre à l'abris des pièges liés aux différents types de données que l'on peut croiser, la fonction `type()` est bien utile.\n",
    "\n",
    "Rappelons-nous, une fonction est suivie de parenthèses, c'est entre les parenthèses que nous renseignons les **arguments** ou **paramètres** de la fonction. Ici, nous allons vérifier le **type de données** que contient une **variable** que l'on aura créé au préalable.\n",
    "\n",
    "Voyons cela."
   ]
  },
  {
   "cell_type": "code",
   "execution_count": 24,
   "metadata": {
    "scrolled": true
   },
   "outputs": [
    {
     "name": "stdout",
     "output_type": "stream",
     "text": [
      "<class 'int'>\n"
     ]
    }
   ],
   "source": [
    "a = 2\n",
    "print(type(a))"
   ]
  },
  {
   "cell_type": "code",
   "execution_count": 23,
   "metadata": {
    "scrolled": true
   },
   "outputs": [
    {
     "name": "stdout",
     "output_type": "stream",
     "text": [
      "<class 'float'>\n"
     ]
    }
   ],
   "source": [
    "b = 2.0\n",
    "print(type(b))"
   ]
  },
  {
   "cell_type": "markdown",
   "metadata": {},
   "source": [
    "La fonction `type()` nous renvoie ainsi :\n",
    "* Pour la variable `a`, la valeur `int`\n",
    "* Pour la variable `b`, la valeur `float`\n",
    "\n",
    "A la déclaration de ces **variables**, nous n'avons pas eu à préciser le **type de données** qu'elles contiendront. En cas d'incertitude, la fonction `type()` permettra de vérifier quel **type de données** manipule la **variable** en question."
   ]
  },
  {
   "cell_type": "markdown",
   "metadata": {},
   "source": [
    "#### <div id=\"Les données textuelles\">3. 3. 3. Les données textuelles</div>\n",
    "\n",
    "Comme nous l'avons vu, Python permet également de manipuler des **chaînes de caractères**.\n",
    "\n",
    "Utilisons la fonction `type()` sur une **variable** contenant une **chaîne de caractères**."
   ]
  },
  {
   "cell_type": "code",
   "execution_count": 15,
   "metadata": {},
   "outputs": [
    {
     "data": {
      "text/plain": [
       "str"
      ]
     },
     "execution_count": 15,
     "metadata": {},
     "output_type": "execute_result"
    }
   ],
   "source": [
    "phrase = \"Bonjour, j'apprends à coder en Python.\"\n",
    "type(phrase)"
   ]
  },
  {
   "cell_type": "markdown",
   "metadata": {},
   "source": [
    "Les **données textuelles** sont nommées `str` (pour *string* en anglais).\n",
    "\n",
    "Comme nous l'avons vu plus tôt, on peut utiliser les guillemets doubles ou simples pour entrer des **chaînes de caractère** en Python. Dans certains cas, il sera utile d'**échapper** un caractère, c'est-à-dire, non pas pour donner une **instruction** à l'interpréteur Python, mais lui indiquer que l'on souhaite travailler avec des **caractères** (c'est un peu la même logique que les **mots-clés réservés** : il faut que l'interpréteur puisse faire la différence entre ce qui constitue un ordre qu'on lui donne et une information qu'on lui demande de traiter).\n",
    "\n",
    "Pour **échapper** un caractère, on fait précéder le caractère que l'on souhaite échapper avec un backslash (`\\`).\n",
    "\n",
    "Un exemple pour clarifier cela : mettons que l'on souhaite utiliser des guillemets doubles dans une phrase, par exemple, si le texte avec lequel on travaille est un extrait de texte qui contient des citations (introduites et fermées avec des guillemets doubles donc)."
   ]
  },
  {
   "cell_type": "code",
   "execution_count": 18,
   "metadata": {
    "scrolled": true
   },
   "outputs": [
    {
     "name": "stdout",
     "output_type": "stream",
     "text": [
      "John Doe : \"Je n'ai pas le temps, je dois apprendre à coder en Python\".\n"
     ]
    }
   ],
   "source": [
    "réplique = \"John Doe : \\\"Je n'ai pas le temps, je dois apprendre à coder en Python\\\".\"\n",
    "print(réplique)"
   ]
  },
  {
   "cell_type": "markdown",
   "metadata": {},
   "source": [
    "#### <div id=\"Les conversions et les types personnalisés\">3. 3. 4. Les conversions et les types personnalisés</div>\n",
    "\n",
    "Parfois, il sera nécessaire de **convertir des données d'un type à un autre**. Ces conversions ne sont possibles que dans certains sens : en toute logique, il sera difficile de convertir une donnée textuelle en donnée numérique. Comment, par exemple, traduire notre **variable** `réplique` que nous avons déclaré un peu plus haut en **donnée numérique** ? On comprendre bien que cela n'a pas vraiment de sens.\n",
    "\n",
    "Par contre, on peut souhaiter convertir une **donnée numérique** en **chaîne de caractère**.\n",
    "\n",
    "Voyons cela de suite et essayons de comprendre les implications de cette conversion."
   ]
  },
  {
   "cell_type": "code",
   "execution_count": 19,
   "metadata": {},
   "outputs": [
    {
     "data": {
      "text/plain": [
       "int"
      ]
     },
     "execution_count": 19,
     "metadata": {},
     "output_type": "execute_result"
    }
   ],
   "source": [
    "deux = 2\n",
    "trois = 3\n",
    "type(deux)"
   ]
  },
  {
   "cell_type": "code",
   "execution_count": 20,
   "metadata": {},
   "outputs": [
    {
     "name": "stdout",
     "output_type": "stream",
     "text": [
      "1\n"
     ]
    }
   ],
   "source": [
    "print(trois - deux)"
   ]
  },
  {
   "cell_type": "markdown",
   "metadata": {},
   "source": [
    "Jusque là, tout va bien. Voyons maintenant comment convertir une **variable** stockant des **données numériques** en **données textuelles**. On utilise pour cela la fonction `str`."
   ]
  },
  {
   "cell_type": "code",
   "execution_count": 21,
   "metadata": {},
   "outputs": [
    {
     "name": "stdout",
     "output_type": "stream",
     "text": [
      "<class 'str'>\n"
     ]
    }
   ],
   "source": [
    "deux_str = str(deux)\n",
    "trois_str = str(trois)\n",
    "print(type(deux_str))"
   ]
  },
  {
   "cell_type": "code",
   "execution_count": 22,
   "metadata": {
    "scrolled": true
   },
   "outputs": [
    {
     "ename": "TypeError",
     "evalue": "unsupported operand type(s) for -: 'str' and 'str'",
     "output_type": "error",
     "traceback": [
      "\u001b[1;31m---------------------------------------------------------------------------\u001b[0m",
      "\u001b[1;31mTypeError\u001b[0m                                 Traceback (most recent call last)",
      "\u001b[1;32m<ipython-input-22-5150f1338e9e>\u001b[0m in \u001b[0;36m<module>\u001b[1;34m\u001b[0m\n\u001b[1;32m----> 1\u001b[1;33m \u001b[0mprint\u001b[0m\u001b[1;33m(\u001b[0m\u001b[0mtrois_str\u001b[0m \u001b[1;33m-\u001b[0m \u001b[0mdeux_str\u001b[0m\u001b[1;33m)\u001b[0m\u001b[1;33m\u001b[0m\u001b[1;33m\u001b[0m\u001b[0m\n\u001b[0m",
      "\u001b[1;31mTypeError\u001b[0m: unsupported operand type(s) for -: 'str' and 'str'"
     ]
    }
   ],
   "source": [
    "print(trois_str - deux_str)"
   ]
  },
  {
   "cell_type": "markdown",
   "metadata": {},
   "source": [
    "<div class=\"alert alert-success\"><strong>Deuxième exercice :</strong> Essayer d'additionner une chaîne de caractères et un nombre.\n",
    "<br>\n",
    "<br>\n",
    "Essayer de multiplier une chaîne de caractère et un nombre.</div>"
   ]
  },
  {
   "cell_type": "markdown",
   "metadata": {},
   "source": [
    "Maintenant que nos variables `deux_str` et `trois_str` ont changé de **type**, on ne peut plus réaliser certaines opérations (comme la soustraction, la multiplication, etc. ; à noter que l'addition est toujours possible mais il s'agit plus précisément d'une **concaténation**, comme nous l'avons vu plus tôt), quand bien même, de notre regard d'être humain, la **variable** `deux` qui stocke le chiffre `2` sous forme de **donnée numérique** et la **variable** `deux_str` qui stocke le même chiffre sous forme de **donnée textuelle** contiennent la même information."
   ]
  },
  {
   "cell_type": "markdown",
   "metadata": {},
   "source": [
    "A l'inverse, on peut également convertir des données numériques stockées sous forme de **chaînes de caractères** pour les transformer en `int` ou en `float`."
   ]
  },
  {
   "cell_type": "code",
   "execution_count": 16,
   "metadata": {},
   "outputs": [
    {
     "name": "stdout",
     "output_type": "stream",
     "text": [
      "<class 'str'>\n",
      "<class 'int'>\n"
     ]
    }
   ],
   "source": [
    "a = \"2\"\n",
    "print(type(a))\n",
    "b = int(a)\n",
    "print(type(b))"
   ]
  },
  {
   "cell_type": "markdown",
   "metadata": {},
   "source": [
    "Passons à présent à la pratique avec un premier exercice pour appliquer tous les éléments que l'on a vu jusque là.\n",
    "\n",
    "<div class=\"alert alert-success\" role=\"alert\"><strong>Troisième exercice :</strong> Mettons que l'on nous fournisse des <strong>variables</strong> contenant, sous forme de <strong>type de donnée numérique</strong>, des informations sur une date. \n",
    "<br>\n",
    "<br>\n",
    "On a <strong>trois variables</strong> différentes :\n",
    "<ul>\n",
    "    <li>Une variable <code>jour</code> qui contient l'information sous forme numérique du jour de la date</li>\n",
    "    <li>Une variable <code>mois</code></li>\n",
    "    <li>On l'aura deviné, une variable <code>annee</code></li>\n",
    "</ul>\n",
    "<br>\n",
    "    <strong>L'objectif de cet exercice</strong> est d'appliquer les éléments vus jusqu'à présent pour construire, dans une <strong>nouvelle variable</strong>, l'information sur la date en <strong>concaténant</strong> chacune des variables fournies pour former une date au <strong>format textuel</strong> puisque l'on séparera aussi chaque partie de la date (jour, mois, année) avec une barre oblique (un <em>slash</em>, <code>/</code>).\n",
    "<br>\n",
    "<br>\n",
    "    Pour récupérer les <strong>variables fournies</strong>, on exécutera la cellule ci-dessous.\n",
    "</div>"
   ]
  },
  {
   "cell_type": "code",
   "execution_count": 28,
   "metadata": {},
   "outputs": [],
   "source": [
    "jour = 12\n",
    "mois = 10\n",
    "annee = 2020"
   ]
  },
  {
   "cell_type": "markdown",
   "metadata": {},
   "source": [
    "<div class=\"alert alert-danger\"><strong>Convertir des données numériques en données textuelles et les concaténer :</strong>\n",
    "<br>\n",
    "<br>\n",
    "Procédons en deux étapes.\n",
    "<br>\n",
    "<br>\n",
    "Dans un <strong>premier temps</strong>, nous allons prendre chaque <strong>variable</strong> et les convertir en de nouvelles variables qui contiendront la même information mais avec un type de données, non plus <strong>numérique</strong>, mais <strong>textuel</strong>.\n",
    "<br>\n",
    "<pre>\n",
    "<code class=\"python\">jour = str(jour)\n",
    "mois = str(mois)\n",
    "annee = str(annee)</code>\n",
    "</pre>\n",
    "<br>\n",
    "<strong>Ensuite</strong>, nous allons construire notre nouvelle variable que l'on nommera <code>date_complete</code>. Puis, on affichera le résultat pour s'assurer que nous n'avons pas fait d'erreurs avec la fonction <code>print()</code>.\n",
    "<br>\n",
    "<pre>\n",
    "<code class=\"python\">date_complete = jour + \"/\" + \"mois\" + \"/\" + \"annee\"\n",
    "print(date_complete)</code>\n",
    "</pre>\n",
    "</div>"
   ]
  },
  {
   "cell_type": "markdown",
   "metadata": {},
   "source": [
    "En passant au **web scraping** notamment, nous serons confrontés à d'autres types **personnalisés**. N'importe qui peut créer ses propres types personnalisés avec Python (mais ceci est hors du cadre de la formation). Lorsque l'on utilisera des **packages** Python, il sera souvent question de manipuler de nouveaux types de données propres à ces packages."
   ]
  },
  {
   "cell_type": "markdown",
   "metadata": {},
   "source": [
    "#### <div id=\"En résumé\">3. 3. 5. En résumé</div>\n",
    "\n",
    "Un petit schéma pour résumer tout ce dont on a parlé jusque là.\n",
    "\n",
    "<img src=\"data:image/png;base64,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\" alt=\"types données\"/>"
   ]
  },
  {
   "cell_type": "markdown",
   "metadata": {},
   "source": [
    "### <div id=\"Les structures de données\">3. 4. Les structures de données</div>\n",
    "\n",
    "Les structures de données en Python peuvent être vus comme des groupes de **variables** telles que nous les avons définies jusque là. Jusqu'à présent, nous avons vu que les **variables** permettent de stocker des **valeurs** de différents types : nous les utilisions uniquement pour stocker des données \"simples\" (chaîne de caractère, données numériques).\n",
    "\n",
    "En réalité, les **variables** permettent de stocker à peu près n'importe quel type d'information (des valeurs, des fonctions mais aussi des structures de données plus complexes).\n",
    "\n",
    "#### <div id=\"Les listes\">3. 4. 1. Les listes</div>\n",
    "\n",
    "Les **listes** sont des structures essentielles dans Python. Elles permettent de stocker plusieurs **valeurs** séparées par une virgule (`,`). On peut se représenter les **listes** comme un placard qui contiendrait un certain nombre de tiroirs : chaque tiroir est distingué d'un autre par une **virgule** et chaque tiroir contient une **valeur** (chaque valeur peut être d'un type différent).\n",
    "\n",
    "Il y a deux façons différentes de **déclarer une liste** :\n",
    "* En appelant la fonction Python permettant de créer une liste `list()` et en passant chaque valeur séparée par une virgule entre parenthèses\n",
    "* En encadrant les valeurs séparées par des virgules entre crochets `[]`\n",
    "\n",
    "Voyons cela plus concrètement avec des exemples."
   ]
  },
  {
   "cell_type": "code",
   "execution_count": 34,
   "metadata": {},
   "outputs": [
    {
     "name": "stdout",
     "output_type": "stream",
     "text": [
      "[2, 3, 4]\n"
     ]
    }
   ],
   "source": [
    "liste_1 = list((1, 2, 3))\n",
    "print(liste_1)"
   ]
  },
  {
   "cell_type": "code",
   "execution_count": 35,
   "metadata": {},
   "outputs": [
    {
     "name": "stdout",
     "output_type": "stream",
     "text": [
      "[4, 5, 6]\n"
     ]
    }
   ],
   "source": [
    "liste_2 = [4, 5, 6]\n",
    "print(liste_2)"
   ]
  },
  {
   "cell_type": "code",
   "execution_count": 36,
   "metadata": {},
   "outputs": [
    {
     "name": "stdout",
     "output_type": "stream",
     "text": [
      "['un', 'deux', 'trois']\n"
     ]
    }
   ],
   "source": [
    "liste_3 = [\"un\", \"deux\", \"trois\"]\n",
    "print(liste_3)"
   ]
  },
  {
   "cell_type": "code",
   "execution_count": 37,
   "metadata": {},
   "outputs": [
    {
     "name": "stdout",
     "output_type": "stream",
     "text": [
      "['un', 2, 'trois', 4]\n"
     ]
    }
   ],
   "source": [
    "liste_4 = [\"un\", 2, \"trois\", 4]\n",
    "print(liste_4)"
   ]
  },
  {
   "cell_type": "markdown",
   "metadata": {},
   "source": [
    "Avec la `liste_4`, nous voyons qu'il est possible de stocker à la fois des **valeurs numériques** et des **valeurs textuelles** dans une même liste.\n",
    "\n",
    "Voyons maintenant comment vérifier le type d'une **valeur particulière** stockée dans notre liste. Pour cela, nous allons voir comment **accéder** à une valeur au sein d'une liste.\n",
    "\n",
    "Les **listes** sont des objets dotés de ce que l'on appelle **index**. Un **index** est une forme de code que l'on accole à la suite de la variable contenant la liste pour indiquer l'emplacement de la liste auquel on souhaite accéder. L'**index** des listes commence à partir de `0` : pour avancer d'un pas, on ajoute simplement `1` à l'index actuel.\n",
    "\n",
    "Voyons cela avec un exemple pour clarifier ce point."
   ]
  },
  {
   "cell_type": "code",
   "execution_count": 38,
   "metadata": {},
   "outputs": [
    {
     "name": "stdout",
     "output_type": "stream",
     "text": [
      "un\n"
     ]
    }
   ],
   "source": [
    "print(liste_4[0])"
   ]
  },
  {
   "cell_type": "markdown",
   "metadata": {},
   "source": [
    "Ici, nous accédons à la **première valeur** de la liste `liste_4`. Nous pouvons vérifier le type de données que contient cet emplacement de la liste."
   ]
  },
  {
   "cell_type": "code",
   "execution_count": 40,
   "metadata": {
    "scrolled": true
   },
   "outputs": [
    {
     "data": {
      "text/plain": [
       "str"
      ]
     },
     "execution_count": 40,
     "metadata": {},
     "output_type": "execute_result"
    }
   ],
   "source": [
    "type(liste_4[0])"
   ]
  },
  {
   "cell_type": "markdown",
   "metadata": {},
   "source": [
    "Maintenant, essayons d'avancer à l'emplacement suivant de la liste `liste_4`."
   ]
  },
  {
   "cell_type": "code",
   "execution_count": 42,
   "metadata": {},
   "outputs": [
    {
     "name": "stdout",
     "output_type": "stream",
     "text": [
      "2\n"
     ]
    }
   ],
   "source": [
    "print(liste_4[1])"
   ]
  },
  {
   "cell_type": "markdown",
   "metadata": {},
   "source": [
    "De la même façon, on peut vérifier le type de donnée que contient cet emplacement de la liste `liste_4`."
   ]
  },
  {
   "cell_type": "code",
   "execution_count": 43,
   "metadata": {},
   "outputs": [
    {
     "data": {
      "text/plain": [
       "int"
      ]
     },
     "execution_count": 43,
     "metadata": {},
     "output_type": "execute_result"
    }
   ],
   "source": [
    "type(liste_4[1])"
   ]
  },
  {
   "cell_type": "markdown",
   "metadata": {},
   "source": [
    "Nous voyons ainsi que la `liste_4` contient à la fois des données `int` et des données `str`."
   ]
  },
  {
   "cell_type": "markdown",
   "metadata": {},
   "source": [
    "Le **premier index** d'une liste est `[0]` mais il existe aussi un moyen d'accéder directement au **dernier index** d'une liste en insérant l'index `[-1]`.\n",
    "\n",
    "Essayons de voir cela avec la liste `liste_4`."
   ]
  },
  {
   "cell_type": "code",
   "execution_count": 44,
   "metadata": {},
   "outputs": [
    {
     "name": "stdout",
     "output_type": "stream",
     "text": [
      "4\n"
     ]
    }
   ],
   "source": [
    "print(liste_4[-1])"
   ]
  },
  {
   "cell_type": "markdown",
   "metadata": {},
   "source": [
    "Comme la liste `liste_4` contient 4 éléments au total, on peut également accéder à cette dernière valeur en utilisant l'**index** dans le sens \"normal\", du premier élément au dernier."
   ]
  },
  {
   "cell_type": "code",
   "execution_count": 45,
   "metadata": {},
   "outputs": [
    {
     "name": "stdout",
     "output_type": "stream",
     "text": [
      "4\n"
     ]
    }
   ],
   "source": [
    "print(liste_4[3])"
   ]
  },
  {
   "cell_type": "markdown",
   "metadata": {},
   "source": [
    "En partant du **dernier élément**, on peut ainsi avancer dans le sens \"inverse\", du dernier élément au premier. Profitons en pour nous remémorer le contenu de la liste `liste_4` pour visualiser ce fonctionnement par **index**."
   ]
  },
  {
   "cell_type": "code",
   "execution_count": 48,
   "metadata": {},
   "outputs": [
    {
     "name": "stdout",
     "output_type": "stream",
     "text": [
      "['un', 2, 'trois', 4]\n"
     ]
    }
   ],
   "source": [
    "print(liste_4)"
   ]
  },
  {
   "cell_type": "code",
   "execution_count": 46,
   "metadata": {
    "scrolled": true
   },
   "outputs": [
    {
     "name": "stdout",
     "output_type": "stream",
     "text": [
      "trois\n"
     ]
    }
   ],
   "source": [
    "print(liste_4[-2])"
   ]
  },
  {
   "cell_type": "code",
   "execution_count": 47,
   "metadata": {
    "scrolled": true
   },
   "outputs": [
    {
     "name": "stdout",
     "output_type": "stream",
     "text": [
      "2\n"
     ]
    }
   ],
   "source": [
    "print(liste_4[-3])"
   ]
  },
  {
   "cell_type": "markdown",
   "metadata": {},
   "source": [
    "Maintenant que nous savons comment **accéder** à des éléments dans une liste, voyons maintenant comment **découper** des listes (*slicing* en anglais).\n",
    "\n",
    "A partir d'une première liste, il est possible d'en extraire une autre liste qui sera incluera uniquement les éléments que l'on aura indiqué dans une fourchette spécifique. Pour cela, on utilise le même principe des **index**, avec une subtilité complémentaire.\n",
    "\n",
    "Voyons cela avec un exemple."
   ]
  },
  {
   "cell_type": "code",
   "execution_count": 29,
   "metadata": {},
   "outputs": [],
   "source": [
    "liste_5 = [\"zèbre\", \"tigre\", \"crocodile\", \"girafe\", \"panda\"]"
   ]
  },
  {
   "cell_type": "markdown",
   "metadata": {},
   "source": [
    "Si on souhaite accéder à la valeur `zèbre`, pas de problème, on sait faire."
   ]
  },
  {
   "cell_type": "code",
   "execution_count": 30,
   "metadata": {},
   "outputs": [
    {
     "data": {
      "text/plain": [
       "'zèbre'"
      ]
     },
     "execution_count": 30,
     "metadata": {},
     "output_type": "execute_result"
    }
   ],
   "source": [
    "liste_5[0]"
   ]
  },
  {
   "cell_type": "markdown",
   "metadata": {},
   "source": [
    "Maintenant, si on souhaite obtenir, à partir de la liste `liste_5`, une nouvelle liste qui ne contient que les deux premiers animaux, alors, on peut utiliser les deux points `:` pour indiquer l'intervale qui nous intéresse.\n",
    "\n",
    "A noter que les intervales sont exclusifs, c'est-à-dire que si l'on indique que l'on souhaite obtenir tous les éléments de la liste **jusqu'au troisième**, le troisième élément en lui-même sera exclu de la sélection.\n",
    "\n",
    "Pour rappel, les **index** d'une liste commence à la valeur `0` de l'index.\n",
    "\n",
    "Si on souhaite récupérer les deux premiers animaux, on indiquera alors du premier (`0`) jusqu'au troisième (`2`) index."
   ]
  },
  {
   "cell_type": "code",
   "execution_count": 35,
   "metadata": {},
   "outputs": [
    {
     "data": {
      "text/plain": [
       "['zèbre', 'tigre']"
      ]
     },
     "execution_count": 35,
     "metadata": {},
     "output_type": "execute_result"
    }
   ],
   "source": [
    "liste_5[0:2]"
   ]
  },
  {
   "cell_type": "markdown",
   "metadata": {},
   "source": [
    "Si on part du début ou de la fin, le premier ou le dernier index sont facultatifs."
   ]
  },
  {
   "cell_type": "code",
   "execution_count": 36,
   "metadata": {
    "scrolled": true
   },
   "outputs": [
    {
     "data": {
      "text/plain": [
       "['zèbre', 'tigre']"
      ]
     },
     "execution_count": 36,
     "metadata": {},
     "output_type": "execute_result"
    }
   ],
   "source": [
    "liste_5[:2]"
   ]
  },
  {
   "cell_type": "code",
   "execution_count": 37,
   "metadata": {},
   "outputs": [
    {
     "data": {
      "text/plain": [
       "['crocodile', 'girafe', 'panda']"
      ]
     },
     "execution_count": 37,
     "metadata": {},
     "output_type": "execute_result"
    }
   ],
   "source": [
    "liste_5[2:]"
   ]
  },
  {
   "cell_type": "markdown",
   "metadata": {},
   "source": [
    "<div class=\"alert alert-success\" role=\"alert\"><strong>Quatrième exercice :</strong> A partir de la liste <code>liste_5</code>, récupérer le <code>tigre</code> et le <code>crocodile</code> dans une nouvelle liste.</div>"
   ]
  },
  {
   "cell_type": "markdown",
   "metadata": {},
   "source": [
    "<div class=\"alert alert-danger\" role=\"alert\"><strong>Découper une liste :</strong> Pour récupérer le <code>tigre</code> et le <code>crocodile</code>, on pourrait procéder un a un, comme dans l'exercice précédent, en récupérant chaque élément de la liste en y accédant via son index, en le stockant dans une variable temporaire, puis en construisant une nouvelle liste et en y insérant les deux variables temporaires.\n",
    "<br>\n",
    "<br>\n",
    "Dans le cas présent, il y a tout de même plus simple : sélectionner directement les deux animaux en <strong>découpant</strong> la liste puisqu'ils se suivent dans <code>liste_5</code>.\n",
    "<br>\n",
    "Pour cela, on fera simplement attention à prendre en compte le fait que les bornes supérieures et inférieures de notre sélection sont <strong>exclusives</strong>.\n",
    "<pre>\n",
    "<code class=\"python\">tigre_croco = liste_5[1:3]</code>\n",
    "</pre>\n",
    "</div>"
   ]
  },
  {
   "cell_type": "markdown",
   "metadata": {},
   "source": [
    "De la même façon que l'on affecte des **valeurs** numériques ou textuelles à des **variables**, on peut modifier la **valeur** d'un élément particulier d'une liste.\n",
    "\n",
    "Pour cela, on récupère l'emplacement de l'élément que l'on souhaite remplacer à l'aide de la **sélection par index**, puis on utilise l'**opérateur d'affectation** (`=`) pour modifier la valeur."
   ]
  },
  {
   "cell_type": "markdown",
   "metadata": {},
   "source": [
    "<div class=\"alert alert-success\" role=\"alert\"><strong>Cinquième exercice : </strong>Toujours à partir de la liste <code>liste_5</code>, remplacer le <code>tigre</code> par un <code>T-Rex</code>.</div>"
   ]
  },
  {
   "cell_type": "markdown",
   "metadata": {},
   "source": [
    "<div class=\"alert alert-danger\" role=\"alert\"><strong>Modifier des valeurs dans une liste :</strong>\n",
    "<br>\n",
    "<br>\n",
    "Pour modifier des valeurs dans une liste, on peut procéder de façon similaire à ce que l'on a pu voir plus tôt concernant les <strong>valeurs</strong> textuelles ou numériques.\n",
    "<br>\n",
    "<br>\n",
    "La seule différence tient ici dans le fait qu'il nous faut utiliser la <strong>sélection par index</strong> des listes pour identifier l'élément que l'on veut modifier dans la liste.\n",
    "<br>\n",
    "<br>\n",
    "Commençons donc par identifier l'emplacement du <code>tigre</code>. Ensuite, nous pouvons affecter la nouvelle valeur à cet emplacement.\n",
    "<pre>\n",
    "<code class=\"python\">liste_5[1] = \"T-Rex\"</code>\n",
    "</pre>\n",
    "</div>"
   ]
  },
  {
   "cell_type": "markdown",
   "metadata": {},
   "source": [
    "Mais si on souhaite supprimer une valeur d'une liste ? Dans ce cas là, l'opération est un peu différente.\n",
    "\n",
    "Il existe plusieurs options pour réaliser ce type d'opération, mais voyons pour l'instant simplement un moyen simple : l'instruction `del`.\n",
    "\n",
    "On peut utiliser l'instruction `del` pour supprimer un élément particulier, à partir de son **index** ou même un morceau d'une liste en la **découpant**."
   ]
  },
  {
   "cell_type": "code",
   "execution_count": 41,
   "metadata": {},
   "outputs": [
    {
     "name": "stdout",
     "output_type": "stream",
     "text": [
      "['zèbre', 'tigre', 'crocodile', 'girafe', 'panda']\n",
      "['zèbre', 'crocodile', 'girafe', 'panda']\n"
     ]
    }
   ],
   "source": [
    "print(liste_5)\n",
    "del liste_5[1]\n",
    "print(liste_5)"
   ]
  },
  {
   "cell_type": "code",
   "execution_count": 43,
   "metadata": {},
   "outputs": [
    {
     "name": "stdout",
     "output_type": "stream",
     "text": [
      "['zèbre', 'crocodile', 'girafe', 'panda']\n",
      "['girafe', 'panda']\n"
     ]
    }
   ],
   "source": [
    "print(liste_5)\n",
    "del liste_5[:2]\n",
    "print(liste_5)"
   ]
  },
  {
   "cell_type": "markdown",
   "metadata": {},
   "source": [
    "#### <div id=\"Les tuples\">3. 4. 2. Les tuples</div>\n",
    "\n",
    "Une fois que l'on comprend le fonctionnement des listes et notamment la façon d'**accéder** aux **valeurs** qu'elles contiennent, le principe est similaire pour les autres structures de données. C'est notamment le cas pour les **tuples**.\n",
    "\n",
    "Pour comprendre la différence entre un **tuple** et une **liste**, revenons à une comparaison entre deux types de données que nous connaissons déjà : les **listes** et les **chaînes de caractères**.\n",
    "\n",
    "Les **listes** ont la particularité d'être des objets **mutables**. Un objet **mutable** est simplement un objet qui peut être modifié. Nous avons vu plus tôt que nous pouvions modifier le contenu d'un élément d'une liste en y accédant via son **index** et en utilisant l'**opérateur d'affectation** (`=`) pour modifier sa valeur. Mais on peut également retirer (avec l'instruction `del` notamment) ou ajouter (nous évoquerons ce cas plus tard) des éléments à une liste.\n",
    "\n",
    "Une **chaîne de caractère** a la particularité d'être **immutable**. Je vous ai caché certaines choses un peu plus tôt car il se trouve que l'on peut accéder à chaque lettre d'une **chaîne de caractère** en utilisant le même système d'**index** que pour les **listes**. De la même façon, les **tuples** sont **immutables**.\n",
    "\n",
    "Cela ne veut pas dire que l'on ne peut pas réaffecter leur **valeur**. On peut le faire, de la même façon qu'on le fait pour les **chaînes de caractères** : on écrase totalement l'ancien contenu de la **variable** et on lui réaffecte un nouveau contenu.\n",
    "\n",
    "Cependant, on peut essayer de modifier les lettres une à une en les réaffectant, Python renverra une erreur car le type `str` est **immutable**."
   ]
  },
  {
   "cell_type": "code",
   "execution_count": 52,
   "metadata": {},
   "outputs": [
    {
     "name": "stdout",
     "output_type": "stream",
     "text": [
      "t\n"
     ]
    }
   ],
   "source": [
    "mot = \"tigre\"\n",
    "print(mot[0])"
   ]
  },
  {
   "cell_type": "code",
   "execution_count": 53,
   "metadata": {},
   "outputs": [
    {
     "ename": "TypeError",
     "evalue": "'str' object does not support item assignment",
     "output_type": "error",
     "traceback": [
      "\u001b[1;31m---------------------------------------------------------------------------\u001b[0m",
      "\u001b[1;31mTypeError\u001b[0m                                 Traceback (most recent call last)",
      "\u001b[1;32m<ipython-input-53-d3882de6fa72>\u001b[0m in \u001b[0;36m<module>\u001b[1;34m\u001b[0m\n\u001b[1;32m----> 1\u001b[1;33m \u001b[0mmot\u001b[0m\u001b[1;33m[\u001b[0m\u001b[1;36m0\u001b[0m\u001b[1;33m]\u001b[0m \u001b[1;33m=\u001b[0m \u001b[1;34m\"b\"\u001b[0m\u001b[1;33m\u001b[0m\u001b[1;33m\u001b[0m\u001b[0m\n\u001b[0m",
      "\u001b[1;31mTypeError\u001b[0m: 'str' object does not support item assignment"
     ]
    }
   ],
   "source": [
    "mot[0] = \"b\""
   ]
  },
  {
   "cell_type": "markdown",
   "metadata": {},
   "source": [
    "<div class=\"alert alert-success\" role=\"alert\"><strong>Sixième exercice :</strong> Utiliser la variable <code>mot</code> et remplacer la première lettre de sa valeur pour écrire le mot <code>bigre</code>.</div>"
   ]
  },
  {
   "cell_type": "markdown",
   "metadata": {},
   "source": [
    "<div class=\"alert alert-danger\" role=\"alert\"><strong>Combiner le découpage par index et l'opérateur de concaténation :</strong>\n",
    "<br>\n",
    "<br>\n",
    "Commençons par découper le contenu de la variable <code>mot</code> pour exclure la première lettre.\n",
    "<pre>\n",
    "<code class=\"python\">mot_2 = mot[1:]</code>\n",
    "</pre>\n",
    "<br>\n",
    "Maintenant, utilisons l'<strong>opérateur de concaténation</strong> pour reformer le mot <code>bigre</code>.\n",
    "<pre>\n",
    "<code class=\"python\">mot_2 = \"b\" + mot[1:]</code>\n",
    "</pre>\n",
    "</div>"
   ]
  },
  {
   "cell_type": "markdown",
   "metadata": {},
   "source": [
    "Les **tuples** ressemblent de très près aux **listes**. Pour construire un **tuple**, on utilise des parenthèses (`()`) et non plus des crochets (`[]`)."
   ]
  },
  {
   "cell_type": "code",
   "execution_count": 58,
   "metadata": {
    "scrolled": true
   },
   "outputs": [
    {
     "name": "stdout",
     "output_type": "stream",
     "text": [
      "(1, 2, 3)\n"
     ]
    }
   ],
   "source": [
    "tuple_1 = (1, 2, 3)\n",
    "print(tuple_1)"
   ]
  },
  {
   "cell_type": "markdown",
   "metadata": {},
   "source": [
    "Vérifions leur propriété d'**immutabilité**."
   ]
  },
  {
   "cell_type": "code",
   "execution_count": 84,
   "metadata": {},
   "outputs": [
    {
     "ename": "TypeError",
     "evalue": "'tuple' object does not support item assignment",
     "output_type": "error",
     "traceback": [
      "\u001b[1;31m---------------------------------------------------------------------------\u001b[0m",
      "\u001b[1;31mTypeError\u001b[0m                                 Traceback (most recent call last)",
      "\u001b[1;32m<ipython-input-84-b72e5a26927e>\u001b[0m in \u001b[0;36m<module>\u001b[1;34m\u001b[0m\n\u001b[1;32m----> 1\u001b[1;33m \u001b[0mtuple_1\u001b[0m\u001b[1;33m[\u001b[0m\u001b[1;36m0\u001b[0m\u001b[1;33m]\u001b[0m \u001b[1;33m=\u001b[0m \u001b[1;36m10\u001b[0m\u001b[1;33m\u001b[0m\u001b[1;33m\u001b[0m\u001b[0m\n\u001b[0m",
      "\u001b[1;31mTypeError\u001b[0m: 'tuple' object does not support item assignment"
     ]
    }
   ],
   "source": [
    "tuple_1[0] = 10"
   ]
  },
  {
   "cell_type": "markdown",
   "metadata": {},
   "source": [
    "Si on ne peut pas modifier un élément d'un **tuple** avec la méthode d'accès via l'**index** de l'élément, on peut tout à fait réaffecter un nouveau contenu à la variable qui accueille notre tuple."
   ]
  },
  {
   "cell_type": "code",
   "execution_count": 85,
   "metadata": {},
   "outputs": [
    {
     "name": "stdout",
     "output_type": "stream",
     "text": [
      "(4, 5, 6)\n"
     ]
    }
   ],
   "source": [
    "tuple_1 = (4, 5, 6)\n",
    "print(tuple_1)"
   ]
  },
  {
   "cell_type": "markdown",
   "metadata": {},
   "source": [
    "Contrairement aux **listes** qui peuvent contenir un seul élément, il faut préciser que l'on souhaite créer un **tuple** avec un seul élément sinon Python l'interprétera comme une **chaîne de caractère** ou une **donnée numérique** selon la valeur que l'on entre."
   ]
  },
  {
   "cell_type": "code",
   "execution_count": 59,
   "metadata": {},
   "outputs": [
    {
     "name": "stdout",
     "output_type": "stream",
     "text": [
      "<class 'tuple'>\n"
     ]
    }
   ],
   "source": [
    "tuple_2 = (\"un\",)\n",
    "print(type(tuple_2))"
   ]
  },
  {
   "cell_type": "code",
   "execution_count": 60,
   "metadata": {
    "scrolled": true
   },
   "outputs": [
    {
     "name": "stdout",
     "output_type": "stream",
     "text": [
      "<class 'str'>\n"
     ]
    }
   ],
   "source": [
    "pas_un_tuple = (\"un\")\n",
    "print(type(pas_un_tuple))"
   ]
  },
  {
   "cell_type": "markdown",
   "metadata": {},
   "source": [
    "Comme les **listes** et les **tuples** sont assez similaires, on peut facilement les convertir dans un sens ou dans l'autre, un peu comme nous avons procédé plus tôt avec les `str` et les `int`.\n",
    "\n",
    "Voyons cela, essayons tout d'abord de convertir notre `tuple_1` en liste."
   ]
  },
  {
   "cell_type": "code",
   "execution_count": 66,
   "metadata": {},
   "outputs": [
    {
     "name": "stdout",
     "output_type": "stream",
     "text": [
      "[1, 2, 3]\n",
      "<class 'list'>\n"
     ]
    }
   ],
   "source": [
    "liste_1 = list(tuple_1)\n",
    "print(liste_1)\n",
    "print(type(liste_1))"
   ]
  },
  {
   "cell_type": "markdown",
   "metadata": {},
   "source": [
    "Essayons maintenant dans l'autre sens."
   ]
  },
  {
   "cell_type": "code",
   "execution_count": 68,
   "metadata": {},
   "outputs": [
    {
     "name": "stdout",
     "output_type": "stream",
     "text": [
      "(1, 2, 3)\n",
      "<class 'tuple'>\n"
     ]
    }
   ],
   "source": [
    "tuple_1 = tuple(liste_1)\n",
    "print(tuple_1)\n",
    "print(type(tuple_1))"
   ]
  },
  {
   "cell_type": "markdown",
   "metadata": {},
   "source": [
    "#### <div id=\"Les dictionnaires\">3. 4. 3. Les dictionnaires</div>"
   ]
  },
  {
   "cell_type": "markdown",
   "metadata": {},
   "source": [
    "Un **dictionnaire** est une structure de données similaire à une liste : il peut stocker des valeurs de n'importe quel type (**chaînes de caractères**, **données numériques** et autres comme nous le verrons plus loin).\n",
    "\n",
    "Contrairement aux **listes**, les **dictionnaires** ne se parcourent pas par **index**, mais par **clé**. A chaque **clé**, les **dictionnaires** associent une **valeur** : on parle en cela de **paire clé-valeur**.\n",
    "\n",
    "Contrairement aux **listes**, les **dictionnaires** sont délimités par deux accolades (`{}`).\n",
    "\n",
    "Voyons un exemple pour clarifier cela."
   ]
  },
  {
   "cell_type": "code",
   "execution_count": 87,
   "metadata": {},
   "outputs": [],
   "source": [
    "dico1 = {\"nom\" : \"Doe\", \"prenom\": \"John\", \"age\": 30, \"date_naissance\": \"01/01/1930\", \"telephone\": \"01.02.03.04.05\"}"
   ]
  },
  {
   "cell_type": "markdown",
   "metadata": {},
   "source": [
    "Pour accéder aux **valeurs** contenues dans le **dictionnaire**, on utilise un principe similaire à celui des **listes**, à la différence du fait que l'on précise la **clé** correspondante à la **valeur** que l'on souhaite récupérer (et non plus son **index**). Ceci est lié au fait que les **dictionnaires**, contrairement aux **listes** sont des structures de données **non-ordonnées**."
   ]
  },
  {
   "cell_type": "code",
   "execution_count": 88,
   "metadata": {},
   "outputs": [
    {
     "data": {
      "text/plain": [
       "'Doe'"
      ]
     },
     "execution_count": 88,
     "metadata": {},
     "output_type": "execute_result"
    }
   ],
   "source": [
    "dico1[\"nom\"]"
   ]
  },
  {
   "cell_type": "markdown",
   "metadata": {},
   "source": [
    "<div class=\"alert alert-success\" role=\"alert\"><strong>Septième exercice :</strong> Construire un dictionnaire associant le nom et la date de naissances de personnes.</div>"
   ]
  },
  {
   "cell_type": "markdown",
   "metadata": {},
   "source": [
    "<div class=\"alert alert-danger\"><strong>Construire un dictionnaire en associant des clés à des valeurs :</strong>\n",
    "<br>\n",
    "<br>\n",
    "Comme nous l'avons vu plus tôt, il est très simple de construire un dictionnaire. Il suffit de définir une <strong>clé</strong> et d'y associer une <strong>valeur</strong>.\n",
    "    \n",
    "<pre>\n",
    "<code class=\"python\">date_naissance = {\n",
    "    \"Voltaire\": \"21/11/1994\",\n",
    "    \"Diderot\": \"05/10/1713\",\n",
    "    \"Rousseau\": \"28/06/1712\"\n",
    "}</code>\n",
    "</pre>\n",
    "</div>"
   ]
  },
  {
   "cell_type": "markdown",
   "metadata": {},
   "source": [
    "Comme pour les **listes**, les **dictionnaires** sont des objets **mutables**. On peut utiliser leur **clé** pour accéder à leur **valeur** associée mais aussi, les utiliser pour réaffecter de nouvelles valeurs.\n",
    "\n",
    "Voyons cela."
   ]
  },
  {
   "cell_type": "code",
   "execution_count": 90,
   "metadata": {},
   "outputs": [
    {
     "name": "stdout",
     "output_type": "stream",
     "text": [
      "{'nom': 'Doe', 'prenom': 'Jack', 'age': 30, 'date_naissance': '01/01/1930', 'telephone': '01.02.03.04.05'}\n"
     ]
    }
   ],
   "source": [
    "dico1[\"prenom\"] = \"Jack\"\n",
    "print(dico1)"
   ]
  },
  {
   "cell_type": "markdown",
   "metadata": {},
   "source": [
    "Les **dictionnaires** disposent de **fonctions particulières** que l'on appelle **méthodes** (nous parlerons un peu plus tard de la différence entre les **méthodes** et les **fonctions**). Elles permettent de synthétiser les informations que contiennent un **dictionnaire**. Parmi ces **méthodes**, on compte en particulier :\n",
    "* `.keys()` : permet d'obtenir toutes les **clés** du dictionnaire sur lequel cette méthode est appelée\n",
    "* `.values()` : permet d'obtenir toutes les **valeurs** du dictionnaire sur lequel cette méthode est appelée\n",
    "* `.items()` : permet d'obtenir toutes les **paires clé-valeur** du dictionnaire sur lequel cette méthode est appelée\n",
    "\n",
    "Voyons cela en détail.\n",
    "\n",
    "Commençons par afficher les **clés** de notre `dico1` créé un peu plus tôt."
   ]
  },
  {
   "cell_type": "code",
   "execution_count": 93,
   "metadata": {},
   "outputs": [
    {
     "name": "stdout",
     "output_type": "stream",
     "text": [
      "dict_keys(['nom', 'prenom', 'age', 'date_naissance', 'telephone'])\n"
     ]
    }
   ],
   "source": [
    "cles = dico1.keys()\n",
    "print(cles)"
   ]
  },
  {
   "cell_type": "markdown",
   "metadata": {},
   "source": [
    "Maintenant, affichons toutes les **valeurs**."
   ]
  },
  {
   "cell_type": "code",
   "execution_count": 94,
   "metadata": {},
   "outputs": [
    {
     "name": "stdout",
     "output_type": "stream",
     "text": [
      "dict_values(['Doe', 'Jack', 30, '01/01/1930', '01.02.03.04.05'])\n"
     ]
    }
   ],
   "source": [
    "valeurs = dico1.values()\n",
    "print(valeurs)"
   ]
  },
  {
   "cell_type": "markdown",
   "metadata": {},
   "source": [
    "Enfin, affichons les **paires clé-valeur**."
   ]
  },
  {
   "cell_type": "code",
   "execution_count": 95,
   "metadata": {},
   "outputs": [
    {
     "name": "stdout",
     "output_type": "stream",
     "text": [
      "dict_items([('nom', 'Doe'), ('prenom', 'Jack'), ('age', 30), ('date_naissance', '01/01/1930'), ('telephone', '01.02.03.04.05')])\n"
     ]
    }
   ],
   "source": [
    "paires = dico1.items()\n",
    "print(paires)"
   ]
  },
  {
   "cell_type": "markdown",
   "metadata": {},
   "source": [
    "#### <div id=\"List-ception... et la fonction len()\">3. 4. 4. List-ception... et la fonction <code>len()</code></div>\n",
    "\n",
    "Nous avons vu, et cela vaut pour toutes les **structures de données** (tuples et dictionnaires compris donc), qu'une liste peut contenir des **valeurs** de différents types. En réalité, les listes peuvent contenir elles-mêmes d'autres **structures de données** : rien ne nous empêche de construire une liste qui, dans chaque emplacement, contiendra une autre **liste**. A son tour, cette liste inclue dans la liste pourra à nouveau accueillir une nouvelle liste ou un dictionnaire, ou un tuple, ou plus simplement, une chaîne de caractère ou un nombre.\n",
    "\n",
    "Voyons à présent une fonction bien utile qui nous permettra de nous y retrouver dans les possibles imbrications infinies de listes, tuples et dictionnaires...\n",
    "\n",
    "La fonction `len()` prend en **paramètre** une **variable** de n'importe quelle type (chaîne de caractère, nombre, liste, dictionnaire, etc.). Elle renvoie, en sortie, la longueur du type de données mesuré. Cette information variera en fonction du type de données mesuré :\n",
    "* Si c'est une chaîne de caractère, `len()` renvoie le nombre de caractères de la chaîne\n",
    "* Si c'est une liste, un tuple ou un dictionnaire, `len()` renvoie le nombre d'emplacements de la structure de données\n",
    "\n",
    "Voyons cela concrètement."
   ]
  },
  {
   "cell_type": "code",
   "execution_count": 9,
   "metadata": {},
   "outputs": [
    {
     "name": "stdout",
     "output_type": "stream",
     "text": [
      "[2, 3, 'abc', [10, 11, 12], {'nom': 'John Doe', 'age': 34, 'tel': '01.02.03.04.05', 'mail': 'john.doe@mail.com'}]\n"
     ]
    }
   ],
   "source": [
    "liste_a = [2, 3, \"abc\", list((10, 11, 12)), {\"nom\": \"John Doe\", \"age\": 34, \"tel\": \"01.02.03.04.05\", \"mail\": \"john.doe@mail.com\"}]\n",
    "print(liste_a)"
   ]
  },
  {
   "cell_type": "code",
   "execution_count": 60,
   "metadata": {},
   "outputs": [
    {
     "data": {
      "text/plain": [
       "5"
      ]
     },
     "execution_count": 60,
     "metadata": {},
     "output_type": "execute_result"
    }
   ],
   "source": [
    "len(liste_a)"
   ]
  },
  {
   "cell_type": "markdown",
   "metadata": {},
   "source": [
    "La liste `liste_a` contient bel et bien 5 éléments différents. Résumons ces éléments sous forme de tableau pour mieux comprendre leur imbrication.\n",
    "\n",
    "|Index|Valeur|Type de données|\n",
    "|---|---|---|\n",
    "|0|`2`|`int`|\n",
    "|1|`3`|`int`|\n",
    "|2|`abc`|`str`|\n",
    "|3|`[10, 11, 12]`|`list`|\n",
    "|4|`{\"nom\": \"John Doe\", \"age\": 34, \"tel\": \"01.02.03.04.05\", \"mail\": \"john.doe@mail.com\"}`|`dict`|"
   ]
  },
  {
   "cell_type": "markdown",
   "metadata": {},
   "source": [
    "Tentons d'accéder à certains de ses éléments et de vérifier leur type."
   ]
  },
  {
   "cell_type": "code",
   "execution_count": 11,
   "metadata": {
    "scrolled": true
   },
   "outputs": [
    {
     "data": {
      "text/plain": [
       "list"
      ]
     },
     "execution_count": 11,
     "metadata": {},
     "output_type": "execute_result"
    }
   ],
   "source": [
    "type(liste_a[3])"
   ]
  },
  {
   "cell_type": "code",
   "execution_count": 12,
   "metadata": {},
   "outputs": [
    {
     "data": {
      "text/plain": [
       "dict"
      ]
     },
     "execution_count": 12,
     "metadata": {},
     "output_type": "execute_result"
    }
   ],
   "source": [
    "type(liste_a[-1])"
   ]
  },
  {
   "cell_type": "markdown",
   "metadata": {},
   "source": [
    "De la même façon, on peut mesurer la taille d'un dictionnaire : `len()` renverra alors le nombre de paires **clé-valeur** qui existe dans le dictionnaire."
   ]
  },
  {
   "cell_type": "code",
   "execution_count": 10,
   "metadata": {},
   "outputs": [
    {
     "data": {
      "text/plain": [
       "4"
      ]
     },
     "execution_count": 10,
     "metadata": {},
     "output_type": "execute_result"
    }
   ],
   "source": [
    "len(liste_a[-1])"
   ]
  },
  {
   "cell_type": "markdown",
   "metadata": {},
   "source": [
    "<div class=\"alert alert-success\" role=\"alert\"><strong>Quatrième exercice :</strong> A partir de la liste <code>liste_a</code>, affecter à une nouvelle liste, nommée <code>liste_b</code>, les valeurs suivantes de la liste <code>liste_a</code> :\n",
    "<ul>\n",
    "    <li><code>abc</code></li>\n",
    "    <li><code>11</code></li>\n",
    "    <li><code>John Doe</code></li>\n",
    "    <li><code>john.doe@mail.com</code></li>\n",
    "</ul>\n",
    "</div>"
   ]
  },
  {
   "cell_type": "markdown",
   "metadata": {},
   "source": [
    "<div class=\"alert alert-danger\" role=\"alert\"><strong>Utiliser les index de structures de données pour extraire leur valeur :</strong>\n",
    "<br>\n",
    "<br>\n",
    "Il y a de multiples opérations à réaliser pour parvenir à notre résultat. Comme d'habitude, le plus simple est de <strong>décomposer</strong> chaque étape intermédiaire en utilisant des <strong>variables</strong> pour stocker les valeurs intermédiaires de chacune de ces étapes.\n",
    "<br>\n",
    "Commençons par accéder à chaque élément que l'on stockera dans des variables intermédiaires. Une pratique commune parmis les développeurs Python est de nommer les <code>variables temporaires</code> avec des noms du type <code>_</code>.\n",
    "<br>\n",
    "<br>\n",
    "Récupérons la valeur <code>abc</code> de la liste <code>liste_a</code> :\n",
    "<pre>\n",
    "<code class=\"python\">_1 = liste_a[2]</code>\n",
    "</pre>\n",
    "<br>\n",
    "Plutôt facile, non ? Passons maintenant à la valeur <code>11</code>. Ici, c'est plus délicat car il faut accéder à l'index de la liste <code>liste_a</code>, puis accéder à l'index de liste qui se trouve à cet emplacement de <code>liste_a</code>. Pour cela, on peut utiliser deux <strong>index</strong> à la suite : le premier récupérera la position de la liste incluse dans <code>liste_a</code>, le second accédera à l'indice auquel se trouve la valeur <code>11</code> dans cette <strong>sous-liste</strong>.\n",
    "<br>\n",
    "<pre>\n",
    "<code class=\"python\">_2 = liste_a[3][1]</code>\n",
    "</pre>\n",
    "<br>\n",
    "A présent, il s'agira d'utiliser le même <strong>chaînage d'index</strong> (c'est-à-dire les appeler les uns à la suite des autres) pour accéder à valeur dans le dictionnaire inclu dans la liste <code>liste_a</code>. Comme nous travaillons avec un dictionnaire inclu dans une liste, le deuxième index ne sera pas numérique mais renverra à la <strong>clé du dictionnaire</strong>.\n",
    "<pre>\n",
    "<code class=\"python\">_3 = liste_a[4][\"nom\"]</code>\n",
    "</pre>\n",
    "<br>\n",
    "Même principe pour récupérer l'adresse mail, <code>john.doe@mail.com</code>. Essayons de faire cela différemment cette fois, tout de même. Comme le dictionnaire dans la liste <code>liste_a</code> est le dernier élément, on peut utiliser l'<strong>index inverse</strong> et appeler directement le dernier élément de la liste <code>liste_a</code>.\n",
    "<pre>\n",
    "<code class=\"python\">_4 = liste_a[-1][\"mail\"]</code>\n",
    "</pre>\n",
    "<br>\n",
    "Maintenant que l'on a chaque valeur stockée dans une <code>variable</code>, on peut les utiliser pour construire notre liste <code>liste_b</code>.\n",
    "<pre>\n",
    "<code class=\"python\">liste_b = [_1, _2, _3, _4]</code\n",
    "</pre>\n",
    "</div>"
   ]
  },
  {
   "cell_type": "markdown",
   "metadata": {},
   "source": [
    "Nous avons ici pris l'exemple de listes et de dictionnaires imbriqués dans une liste, mais il est également tout à fait possible d'imbriquer des listes dans des dictionnaires ou des dictionnaires dans des dictionnaires, des tuples dans des dictionnaires ou des listes dans des tuples...\n",
    "\n",
    "Voyons un exemple avec un dictionnaire dans un dictionnaire."
   ]
  },
  {
   "cell_type": "code",
   "execution_count": 28,
   "metadata": {},
   "outputs": [
    {
     "name": "stdout",
     "output_type": "stream",
     "text": [
      "{'nom': 'John Doe', 'tel': '01.02.03.04.05', 'famille': {'mere': 'Jannie Doe', 'pere': 'Jack Doe', 'frere': 'James Doe', 'soeur': 'Jane Doe'}}\n"
     ]
    }
   ],
   "source": [
    "carnet = {\n",
    "    \"nom\": \"John Doe\",\n",
    "    \"tel\": \"01.02.03.04.05\",\n",
    "    \"famille\": {\n",
    "        \"mere\": \"Jannie Doe\",\n",
    "        \"pere\": \"Jack Doe\",\n",
    "        \"frere\": \"James Doe\",\n",
    "        \"soeur\": \"Jane Doe\"\n",
    "    }\n",
    "}\n",
    "\n",
    "print(carnet)"
   ]
  },
  {
   "cell_type": "markdown",
   "metadata": {},
   "source": [
    "#### <div id=\"Approfondissement sur les objets mutables\">3. 4. 5. Approfondissement sur les objets mutables</div>\n",
    "\n",
    "Maintenant que nous sommes un peu plus à l'aise avec les structures de données, essayons de comprendre plus en détail le fonctionnement des **listes** et des **tuples** pour éviter de futurs pièges.\n",
    "\n",
    "Voyons cela d'emblée avec quelques exemples."
   ]
  },
  {
   "cell_type": "code",
   "execution_count": 69,
   "metadata": {},
   "outputs": [],
   "source": [
    "liste_a = [\"a\", \"b\", \"c\", \"d\"]\n",
    "liste_b = liste_a"
   ]
  },
  {
   "cell_type": "markdown",
   "metadata": {},
   "source": [
    "Ici, nous avons simplement créé une première liste `liste_a` qui contient 4 valeurs différentes.\n",
    "\n",
    "Ensuite, nous affectons la valeur de la **variable** `liste_a` à une nouvelle **variable** `liste_b`. De prime abord, on pourrait penser qu'il s'agit de deux objets différents.\n",
    "\n",
    "Voyons ce qu'il se passe si nous tentons de faire quelques modifications sur notre `liste_a`."
   ]
  },
  {
   "cell_type": "code",
   "execution_count": 71,
   "metadata": {},
   "outputs": [
    {
     "name": "stdout",
     "output_type": "stream",
     "text": [
      "['z', 'b', 'c', 'd']\n"
     ]
    }
   ],
   "source": [
    "liste_a[0] = \"z\"\n",
    "print(liste_a)"
   ]
  },
  {
   "cell_type": "markdown",
   "metadata": {},
   "source": [
    "Jusque là, tout va bien : nous avons réaffecté au premier élément de la liste `liste_a`, une nouvelle valeur `z`.\n",
    "\n",
    "Voyons maintenant ce qu'est devenu notre liste `liste_b`."
   ]
  },
  {
   "cell_type": "code",
   "execution_count": 72,
   "metadata": {},
   "outputs": [
    {
     "name": "stdout",
     "output_type": "stream",
     "text": [
      "['z', 'b', 'c', 'd']\n"
     ]
    }
   ],
   "source": [
    "print(liste_b)"
   ]
  },
  {
   "cell_type": "markdown",
   "metadata": {},
   "source": [
    "Mauvaise surprise... Même si nous n'avons pas modifié la **variable** `liste_b`, celle-ci s'est modifiée... toute seule ? Pas exactement.\n",
    "\n",
    "En réalité, lorsque l'on a utilisé l'**opérateur d'affectation** pour affecter la **valeur** de `liste_a` à la **variable** `liste_b`, Python n'a pas créé un nouvel objet, mais pointe vers une **référence** (qui se trouve être la même). Lorsque cette **référence** est modifiée, les deux **variables** qui pointent vers cette même **référence** renvoient les mêmes valeurs.\n",
    "\n",
    "C'est pourquoi, parler de **variables** qui \"stockent\" des **valeurs** est un raccourci. Dans le cas des objest mutables (comme les listes ou les dictionnaires), il faut davantage se représenter les **variables** comme des étiquettes que l'on pose sur des objets. Si un objet est similaire à un autre, on lui posera la même étiquette. Si on demande ce qu'il y a écrit sur l'étiquette, la réponse sera la même (bien qu'il y ait deux étiquettes différentes). "
   ]
  },
  {
   "cell_type": "markdown",
   "metadata": {},
   "source": [
    "#### <div id=\"En résumé2\">3. 4. 6. En résumé</div>"
   ]
  },
  {
   "cell_type": "markdown",
   "metadata": {},
   "source": [
    "Comme un schéma vaut souvent mieux qu'un long discours (trop tard pour le long discours...), voyons ici en résumé les différents points sur les structures de données que nous avons abordé.\n",
    "\n",
    "<img src=\"data:image/png;base64,iVBORw0KGgoAAAANSUhEUgAABPgAAADQCAYAAACa99/SAAAAAXNSR0IArs4c6QAAAARnQU1BAACxjwv8YQUAAAAJcEhZcwAAEnQAABJ0Ad5mH3gAAEZVSURBVHhe7Z15tB1Vne9tm3a56KV0L3p4SjcJbdt0A2o3Dov3z5MQFWQKJMHWXiQQkiABmWPIQBKZMgCZSW4GyIDM4UEGJjEKCYkSCbRPmlZmFgIODS0q4NIG9su3bv3q7lPZ59wz3HNODZ/PWp9176naZ1ftqjr7nvreXVXvcQAAAAAAAAAAAJBbCPgAAAAAAAAAAAByDAEfAAAAAAAAAABAjiHgAwAAAAAAAAAAyDEEfAAAAAAAAAAAADmGgA8AAAAAAAAAACDHEPABAAAAAAAAAADkGAI+AAAAAAAAAACAHEPABwAAAAAAAAAAkGMI+AAAAAAAAAAAAHIMAR8AAAAAAAAAAECOIeADAAAAAAAAAADIMQR8AAAAAAAAAAAAOYaADwAAAAAAAAAAIMcQ8AEAAAAAAAAAAOQYAj4AAAAAAAAAAIAcQ8AHAAAAAAAAAACQYwj4AAAAAAAAAAAAcgwBHwAAAAAAAAAAQI4h4AMAAAAAAAAAAMgxBHwAAAAAAAAAAAA5hoAPAAAAAAAAAAAgxxDwAQAAAAAAAAAA5BgCPgAAAAAAAAAAgBxDwAcAAAAAAAAAAJBjCPgAAAAAAAAAAAByDAEfAAAAAAAAAABAjiHgAwAAAAAAAAAAyDEEfAAAAAAAAAAAADmGgA8Kwx/+8Af33HPPuUcffTR6vX37dkRMuWPHDsyoQv3X888/H/VnUMlPf/pT9+///u/Rtgod24hlN92nYHYUjzzyiHv66afdG2+8Eb2GPn7+85+7H/3oR+773/9+8NhGLLuhfgWz486dO92Pf/xj99///d9xr9Y9CPggtzz++ONuwYIFbuTIke4jH/mIe8973oOIWBjVr40YMcLNnz8/OvEpEy+++KJbtWqVGz16tDvkkEPcH//xHwe3ESJiHt1vv/3cF7/4RXfppZdGJ4dl4vXXX3e33HKLmzBhgvvUpz7l9t577+A2QkTMo/vuu687/PDD3aRJk9y9994b93ydg4APcse8efPcoYceGvxAISIW1X/+5392V111VdwTFpM1a9a4I444Ith+RMSiOnjwYDdlyhT38ssvx71h8di0aVP0T6tQ+xERi+qf/dmfuTPOOCPuCdsPAR/kgt/+9rdu6tSpwQ/N0Ud93l389XPcdYuucHd9c5Hbevsyt3PDcrdz44rm1fsRMXM+XHC3rl8W9WPqz9SvHX3UF4L93uTJk6NREEVh4cKFbv/999+jnYcd9r/dGRPOczMuXeSuWniTW7hsk1uy4j63uM0uWfEtxJyo4xXz4KKeu928xevd5XNWugsmznAnnBAOu0477TT35JNPxr1j/rn55pujkXrpdh5wwGA34czT3PyFM9zNt81z995/jXvgoR63dcfuv4WIJffB7ZgXb14/z31na4/bfO8St+7GK93suVPc6FO+skefJ4899li3devWuHdsDwR8kHlWrFjh/vIv/3KPD8i6a2a7n9x/rfvV99YgIhbWJ++/zl2/dM4efaAuAejp6Yl7ynyyefNm9/GPf3yPtk3/xgJ3zarvuJ7rf4SIWFzX/sDNnX+DO+XU8Xv2g9Onxz1lPnnsscfckUceuUe7Zs2ZHJ0Mv/jzVYiIhfW5l651m+9Z4iZd9LU9+sFx48a5V199Ne4tBxYCPsgs//Vf/xXdX8//MEwYf6p7cP2y4EkwImLR1QjlM08fU9EvnnjiidENyvPGeeedV9GOYcOGu6sX3hw+CUZELLhLV33XnXfBtIp+8dOf/nT0cI68odvp+O2Qq9fNcS+8HD4RRkQssj/68Sp39YLpFX3ihz70IXfHHXfEvebAQcAHmUQ3HP67v/u75APwxSM/5+67cXHwhBcRsWx+66Yl7pgv9o2MGDRokNu2bVvcg2Yb3WNqyJAhybrrC86sK1cHT3gREcumLr0+eVTfP3L+6I/+yF1//fVxD5p9Tj311GTd5YLFM90Lr4RPehERy+QPn1jlpkw7t6KPvOyyy+Lec2Ag4IPMoUu2/IP+8osnuld3rA2e5CIiltXXdqxxs2ZMqugvN2zYEPek2eSJJ55w//AP/5Cs75jTvuqWrd4RPMlFRCyzl1yxtKJ/1xPVs8zvfve7iktyjx92THQvsdBJLiJimb39zoUV/fvZZ58d96StQ8AHmeLuu++uONhv6JkbPLFFRMReb1p+ZUW/qScVZhHdNN5fz8nT5gRPahERsdcFSzdU9JtZDfneeecdN3To0GQ9z7/gDPfsi+ETW0REXOV2Prayon//2te+FveorUHAB5lh165dbu+9904O8s3XLwqezCIiYqV337A46Tvf9773uYcffjjuWbPBr3/9a/eJT3wiWcdvXH5N8GQWERErvWblt5O+U2bxct0RI/qeCDzjGxcGT2YREbHSnzx7bUX/PmPGjLhXbR4CPsgEb731ljv44IOTg3vTuoXBk1hERAx79zcXJX3ogQce6H7zm9/EPWz3GT58eLJuMy5dFDyJRUTEsH7Ip3vyZenBG5MnT07WbfLUc4InsYiIGPbJ5ypDvhtvvDHuXZuDgA8ywZgxfTcTXrNkVvDkFRERa3v90jlJXzpq1Ki4h+0uc+fOTdbpgonTgyeviIhYW/9yXT1dNwts3LgxWadTTv1K8OQVERFr++iP+i7X/eAHP+heeOGFuJdtHAI+6Drr169PDuipE88OnrQiImJ9Tr+o7+lcN998c9zTdgc9VMPW5YQTRwZPWhERsT79B29Mnz497mm7w7vvvus++tGPRuvyoQ/9L/fY4+ETV0RE7N/N9yxJ+veTTjop7mkbh4APus4//dM/RQfyIQcf5F58MHzCioiI9fny1jXuM5/+VNSv6uSrm4wcOTL5srJ4xX3BE1ZERKzfk0f1XfWihxd1C90rytbjptvmBU9YERGxfq+Y3XfLgzvvvDPubRuDgA+6yuLFfTeGv3XV1cGTVUREbMz/u3p+0rd266mL3/3ud5N1mDTliuCJKiIiNuaSFd9K+tbTTjst7nE7yy9+8Qv3J3/yJ9E6jBs/OniiioiIjfnUC6uS/v2www6Le9zGIOCDrmIHsAydpCIiYnP6/Ws3OPHEE5Pl96zdGTxRRUTExj3vgmlJ//rMM8/EvW7n0OXBtvzvPNgTPFFFRMTGvXbN7KR/3bBhQ9zr1g8BH3QN/957d6xeEDxBRUTE5tTTyK2P7fS9+HTZmC178rTZwRNURERszqWrvpP0sVOnTo173s5hyx5/+inBE1RERGzOF17pG8V33HHHxb1u/RDwQdcYMWJEcvCGTk4REbE1rY89/vjj4563M1xyySXJspddtzV4gpp3Dz98SNS+ntU7gvMREdvpqaeeHvVBgwcPjnvezqD7Qln/vmHzouAJKiIiNu9V8/tGSb/00ktx71sfBHzQFX7/+9+7vfbaKzpoZ8+cFDwxbcZLp10Y1XlbP/fzGzrks3WVQ0TMs1ddOiX5gvDGG2/EPXD7+eQnPxkt88tfPjl4Ytqoi3ruStpRj9es2hKsZ8BcvSNajkK+4HxExDY7d/4NSZ+3Y8eOuPdtP2PG9D3kI3RiWq/nXzghqcd30KD93dULprsfPhF+38rrZkXljjjis8H5rXjjrfOiukeMHBacn1e1rdQutS80HxGz5Y6dK5I+saenJ+5964OAD7rCvffemxy0D9y2NHhi2owW3G27fVlwvnzsrpVRGX2BeOrb1wXLVPO6xVdE7104a3pwPiJillRfaH3tpk2b4h64vbzyyivJMi+5YlnwxLRRL53Vk9TZn4MGDQrWMZDOnXd9tKyvTjgvOB8Rsd0uW7Mz6fcuu+yyuAduP3/7t38bLfOiyWcHT0zr1UKnWoYCKQsGZ14ycY959ajv/3r/U89fu8c81al5ChjT8/Lq937QGxSo3dVCU0TMnl/4wtDos6urHhuBgA+6wsyZM6MDVv5ye/jEtFEV1tkfsND8gbDeEYKIiFnwtR1r3Pvf//6o35oyZUrcA7eXO+64I+nfl6y8P3hiOhAqyNMyunGJrAWO+hmaj4jYCU84ofd2N0cffXTcA7eX5557Lunfb7zl6uBJaT0qaFId+s6enqcRehpBZ8tRQJUu06wWdrVj9B8i4kA6feYFUX/14Q9/OO6B64OAD7qCPV1xxInHBU9Km9FGqowcfnxw/kBoIwQ1CjA0HxExa375pOFRv3XMMcfEPXB7sfvvvfe973U96/5f8KS0Zbt8iezJo3ovUdOlw6H5iIid8IKJM6K+aL/99ot74PaiJzpqebKV4G3jXYujOsaOOzk4X6PrbIRfsyP1QtoluNWWi4iYFb9501VJf/uzn/0s7oX7h4APusLHPvax6GC96PyzgiekzWiXz2qUXWi+OW7MyVG5e25YXDFdl93ahyhdj0JDf57vy1v76lCdVr8ZupxXow0nnnNGUkb/wdT6p8shIrbqxZPOjfqZAw88MO6B28uoUaOi5R151NHBE9KB0C6RVdAWmq/RfcFLdasEgyo7bNjw6Pep06+MykhND43SqzV6UO+3+VLrOG/x+j3KqV57UIeV68ZoRETMr5fP6b3tjOzEfVbnzesNyOSzL+55iWu92n30aoV3Vsa/H96WB3r/mR+6R55CQwV3tn5Sl9oqLLS66jE0qlDBYLpuXSocCjn1fls/Ld+vt9Ylx7ae/qXL1S4VVlv9UY5aN7/9/nrZNM23abYdVb9fV3q7pkdTat00zS8j09te7/GXh4iN+50H+25Ps3379rgX7h8CPugK++67b3Swzr9iWvCEtBktMKv3ARv+/feqBXgW8umPcmi+6rI60gGhr9bNymm51erj0l9EHGgXz+0d4fGBD3wg7oHby9ChvfcMGTV6bPCEdCA8f2JvfxsK3+yBHKHwL3TvPD2Qw8r7gZtvRUBXbfTg7unV3i/9B3/Y+qfdo05ExBqqb7L+4+mnn4574fZx4YW9t6qRoRPSerUwqNZDHxQQqYwfOtkIvHQwWCvAU4jlB239qXXz6672MBCp7/P+fe3s0mPVUe0eg+lQUOWkH5D5pgO1Wm3V+ki/vK2Hv55WR3qZfturrY/018n2SUju+YfYvI893tufyPXr18e9cP8Q8EFXsIP12oWXB09Im7GeB2yE7tOnUE3TFPLZaDxdgqvX/qi6WiMEbZ70R+xpRJ9Nt0DR7uPnh35aB60Tl/4i4kC79prZST/09ttvx71w+7An6E4464LgCelAqNF2Wka1kXGapxAtPc9G5/nBoIV+smLE3tpdyXL8QLDaAzYs3NN7/DBPwaGmJ+sTB4RaVlJu97JUjod2IGIjLuq5O+pP5K5du+JeuH2MHTs2WV7ohLReLXSqdZmvBUd+wGcPwfADJgsCpT/izUam+SPJ9F1b5ULBk4Vefh02Te/zl6n1tjb4YaMfdvnv8S859uuxQND067KATQGjTbORd9KvR8u1+v2QzurXutg0advRytv2sP1hoabep7rtfRaUalk2LdQulfPLIGLj/uTZvv5h1apVcS/cPwR80HH+53/+JzlYz5kwLnhC2qih4C6khXm6jNam2ci7/i7trTZCUKGglqt5octsbZ4FfDZakNF6iNgJv35u3+iDt956K+6J24ct64gjPhc8IR0Ia10ia6PjFMSl51nY5t87z8pXBG6xFhba5bt+eT8ktOAwGoG3dlcyXaYDRxtxw2g9RGzV2VevjfoTuWPHjrgXbh92CwYZOiGtx2qhU1oFRirnh14WJinosml2CakfMIVUeKVy1YInC70s0FIoZ9/h/eWZtn5+AOmPFEy/x0IzPzDzw8n0+ofab231Q0jTyvvzLHD0Qz9p29Ffd9Nfp3QbLGC0bahtZGVDoSkiNu9PnukL+JYuXRr3wv1DwAcdxw/41l0zO3hC2qg2Uk7hWWi+aSPt/CDOH2Wn4K/aKLpqD9iwOv3LdaUCPLsfn79e/qW8ChX9e/ghIg60Ny3vu6dcJwO+c86bHDwhbVW7BLdaQGYj6dJhnQwFgzZKzw/sTAvn/Mt9QyGhLbMiVFy7q+J+fslow93TbT207FAQiYhYj0tW3Jf0MXkJ+KqFTmlDwZ0CNz8YtMCpv7BQ2nL9EXG+FnpZUGWBWbX1DM3X75oWCuCsfn/UotURCtoscLT2+8GogrV0eVu2HyBa/VaH9EO50AhKCyL9YFGqDmuD3z7bT1ovfzmI2Jq6z6l9Vgn4INO0I+CzkK2/UXjVHrChMM4CPKlyfvBWa4Sg1VlN1VstFDT7W29ExGYtWsBnoVvwcta1u6J5CtDS86oFgyobKi9ttJ6NvpPpkNDqraX/fqnw0YJCqXUKBZKIiLXMY8BnoVM6QPK10XbSAjcL8/wwrJ66zHRg5hsaVWiBWbXQyurzl633a1p6NFuofhkK5UwL02wUXX/BaGjZVr9/mXJoO/paPdVUnX7AqN8tFDRD7UHExiTgg9zQjoDPQrb+Lnu1P1p2uWxaP+jz75Gn+/ppmpbjl5d+MOirsv5IwZB+0NdfWUTEZixawBe6RNa0sM0fcWcqENQ8P2yz8v4luL42Ms9G34VCQv8efr4KAjWCr1Zw5wd96eAREbE/8xjw1Qq1TBsV5o+2C4V5FiyFRsylteVaYOZrl6X64ZkFbH445mvzrR0W4ml6umyofml1pANBG2XnB4Jqo6aF2mrbJh0ghkI/Kxuqx9oQUtu91j5LB32h0YGIWL8EfJAb2hHwWchWzwM2VDY031TIp3L+ZbW1RgjaH89ay66l6tT7/YdzICIOlEUL+Cx0U9iWnpe+353ph3B+MGjT0+Wl1RUK8/zRg1YuFCrWZfzQDZm+fx8iYi3zGPDZ9+ZqAZCFRCrnjxSzEXN+yNRIwBcKu0wLvfzRelY+FGpZeT/MUzlN8wNI08r782oFgjbKzp9nbU3Xr3psXf0AsVr9oe1o2shJ1ZeeV68WWlYLRhGxPgn4IDcMdMDX7AM27OEY/sg5TbPRgH6YZ/fNs1F9WqZdwhsqL1Wv5mm5eq3LghUa2mtpT+vV+/3piIgDZaECvvgSXBl6wIaFbf6IPP8+eNIPBm00oEbb+cGf1SP96aHRg/6ovorRervXT8v2A0KtVxQmekFexQM64mmIiPWYt4DPQqdQgKQQzMIhmR5pZ/P86RZWaZ4fGFpdFhDaiDhp5fx6QqMKbZpGE/qhoC0zXd6m+yGhGarfAsH0qD4ZCgRtmtpl66M6LNyT/rKr1R/ajr5Wn7+uUiGqv2y9Vt3+dvfXx99miNi4BHyQGwY64PMfkhHSRsbZSDkL9Oyy25Aa5edfxmsj+HztvnoWHFbTyoXqMC10REQcaIsU8IUukfW1J9SmVbAm9bsfrqkeTbP76qVNj+yz8unRg1Z3SH+0X7XlyOQhHIiIdZq3gM9Cp1oqUEuP7qsWDNqIs5AKo/yyfhAm/XvQhUIpu6y2mukgz0K8UHBmoZpfvwV26XpkaJRdtbaqbhvd54+aqxY4qq3p7ejrB5hp/W1q7Q1Zz4hKRKwtAR/khoEO+GoFZ9JGxtlIO/9SWs2zEXSmAsH0k239kX0yHciF6tFoP1u2qXX1v2AoSLTAERGxHRYp4LORdaFLak1/9J0/Mk+/p4NBTZOhh174o/TS5fe4lHb3axvd59eh0Xl+2fRypALAWvfpQ0SsZt4CPgu1QipYCoVdUqGZyoRGuynUSodNqisdEvqjy6SFYRacpQNBGapbYVq6blktOLNwMl1/PYFgqA02TypI0+hEq8sPEEP123YMtdVX+8HfVlLL8tdHy02HgVqmH0oiYvMS8EFuaMc9+BARMWzR7sE3UPY3GhARMevm8R58iIjYvwR8kBsI+BAROycBX9h6RgMiImZZAj5ExGJKwAe5gYAPEbFzEvCFtUtqQ5fiIiLmQQI+RMRiSsAHuYGADxGxcxLwha32wAxExLxIwIeIWEwJ+CA3EPAhInZOAj5ExGJKwIeIWEwJ+CA3EPAhInZOAj5ExGJKwIeIWEwJ+CA3EPAhInZOAj5ExGJKwIeIWEwJ+CA3EPAhInZOAj5ExGJKwIeIWEwJ+HLCo48+Gu2kSZMmxVPKBwEfImLnJOBDRCymBHyIiMWUgK9NDB482O2zzz7xq9Yh4CPgQ0TspAR8iIjFlIAPEbGYEvC1CQK+gYeADxGxcxLwISIWUwI+RMRiSsCXEwj4CPgQETspAR8iYjEl4ENELKYEfDmBgI+ADxGxkxLwISIWUwI+RMRiSsDXJg499NCKS3TXr18fbeQtW7a48ePHJxtd5RTe+bz++utu5MiRSZmhQ4e6lStXRr+nAz69V/OtrC4NVlnx/PPPR+ugZfioDpXVOuUJAj5ExM5JwIeIWEwJ+BARiykBX5uoFvBpmgI+oQBOgZz0sfda8Dd37txkJ/kBn8JCTVPAZ1h4aCGfvVc/hY0EtHXIEwR8iIidk4APEbGYEvAhIhZTAr42US3gSwdrFsAprBNWzgI5IzSCL70MIx0a+oGhftc8jRLMGwR8iIidk4APEbGYEvAhIhZTAr42US3gSwd3FvDZiDu7fNYCP8NG3lnAp4BOr3UpbxpN85dt79U0/czbpbkGAR8iYuck4ENELKYEfIiIxZSAr000GvDZdAv47PJcIx3w2etq+ssWdp++9OXAPpo/f/78+FX2IOBDROycBHyIiMWUgA8RsZgS8LWJVgO+/kbw6f59eh0awZfGlq118peVRvPMjRs3xlOzAwEfImLnJOBDRCymBHyIiMWUgK9NNBvw2b32qpWzgE+k77UXQpfyqozWR7/beikgTKP6fUeMGOEef/zxeG73IeBDROycBHyIiMWUgA8RsZgS8LWJZgM+YcGdXaareapL+gGfhYH+KD6FeHqQh02zp+raiEAbCaj1S6PpIb/+9a+7N998My7VPQj4EBE7JwEfImIxJeBDbI9jx53sZl4yMTivzG55YFn0+f/hE+H5OHAS8LWJegM+C+nsIRtCo+vsnnlSv2taOuATqtcv65exZaaf3Kv5mp5eF6ujmsuXL49LdoeiBnyP3bXSjRx+fNK2QYP2d9ctviJYtshOPOeMqP23rbo6OL+Ivrx1jbt02oXJvpfjxpzsnvr2dcHyRbPs7c+6BHzNe+msnqQ98uRRY1zP6h3BskV1Uc9d7vDDh0SG5hfVufOud8OGDU/2/aBBg6LjIVS2iJa9/XmRgA+xPRLw9Xr1gunROa29JuDrnAR8kGAHQn/ef//98Ts6SxEDPgUZ6vwUbtk0hXtqY1lCPgV6Q4d8tpQBn8ItBVoKefXawl5tj3TZIppuvz4PZWp/1iXga86p06+MQi0FXNG01TuiwCMKutbu2qN84dzdxq9OOC9qc9LuULkiuntfpwMtHQ86rhV8VZQtooH2W9hdivbnSAI+xPZIwNcrAV/3JOCDBDsQ6lF/qJ955pn4nZ2hiAGfQi0FHOnpCj7UKaanF81tty+L2qmfCne0b8sU8IXUttB20M/Q/KJ7zw2Lo/Zb6Ifdk4Cvca9ZtSVqQxLumat3RNPLMJJJoxWjEYu7fz9/4vTSjeAL6W+TMqqgV6FvaB52RwI+xLAKoHScKpAKze9PAr6wBHydk4APEuxAaMSZM2e6d999N66hvRQt4NPliWpLaKReGUMOAr5ey74dyh5wZkkCvsbVaC2NYArNK2PIQcDXa9m3Q9kDzixKwIcYloCvPRLwdU4Cvjazffv23GgHQjOuW7cubnH7KFrAp/BObQkFGWUMeQj4eq11XJRBBd4a1akAPDQfOycBX+MqwKsWZJQx5CHg67XWcVF41+6KQm/uw5ctyxzwrbxuljviiM+6G2+d50aMHJas1/kXTtijrMIITbcyUgFOOqTQdNXrl1XdKve9H6zodzndVpdT2vpJtfGp56+tKKP26fuZX860MqHtpff59WRZtdtfd9PmK6Ty96UdR+k6sh7wWdi28a7FwWNTbVLbbHp6H4b2s44hv4zeo+n2moCvcxLwtZEzzzwz2bhl8HOf+5x76KGH4tYPPEUL+GykkoKt0HzNK9PDNgj4erWAKzSv6KrtHAPZkYCvcRXiKNQKzVPAUW10X1El4NttiQMuXbJu92Isxf0nc2TZAz6th75rWThj4YMfZCjgUshhQZ2m6ade671+AGZts2BM5fReC0ks/Agtp9sqjFJYY21UIKn2+UGktpPW27aXtc8vE9peKq+6stTe/tS6q63aV/50bRdN99tswahfNk8Bn0wfm9qH/mfDPi9+G1XGD/Ts+PD3s73PXlv9dmxg+yTgayNlDPg0ErBdFC3gU4ihthDw9UrA17sN9Ee1TPs9/RRd3ZeS0XvZkICvcRVm1Qr41L7QvKJKwOddtl2WgCu+36Sp/c8DNrInAd97osDGn67gRuGUXy4d5Em9TodWqi8d6thyLCgxtRyFQP60rKnwRm201+ltI619tn2qbS+b7k/LstUCPu2z0H7TND/0y1PAFzo2ta/Sn4308R5Sx4e/Hez4sNcEfJ2TgK/N6I9mXrQDoRm5RLdx7T57tQK+MoVdBHxroifIytC8MqjLk9X+6Atilc8Fdk4CvsbVSKVaAV/Zwq6yB3zzFq+Pjmn9DM0vgxZsK+gMzcfuyCW6n+13ugKLakFNOqRTu9JhSbVAQ3WGlp8l0+FMur1+GQv00kGXmbdgp1rAp2lqsz9Npo+bPAV86X2Sboupaf21Se32j5H0MUTA1zkJ+CDBDoRG1EM2OkVRL9EN3WvNHsChEDA9r6iWPeDTSLahQz5LsLVbbQeN5AvNw85JwNe4tR4moIAjulQxMK+oljng0+Wp3HuuV43g02db2yQ0HzsvAV//AZ9+1zS/jKmwww8z1K68BnwK6LROtn98rYxdgmlt1AgvtcEP9PQ6/X7f9KiwrBoK+GxaNf0RimUI+LQvte/T24GALxsS8EGCHQj1qD/UzzzzTPzOzlC0gI+n6FZa5oBv4azeSyHKtL9rqbBz3JiTg/OwcxLwNS5P0a20tAHf6h3RcVBtNGfpjC/bXdRzV3g+dlwCvv4Dvv5G8PnhltqV14BP7ZR+AJcOZ7TOKqPvqrYf1X7/ctw8BFv1GAr4pKal93HIogd8eo+OA7Uzvf8J+LIhAR8k2IHQn/fff3/8js5StIBP6nLEUJChgKNsl2qWNeCzB0uU9am5IXXs6zMQmoedk4Cvce2SzD2CjDjgKNulmqUM+Nbuitpc2qfmBrTPhT4HofnYeQn4+g/40vehMxVqaLrK2zS1K48Bn4VZ6XVPhzN+wFNNba+stKsVbZvoCbP+9FqBr2/RAz4dK6H3EvBlRwI+SLADoZrLly+PS3aHIgZ8NlLPDzM0mkvTyjaaq4wBn9qqNpfpUmxfO/btoRr6qUtzy3j8Z1ECvubUSD0FPHY5oj1JtGyj92TpAr61u6J9XbZLsU1djqy2+w/V0O86Bsp4/GdZAr7+Az4FEQryFOzYSCWNcrMRb1ZOql15HcFno7HstQUz/r7SfJvmq7bYtrHtpbI2TT+z1t56VDss0NJ+1E8Ffmqz//RYHQ9qr5WV6ddZtJWAT23We1VWr7WP7XLd0HFkrwn4OicBHyTYgZB20qRJ7s0334xLdY8iBnxSIY/uOWZt0+ilsozmslCvmqH3FEl/v6fVvNB7iqSOfR3vfrs1opVwLxsS8DXp2l1RmGHtkWW6VFNt9dvuW/T70dm95qpZ+KfJ7j720/uf+xBmUwK+/gM+aQGOrbtU0GEBlqnpeQ34tJ4KLK19+l0hln5Pl/HbrWlqhx/qqK3pe7Ppdd5CHRulJv19ld5W0g/8ZNEDPqlyCkFtG2gfSwK+bEjABwl2IJgjR450jz/+eDy3+xQ14ENEzKIEfIiIxbTMAR82pkI9hTnpS1ZlOsRBxO5LwAcJdiDIjRs3xlOzAwEfImLnJOBDRCymBHxYrzbySj/T86rdpxARuycBHyToIFiwYEH8KnsQ8CEidk4CPkTEYkrAh/VqI/h0aWroSbv66ZdHxO5KwAe5gYAPEbFzEvAhIhZTAj5sRI3eS9+LUPdlI9xDzJ4EfJAbCPgQETsnAR8iYjEl4ENELKYEfJAbCPgQETsnAR8iYjEl4ENELKYEfJAbCPgQETsnAR8iYjEl4ENELKYEfJAbCPgQETsnAR8iYjEl4ENELKYEfJAbCPgQETsnAR8iYjEl4ENELKYEfJAbuhnwnX7aqEIZamMtQ3Xk2VAbaxmqI8+G2ljLUB15NtRG3NOiB3yjRo8tlKE21jJUR54NtbGWoTrybKiNtQzVkWdDbcTqFjXgGzd+dKEMtbGWoTrybKiNtQzVkWdDbaxlqI48G2oj9i8BXxfYZ5993KGHHhq/gnrpVsD38IblyXKL4s7dbQq1NaTKhurIs6Vv/8YVwbaGLHv7y2yRA77xp5+dLK8ohtpZzXGnfy1YR54NtbOatL/c7cdiBnwPbi/e95Vt31sRbGvIIrZ/647lwbaGpP3lbj/2ScDXBQj4miMLAd+JJ53oRo8dnUuH7153a0ezAdeXhg134/7tlFz6peOHt9z+4V8a7k4ZN7rLntKUOnaT9jcZ8P3rsBFu/L+dmku17s20v8yWJeALf846afgzW48HH3xQ0o5QO6vpBzzjvrK7j8y6gT5dHnJQ6+0P/b3MiwOy/wPbNS82u/+x+AFfnr+vad2tHc0GfPrOG+xLs2TgMy11rmHtaDbgKsr5WrPt13fe4DbPmgO4/7FPAr7dzJ07NwrdbEOMHDnSPf/88/Fc51auXBkFcjZfZfUen/Xr10fztmzZ4saPH5+U1fseffTRqIzeY9N99V4jXUbr8vrrr8dz61uOMXjw4GCQmNeAMQsB34q7r3FrHlueS7Xu1o5mA65vT1zpnjxlbS7Vurfa/hX3FGT/NxnwbZm4Krht82DF/ifgq8uyBHyhz0teHH9W3/eAUDur6Qc8oc9LXvzaKV9tuf2h7ZoX2f/N7X8sfsBXlO/rzQZ8Rfm+1mzAVZTv6822f0tBztcI+Jqz9AGfhWQK8YTCNIVqkyZNil5b4GavhU3Tew0L3hSe2XSFhArZpE+1gG3o0KHRPAv8FNilQ7qBWE616VmHgK81KwKeJgMuAj4CvtC2zYMEfI1LwJd9CXgI+Fptf2i75kUCvuYl4Muu/vc1Aj4CvlBbQxLwoVnqgE/BmBquQC+Ewj6FYQre0ug9eq+NmrPgzQ/9hIWBGnFnhAI2e7/K+yh41HQLIFtdjiDga0wCvr72E/AR8IW2bR4k4GtcAr7sS8BDwNdq+0PbNS8S8DUvAV929b+vEfAR8IXaGpKAD81SB3wWnqVDNaPWfAvU0sFbumy6nAgFbBohqHLpy2z12q+31eWIWgHfO++8E/+WPQj4WrMi4Gky4CLgI+ALbds8SMDXuAR82ZeAh4Cv1faHtmteJOBrXgK+7Op/XyPgI+ALtTUkAR+apQ74LBRLh2VGrfnpoK2/4M2fHgrYbERgNQdqOaLadFvWmjVr4inZgoCvNSsCniYDLgI+Ar7Qts2DBHyNS8CXfQl4CPhabX9ou+ZFAr7mJeDLrv73NQI+Ar5QW0MS8KHJCL7dDU+HZcZAjuDzp4cCNl1yq3LpEXxpGllO+v59Rn8BnzziiCPctm3b4jnZgICvNSsCniYDrlYCvhHHnuDOO+2s4LxOSMDX3YAvU/ufgK8uCfiybzcDntsv6u1THrigeyeSBHzs/2bajwR8Wdb/vtaNgC9L39cI+Dof8OV1/2Of3INvd8Or3YOv1nxNU1BmT7htNeDrL2w0GlmOPbTDRwFiPQGfOW7cOPfSSy/FJboLAV9rVgQ8TQZcBHwEfKFtW48EfPmTgC/7EvAQ8LXa/tB2rUcCvnxLwJdd/e9rBHwEfKG2hiTgQ7PUAZ+wS2P9e9dpNJ09NddG1vnBWShMayZ4s3DQfip006g71WVovTQ9/TCPepZj06wteq/qbyTgM2fPnh2X6h5FDvhWb+2J6l++cXFw/kBYEfA0GXC1EvA1685zVkfLvmfSiuD8es1ywNfx/d+FgK9Z27L/CfjqkoCvNS+cfqE7eczJwXkDZV4v0Zxx5iR32pdHB+c1YpYDPvZ/dbu9/7GYAZ/CAFtGUb6v5+kS3XZ8X8tawNfp/d+NgK9Zu73/sc/SB3zCHnBhKtTT6D1DQZlCMZuvcMwPBEW14M1G5vnlVbfqsPr8J9+m10VhoB/4NbIc4denZer9+tlowGfeeuutcenOQ8DXmhUBT5MBFwEfAV9o27ZTAr7uScDXmgQ81SXgGxjZ/wR8zUrA15wEfNUl4BsY/f1PwEfA14wEfJBgB0J/Hnvsse6RRx6J39U58h7w6Y/B4UM+m9R18Zxp0XSdANg0X3uffp+19HI3bPjxffMe3rP+/qwIeJoMuFoJ+PRl3v9C3zNxjjvi/xzurr9oQTQc3JbhDwtXeZvua/MbsdsBX6b2fxcCvkztfwK+uiTg698J556R1KPP6KpvLY0+6zbNV59jvUc/1RfMW9O3fa0/aNRuBjz6Eq/3+1/mo/XY/dlWgGP163NuZew9afUeq6MRux3wsf/zuf+RS3RrmaXva90I+LL0fa0bAV+W9n83Ar687n/sk4APEuxAqNdzzjnHvfbaa/G720+uA77dHbzeb1/w9R8g/QHQHxF7rfn22teWrdEAeh0qU48VAU+TAddAB3yqc9D+g6I/GppmX/79L/uFGMGXtf2fkYBPdXZl/xPw1SUBX231pV8nAfr86rU+3/6IrWojuFROyx00aP8oENK0Zj/XWQx4pD7rPzp9TTRNv+tzbq9lEUbwsf/zu/+REXxVzdj3tawEfKqzG9/XOh7wZWz/ZyXgU51Z3//YJwEfJNiB0KgLFy6Ma2gveQ741Mnr/dU6+/7+YOiPS3p6o1YEPE0GXO0I+NI36NZ/hPQfIntdhIAvc/s/QwFfV/Y/AV9dEvDVVuFNKMAx+wt4Ft+yYI95jZrFgMf/r77UZ1zT9VAGm1aEgI/9n9/9j4zgq2bWvq9lKeDrxve1Tgd8Wdv/WQr4sr7/sU8Cvjbz+c9/PjfagdCsmzZtilvdHvJ+ia7+0+//F8i3vz8YupQnPb1RKwKeJgOugQ74NOTbLxOaXoSAT2Zq/2ck4Ova/ifgq0sCvtraJZb23/q0tQIe9Qfp6c2YxYDH/sPvm55ehICP/Z/f/Y8EfLXM0ve1LF2i65cJTS9CwCeztP+zEvDlYf9jnwR8beTMM89MNm5ZbCe5f8jGw71f+FWP/njY8G9JwNdnJ/5gdCPgy9T+J+ALthUrJeDrX302dSKgenQ/Nn2WbR4BT5/p6UUI+CT7P5/7Hwn4apqh72sEfJ0P+LK0/wn4CPiakYCvzYRGymVVOxCalRF89as/FqrP/mh0+g8GAV8XAj7Pru9/Ar5gW7FSAr761WdYQU8U3Ow+OdA0Ap4+09OLEvCZ7P/eaXpNwJcPCfjqs9vf1wj4uhDweXZ7/xPwEfA1IwEfJNiB0Kjcg6859cVf//HX7/YHI3RPHk0n4Ku8f08zZingk13d/zkM+AZ0/xPw1SUBX2PqC7/qswcnKOBR6JMuR8DTG/D49+5p1qwEfJL9n5/9jwR8jdjN72t5DPgG8vtatwM+2c39n8eAr1v7H/sk4IMEOxDqlafo1q++0OsPhP4w6LVOBPQEPfuPkNRrnRDYfJuu5ZY54JN6cpNOCPR7s/8Z6mbAl7n9n6OATw74/ifgq0sCvtqmP8P6jGuajeDSPNUffe53T7PgR9PLHvDoc65pOiHQ01XTN++u124GfOz//O5/LGbApzDAllGU7+t5CvjkQH9f63TAl7X9n6eAT3Zz/2OfBHyQYAdCfx577LHukUceid/VOfIc8OkPhf77Y/VI/4+F1B8Fm+d/+dfrsgd8OjGwdQi9px67GfBlbv/nLOAb8P1PwFeXBHy11WdYn1WrR6O1LMSJfHh5NM3m2+fY3peUa8G8BjwKdTSCy9Yh9J567GbAx/7P7/5HRvBVM2vf1/IW8OmzbOswEN/XOh3wZW3/5y3g6+b+xz4J+CDBDoRa3nrrrXHpzlO0S3Q7bUXA02TA1UrA1227GfBlwYr934WAr9sS8DUuAV/27WbAkwW7GfBlQfY/AV+zEvBlV//7WjcCvm7bzYAvC/r7vxsBX7cl4GtdAj5IsAMh5OzZs+NS3YOArzUrAp4mAy4CPgK+0LbNgwR8jUvAl30JeAj4Wm1/aLvmRQK+5uUS3ezqf18j4CPgC7U1JAEfmgR8kGAHgu/48ePdSy+9FJfoLgR8rVkR8DQZcBHwEfCFtm0eJOBrXAK+7EvAQ8DXavtD2zUvEvA1LyP4sqv/fY2Aj4Av1NaQBHxoEvBBgh0I8ogjjnDbtm2L52QDAr7WrAh4mgy4CPgI+ELbNg8S8DUuAV/2JeAh4Gu1/aHtmhcJ+JqXgC+7+t/XCPgI+EJtDUnAhyYBHyTYgbB27dp4SrYg4GvNioCnyYCLgI+AL7Rt8yABX+MS8GVfAh4CvlbbH9queZGAr3kJ+LKr/32NgI+AL9TWkAR8aBLwQQXvvPNO/Fv2IOBrzYqAp8mAi4CPgC+0bfMgAV/jEvBlXwIeAr5W2x/arnmRgK95Cfiyq/99jYCPgC/U1pAEfGgS8EFuIOBrzYqAp8mAi4CPgC+0bfMgAV/jEvBlXwIeAr5W2x/arnmRgK95Cfiyq/99jYCPgC/U1pAEfGgS8EFuIOBrzYqAp8mAi4CPgC+0bfMgAV/jEvBlXwIeAr5W2x/arnmRgK95Cfiyq/99jYCPgC/U1pAEfGgS8EFuIOBrzYqAp8mAi4CPgC+0bfMgAV/jEvBlXwIeAr5W2x/arnmRgK95ixjwKQywZRTl+zoBHwFfqK0hCfjQJOCD3JCFgG/4SSe60WNH51Ktu7Wj2YDrS8OGu3H/dkqmHfuVsFr3VttfmP3fZMD3r8NGuHG7t+WAGtiH7bBi/xPw1WVZAr7Q5yUvHnzwQUk7Qu2sph/whD4vefGQg1pvf2i75kX2f3Ptx+KP4CvK97VmA74vHZ/97+vV9L+vNRtwFWX/N9v+Mu5/7JOAD3JDFgK+othswFUUS9/+JgO+okjAV59lCfiKYqid1fQDnqIYamc1aX+524/FD/iKYrMBX1FsNuAqirSfgK8ZCfggN3Qr4JOnnzaqUIbaWMtQHXk21MZahurIs6E21jJUR54NtRH3tMgBnxw1emyhDLWxlqE68myojbUM1ZFnQ22sZaiOPBtqI1a3iAGfHDd+dKEMtbGWoTrybKiNtQzVkWdDbaxlqI48G2oj9m8uA765c+dGK7x+/fp4CpSBbgZ8iIhls+gBHyJiWS1qwIeIWHbbHvA9+uijUeVDhw6Np7ROJwO+kSNHRsvasmVLPAW6BQEfImLnJOBDRCymBHyIiMWUgK8fCPiyAwEfImLnJOBDRCymBHyIiMWUS3QhNxDwISJ2TgI+RMRiSsCHiFhMCfggNxDwISJ2TgI+RMRiSsCHiFhM2x7wvf7661HlutTVmDRpkttnn32iy3d16a6tgH5XeZ90GdVTLeCz6X5Zq2/lypXRtPHjx0evjUMPPTRal/RyDa2r3qf1ENYeLUvqvXqtn1qGeP7555Plp7H67JLfdPsGDx6c1GNoHVVG0215Wraw+qTKpbdJPfXnBQI+RMTOScCHiFhMCfgQEYtp1wI+TfNDMQVT6XIKylRGwZUFcJpvK+yHWQqxVNamKdhSmKX3GhZ0WbhmgWCtwKtawKdlqT5bL6vbyllwmEbrJIXWQ+/Rew0FkOl1srr0Pm0TIx0Wqu3+9qu3/rxAwIeI2DkJ+AbY1TuSNur3YJmCOXfe9W7YsOFJuwcNGuQundUTLFtEy95+c1HPXe7ww4dEhuZj5yXgQ0Qspl0N+NIhk4IoPxRLB1iGhVQW5lk4aKPaDNXvL8cPDBXEWUhXi2oBnx8cCgvTbB0sPPRDSNXhl6knBBQql65LVHu/UW/9eYGADxGxcxLwDaxfnXBeFPCojaUI+Ha3MR1o6Xe1X8FXRdkiGmj/1Om9n6lStF+u3RUd9wo5JQFfdiTgQ0Qspl0N+Cw0M2x0no1SqxZQpcOzavWlAzVh71W90kbgVaNawOe3R9iy7BJglVP9/iXBtmy1r1o9QtP8dve3HRRSptveSP15gYAPEbFzEvANnBrBpLYp2NHPsozgC6mgR6FPaF4ZPHnUmMjQvKLpt/X8idMJ+DIkAR8iYjHNZMBn0+sN+Ox91fQDPqE6Nd0P36rRaMDnT9fv/vpr1JyNGLTy1fTfV2ukntpm7VE52yaN1G9o+rp16+JX2aNsAd+l0y6M2qqfoflF8+WtfW02x4052T317euC5Ytm2dvvO/GcM6L237bq6uB87IwEfAOngg2N3rKgr8wBX5kCrpBlDboI+LIlAR8iYjEtRMBnl+ym6wthy1bd+pm+/DdNKwGf1k/T9FOj9vS7f7lwqJ4QtQI+Q8uwNqnuRuo3VF4qhHzooYfiqdmhTAHfY3f1Xl4+aND+pQn41E4FWmq7XivYGjn8eDd0yGf3KFtE0+3XzzK1XyrQU3sJ+LIhAd/AqEs0dammLlcsfcC3exuU9T50pkYvljHgJODLlgR8iIjFNNMBX7XgTgGUplvAZ/faS4/US2P3yVO9CsAUmikUq0UrAZ/QqD0tz0ba+dR7L7x6Aj6RDj7rrd/Qe31PP/109/LLL8dzu0+ZAj4FPRb4lCXgC3nPDYuj/W2hV9ncdvuyqP36GZpfJNVGBdr6qXBX7Sbg664EfANgHGjZPdfKHPBds2pLci82bZdQmcJb4oCTgC9bEvAhIhbTTAd8Fpop0FM9Qr8r7NJ0C7KEQjCFWf40BX+abvVZGavLAjGtTzVaDfj0fi1Ty05fEmzBpP8e1a9y/rRQwKdyqtdGBArbNta+eus3VDbknDlz4hLdpSwBn0INBR0KOcoe8JUp4ApZ1qCLgC8bEvC1ri7LjQKt+HXpAr7d7bT9KhXwlOYBEwF1PNhoztD8IkvAly0J+BARi2mmAj4FT5qu0XWGf+mpVBkL0/wwT1i9pgIvK2Pz/EBMWN3pdTHqDfjskth0iGfrKkOXA2v9bESiVECnZfqEAj5hAaa9V/Wk21FP/YaVqeZtt90Wl+wOZQj4dB82XaJ43eIrotdlD/i0HRR2aruE5hddu1S7bAEnAV82JOBr0TjcUqhn08p+ia49RVdBV2h+kZ23uPe2LfoZml90CfiyJQEfImIxbXvAB/nBDoRaHnfccW7Xrl3xOzqPrUdRAz4FWv4918oc8GlbaF+XOeSxgDM0r8gS8GVDP+DrBLasvAV8Ci1s3U1N133WFGr4ZYsY8FVrfzXtScK6ZDc0P2/W0361taiX5ta7/wn4sqUf8HUKW17ohBQREQdGP+BrBAK+AmIHQj2ee+657le/+lX8zs5hy7924eXBE9I8q1BDYY7uO2fTyhbwqa3+caaHLZR19J4dDzaas0wS8GXDtdfMTj6Lb7/9dtwLt49PfvKT0bImnHVB8IQ0V6YuTa1m8L1FNzCysdDubq/CvXTYWzYJ+LLlop67k36oE/+4Hzt2bLK80AkpIiIOjD95dlXS365atSruhfuHgK+A2IHQiIsWLYrf3Rn23XffaLnzr5gWPCHNswq3FOj508o8gs+eImv3IwyVKbJquwzNK7oEfNlw8dwZ0X74wAc+EPfA7cVuJzFq9NjgCWkRLPslutIuVS3FNli7Kwq1yvjU3LQEfNnSPofy6aefjnvh9nHhhX3/wA2dkCIi4sD42ON9AV/6lna1IOCrk6eeeio32oHQjJs3b45b3F4+9rGPRcu76PyzgiekWVeBRXrbaYSWPUwiHWQVLeCr1v5QWVOXLGskX2he3qy3/drnanfRgs1620/Alw0vnnRutB8OPPDAuAduL3aPpiOPOjp4QloEyxTw6XJUPWDEf6iGflfI89UJ51WULaRrd/U9NTg0v2QS8GXLy+f03uNXvvnmm3Ev3D7mzZuXLE+Xj4VOShERsXW/82Dv/Y7l9u3b4164fwj46uDMM89MNm4Z/NKXvuT+8z//M259ezjxxBOjZY048bjgCWleTV+aGrKMl2rK0MjGIrtw1vRo1KJGMIbml0ECvmz45ZOGR/vhmGOOiXvg9nLJJZdEy9trr71cz7r/FzwpzbulGsG3dlcU6qi9ZlHvQxfS7jVYzTI8TTi9/33Lchxk1Qsm9o7Q/pu/+Zu4B24vGzZsSPb9936wInhSioiIrfvNm65K+tuf/exncS/cPwR8dVC2gE9u3Lgxbn17mDlzZrKsX24Pn5QWyTJfomvqMtWybAOFuDq2y/bU3LQEfN33tR1r3Pvf//5oP0yZMiXugdvLHXfckfTvS1beHzwpRUTE1j3hhBFRX3v00UfHPXB7ee6555L+/cZbrg6elCIiYutOn3lB1Nfut99+cQ9cHwR8daL/WOVF+8PbjAsWLIhb3F7uvffeZJkP3LY0eGJaJMsU8Gmfqq32UA391KW5ml6G0Wx2+ar/kJWySsDXfe22AXLTpk1xD9xeXnnllWSZl1yxLHhSioiIrblszc6kr73sssviHrj97L///tEyL5p8dvCkFBERW/cLX+i9p/XIkSPj3rc+CPgKiP2xb8Szzz7bvfrqq3EN7ef3v/99dPmWlj175qTgiWmRLFPApzBHo/X840vtL8ulqrrnnt92X80LvadIWqhXzdB7sH1edemUZNu/8cYbcQ/cfuxJul/5yqjgiSkiIrbm3Pk3JP37jh074t63/YwZMyZZbuikFBERW3PHzhVJP9vT0xP3vvVBwFdA7GCoR92T6Qc/+EH8zs4yYkTvZQUydGKKiIitaX3s8ccfH/e8ncHuwyeXXbc1eHKKiIjNe8qp46M+9oADDoh73s5w5513Jv37nZsWBU9OERGxea+a33fv25deeinufeuDgK+A2MHQn7fcckv8ju5w++23J+vyf1fPD56cIiJic25ctzDpY2+++ea45+0MTz75ZLLsydNmB09OERGxOZeu+m7Sx06dOjXueTuHLXv86acET04REbE5X3hlVdLHHnfccXGvWz8EfAXEDohqzpo1Ky7Zffz1Cp2gIiJic/r9azewp6XLnrU7gyepiIjYuOeePzXpX5999tm41+0cM2b0Pr1XfufBnuBJKiIiNu61a2Yn/auer9AoBHwFxA6ItGPHjnU//elP41LZYMmSJcn63cqN+BERB0SNira+df78+XGP21keeOCBZB0mTb48eJKKiIiNuWTFt5K+Vd/tu8Evf/lL9773va93HcaPCp6kIiJiYz71Qt/ovcMOOyzucRuDgK+A2EFhDhkyxG3dujWemz0OOuigaD0POfgg9+KD4ZNVRESsTz25+jOf/lTUr370ox+Ne9ruoCd/2d+iJSvuC56sIiJi/Z48qu8hF0899VTc23YefxTfjbdeHTxZRUTE+r1i9uSkX9X9TpuBgK+A2EEhV69eHU/NLuvXr0/Wd8qFXwuesCIiYn1Ov+jcpE/t9L330jzxxBPJupxwwojgySoiItbnJZcvTfpUBWzd5N13343+iaR1+dCH/pd77PHwCSsiIvbv5nv6rmw86aST4p62cQj4CogOiosvvti9/fbb8ZTsc9pppyUH9Jols4InrYiIWNvrl85J+tJRo0bFPWx3ufLKK5N1umDi9OBJKyIi1nbh0g1JX/qZz3wm7mG7y8aNG5N1OuXUfwuetCIiYm0f/dHKpC/94Ac/6F544YW4l20cAj7IBG+99ZY75JBDkgN707qFwZNXREQMe/c3FyV96D/+4z+63/zmN3EP232GDx+erNuMSxcFT14RETHsNSu/nfSh733ve92uXbvi3rX7TJ7cd0nZ5KnnBE9eEREx7JPPXZv0ofLGG2+Me9fmIOCDzKAvK3vvvXdycG++flHwJBYRESu9+4bFSd+pG58//PDDcc+aDRQ2fuITn0jW8RuXLQmexCIiYqV+uCe/+c1vxj1rdvDvtzp95gXBk1hERKz0J89WhnsDcesFAj7IFPfcc0/FQX5Dz9zgySwiIvZ60/K+S2Dlpk2b4h41Wzz55JMV6zl56uzgySwiIvbqX5YrFyxYEPeo2eKdd95xQ4cOTdbz/AvOcM/+9NrgCS0iIq5yOx/ruyxXnnXWWXGP2hoEfJA57rrrroqD/bJpF7r/2h4+sUVELKuv7Vjjrpjx9Yr+csOGDXFPmk300I0DDzwwWd8xp33V9azeETyxRUQss/4DNWRWwz3jd7/7nTvqqKOS9T1+2DHuwe3Lgye2iIhl9vY7F1b072effXbck7YOAR9kku9973vuIx/5SHLQf/HIz7l7b1gcPMlFRCyb37ppiTv6qC8kfeTgwYPdtm3b4h4027z88stuyJAhybr/9V//tbviyuuCJ7iIiGVzyYpvuZNHjUn6SN1zL4uX5Vbj1FNPTdZdLlg8073wSvgkFxGxTP7wiVXRvUr9PvLyyy+Pe8+BgYAPMsurr75acU8POWH8qe7B9cuCJ7yIiEV36+3L3Jmn9534ST3A4he/+EXcc+aH8847r6Idw4YNd1cvvDl4wouIWHSXrvquO/f8qRX9op6Wm6UHatTLvHnzKtohV6+b4154mct2EbF8Pv6TVe7qBdMr+sQPf/jD7s4774x7zYGDgA8yz8qVK91f/dVfVXwg5Lpr5rif3H9t8CQYEbEoPnn/de76pXP26AP/4i/+wi1fvjzuKfOJbsnw8Y9/fI+2Tf/GAnfNqi3Bk2BExKK4bM1ON3f+De6UU8fv0Q8OxM3Wu8ljjz3mjjzyyD3adcXsye47W3uCJ8GIiEXxuZeudZvvWeImXfS1PfrB8ePHu9deey3uLQcWAj7IBb/97W/dtGnT9vhwyKOP+rybNvFsd+3Cy6Mn725dv8w9vGG524m5VvvQ9qP9jlh01X+pH7tu0RXu4q+fU3EZru+UKVPcr3/967iHzD+LFi1ygwYN2qOdhx32v91XzzjXzbh0kbtywU1u4bJNbsmK+xARc+einrvdvMXr3eVzVroLJs5wJ5wwYo8+T44dO9Y99dRTce+Yf2655Rb3qU99ao92HnDAYHfGhDFu/sIZ7qbb5rl777/GPbBteXTfPkTEvHjL+vnRPy0237vErbvxSjdrzhQ3avSX9+jz5PHHH+8eeuihuHdsDwR8kDvmz5/vDj300OCHBhGxqP7Lv/yLu/rqq+OesJisXbu24kmMiIhl8IADDnBTp06Ne8Jisnnz5j1uvYOIWHT//M//3J1xxhlxT9h+CPggt/zHf/yHW7hwoTvppJPc3//93wc/UIiIeVUPGtLJkP6p8fjjj8c9Xzl48cUX3bXXXutOOeUUd8ghh7i99toruI0QEfPofvvt544++mh32WWXuR07dsQ9XznQ6HON6jvzzDPdpz/9afenf/qnwW2EiJhHdQudww8/3F100UXuvvvui3u+zkHAB4XhD3/4g3v++efdo48+Gr3evn07xurLo/1ExGwq1H+pH1N/BpW89NJL7oc//GH0lPV0H1dmdezYT0TMpuKRRx5xTz/9tHvjjTei19DHz3/+8+gfWd///vf36OPKro4f+4mI2XTnzp3uxz/+sfvVr34V92rdg4APAAAAAAAAAAAgxxDwAQAAAAAAAAAA5BgCPgAAAAAAAAAAgBxDwAcAAAAAAAAAAJBjCPgAAAAAAAAAAAByDAEfAAAAAAAAAABAjiHgAwAAAAAAAAAAyDEEfAAAAAAAAAAAADmGgA8AAAAAAAAAACDHEPABAAAAAAAAAADkGAI+AAAAAAAAAACAHEPABwAAAAAAAAAAkGMI+AAAAAAAAAAAAHIMAR8AAAAAAAAAAECOIeADAAAAAAAAAADIMQR8AAAAAAAAAAAAOYaADwAAAAAAAAAAIMcQ8AEAAAAAAAAAAOQYAj4AAAAAAAAAAIAcQ8AHAAAAAAAAAACQYwj4AAAAAAAAAAAAcgwBHwAAAAAAAAAAQI4h4AMAAAAAAAAAAMgxBHwAAAAAAAAAAAA5hoAPAAAAAAAAAAAgxxDwAQAAAAAAAAAA5BgCPgAAAAAAAAAAgBxDwAcAAAAAAAAAAJBjCPgAAAAAAAAAAAByDAEfAAAAAAAAAABAbnHu/wPq5iz2mWPqIAAAAABJRU5ErkJggg==\" alt=\"structures données\"/>"
   ]
  },
  {
   "cell_type": "markdown",
   "metadata": {},
   "source": [
    "### <div id=\"Les structures de contrôle\">3. 5. Les structures de contrôle</div>\n",
    "\n",
    "A présent, nous allons attaquer les choses sérieuses. Dans tous les langages de programmation, il existe ce que l'on appelle des **structures de contrôle** : celles-ci permettent de construire des **algorithmes** qui définiront des formes de \"recettes\" à suivre pour nos programmes.\n",
    "\n",
    "Jusqu'à présent, nous avons simplement donné des ordres à notre machine, en créant des variables, des listes, et autres types d'objets. Maintenant, nous allons pouvoir contrôler l'évolution des **valeurs** que prennent nos variables et définir, en fonctions de critères particuliers, ce qu'il s'agit de faire pour poursuivre l'exécution du programme.\n",
    "\n",
    "Une manière usuelle de représenter le fonctionnement d'un **algorithme** consiste à en dresser l'**<a href=\"https://fr.wikipedia.org/wiki/Arbre_de_d%C3%A9cision\">arbre de décision</a>**. Cela peut être utile, lors de l'écriture de ses premiers prototypes, de prendre une feuille de papier et un crayon pour tenter de visualiser le comportement attendu de notre programme."
   ]
  },
  {
   "cell_type": "markdown",
   "metadata": {},
   "source": [
    "#### <div id=\"Les opérateurs de comparaison\">3. 5. 1. Les opérateurs de comparaison</div>\n",
    "\n",
    "Tout d'abord, il s'agit de comprendre comment fonctionnent les **tests** appliqués à des **valeurs**. Ceux-ci s'appuient sur des **opérateurs de comparaison** qui se limitent à **vérifier** si une **valeur** particulière répond à des critères précis.\n",
    "\n",
    "Il existe plusieurs **opérateurs de comparaison** :\n",
    "\n",
    "|Opérateur|Signification|\n",
    "|---|---|\n",
    "|==|Est égal à|\n",
    "|!=|Est différent de|\n",
    "|<|Est supérieur à|\n",
    "|>|Est inférieur à|\n",
    "|<=|Est supérieur ou égal à|\n",
    "|>=|Est inférieur ou égal à|\n",
    "\n",
    "Une ligne contenant un **opérateur de comparaison** comparant deux **valeurs** est une **instruction** qui ne peut renvoyer que deux types de réponses :\n",
    "* `True` : les critères de la comparaison sont bel et bien vérifiés\n",
    "* `False` : les critères de la comparaison ne sont pas vérifiés\n",
    "\n",
    "Voyons quelques exemples pour y voir plus clair."
   ]
  },
  {
   "cell_type": "code",
   "execution_count": 96,
   "metadata": {},
   "outputs": [
    {
     "name": "stdout",
     "output_type": "stream",
     "text": [
      "False\n"
     ]
    }
   ],
   "source": [
    "a = 2\n",
    "print(a < 1)"
   ]
  },
  {
   "cell_type": "markdown",
   "metadata": {},
   "source": [
    "Si les **opérateurs de comparaison** sont très utiles pour travailler sur des **données numériques**, ils peuvent être utilisés également pour travailler sur des **chaînes de caractères**. Attention toutefois, comme pour les fonctions disponibles selon le **type de données** que contient une **variable**, certaines **opérations de comparaison** ne seront pas possibles."
   ]
  },
  {
   "cell_type": "code",
   "execution_count": 97,
   "metadata": {},
   "outputs": [
    {
     "ename": "TypeError",
     "evalue": "'>' not supported between instances of 'int' and 'str'",
     "output_type": "error",
     "traceback": [
      "\u001b[1;31m---------------------------------------------------------------------------\u001b[0m",
      "\u001b[1;31mTypeError\u001b[0m                                 Traceback (most recent call last)",
      "\u001b[1;32m<ipython-input-97-2f1ea93c5c86>\u001b[0m in \u001b[0;36m<module>\u001b[1;34m\u001b[0m\n\u001b[0;32m      1\u001b[0m \u001b[0mphrase\u001b[0m \u001b[1;33m=\u001b[0m \u001b[1;34m\"J'apprends à programmer en Python.\"\u001b[0m\u001b[1;33m\u001b[0m\u001b[1;33m\u001b[0m\u001b[0m\n\u001b[1;32m----> 2\u001b[1;33m \u001b[0mprint\u001b[0m\u001b[1;33m(\u001b[0m\u001b[0ma\u001b[0m \u001b[1;33m>\u001b[0m \u001b[0mphrase\u001b[0m\u001b[1;33m)\u001b[0m\u001b[1;33m\u001b[0m\u001b[1;33m\u001b[0m\u001b[0m\n\u001b[0m",
      "\u001b[1;31mTypeError\u001b[0m: '>' not supported between instances of 'int' and 'str'"
     ]
    }
   ],
   "source": [
    "phrase = \"J'apprends à programmer en Python.\"\n",
    "print(a > phrase)"
   ]
  },
  {
   "cell_type": "code",
   "execution_count": 105,
   "metadata": {},
   "outputs": [
    {
     "name": "stdout",
     "output_type": "stream",
     "text": [
      "True\n",
      "True\n",
      "False\n"
     ]
    }
   ],
   "source": [
    "text = phrase\n",
    "print(text != a)\n",
    "print(text == phrase)\n",
    "print(text == a)"
   ]
  },
  {
   "cell_type": "markdown",
   "metadata": {},
   "source": [
    "Voyons un autre exemple dans le même esprit."
   ]
  },
  {
   "cell_type": "code",
   "execution_count": 114,
   "metadata": {},
   "outputs": [
    {
     "name": "stdout",
     "output_type": "stream",
     "text": [
      "False\n"
     ]
    }
   ],
   "source": [
    "a = 42\n",
    "b = \"42\"\n",
    "print(a == b)"
   ]
  },
  {
   "cell_type": "markdown",
   "metadata": {},
   "source": [
    "Dans cet exemple, les **variables** `a` et `b` ne sont pas égales car elles ne sont pas du même **type**, bien qu'elles contiennent la même information à nos yeux.\n",
    "\n",
    "Vérifions cela avec un **opérateur de comparaison** (et voyons par la même occasion comment on peut manipuler des fonctions un peu de la même façon que l'on utilise des **variables**)."
   ]
  },
  {
   "cell_type": "code",
   "execution_count": 116,
   "metadata": {},
   "outputs": [
    {
     "name": "stdout",
     "output_type": "stream",
     "text": [
      "False\n"
     ]
    }
   ],
   "source": [
    "print(type(a) == type(b))"
   ]
  },
  {
   "cell_type": "markdown",
   "metadata": {},
   "source": [
    "Attention tout de même avec quelques subtilités. Il existe un contenu particulier qui peut être affecté à des variables : il s'agit de la valeur `undefined`.\n",
    "\n",
    "Une variable `undefined` existe mais ne contient pas de valeur ou, plus exactement, renvoie la **valeur** `undefined` (qui peut être vue comme une **valeur** en Python).\n",
    "\n",
    "Ainsi, une **chaîne de caractère** vide et une **variable** `undefined` ne contiennent pas la même information pour l'interpréteur Python (mais si, de notre point de vue, il s'agit de la même chose : quelle différence entre une variable vide et une variable indéfinie ?).\n",
    "\n",
    "Effectuons quelques tests à l'aide des **opérateurs de comparaison** pour voir ces cas particuliers."
   ]
  },
  {
   "cell_type": "code",
   "execution_count": 113,
   "metadata": {},
   "outputs": [
    {
     "name": "stdout",
     "output_type": "stream",
     "text": [
      "False\n",
      "<class 'NoneType'>\n",
      "<class 'str'>\n"
     ]
    }
   ],
   "source": [
    "undef = None\n",
    "vide = \"\"\n",
    "print(vide == undef)\n",
    "print(type(undef))\n",
    "print(type(vide))"
   ]
  },
  {
   "cell_type": "markdown",
   "metadata": {},
   "source": [
    "Nous voyons bien que la **variable** `undef` est de type `NoneType`, contrairement à la **variable** `vide` qui est de type `str`."
   ]
  },
  {
   "cell_type": "markdown",
   "metadata": {},
   "source": [
    "#### <div id=\"Les booléens\">3. 5. 2. Les booléens</div>\n",
    "\n",
    "Les **booléens**, derrière l'apparence d'un nom complexe, constituent en réalité des briques très simples pour effectuer des opérations logiques de base.\n",
    "\n",
    "Il existe deux **booléens** : `True` et `False`. Tentons d'examiner leur type."
   ]
  },
  {
   "cell_type": "code",
   "execution_count": 1,
   "metadata": {},
   "outputs": [
    {
     "name": "stdout",
     "output_type": "stream",
     "text": [
      "<class 'bool'>\n"
     ]
    }
   ],
   "source": [
    "vrai = True\n",
    "print(type(vrai))"
   ]
  },
  {
   "cell_type": "markdown",
   "metadata": {},
   "source": [
    "Les **booléens** disposent d'un type particulier qui est, en réalité, un sous-type de `int`. Ce sont donc eux que nous utiliserons pour tester des conditions."
   ]
  },
  {
   "cell_type": "markdown",
   "metadata": {},
   "source": [
    "#### <div id=\"Combiner des conditions\">3. 5. 3. Combiner des conditions</div>"
   ]
  },
  {
   "cell_type": "markdown",
   "metadata": {},
   "source": [
    "Pouvoir effectuer un **test de condition** à l'aide d'**opérateurs de comparaisons** est intéressant, mais le mieux, c'est de pouvoir les combiner ! Bien souvent, tester une condition ne sera pas vraiment suffisant.\n",
    "\n",
    "Prenons d'emblée un exemple pour illustrer le problème. Imaginons que l'on essaie de trier une bibliothèque numérique à l'aide d'un script Python.\n",
    "\n",
    "Il existe mille et une façons de trier des livres, mais dans notre cas, on aimerait trier nos livres en fonction de leur genre et de leur auteur. Si on prend un auteur comme Victor Hugo, on trouvera autant de la poésie que des romans ou des pièces de théâtre, il nous faut donc pouvoir combiner des conditions si on veut filtrer nos livres et pouvoir les ranger en tenant compte, à la fois de leur auteur, mais aussi de leur genre. Profitons de nos connaissances maintenant bien étoffées pour représenter cela !"
   ]
  },
  {
   "cell_type": "markdown",
   "metadata": {},
   "source": [
    "Pour l'instant, nous avons une petite bibliothèque : elle ne contient que des oeuvres de Georges Sand et de Victor Hugo."
   ]
  },
  {
   "cell_type": "code",
   "execution_count": 4,
   "metadata": {},
   "outputs": [],
   "source": [
    "# oeuvres de Georges Sand\n",
    "bibliotheque = [{\n",
    "    \"auteur\": \"Georges Sand\",\n",
    "    \"titre\": \"Claudie\",\n",
    "    \"genre\": \"théâtre\",\n",
    "    \"annee\": \"1851\"\n",
    "},\n",
    "{\n",
    "    \"auteur\": \"Georges Sand\",\n",
    "    \"titre\": \"Les dames vertes\",\n",
    "    \"genre\": \"roman\",\n",
    "    \"annee\": \"1857\"\n",
    "},\n",
    "{\n",
    "    \"auteur\": \"Georges Sand\",\n",
    "    \"titre\": \"La petite fadette\",\n",
    "    \"genre\": \"roman\",\n",
    "    \"annee\": \"1849\"\n",
    "},\n",
    "{\n",
    "    \"auteur\": \"Victor Hugo\",\n",
    "    \"titre\": \"Le dernier jour d'un condamné\",\n",
    "    \"genre\": \"roman\",\n",
    "    \"annee\": \"1829\"\n",
    "},\n",
    "{\n",
    "    \"auteur\": \"Victor Hugo\",\n",
    "    \"titre\": \"Les misérables\",\n",
    "    \"genre\": \"roman\",\n",
    "    \"annee\": \"1862\"\n",
    "},\n",
    "{\n",
    "    \"auteur\": \"Georges Sand\",\n",
    "    \"titre\": \"Les maîtres sonneurs\",\n",
    "    \"genre\": \"roman\",\n",
    "    \"annee\": \"1853\"\n",
    "},\n",
    "{\n",
    "    \"auteur\": \"Victor Hugo\",\n",
    "    \"titre\": \"Hernani\",\n",
    "    \"genre\": \"théâtre\",\n",
    "    \"annee\": \"1830\"\n",
    "},\n",
    "{\n",
    "    \"auteur\": \"Georges Sand\",\n",
    "    \"titre\": \"Le mariage de Victorine\",\n",
    "    \"genre\": \"théâtre\",\n",
    "    \"annee\": \"1851\"\n",
    "},\n",
    "{\n",
    "    \"auteur\": \"Georges Sand\",\n",
    "    \"titre\": \"Comme il vous plaira\",\n",
    "    \"genre\": \"théâtre\",\n",
    "    \"annee\": \"1856\"\n",
    "},\n",
    "{\n",
    "    \"auteur\": \"Victor Hugo\",\n",
    "    \"titre\": \"Cromwell\",\n",
    "    \"genre\": \"théâtre\",\n",
    "    \"annee\": \"1827\"\n",
    "}\n",
    "]"
   ]
  },
  {
   "cell_type": "markdown",
   "metadata": {},
   "source": [
    "Voyons d'abord à quoi ressemblent les données pour le premier livre de notre bibliothèque."
   ]
  },
  {
   "cell_type": "code",
   "execution_count": 11,
   "metadata": {},
   "outputs": [
    {
     "data": {
      "text/plain": [
       "{'auteur': 'Georges Sand',\n",
       " 'titre': 'Claudie',\n",
       " 'genre': 'théâtre',\n",
       " 'annee': '1851'}"
      ]
     },
     "execution_count": 11,
     "metadata": {},
     "output_type": "execute_result"
    }
   ],
   "source": [
    "bibliotheque[0]"
   ]
  },
  {
   "cell_type": "markdown",
   "metadata": {},
   "source": [
    "Jusque là, tout va bien. Maintenant, on aimerait accéder, dans ce livre, aux données concernant l'auteur."
   ]
  },
  {
   "cell_type": "code",
   "execution_count": 17,
   "metadata": {},
   "outputs": [
    {
     "name": "stdout",
     "output_type": "stream",
     "text": [
      "Georges Sand\n"
     ]
    }
   ],
   "source": [
    "print(bibliotheque[0][\"auteur\"])"
   ]
  },
  {
   "cell_type": "markdown",
   "metadata": {},
   "source": [
    "Parfait ! Maintenant, vérifions le genre de la première oeuvre."
   ]
  },
  {
   "cell_type": "code",
   "execution_count": 18,
   "metadata": {},
   "outputs": [
    {
     "name": "stdout",
     "output_type": "stream",
     "text": [
      "théâtre\n"
     ]
    }
   ],
   "source": [
    "print(bibliotheque[0][\"genre\"])"
   ]
  },
  {
   "cell_type": "markdown",
   "metadata": {},
   "source": [
    "Avec ces deux informations, on peut tenter d'effectuer un **test de condition** combiné en vérifiant à la fois qu'un livre soit écrit par Georges Sand et qu'il soit une oeuvre de théâtre. Rappelons-nous d'abord comment effectuer un test simple. Vérifions que l'auteure est bien Georges Sand :"
   ]
  },
  {
   "cell_type": "code",
   "execution_count": 15,
   "metadata": {},
   "outputs": [
    {
     "name": "stdout",
     "output_type": "stream",
     "text": [
      "True\n"
     ]
    }
   ],
   "source": [
    "print(bibliotheque[0][\"auteur\"] == \"Georges Sand\")"
   ]
  },
  {
   "cell_type": "markdown",
   "metadata": {},
   "source": [
    "Maintenant, essayons de combiner deux conditions pour vérifier si l'auteur du livre est bien Georges Sand et que le livre en question est une oeuvre de théâtre."
   ]
  },
  {
   "cell_type": "code",
   "execution_count": 16,
   "metadata": {},
   "outputs": [
    {
     "name": "stdout",
     "output_type": "stream",
     "text": [
      "True\n"
     ]
    }
   ],
   "source": [
    "print(bibliotheque[0][\"auteur\"] == \"Georges Sand\" and bibliotheque[0][\"genre\"] == \"théâtre\")"
   ]
  },
  {
   "cell_type": "markdown",
   "metadata": {},
   "source": [
    "Simple, non ? Pour vérifier **plusieurs conditions**, il nous suffit d'enchaîner les tests en les séparant chacun par le mot-clé `and`.\n",
    "\n",
    "Cependant, une petite précision s'impose, car il existe plusieurs façons de combiner des conditions et le mot-clé `and` n'est pas le seul utile pour ce faire. On peut, en effet, également choisir de combiner des conditions à l'aide du mot-clé `or` : les résultats seront alors un peu différents ! Essayons cela avec le premier livre de notre bibliothèque."
   ]
  },
  {
   "cell_type": "code",
   "execution_count": 22,
   "metadata": {},
   "outputs": [
    {
     "name": "stdout",
     "output_type": "stream",
     "text": [
      "False\n",
      "True\n"
     ]
    }
   ],
   "source": [
    "print(bibliotheque[0][\"auteur\"] == \"Victor Hugo\")\n",
    "print(bibliotheque[0][\"auteur\"] == \"Victor Hugo\" or bibliotheque[0][\"genre\"] == \"théâtre\")"
   ]
  },
  {
   "cell_type": "markdown",
   "metadata": {},
   "source": [
    "A travers cet exemple, on voit bien que le mot-clé `or`, comme son nomme laisse l'entendre, renvoie une valeur `True` seulement si une des deux conditions est vérifiée. A l'inverse, le mot-clé `and` nécessite que les deux conditions soient vérifiées pour renvoyer `True`.\n",
    "\n",
    "Il existe différentes façons de représenter ce que l'on appelle les **lois logiques** des **opérateurs logiques**. On peut se référer à <a href=\"https://fr.wikipedia.org/wiki/Table_de_v%C3%A9rit%C3%A9\">cet article Wikipedia</a> pour plus de détails.\n",
    "\n",
    "Si dans notre exemple nous utilisons uniquement deux conditions, il est utile de savoir que l'on peut en combiner un plus grand nombre. Dans ce cas, on fera attention à l'utilisation des parenthèses pour signaler quel test conditionnel on effectue en premier.\n",
    "\n",
    "Un petit exemple."
   ]
  },
  {
   "cell_type": "code",
   "execution_count": 24,
   "metadata": {},
   "outputs": [
    {
     "name": "stdout",
     "output_type": "stream",
     "text": [
      "True\n"
     ]
    }
   ],
   "source": [
    "print((bibliotheque[0][\"auteur\"] == \"Georges Sand\" and bibliotheque[0][\"genre\"] == \"théâtre\") and (bibliotheque[0][\"titre\"] == \"Claudie\" or bibliothque[0][\"annee\"] == \"1980\"))"
   ]
  },
  {
   "cell_type": "markdown",
   "metadata": {},
   "source": [
    "#### <div id=\"If et else\">3. 5. 4. `if` et `else`</div>"
   ]
  },
  {
   "cell_type": "markdown",
   "metadata": {},
   "source": [
    "Tout ceci est bien utile, mais comment l'intégrer à un algorithme ? C'est là que les mots-clés `if` et `else` entrent en jeu. Ils permettront, selon qu'une condition est vérifiée ou non, de faire emprunter une branche ou une autre à notre programme.\n",
    "\n",
    "Un **algorithme** n'est rien d'autre qu'une suite de **propositions logiques** se succédant : elles décrivent des chemins possibles à emprunter en fonction de l'état dans lequel se trouvent les **variables**. Voyons cela à travers l'exemple d'une recette de cuisine.\n",
    "\n",
    "Essayons de préparer une quiche lorraine. Pour cela, il nous faut certains ingrédients qu'il nous faudra mélanger dans un ordre particulier. Ensuite, on enfournera le tout, thermostat 6 pendant 25 minutes. Et hop !"
   ]
  },
  {
   "cell_type": "code",
   "execution_count": 19,
   "metadata": {},
   "outputs": [],
   "source": [
    "quiche = {\"crème\": {\"in\": False},\n",
    "          \"oeufs\": {\"in\": False,\n",
    "                    \"battus\": False},\n",
    "          \"lardons\": {\"in\": False,\n",
    "                      \"cuits\": False}\n",
    "         }"
   ]
  },
  {
   "cell_type": "markdown",
   "metadata": {},
   "source": [
    "Nous avons ici notre quiche lorraine qui est représentée sous forme de structure complexe imbriquant plusieurs dictionnaires. La **variable** `quiche` est un **dictionnaire** qui contient lui-même, pour chaque clé, un autre **dictionnaire** (il nous permettra de vérifier si l'ingrédient est présent ou non et s'il a été correctement préparé au préalable).\n",
    "\n",
    "Commençons par écrire notre algorithme en vérifiant si la quiche est prête. Lorsque tous les ingrédients seront mélangés, on pourra passer à table."
   ]
  },
  {
   "cell_type": "code",
   "execution_count": 20,
   "metadata": {},
   "outputs": [
    {
     "name": "stdout",
     "output_type": "stream",
     "text": [
      "La quiche n'est pas encore prête !\n"
     ]
    }
   ],
   "source": [
    "if quiche[\"crème\"][\"in\"] == True and quiche[\"oeufs\"][\"in\"] == True and quiche[\"lardons\"][\"in\"] == True:\n",
    "    print(\"Le repas est servi !\")\n",
    "else:\n",
    "    print(\"La quiche n'est pas encore prête !\")"
   ]
  },
  {
   "cell_type": "markdown",
   "metadata": {},
   "source": [
    "Avant de commenter ce morceau de code plus en détail, remarquons d'emblée une chose : il est **indenté**. Généralement, l'**indentation** est utilisée, en programmation, pour rendre un programme plus lisible, mais en Python, elle fait partie intégrante de la syntaxe. L'**indentation** permet à Python de reconnaître un **bloc de code**.\n",
    "\n",
    "Un **bloc de code** décrit une série d'**instructions** particulières séparée du reste du code. Lorsqu'on utilise un **bloc `if`**, on peut parler de **branche** de notre algorithme.\n",
    "\n",
    "On peut traduire la logique `if`/`else` par \"si\"/\"alors\". On peut la voir comme une forme d'aiguillage permettant d'orienter le chemin que va emprunter notre code dans une série d'embranchements possibles. Chaque **bloc `if`/`else`** commence par la vérification d'une condition comme nous l'avons vu précédemment : si la condition est vérifiée, le programme emprunte le chemin du **bloc `if`**, si elle ne l'est pas, il emprunte le chemin du **bloc `else`**.\n",
    "\n",
    "Si dans la plupart des cas, une structure `if`/`else` sera suffisante, on peut aussi intercaler le `elif` qui peut se traduire par \"ou sinon\". Dans ce cas, on pourra vérifier une première condition, si elle n'est pas vérifiée, on pourra en vérifier une seconde, si les deux ne sont pas vérifiées, dans ce cas, on passe au bloc \"alors\".\n",
    "\n",
    "Comme pour les **structures de données**, on peut parfaitement imbriquer des **blocs `if`/`else`** les uns dans les autres."
   ]
  },
  {
   "cell_type": "code",
   "execution_count": 21,
   "metadata": {},
   "outputs": [
    {
     "name": "stdout",
     "output_type": "stream",
     "text": [
      "{'crème': {'in': True}, 'oeufs': {'in': False, 'battus': False}, 'lardons': {'in': False, 'cuits': False}}\n"
     ]
    }
   ],
   "source": [
    "if quiche[\"crème\"][\"in\"] == False:\n",
    "    # Il faut ajouter la crème !\n",
    "    quiche[\"crème\"][\"in\"] = True\n",
    "    print(quiche)\n",
    "elif quiche[\"lardons\"][\"in\"] == False:\n",
    "    # Il faut ajouter les lardons !\n",
    "    quiche[\"lardons\"][\"in\"] = True\n",
    "    print(quiche)\n",
    "elif quiche[\"oeufs\"][\"in\"] == False:\n",
    "    # Il faut ajouter les oeufs !\n",
    "    quiche[\"oeufs\"][\"in\"] = True\n",
    "    print(quiche)\n",
    "else:\n",
    "    print(\"A table !\")"
   ]
  },
  {
   "cell_type": "markdown",
   "metadata": {},
   "source": [
    "<img src=\"data:image/png;base64,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\"\n",
    " width=600/>"
   ]
  },
  {
   "cell_type": "markdown",
   "metadata": {},
   "source": [
    "<div class=\"alert alert-success\" role=\"alert\"><strong>Cinquième exercice :</strong> A partir du schéma ci-dessus, écrivez un algorithme qui parcourt les étapes décrites. Une fois l'algorithme écrit, modifiez-le de telle sorte à ce qu'à chaque étape, si une condition n'est pas vérifiée, le bloc <code>else</code> associé change la valeur de l'ingrédient et le remplace par <code>True</code>.\n",
    "<br>\n",
    "<br>\n",
    "Aidez-vous des commentaires pour rendre votre code plus lisible !\n",
    "</div>"
   ]
  },
  {
   "cell_type": "markdown",
   "metadata": {},
   "source": [
    "<div class=\"alert alert-danger\" role=\"alert\"><strong>Ecrire un algorithme :</strong>\n",
    "<br>\n",
    "<br>\n",
    "Pensez bien à indenter chaque niveau de l'algorithme, sinon, les <code>else</code> ne correspondront pas nécessairement au bon <code>if</code> associé !\n",
    "<pre>\n",
    "<code>if quiche[\"crème\"][\"in\"] == True:\n",
    "    if quiche[\"oeufs\"][\"in\"] == True:\n",
    "        if quiche[\"lardons\"][\"in\"] and quiche[\"lardons\"][\"cuits\"] == True:\n",
    "            print(\"Le repas est servi !\")\n",
    "        else:\n",
    "            if quiche[\"lardons\"][\"cuits\"] == True:\n",
    "                # Les lardons sont cuits, mais on a oublié de les mettre dans la quiche !\n",
    "                quiche[\"lardons\"][\"in\"] = True\n",
    "            elif quiche[\"lardons\"][\"in\"] == True:\n",
    "                # Les lardons ne sont pas cuits, il faut les faire cuire avant de les ajouter !\n",
    "            else:\n",
    "                # Les lardons ne sont pas cuits, tant mieux car ils n'étaient de toute façon pas cuits !\n",
    "                quiche[\"lardons\"][\"cuits\"] = True\n",
    "                quiche[\"lardons\"][\"in\"] = True\n",
    "    else:\n",
    "        # Il manque les oeufs !\n",
    "        quiche[\"oeufs\"][\"in\"] = True\n",
    "else:\n",
    "    # Il n'y a pas de crème, ajoutons-en\n",
    "    quiche[\"crème\"][\"in\"] = True\n",
    "    print(\"La quiche n'est pas prête.\")</code>\n",
    "</pre>\n",
    "</div>"
   ]
  },
  {
   "cell_type": "markdown",
   "metadata": {},
   "source": [
    "### <div id=\"Les boucles\">3. 6. Les boucles</div>"
   ]
  },
  {
   "cell_type": "markdown",
   "metadata": {},
   "source": [
    "Sans boucle, l'intérêt des **structures de contrôle** est un peu limité, car celles-ci permettent de définir des tâches récurrentes comme remplir des **listes**, modifier les valeurs de **variables**, etc. Grâce aux **blocs `if`/`else`**, nous pourrons construire des boucles qui empruntent des chemins différents en fonction de conditions spécifiques.\n",
    "\n",
    "Commençons par voir la syntaxe des boucles en Python.\n",
    "\n",
    "Il existe deux types de boucles en Python :\n",
    "* La boucle `while`\n",
    "* La boucle `for`"
   ]
  },
  {
   "cell_type": "markdown",
   "metadata": {},
   "source": [
    "#### <div id=\"La boucle while\">3. 6. 1. La boucle while</div>"
   ]
  },
  {
   "cell_type": "markdown",
   "metadata": {},
   "source": [
    "La boucle `while` (qui peut se traduire par \"tant que...\") se construit de façon un peu similaire aux **blocs `if`/`else`**. Elle se définit également par un **bloc** vérifiant une condition. Quand le programme entre dans le **bloc**, il exécute chaque ligne contenue dans le bloc de code et, à la différence du **bloc `if`**, il revient au début du **bloc `while`** pour tester si la condition initiale est toujours vérifiée. Si tel est le cas, le code inscrit dans le **bloc `while`** est réexécuté une seconde fois et ainsi de suite, jusqu'à ce que la condition ne soit plus vérifiée.\n",
    "\n",
    "Voyons un exemple tout de suite."
   ]
  },
  {
   "cell_type": "code",
   "execution_count": 30,
   "metadata": {},
   "outputs": [
    {
     "name": "stdout",
     "output_type": "stream",
     "text": [
      "Ce n'est pas prêt...\n"
     ]
    }
   ],
   "source": [
    "cuisson = \"en cours\"\n",
    "\n",
    "while cuisson == \"en cours\":\n",
    "    print(\"Ce n'est pas prêt...\")\n",
    "    break"
   ]
  },
  {
   "cell_type": "markdown",
   "metadata": {},
   "source": [
    "Le code ci-dessus est un très mauvais exemple mais il permettra d'évoquer deux choses :\n",
    "* Tout d'abord, un problème que l'on rencontre régulièrement quand on débute : écrire une boucle infinie ! En effet, si on décortique chaque morceau de notre code, on se rend compte que la condition vérifiant que notre variable `cuisson` vaut `en cours` est toujours vérifiée à chaque tour de boucle. Ainsi, une fois que le programme entre dans le **bloc `while`**, il n'en sort jamais car la condition est toujours vérifiée à chaque tour de boucle !\n",
    "* Ensuite, l'instruction `break` qui permet de sortir du **bloc** parcouru. Ici, elle nous permet de casser la boucle infinie dès la première itération (dès le premier tour de boucle).\n",
    "\n",
    "Je vous laisse essayer de retirer l'instruction `break` pour voir une boucle infinie en action. Il est possible d'arrêter l'exécution d'une cellule en appuyant sur la touche \"Interrompre le noyau\" dans le panneau de menu de Jupyter.\n",
    "\n",
    "<img src=\" data:image/png;base64,iVBORw0KGgoAAAANSUhEUgAABHYAAABBCAYAAAC0ASOGAAAAAXNSR0IArs4c6QAAAARnQU1BAACxjwv8YQUAAAAJcEhZcwAAEnQAABJ0Ad5mH3gAACBfSURBVHhe7d0LXFRl/j/wDxhet4uXCJQRs195qSwXNVEjXVft54IXEkJpsaw00x8EXrD4ZRRrWZoupKml7Ya6lpTmD7VV/5m6GqyKbr5+mreXpUziz1pMLUPHy/88Z54ZzgxzhgHmCp+3ryPnPOfMnPuZ83zP8zwnqKys7AaIiIiIiIiIiCjgBFVUVDCwQ0REREREREQUAM6dO4ewsDA5BATLv0REREREREREFGAY2CEiIiIiIiIiClAM7BARERERERERBSi2sUNERERERESk48yZMzCZTHIoMISEhNi0wUL1i30bOwzsEBEREREREekoLS1Fx44d5VBgOHHiBAwGgxyi+oaNJxMRERERERGRV6WkpMg+cjcGdoiIiIiIiIiIAhQDO0REREREREREAYqBHSIiIiIiIiIin7iKS+U/4scff0T5pasyrWbqFtgpK0RWSopaV86+W1RiGb8Iotem3x85WZcU3eUuwaKULBSWKb1+t35lKMxSll3dEVWVLJLj/H2/uKI+rENd2B+7Ovu8Cu1284dtqLcMcv1cXa0684NtYT0/tUoWqfs3S73gVHLtXNZcq+ozp8eQC/vUD/Y9ERERBQ6REc/KyqrS7dixwzrOFZ988gm++eYbOVSpJt8R0NR7ME1+xtrV8v7VW/d08v689st6BaVf5GLaM8/iuRcykJGRgReeG4dx//Un/O1f5ahJiMcNJXaikZafj3y7bmKUMio8DrPyJ0L0BgbH65Lvyjpo19UvMgfhiIuPBop2O1iOEuwuUta2l7K0AbeP/IA/Zf7ExSTTiHjrsfomEoy5rgd3/J3Y1pnF6P2mvKY0EG0jDIDxNLS/DSXKSRsdHY1SJb1SGU4bAUNEW8+fy/503BMRERH5kVmzZtl0MTExaNOmjdpPrnKQF0+LQEGmCwETX9yninnmGpGg5FMql7Umy3AeexZOw8wPS/Bj43BEPZqEp556CiP7RKLFL0fx93kvIWfdCZeDO6yKVZ9F9VJOjyLstj+6SnYrqdEQcR0KZCVYlKvsyTRtZj4ccZMTYChaUw9KZyjrpwZ1ZiEuXCY1EOE9esNQakRlCEcEY5VzdqJyTtsEa0/DWGpA7x4NbAMRERER+Tn70jb2pXvsS+gcPHhQd5yW9jvqvagRSDCUiued/kd9qKrJp6h5b+X+3cU82PlNeXj3n+fQpNs4vJ33OtLGDMWAAQMw8rkcvDN/Gh4Ju4xvP12I1SflB6rh2cCO08iZqBpgKbYUQE+BtcWtFu2WiQrruorMaAFKUYRcn1d9iEIvtdCO7dYVT/4NCSN0Shc52i/mal3WQiDqZzTDYptkFdqULvAZuT6FhVnW/WRTdcVpcTmdY1J8Z9YiLBJV21JmYZa/7F+9AJ39RUZvvfyaWOZcIM1RUMeV/aSkV3cs+PN2CW+LCG1Qtuw0jIYItFX+RRg0PxjiGDD0hhrXketrXQ+9a5WgTmsZV2h7fjvcLkqao+Pe6fnkz1zZ9+K6p6xToXY7Op6SiIiIqDrz589Henq6WopH/F2xYoUcY3bmzBndcRaiytaQIUPU6cRfMdxQOGqqoEzc5y9arZ//1tyr2nxUey+s/Uy1+Qd9ZYVrKu/Lq3UUazccw7XmD2H8C/3R6iaZbHHr/Xh6Siza4QdsKdjpUqkdNwR2xAa0bBTZVXvzK26YRabNXGzpzQQjcv0iMOBgXWzWR8kMqCUk5HJHGJVP2IvCxDcTYFCLkvm+pEGUObKjybiIJ/96T/j19ks4evQ2VAaI1LofBhhl7rJMGTb07qFM5S+KUIzJskhcNEoLPpPrL/afXXG5BZbjrppjslTZ0/FiXBay/Gj/Qs3sO+Ov55oz5mUuik5zUP3K1f1kKcWkdyz4+3YxB2Wt59jeYignrXKOiXMRKN4r08W5GNHWwbnn7FplDtJEWMcVo6BUjtLdLo6ua87OJ19ycB1Xf+wtarLvS1FQICYV06YhuijX5R93IiIiaji0pWj0gi0iGCOqZwmWv1oDBw5U/4px3bt3d1hqZ//+/ejatavaL6p7ieF6reQz5T7V/CA7aoSolaDN15Zhb3Eponsl6uS/lXvC3b3kfWo0inJtH1ha7oWrVqHSyz/okEEi5SuRMDnOtTzxj9/g+E/AzT0H4Lf2QR2LOx5F/7uBa98ewVGZ5Ixn2tiprjGMsr0oljtICI+LR3RpMWRexYccrIt2fdSn4wkYoV1uc6//UouvaZ78a5/w23OyX9SqIbLNj5LdRvSOV3KXapk48wkV0dalQ9hLNIGrthHKkJamKF/UROTPkidftcekQeSfA4/fnmt6jFiTlYmCiAS1raAqmega7yedYyEAtosIylra0zltrDzHwpX1KC3eq56LIl1tK8ues2uVs3E13i4655NPObiOqz/2Ug3XsbKqYxRGJBjs2jgiIiIism1jZ9SoUTK1KhH00atGdfvtt8s+50TJH+13iCpe9YODh3PqQ0R5LxbeA721+Vq7e7qqDEiw3PDa5ANOKzkOzeeqVKFylpd0QK0todxv1qSNnV9+wa/Kn6bNWpiHHWqBFs2UPxfPodyc4JQP29jR7rhcZcj/qU/HA45taRu1GpbT0jU6+0VUDVEzP2VKZjICbaOUYTViKtr4cHZC+YKyfA5XMAoT89OgrKBcP/s3LTk7JvW+08ds2mHRE0jnWikiRImbiXFqW0EoWOCgek9N9pOz/ebn20X8kBhFMFW2r6P98VH3u126hrNrVdVxonqX7FW5ul2qO5/8We32vQiqiUiWbpyLiIiISIcIxNx7771q8EdUt7L3ww8/yD5ztSw92iCS6ByV/glMjgpZaEvg2OZr1RLtluZFHNLJByj3wqU2tR7EvbC2HZ9a5vtq0sZOm9a4Tflz4d9nnVSzOolT4rtah1VTQ8PMh4Ed+x3nB9VaqqHe1AcgtbSNCMKUFWKNkhGMd7qh9faLqBqiHPB796JYHOzqsHLgFu5GUXQvJyeUvxGZUbluNkXyhAA7JvUax1bWSLQfUpnJDqT10gQqwuOgxnaqRL7dtT5+vl3EUwnlbNtbYmlfx0K2s1MlvZKza1XVcSI4K3tVNdkuzs4nf1a7fa9f9Y2IiIhIn6VUTZcuXdS/FtrSNqLxZEGklZWVVZlWEFW0xKvUBVFVa8GCBWp/Q6GWtFYLF4haI6KlglrclYmHpzYPx8W9sJdrZ7Toh+hOjXB53zps+D+ZZufqvvXY8QNw2wO90FGmOeObwE6VYlR2jX76K/VJeQE+kwuqNpBk7nXAxWidN8jtvWZBMUqdBWGq2S+iaoix2NLWh3pOoLjYaH7VciBQ10engdcaH5P+sH/NVUOKcrXrZG4/xFrVJlDPNSk8brJalTDXEqVy1/oExHYJV86xUhSvqTznzMzt7Bh3G+3SNZxdq5yNq3a7aI57dZzO+eTParjvi9ZY2t8pwWcFOlXfiIiIiJwQpWpEY8eWKlQfffQRwsPDbUrpCGKcpZFlR0Q1r02bNqnTiQaWk5KS5JiGQhQuUO7jCkVhA/vmRVzMn9m/pEQ0U1CbUjpqw8yae0j1ZSeuNp7cAv1HD0IYTuGzV2djY+kVmS5cRfm/luGld/6JS827IXHkPTLdOR+V2AlH3CxNEX71lcbaVzb7irZ4vm1nzleaGxA1yuVeoBxMDtvYUTMOpSjI9JeqCcr2jo9GaWl1mZJq9ouI5CjfYdPWR2ktI6W+IOo/qnUf5fpp62zW5Jj0o/0bHjdL1ueUy50i2qdJ07R14q/nmquU5Vdf354rGzF31/oExnZR29lxcI6Jc6+oSPkJ0v0Fcnatsh2XaYxQxlmeUjjZLvbHvdPzyZ/VbN9HRxiRKaZLyYUx4U0HDXoTERFRQyUCNqI6lCP240Rjx5bqU5MnT1Y7S6kcEbARnWW8pXqVo++3TKOdriER98dFBQWIiNe07Vij/JntvXCt72GjJppfwqHeJ4p7SiPia9De5E0dxyDr6e5o9ushfJQ1Ac9MnIRJk5Ruwni8MG87zjS5E49NfwH9bpUfqEZQRUXFDdlPREQNjqi6twYRb/pzFT1fEKXfMmGMz2cwh4iIqIETD8g7dnSlQoz/OHHiBAyGapv+9SoRABHV4OtElLYWQRTrW3AD29XyI9i8egW2fF2GnyqAps1b486+wzB6VF8YGsuJHDh37hzCwsLkkE/b2CEiIq+zr0JV2+KnREREREReJhpNdtq8SIC5qVUnDH0uB/MXLcVf/rIUixa+ieljnAd1HGFgh4ioIbE2Sl3H4qdERERERN6iPpxMQWZBBNJYnLoKVsUiIiIiIiIi0sGqWO7hlqpYpGJVLCIiIiIiIiKieoIldoiIiIiIiIh0nDlzBiaTSQ4FhpCQEJsSHVS/2JfYYWCHiIiIiIiIiChAsCoWEREREREREVE9wcAOEREREREREVGAYlUsImqQfvmP+2SfvhbH/1f2ERERERER+YcqbexcunTpRnAwC+4QUf3nSjBHD4M8RERERETka9evX8eFCxdwxx13yBQg6MyZMzcUcpCIqP5p3PNh2Vd3V/b8Q/YRERERERF5V1BQEG6++WY0b95cpihpjOoQUX1Vbrhb9rlfq9Jjso+IiIiIiMh3WAeLiOolTwZ1BE9/PxERERERkStYYoeI6h1Xgy7OSt244zuIiIiIiIg8jYEdIqpXqgvI1CYQ44nvJCIiIiIicgcGdoio3nAWgHFH8MXT309ERERERFRTQfv27bshXpflaeKV6pGRkWjVqpVMqVReXo6TJ0+qr+3yJH9YhoaM25/bwJPuHJEk+6r69rOPZF/deWs+/kLvmOXxSoHM2bVYy1fHuavLR0RERCQEVVRU3GjSpIkc9JzLly/j0KFD6N69u0yptH//fnTt2hWeXg5/WAZ7JSUliIqKkkPe44v5+tv25zaoP7xdksaXJXe8fdzqHbPieO3QoQMaNWqkvnKRyJuys7PRtm1bOVRzImDy4IMPOrwWa/nquuzst4KIiIjInlerYullSLyZUfGHZdDifM18sTzcBvWHXqDFk0EWX8xT8JdzRaR16dKFgR3yiXfeeQcJCQlyqOYOHjyI0NDQas8lX16X+ZtAREREruLrzokooPkqwKL3/c5K89Q3IqgTEhLCjp3XOyIiIiKqxMBOIKo4h7KyMtmdxUWTTHc300Wctc7HUefBeRPVgaeDOhbemo+/EiV12LHzRUdERERElaoN7FScc5Sht3TnUCGn8zbLcp1tUJEFE86uy8DAmKFISklBiuiS4zE4c7Mc716bMwdiaNxwJCTLeWm7pHjExQ3F0Fd2yKkbEBlY8/axZ6qoUI4AeyZcPKucC2cvOhhHjsltZnMt0+s8c40zXTxr/v5znrmCVijHSlUmmHiQEBERERHVO9UEdjbjpSHxSEpOwPC4OCUjr3TxSWrGPjlhOIbHD8XvExfikNczC2K5zMszdOx7OCFTvcHTGTJ9IqgzFaPzvsa1670wfcsWbBHd4gTcfs0zO8B0TbwF5BYMeCkf+fl23cu/x23K2F9/uahO6yvlW2di1KiZ2HzWWwfhCSwcM8h87I2ah69lqjd8u0Q57xYesgvgfIlXYpVzIfYVpU/HqXwk9+iBHg67bNQoNCe/K9tP4nm1q/a0Gf89VF7Pqu3GYslR+bEacLxcyjm8KxfPDo5G9ICh5u8f1A/Rg5/AzHUnYTIdwgepL2LtGTl5HXzx0h+QsaFcDklH38Xjj+f64HpNRERERESeVE1gx2QOIixOQJhMQa/pakBhcUIYwpKW4b1HtmO81zMLYrlk79WruCp7Pe3C5ul4dGAsEpISMHxQDAY+9YHuelcc3439bgs2WII6jZBRkIEHZKrV1R+wf9NarF1r6b7CSbftj5/w+Qz7zK7SzfhcGeNb5VtfwhMzNuK77zbipcSpWOeV4I5yvFkOuH+fhlH2ekcFTvzlabvgjjwXrl/TpDkSi3l792JvlS4bMXIKV+z4IA93z9uL7Jp8yBE1QFTDoJKLvP3KcdfmZ8KhD55GYtpy7C+/hqa3d0bv/v3xYIcWyoF8GBtzEvDoo8/j3a8O4tQF+ZG6uHYeO15NqBLcuXpqOZ5kcIfIvUxn7X6DXeg27YfXnkcQERFRvVfHNnZuQtdJK/HewF0Y//hC1OLBdkD5x4ataDZqKb7cvhO7Ns7H784vxvOZm6HNh5kuHsa6t7Kx+FgzBK2chJzdckQdXNicicSco3gg+WFc2V4Cmwf6V6/h+j8X4Nl5n2LXrl1q9+niVMzzTO0soFl79FQypP1F17k1ULQMs4rtSgZ4gTmosxlnLQG+n3chx2vBHV8yOQjueE9MthuCOg2Q6dA7mPHuIfwc3B4jc9fjy89XYMHcuVj6yXZ8uSIZHXAd58//LKd2k+uOgzvXvRHc2ZOHxMTEym7aWnwvR9XM91g7LRF5e+QgkR868d5zSF2y2fob7Eq3eUkqXljuhuJ5RERERIqaB3YOr8LUqVMxf/s53HTTTUpCCLpOykb8lS+wxYN1osoPrMBsZb5i3lOnrsJhmY5z2zHfkj4zF1vcV1Slim4P3IOzG5dh41kTQkL7YvrYnvj5+DfmQIvpLHYtmYGX8/+N6PQsjGn0d3x862RM66V+tE7+sWEHmnS+F8GHxA3hBXSf+hweFiPKt+KlqRtwV997gc6jMVfJKIpudGf1Y57R8hGky/nMFTO6sw1OZj3j1eBOlaCOhYeCO6aT6zB79jr9UlCmk1g3eyaWH/BW9Tz3B3dO5SejR49k5J+yJqhVrpKtCTuQrVd9S05rqd5lraZlXyrHOqx8V3wejmA9MrTz1JuH+FxyNrKTHcw7IJiUTNxHOI1meChrKbL6hipXTYujWP36Onwnh9zOB8Gd79dOQ+IcYNrq1Vgtu2mGVUivdXCHyL9dvXpV+WlMx/iH2uCh8TMxrEMHDJs5Hg+1eQjj5z6B+zsMw8ypgxB6/xOYO/4hdBg0FemPtMTPF91RPI+IiIjI1cDOPX/En2ZlIStL6Z57DH379sXgP/43skd3lBPchEbBmioqHlC07M/4ZNs2bFO7w/i3TMevp7DHkr5xOd757Fs5wv0M4xZgdswJzB4ag0cGDcLvZ+9BaIQR70+egsz5Rbhj7GzMHn83/rXgNfw97L/wxrhuaCo/W1edR8tgitLNSOqCW0RQ54lZ+GXCKswdLFq78ZGw4Vj4QaLXgju6QR0Ldwd3LmxG5tgcfPJJDhIcZYRFuyhPj0XOJxuR+8x45HvtAawluHPExaqIIohSGXyxdjIK0z5lJebFHkHeB+ZhUeUKqWuwMqW9MnQK+ckZwDxz9a01qceQkZyvpKpTqkEaUT1Lrdq1JhXHMqoLvsQgW5muk1o9bCXUWTidh+LIemBCzauO+Yci7NqnHLDBPTF8eCuZZtEGDyanma+tajcDI+6Uo9zFEtz5/JxMMPNMcGcPPl0FjJ6fip4yReiZOh+jsQqfWkve7EGetURPnjKkpRk37VOUylQzZ5+jhm7atGkwGo24ceOGOiz+Xr58WQ0unj59Wk3zpOaRnRDZHLi9c2fcjuaI7BSp/N8GXTrfroxsj992aQMc24nNhxnQISIiIvdyscROK3QbMhIjR2q7Iehmn0ep91rhd68V4sst7yHn+eeR894yTLjtOK70GAJDm3aIvFSMt19ZjlvG5iClm7tCOo6U4oPJM7AtqD2C/vEWXlx1GMGNKssAeE1IIwQfXoUX39mL5necx9rUyfjANhfmXkcX4hlrUOc36Pr8GDykjlCE/SfG9P2NuV8N7uTgK/NQ3TSLQGQr82lizggvxFFrUOlbfPz083j3kLkKTfDNYQhTbuq9x4QTH37kYuZWp40dTb2qmOw1SD2WgezsbGQcS8Ub5ogLcGobNh2Jxe/kpO1TJiD2yCZsE1GXHVuxvlMqxlm+pn0KVtYm+OJsHqpO6NhB9gaci/jlV+VPWCSqroL9tbUPIj1xKovgzsqNttU4FddPrcTsVW6MRu4pws7IPujVTg5btcPIOauRKqM9e/LmoHT0fHOJnmnAHE1pHptxicDOk3KEQjtu/uhSzGEdLdJIS0vDxo0bcfz4cVy/fh1XrlzB1q1b0bRpU7Rs2VJO5Tk/frMLq/+8GKfuuw+nFn+BxiMb44upyt/7TmHx4lO4r/EXmKr8XhMRERG5m2uBnQs7kDNqEAYNctDFpqLAk5l5afCfNqKwsFB26egh0xEWjzxreiE+nHCPHOEhFcfxZX4B8leuRP6HuSi8moTH77kEQ9PdmLmsHA93u4Ivi066rYqMYwfw9YURmLv0dWROmYIpc/6KTa8PluO8aPDr2PTXOZiiLEPm2yuQ/tuj+PqAHOcJbTrAoAZORFDnXSwb1wmiMqAquA1i567GyzK4ExLaDm3UvjoK6Yq0pXkY2d4S3NmFf1rzwadxyBLUuTUGrxS8hcG3qIPeEdwef/xrFqLlYN21R8qEWKxfvx6xE1KUIS1tiZ8MZcjs1HfHZJ87OJ6H2d3oYLtAASQMoaJQ3ekD2OerB/W/6YtX85IrG8FXBaP9yDz8OcU2tc4MEagS17GxB0U7+yFxpJyqZzT6nfwKu9XIjv24xzA60txrHheJPjJq1G5kIvrtLGKpHbJq164dBgwYgKKiIhw7dgzr1q2DyWRS05o1ayan8pzOw5Tf4ylPok/r1ujz5DB0Vv4Nm6L8bd0HTz7ZB607D1N/r5eOc3exPCIiImroXAvsnNmPPRUD8Kr9K6+V7smIr7DTk5l5KeTmUISHh8vuNjSR6QhugTbW9HC09GRBmfINSHs0Ca/9v59w/8iRuPvscRwo+Tv2XGmLa/97AEF33YNuSS8i3fAFZs7Z7Nk3XnhzvXU1RUvNMtxm3Ske0uoPmLv6fcx7fzWWjeuqaadECgnF8Lmr8f6897Fu5QS4LcTXqjeyNMEde+agzjz8wZsl2NSgzsdI62oNbbnBDmRnHEPqPEfVqexL/JirULXvUJvXjetxPI+aunNEkuzzjurnF4XYQa2Vv1/jb0sdt4tUfmC/G99kZ0cEddbk2h2f5qDO0qzecOth29aAyFKj87Z0vjfaVa9qC4MleFNlXDtEGGSv6iRWpVuqYs3BTmVqIxvuIenSpUu466670K9fP3z88cdqMEc8gGrcuDGuXbsmp/KcXfNTsOjQzyh4dijikxMRNygOiSnK36HxSE6Ox9DX9yH80CJM98bTMCIiImpQXAvsCHaBBK9l5v3Ijrmzse/el7GhMA9pycnIeOxeXG/xIP6zfy/Ev74Yr/b7P3w4YwaWXYzFa0/fgr/l/BnuaHYmpFEwdr+lLSn1Ftzwsq2AFBLaHTHdtY3P2gkJRfeY7gh1d3UWneCOb4M67lxJcxs3x1LfQEpMCt7QtnHTvj+GdFqPrZZIj7URZEXM7xB7JA+yaR45TjaI3L4D7kbl505t24Qj5l7pGL6zVLVyNg8nWpW6s8SQ+9gv1wPPpkIUJjv9t6cRP30NDl+UUZyK77EtNwXx457FWLs37LmFN4M6QrsIGKylb7Q0b7cS05gTpdMotVS3qjLuexht8sD9bBplXr16DiyFe4hatGiB4OBgdOzYETNnzkRcXJwa3GnSpAkaNWokp/Kcvun5SO9rQMJbVR+CqV16XzER3kqwPcqJiIiI6sr1wI5faYlbZXMqwbe1hDdrv6DiHL4vO4HdKzIwfNY+dB0Vby0ZIt6UNWF2DhKab8X8vA0wnr+AC5fkyDoYPG83irZvwZYtlm463PCyrWq1tGxkMrML7gRWUEen8WSlE+0n78iORx4q29Uxt3GTh3i1ceX2SFk5D8oXmD8TvwlD1lja0TE3hHzMOk40pGwpaRODcamdsF6OexFDEKt+RqEGco4gL97yFi1n86gHRGmzd59CxxATyra+jicGRJvXs99wTF0uXoMeij6xPdx7LfN2UEfVE4+NBlal2zZsvCcvHaswGo+pbez0RHS/nVi9VkZ/bNrlsR/3KVZZ29ixH5dXh9eoE7lPWGQEflg+Bv0GxWFQv2gMGBqnBpWqdIP6Kef8IAxVzv8xyy/gvu6skkVERETuEXTD8voIh75CzsAXsO683iuINELuR8bav2CMk+YaSkpKEBUVJYcq6aV7Qp2WobwYuZmvouDrn9Ao9D7EvzgLz9u8urjmarfuG5A27Dgm/U+aw+pGG9J6YPPgvcj9g0xwwN/mW7vlOYoliWPx/gkl3zz8TWx4OaZG+6J281Qox8F77x1At/Hj0bsWuePaboOjS6Zjy8OzMMkmqPMVZvZPxUYMRd6219BHpjYk5QbH1cH0S/N8genRmdjqStWn4K5I/Z986DVDU+N5VxzH50vysGz91/j+3BU0btkahugkTJn8OLq7WMzMleN2c04GTJPsgo4nlmD6qgcwoxZBHUfzFGn3338/QkJCEBQUJFMlEXSZs1MOKCJHY/6ckZq2d8TbrURVKkGUwtG+RUuU7kk3B3Qi+yljlakSLQ0vaz8XidHzWWKnoXr77beRkJAgh2ru4MGDCA0NrfZccuV88xRfzpuIiIgCSzWBHffSu0nx5s2LPyyDVu3m+xXeiH0FWy/LwSruwKiFK+CsHWl/m68vtr+/7XNfLU99UPPgTt35Yp6Cv5wrIk03sEPkYQzsEBEREVUK0KpYDV0fvLheWzXLvnMeXKk9X82XqHb0gi915anvJSIiIiIiqikGdogo4DkrJePuIIyz7/N0aR0iIiIiIiJ7DOwQUb3gjeAOgzpERERERORvGNghonqjuuBObQM81X2WQR0iIiIiIvKV4MuXdVvCdSsxn+Bgx3Ekke6N5fCHZWjIuP25Dbzh288+kn2OWYI01QV5XJ2uvtM7ZkWayWSCaH+fHTtvd7/++iu2b99e604cu3rXYi1fXZed/VYQERER2Qvat2/fjevXXXideR2JG5TIyEi0alX1Rbvl5eU4efIkPL0c/rAMDRm3P7eBN905Ikn2eU51QaT6QO+Y5fFKgczZtVjLV8e5q8tHREREJHj1dedERN7kydI2rH5FRERERET+gIEdIqr33BngYUCHiIiIiIj8CQM7RNRg1CXAw4AOERERERH5H+D/AwRvlXDerqbkAAAAAElFTkSuQmCC\"/>"
   ]
  },
  {
   "cell_type": "markdown",
   "metadata": {},
   "source": [
    "Habituellement, la boucle `while` s'utilise à l'aide d'un **compteur**. A chaque tour de boucle, on utilise ainsi une **variable** qui compte combien de tours de boucle ont été effectués. Une fois qu'un certain nombre est atteint, on peut quitter la boucle."
   ]
  },
  {
   "cell_type": "code",
   "execution_count": 33,
   "metadata": {},
   "outputs": [
    {
     "name": "stdout",
     "output_type": "stream",
     "text": [
      "Ca cuit encore...\n",
      "0\n",
      "Ca cuit encore...\n",
      "5\n",
      "Ca cuit encore...\n",
      "10\n",
      "Ca cuit encore...\n",
      "15\n",
      "Ca cuit encore...\n",
      "20\n",
      "Ca cuit encore...\n",
      "25\n",
      "C'est cuit !\n"
     ]
    }
   ],
   "source": [
    "temps_cuisson = 30\n",
    "i = 0\n",
    "\n",
    "while i < temps_cuisson:\n",
    "    print(\"Ca cuit encore...\")\n",
    "    print(i)\n",
    "    i += 5\n",
    "    \n",
    "print(\"C'est cuit !\")"
   ]
  },
  {
   "cell_type": "markdown",
   "metadata": {},
   "source": [
    "Comme on peut le voir, à chaque tour de boucle, on demande d'afficher la valeur de notre **variable** `i` que l'on **incrémente** de `5`. Incrémenter consiste simplement à prendre la valeur actuelle d'une **variable** et lui ajouter une autre valeur. S'il est plus courant de l'écrire sous la forme `i += 5`, on peut aussi l'écrire `i = i + 5` (on se rappelera ainsi que `=` ne vérifie pas l'égalité mais représenter l'**opérateur d'affectation** qui nous permet de modifier la valeur d'une variable). A noter que l'on peut le faire en additionnant `i += 5`, mais aussi en soustrayant `i -= 5`, en multipliant `i *= 5` ou en divisant `i /= 5`."
   ]
  },
  {
   "cell_type": "markdown",
   "metadata": {},
   "source": [
    "Un autre usage de la boucle `while` se retrouve aussi dans le cas où l'on souhaite parcourir les éléments d'une **liste** ou les lettres d'une **chaîne de caractères**."
   ]
  },
  {
   "cell_type": "code",
   "execution_count": 39,
   "metadata": {},
   "outputs": [
    {
     "name": "stdout",
     "output_type": "stream",
     "text": [
      "Victor Hugo\n",
      "Georges Sand\n",
      "Jules Verne\n",
      "Germaine de Staël\n",
      "Alphonse de Lamartine\n"
     ]
    }
   ],
   "source": [
    "invités = [\"Victor Hugo\", \"Georges Sand\", \"Jules Verne\", \"Germaine de Staël\", \"Alphonse de Lamartine\"]\n",
    "i = 0\n",
    "\n",
    "while i < len(invités):\n",
    "    print(invités[i])\n",
    "    i += 1"
   ]
  },
  {
   "cell_type": "code",
   "execution_count": 40,
   "metadata": {
    "scrolled": true
   },
   "outputs": [
    {
     "name": "stdout",
     "output_type": "stream",
     "text": [
      "V\n",
      "i\n",
      "c\n",
      "t\n",
      "o\n",
      "r\n",
      " \n",
      "H\n",
      "u\n",
      "g\n",
      "o\n"
     ]
    }
   ],
   "source": [
    "i = 0\n",
    "\n",
    "while i < len(invités[0]):\n",
    "    print(invités[0][i])\n",
    "    i += 1"
   ]
  },
  {
   "cell_type": "markdown",
   "metadata": {},
   "source": [
    "Utilisons ce que nous venons d'apprendre pour parcourir le script que nous avons écrit plus tôt pour préparer notre quiche lorraine ! Vérifions d'abord la valeur de chaque élément de notre **dictionnaire** `quiche`."
   ]
  },
  {
   "cell_type": "code",
   "execution_count": 24,
   "metadata": {},
   "outputs": [
    {
     "data": {
      "text/plain": [
       "{'crème': {'in': True},\n",
       " 'oeufs': {'in': True, 'battus': True},\n",
       " 'lardons': {'in': True, 'cuits': True}}"
      ]
     },
     "execution_count": 24,
     "metadata": {},
     "output_type": "execute_result"
    }
   ],
   "source": [
    "quiche"
   ]
  },
  {
   "cell_type": "markdown",
   "metadata": {},
   "source": [
    "On peut utiliser une boucle `while` pour parcourir le script que nous avons écrit plus tôt. Chaque fois qu'il manque un ingrédient ou une étape dans la recette, le script va modifier l'ingrédient manquant ou mal préparé et va recommencer à zéro et vérifier chaque étape."
   ]
  },
  {
   "cell_type": "code",
   "execution_count": 26,
   "metadata": {},
   "outputs": [
    {
     "name": "stdout",
     "output_type": "stream",
     "text": [
      "Le repas est servi !\n"
     ]
    }
   ],
   "source": [
    "préparation = \"en cours\"\n",
    "\n",
    "while préparation == \"en cours\":\n",
    "    \n",
    "    if quiche[\"crème\"][\"in\"] == True:\n",
    "        if quiche[\"oeufs\"][\"in\"] == True and quiche[\"oeufs\"][\"in\"] == True:\n",
    "            if quiche[\"lardons\"][\"in\"] and quiche[\"lardons\"][\"cuits\"] == True:\n",
    "                print(\"Le repas est servi !\")\n",
    "                préparation = \"fini\"\n",
    "            else:\n",
    "                if quiche[\"lardons\"][\"cuits\"] == True:\n",
    "                    # Les lardons sont cuits, mais on a oublié de les mettre dans la quiche !\n",
    "                    quiche[\"lardons\"][\"in\"] = True\n",
    "                elif quiche[\"lardons\"][\"in\"] == True:\n",
    "                    # Les lardons ne sont pas cuits, il faut les faire cuire avant de les ajouter !\n",
    "                    quiche[\"lardons\"][\"cuits\"] = True\n",
    "                else:\n",
    "                    # Il manque les lardons, tant mieux car ils n'étaient de toute façon pas cuits !\n",
    "                    quiche[\"lardons\"][\"cuits\"] = True\n",
    "                    quiche[\"lardons\"][\"in\"] = True\n",
    "        else:\n",
    "            if quiche[\"oeufs\"][\"battus\"] == True:\n",
    "                # Les oeufs sont battus, mais on a oublié de les mettre dans la quiche !\n",
    "                quiche[\"oeufs\"][\"battus\"] = True\n",
    "            elif quiche[\"oeufs\"][\"in\"] == True:\n",
    "                # Les oeufs sont dans la quiche, mais on a oublié de les battre avant !\n",
    "                quiche[\"oeufs\"][\"in\"] = True\n",
    "            else:\n",
    "                # Il manque les oeufs, tant mieux car ils n'étaient de toute façon pas battus !\n",
    "                quiche[\"oeufs\"][\"battus\"] = True\n",
    "                quiche[\"oeufs\"][\"in\"] = True\n",
    "    else:\n",
    "        # Il n'y a pas de crème, ajoutons-en\n",
    "        quiche[\"crème\"][\"in\"] = True\n",
    "        print(\"La quiche n'est pas prête.\")"
   ]
  },
  {
   "cell_type": "markdown",
   "metadata": {},
   "source": [
    "A présent, si on affiche la **variable** `quiche`, tout devrait être égal à `True`."
   ]
  },
  {
   "cell_type": "code",
   "execution_count": 27,
   "metadata": {},
   "outputs": [
    {
     "name": "stdout",
     "output_type": "stream",
     "text": [
      "{'crème': {'in': True}, 'oeufs': {'in': True, 'battus': True}, 'lardons': {'in': True, 'cuits': True}}\n"
     ]
    }
   ],
   "source": [
    "print(quiche)"
   ]
  },
  {
   "cell_type": "markdown",
   "metadata": {},
   "source": [
    "#### <div id=\"La boucle for\">3. 6. 2. La boucle for</div>"
   ]
  },
  {
   "cell_type": "markdown",
   "metadata": {},
   "source": [
    "Si la boucle `while` rend parfois de fiers services, il est bien plus courant d'utiliser la **boucle `for`** (que l'on peut traduire par \"pour chaque...\" en Python. Ceci est notamment lié au fait qu'elle permet de parcourir plus facilement des structures de données comme les dictionnaires, que l'on ne peut pas incrémenter comme on le fait aussi simplement que pour une liste (en modifiant l'index que l'on incrémente à chaque tour de boucle).\n",
    "\n",
    "Comme son nom est peut-être moins explicite que d'autres **instructions**, il faut savoir qu'elle permet d'effectuer un tour de boucle en fonction des éléments contenus dans une **structure de données**. Ainsi, on peut l'utiliser pour :\n",
    "* Parcourir les lettres d'une **chaîne de caractères**\n",
    "* Parcourir les éléments d'une **liste**\n",
    "* Parcourir les éléments d'un **tuple**\n",
    "* Parcourir les éléments d'un **dictionnaire**\n",
    "\n",
    "Sans plus tarder, voyons un exemple."
   ]
  },
  {
   "cell_type": "code",
   "execution_count": 2,
   "metadata": {},
   "outputs": [
    {
     "name": "stdout",
     "output_type": "stream",
     "text": [
      "crème\n",
      "oeufs\n",
      "lardons\n"
     ]
    }
   ],
   "source": [
    "quiche = {\"crème\": {\"in\": False},\n",
    "          \"oeufs\": {\"in\": False,\n",
    "                    \"batus\": False},\n",
    "          \"lardons\": {\"in\": False,\n",
    "                      \"cuits\": False}\n",
    "         }\n",
    "\n",
    "for ingredient in quiche:\n",
    "    print(ingredient)"
   ]
  },
  {
   "cell_type": "markdown",
   "metadata": {},
   "source": [
    "Vous vous demandez peut-être d'où sort le `ingredient` que l'on utilise sans vraiment le définir. Il s'agit simplement d'une **variable** que Python crée à la volée au moment de la définition de la **boucle `for`**. On utilise cette **variable** dans le **bloc `for`** et c'est elle qui nous permettra de récupérer la valeur qui aura changé à chaque tour.\n",
    "\n",
    "Une pratique courante consiste ainsi à utiliser le nom d'une **variable** au singulier quand on itère sur une liste que l'on choisira de définir avec un nom de variable au pluriel : ce n'est qu'une convention, mais cela peut aider à la lecture du programme."
   ]
  },
  {
   "cell_type": "code",
   "execution_count": 51,
   "metadata": {},
   "outputs": [
    {
     "name": "stdout",
     "output_type": "stream",
     "text": [
      "Victor Hugo\n",
      "Georges Sand\n",
      "Jules Verne\n",
      "Germaine de Staël\n",
      "Alphonse de Lamartine\n"
     ]
    }
   ],
   "source": [
    "invités = [\"Victor Hugo\", \"Georges Sand\", \"Jules Verne\", \"Germaine de Staël\", \"Alphonse de Lamartine\"]\n",
    "\n",
    "for invité in invités:\n",
    "    print(invité)"
   ]
  },
  {
   "cell_type": "markdown",
   "metadata": {},
   "source": [
    "Petite mise en bouche pour notre partie suivante qui s'intéressera aux **fonctions**. Jusqu'à présent, nous avons utilisé des **fonctions** de façon très élémentaire, sans comprendre toute la puissance de ces outils ! Sachez simplement pour l'instant, que l'on peut **paramétrer** la façon dont une **fonction** se comporte. Et pour cela, on lui passe précisément des **paramètres** (que l'on appelle aussi des **arguments**). Nous reviendrons sur cela plus tard.\n",
    "\n",
    "Un autre usage fréquent de la **boucle `for`** consiste à parcourir une valeur située dans un intervale. On utilise pour cela la fonction `range` de Python qui permet de définir cet intervale (à note que la borne supérieure de la fonction `range` est exclusive). Elle prend **trois arguments** :\n",
    "* Le **premier** définit où commencer à compter (seul cet **argument** est obligatoire)\n",
    "* Le **deuxième** définit la borne supérieure (exclue)\n",
    "* Le **troisième** définit le pas entre chaque valeur de notre intervale"
   ]
  },
  {
   "cell_type": "code",
   "execution_count": 57,
   "metadata": {},
   "outputs": [
    {
     "name": "stdout",
     "output_type": "stream",
     "text": [
      "0\n",
      "1\n",
      "2\n",
      "3\n",
      "4\n"
     ]
    }
   ],
   "source": [
    "for i in range(5):\n",
    "    print(i)"
   ]
  },
  {
   "cell_type": "code",
   "execution_count": 55,
   "metadata": {},
   "outputs": [
    {
     "name": "stdout",
     "output_type": "stream",
     "text": [
      "0\n",
      "2\n",
      "4\n",
      "6\n",
      "8\n"
     ]
    }
   ],
   "source": [
    "for i in range(0, 10, 2):\n",
    "    print(i)"
   ]
  },
  {
   "cell_type": "markdown",
   "metadata": {},
   "source": [
    "#### <div id=\"Imbriquer des boucles\">3. 6. 3. Imbriquer des boucles</div>"
   ]
  },
  {
   "cell_type": "markdown",
   "metadata": {},
   "source": [
    "Comme d'habitude, c'est moins drôle si on ne peut pas imbriquer nos **instructions** les unes dans les autres... Bien entendu, avec les boucles, il en va de même : on peut les imbriquer à loisir !"
   ]
  },
  {
   "cell_type": "markdown",
   "metadata": {},
   "source": [
    "<div class=\"alert alert-success\"><strong>Sixième exercice :</strong> Utiliser le dictionnaire <code>quiche</code> que nous avons créé plus tôt pour itérer sur chaque ingrédient et afficher, pour chaque ingrédient, son statut (\"est-ce qu'il a été ajouté ou non\").</div>"
   ]
  },
  {
   "cell_type": "markdown",
   "metadata": {},
   "source": [
    "<div class=\"alert alert-danger\"><strong>Imbriquer des boucles pour parcourir des structures de données imbriquées :</strong>\n",
    "<br>\n",
    "<br>\n",
    "Pour rappel, on peut utiliser des index de structures de données les uns à la suite des autres. Ainsi, si on souhaite accéder au statut des ingrédients de la quiche, on pourra utiliser <code>quiche[\"oeufs\"][\"in\"]</code> par exemple.\n",
    "<pre>\n",
    "<code>for ing in quiche:\n",
    "    for status in quiche[ing]:\n",
    "        print(\"ingrédient : \" + ing + \" || statut : \" + status + \" || valeur : \" + str(quiche[ing][status]))</code>\n",
    "</pre>\n",
    "</div>"
   ]
  },
  {
   "cell_type": "markdown",
   "metadata": {},
   "source": [
    "## <div id=\"Sources et références utiles\">Sources et références utiles</div>\n",
    "\n",
    "Le présent support a été réalisé à l'aide des références suivantes. Tous ne sont pas utiles aux novices, mais peuvent constituer des compléments utiles pour approfondir des notions et travailler ses compétences acquises.\n",
    "\n",
    "* **Documentation officielle :**\n",
    "    * **Python 3, URL : https://docs.python.org/3/.**\n",
    "* **Manuels** :    \n",
    "    * **Al Sweigart, *Automate the boring stuff with Python. Practical programming for total beginners*, San Francisco, No starch press, 2015.** : Lecture très facile avec des applications et des exemples de scripts. Il permet de partir de zéro et d'arriver rapidement à appliquer ses connaissances pour construire de petits projets bien utiles pour automatiser un certain nombre d'opérations courantes (fichiers Excel, envoi de mails, web scraping, etc.).\n",
    "    * **Luciano Ramalho, *Fluent Python. Clear, concise, and effective programming*, Sebastopol, O'Reilly, 2015.** : Lecture plus difficile, gros pavé de plus de 700 pages. Il permet d'approfondir sa connaissance du langage Python, ses spécificités et sa philosophie (pythonic). C'est une sorte de mini-bible du langage.\n",
    "* **Blogs** :\n",
    "    * **Rishi Sidhu, *Comprehensive Python cheat sheet for beginners*, Medium, 10 Avril 2020, URL : https://medium.com/the-codehub/comprehensive-python-cheat-sheet-for-beginners-5d76bb038fa2. :**\n",
    "    * **Yong Cui, *6 things to understand Python data mutability*, Medium, 8 Avril 2020, URL : https://medium.com/swlh/6-things-to-understand-python-data-mutability-b52f5c5db191. :** Un post de blog qui explique en détail les les logiques de la mutabilité avec Python. Quelle est la différence entre les fonctions `type()` et `id()` ? Comprendre la différence entre l'identité, le type et la valeur d'un objet Python.\n",
    "* **MOOCs** :\n",
    "    * **OpenClassrooms, *Apprenez à programmer en Python*, URL : https://openclassrooms.com/fr/courses/235344-apprenez-a-programmer-en-python. :** Un cours très complet qui permet de partir des bases pour aller jusqu'aux notions plus avancées (programmation orientée-objet, métaclasses, décorateurs, générateurs, etc.). Le cours est plutôt orienté dans une optique de développement d'application mais peut servir de socle solide pour débuter et s'exercer avec des mini-projets et des séries d'exercices et de quizz pour tester ses connaissances."
   ]
  }
 ],
 "metadata": {
  "kernelspec": {
   "display_name": "Python 3",
   "language": "python",
   "name": "python3"
  },
  "language_info": {
   "codemirror_mode": {
    "name": "ipython",
    "version": 3
   },
   "file_extension": ".py",
   "mimetype": "text/x-python",
   "name": "python",
   "nbconvert_exporter": "python",
   "pygments_lexer": "ipython3",
   "version": "3.8.2"
  },
  "toc": {
   "base_numbering": 1,
   "nav_menu": {},
   "number_sections": false,
   "sideBar": true,
   "skip_h1_title": false,
   "title_cell": "Table of Contents",
   "title_sidebar": "Contents",
   "toc_cell": false,
   "toc_position": {},
   "toc_section_display": true,
   "toc_window_display": false
  }
 },
 "nbformat": 4,
 "nbformat_minor": 4
}
